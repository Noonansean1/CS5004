{
 "cells": [
  {
   "cell_type": "markdown",
   "metadata": {
    "id": "eKhJlE651YdF"
   },
   "source": [
    "# E-tivity 1 (27/01/25 - 09/02/25)\n",
    "\n",
    "* Your Name: Dean McGarr\n",
    "\n",
    "* Your Student ID: 23317639"
   ]
  },
  {
   "cell_type": "markdown",
   "metadata": {
    "id": "uTSBD7Tb1YdH"
   },
   "source": [
    "## Anomaly Detection\n",
    "\n",
    "### Context\n",
    "We have a mystery dataset. There are 9 explanatory variables and one response variable. The response variable is the last column and indicates if the sample is anomalous (=1, valid =0). The dataset is provided \"data.csv\".\n",
    "\n",
    "Of course in this case we could use supervised learning to generate a model and detect anomalies in new data. However the focus is on autoencoders, anomaly detection is just one of the potential uses for autoencoders.\n",
    "\n",
    "So we are going to pretend that we do not know which data are anomalous but we do know that the anomaly rate is small. Use an autoencoder to detect anomalies in the data. The correctness of the model can of course be checked."
   ]
  },
  {
   "cell_type": "markdown",
   "metadata": {
    "id": "5UHCUImE1YdI"
   },
   "source": [
    "### Guidelines\n",
    "\n",
    "The e-tivity is split into four tasks. The first three are \"group\" excersises, in that you post the solutions to Tasks 1-3 to a site. This will allow the members of your group to send you feedback (via the forums) so you can improve your submission. The final task is an individual task and together with the other tasks, should be uploaded to the Group Locker.\n",
    "\n",
    "Marks will be deducted if task 4 is uploaded in contravention of instructions. Also if the the final submission is not a single notebook with tasks 1-4 and with correct identification or filename.\n",
    "\n",
    "Grading guidelines: the scores for each task are additive. Below is a link to the E-tivity rubrics.\n",
    "\n",
    "https://learn.ul.ie/d2l/lp/rubrics/preview.d2l?ou=49284&rubricId=2620&originTool=quicklinks\n",
    "\n"
   ]
  },
  {
   "cell_type": "markdown",
   "metadata": {
    "id": "LObSkhqf1YdI"
   },
   "source": [
    "## Problem\n",
    "\n",
    "If you train even a modest feed forward network via supervised learning you can get extremely good recall and precision, despite the unbalanced dataset. However in this e-tivity you will determining the anomalies by using an autoencoder. That is you will **not** be using the Anom flag to guide the training.\n",
    "\n",
    "The mystery dataset is available from Brightspace, download the csv file and use it as the input data.\n",
    "\n",
    "### Tasks 1-3 (complete by Sunday 02/02/25)\n",
    "\n",
    "The initial implementation of the tasks are to be uploaded to the locker on which the other group members can comment. The forum activity will form part of the overall mark for the e-tivity."
   ]
  },
  {
   "cell_type": "markdown",
   "metadata": {
    "id": "BDf7hBuH1YdI"
   },
   "source": [
    "**Task 1: data preprocessing**\n",
    "\n",
    "Explain any preprocessing steps you take and also how you have selected the training and test sets. Remember we do not know which samples are anomalous only that there are a small number of them compared to the total sample size.\n"
   ]
  },
  {
   "cell_type": "code",
   "execution_count": 7,
   "metadata": {
    "executionInfo": {
     "elapsed": 197,
     "status": "ok",
     "timestamp": 1738263057523,
     "user": {
      "displayName": "Dean McGarr",
      "userId": "15059688870067220706"
     },
     "user_tz": 0
    },
    "id": "xE0eFP0T1YdJ"
   },
   "outputs": [],
   "source": [
    "import pandas as pd\n",
    "import numpy as np\n",
    "from sklearn.preprocessing import StandardScaler\n",
    "from sklearn.model_selection import train_test_split\n",
    "import torch\n",
    "import torch.nn as nn\n",
    "import torch.optim as optim\n",
    "import matplotlib.pyplot as plt\n",
    "from torch.utils.data import DataLoader, TensorDataset"
   ]
  },
  {
   "cell_type": "code",
   "execution_count": 8,
   "metadata": {
    "colab": {
     "base_uri": "https://localhost:8080/"
    },
    "executionInfo": {
     "elapsed": 1856,
     "status": "ok",
     "timestamp": 1738263063630,
     "user": {
      "displayName": "Dean McGarr",
      "userId": "15059688870067220706"
     },
     "user_tz": 0
    },
    "id": "oMAGO23j1YdK",
    "outputId": "08fa3a7c-88d8-424a-fff5-da3ce0c7d567"
   },
   "outputs": [
    {
     "name": "stdout",
     "output_type": "stream",
     "text": [
      "Drive already mounted at /content/drive; to attempt to forcibly remount, call drive.mount(\"/content/drive\", force_remount=True).\n"
     ]
    }
   ],
   "source": [
    "from google.colab import drive\n",
    "drive.mount('/content/drive')\n",
    "\n",
    "file_path = \"/content/drive/My Drive/data.csv\"\n",
    "data = pd.read_csv(file_path)"
   ]
  },
  {
   "cell_type": "code",
   "execution_count": 9,
   "metadata": {
    "colab": {
     "base_uri": "https://localhost:8080/"
    },
    "executionInfo": {
     "elapsed": 216,
     "status": "ok",
     "timestamp": 1738263068361,
     "user": {
      "displayName": "Dean McGarr",
      "userId": "15059688870067220706"
     },
     "user_tz": 0
    },
    "id": "39CzPDLI1YdK",
    "outputId": "868f270b-0523-47e6-c566-1399670ccafd"
   },
   "outputs": [
    {
     "name": "stdout",
     "output_type": "stream",
     "text": [
      "Shape of the dataset: (49097, 10)\n",
      "\n",
      "Dataset info:\n",
      "<class 'pandas.core.frame.DataFrame'>\n",
      "RangeIndex: 49097 entries, 0 to 49096\n",
      "Data columns (total 10 columns):\n",
      " #   Column  Non-Null Count  Dtype\n",
      "---  ------  --------------  -----\n",
      " 0   V1      49097 non-null  int64\n",
      " 1   V2      49097 non-null  int64\n",
      " 2   V3      49097 non-null  int64\n",
      " 3   V4      49097 non-null  int64\n",
      " 4   V5      49097 non-null  int64\n",
      " 5   V6      49097 non-null  int64\n",
      " 6   V7      49097 non-null  int64\n",
      " 7   V8      49097 non-null  int64\n",
      " 8   V9      49097 non-null  int64\n",
      " 9   Anom    49097 non-null  int64\n",
      "dtypes: int64(10)\n",
      "memory usage: 3.7 MB\n",
      "\n",
      "Summary statistics:\n",
      "                 V1            V2            V3            V4            V5  \\\n",
      "count  49097.000000  49097.000000  49097.000000  49097.000000  49097.000000   \n",
      "mean      46.932399     -0.063955     85.123124      0.213231     36.871784   \n",
      "std       12.875159     84.674481      8.877517     37.579171     19.963113   \n",
      "min       27.000000  -4821.000000     21.000000  -3939.000000   -188.000000   \n",
      "25%       37.000000      0.000000     79.000000      0.000000     30.000000   \n",
      "50%       44.000000      0.000000     83.000000      0.000000     42.000000   \n",
      "75%       50.000000      0.000000     88.000000      0.000000     46.000000   \n",
      "max      126.000000   5075.000000    149.000000   3830.000000    436.000000   \n",
      "\n",
      "                 V6            V7            V8            V9          Anom  \n",
      "count  49097.000000  49097.000000  49097.000000  49097.000000  49097.000000  \n",
      "mean       2.160030     38.200725     48.288592     10.261930      0.071511  \n",
      "std      218.324964     13.446306     20.572064     23.751024      0.257680  \n",
      "min   -26739.000000    -48.000000   -353.000000   -356.000000      0.000000  \n",
      "25%       -4.000000     33.000000     35.000000      0.000000      0.000000  \n",
      "50%        0.000000     39.000000     41.000000      2.000000      0.000000  \n",
      "75%        5.000000     43.000000     55.000000      6.000000      0.000000  \n",
      "max    15164.000000    105.000000    270.000000    266.000000      1.000000  \n"
     ]
    }
   ],
   "source": [
    "# 1. Check the shape (number of rows and columns)\n",
    "print(\"Shape of the dataset:\", data.shape)\n",
    "\n",
    "# 2. View basic information about the dataset\n",
    "print(\"\\nDataset info:\")\n",
    "data.info()\n",
    "\n",
    "# 3. View a summary of the dataset\n",
    "print(\"\\nSummary statistics:\")\n",
    "print(data.describe(include=\"all\"))  # Includes stats for numeric, categorical, and other data types"
   ]
  },
  {
   "cell_type": "code",
   "execution_count": 10,
   "metadata": {
    "colab": {
     "base_uri": "https://localhost:8080/"
    },
    "executionInfo": {
     "elapsed": 187,
     "status": "ok",
     "timestamp": 1738263071177,
     "user": {
      "displayName": "Dean McGarr",
      "userId": "15059688870067220706"
     },
     "user_tz": 0
    },
    "id": "azqdxjBr1YdL",
    "outputId": "e957385f-51b3-428c-b46d-ebef1aab8a32"
   },
   "outputs": [
    {
     "name": "stdout",
     "output_type": "stream",
     "text": [
      "Missing values per column:\n",
      " V1      0\n",
      "V2      0\n",
      "V3      0\n",
      "V4      0\n",
      "V5      0\n",
      "V6      0\n",
      "V7      0\n",
      "V8      0\n",
      "V9      0\n",
      "Anom    0\n",
      "dtype: int64\n",
      "Number of duplicate rows: 0\n"
     ]
    }
   ],
   "source": [
    "# Check for missing values\n",
    "print(\"Missing values per column:\\n\", data.isnull().sum())\n",
    "\n",
    "# Check for duplicate rows\n",
    "print(\"Number of duplicate rows:\", data.duplicated().sum())\n",
    "\n",
    "# Drop the anomaly column since autoencoders are unsupervised\n",
    "X = data.drop(columns=[\"Anom\"])\n",
    "\n",
    "# Standardize the features (zero mean, unit variance) - Important for autoencoders\n",
    "scaler = StandardScaler()\n",
    "X_scaled = scaler.fit_transform(X)\n",
    "\n",
    "# Split into training and test sets (80-20 split)\n",
    "X_train, X_test = train_test_split(X_scaled, test_size=0.2, random_state=42)\n",
    "\n",
    "# Convert to PyTorch tensors\n",
    "X_train_tensor = torch.tensor(X_train, dtype=torch.float32)\n",
    "X_test_tensor = torch.tensor(X_test, dtype=torch.float32)\n"
   ]
  },
  {
   "cell_type": "markdown",
   "metadata": {
    "id": "UYuIoHNG1YdL"
   },
   "source": [
    "**Task 2: model generation and training**\n",
    "\n",
    "Generate a suitable autoencoder model, the only restriction is that there should be only 2 latent variables. Train the model to a satistifactory result. Be aware that it will be much harder to achieve the sort of result you can get from a supervised learning model.\n",
    "\n",
    "**Hint**: it should not take longer than a 1000 epochs to train. However it may be difficult to train. Use different optimizers, topologies and/or weight initialisations to get convergence. Remember that achieving a perfect error means that the model will also be good at reconstructing anomalies.\n"
   ]
  },
  {
   "cell_type": "code",
   "execution_count": 11,
   "metadata": {
    "colab": {
     "base_uri": "https://localhost:8080/",
     "height": 696
    },
    "executionInfo": {
     "elapsed": 147845,
     "status": "ok",
     "timestamp": 1738263232586,
     "user": {
      "displayName": "Dean McGarr",
      "userId": "15059688870067220706"
     },
     "user_tz": 0
    },
    "id": "AXbGqiEg1YdM",
    "outputId": "a719ccd8-2c75-460d-98ec-86aa873ab7f5"
   },
   "outputs": [
    {
     "name": "stdout",
     "output_type": "stream",
     "text": [
      "Epoch [1/1000], Train Loss: 0.880549, Test Loss: 0.599066\n",
      "Epoch [25/1000], Train Loss: 0.154697, Test Loss: 0.201883\n",
      "Epoch [50/1000], Train Loss: 0.049068, Test Loss: 0.175817\n",
      "Epoch [75/1000], Train Loss: 0.040353, Test Loss: 0.166861\n",
      "Epoch [100/1000], Train Loss: 0.034709, Test Loss: 0.158507\n",
      "Epoch [125/1000], Train Loss: 0.028763, Test Loss: 0.156043\n",
      "Epoch [150/1000], Train Loss: 0.026269, Test Loss: 0.155196\n",
      "Epoch [175/1000], Train Loss: 0.025506, Test Loss: 0.152042\n",
      "Epoch [200/1000], Train Loss: 0.026665, Test Loss: 0.150976\n",
      "Early stopping at epoch 210, no improvement for 20 epochs.\n"
     ]
    },
    {
     "name": "stderr",
     "output_type": "stream",
     "text": [
      "<ipython-input-11-2b32475deea8>:90: FutureWarning: You are using `torch.load` with `weights_only=False` (the current default value), which uses the default pickle module implicitly. It is possible to construct malicious pickle data which will execute arbitrary code during unpickling (See https://github.com/pytorch/pytorch/blob/main/SECURITY.md#untrusted-models for more details). In a future release, the default value for `weights_only` will be flipped to `True`. This limits the functions that could be executed during unpickling. Arbitrary objects will no longer be allowed to be loaded via this mode unless they are explicitly allowlisted by the user via `torch.serialization.add_safe_globals`. We recommend you start setting `weights_only=True` for any use case where you don't have full control of the loaded file. Please open an issue on GitHub for any issues related to this experimental feature.\n",
      "  model.load_state_dict(torch.load(\"best_autoencoder.pth\"))\n"
     ]
    },
    {
     "data": {
      "image/png": "[encoded data removed]",
      "text/plain": [
       "<Figure size 640x480 with 1 Axes>"
      ]
     },
     "metadata": {},
     "output_type": "display_data"
    }
   ],
   "source": [
    "# Create DataLoader\n",
    "batch_size = 256\n",
    "train_loader = DataLoader(TensorDataset(X_train_tensor), batch_size=batch_size, shuffle=True)\n",
    "test_loader = DataLoader(TensorDataset(X_test_tensor), batch_size=batch_size, shuffle=False)\n",
    "\n",
    "# Define the Autoencoder model\n",
    "class Autoencoder(nn.Module):\n",
    "    def __init__(self, input_dim):\n",
    "        super(Autoencoder, self).__init__()\n",
    "        self.encoder = nn.Sequential(\n",
    "            nn.Linear(input_dim, 16),\n",
    "            nn.ReLU(),\n",
    "            nn.Linear(16, 8),\n",
    "            nn.ReLU(),\n",
    "            nn.Linear(8, 2)  # Latent space (2D)\n",
    "        )\n",
    "        self.decoder = nn.Sequential(\n",
    "            nn.Linear(2, 8),\n",
    "            nn.ReLU(),\n",
    "            nn.Linear(8, 16),\n",
    "            nn.ReLU(),\n",
    "            nn.Linear(16, input_dim)\n",
    "        )\n",
    "\n",
    "    def forward(self, x):\n",
    "        encoded = self.encoder(x)\n",
    "        decoded = self.decoder(encoded)\n",
    "        return decoded\n",
    "\n",
    "# Initialize the model\n",
    "input_dim = X_train.shape[1]\n",
    "model = Autoencoder(input_dim)\n",
    "\n",
    "# Loss and Optimizer\n",
    "criterion = nn.MSELoss()\n",
    "optimizer = optim.Adam(model.parameters(), lr=0.001)\n",
    "\n",
    "# Training loop with Early Stopping\n",
    "num_epochs = 1000\n",
    "patience = 20  # Number of epochs without improvement before stopping\n",
    "best_loss = float(\"inf\")\n",
    "counter = 0\n",
    "\n",
    "train_losses = []\n",
    "test_losses_history = []\n",
    "\n",
    "for epoch in range(num_epochs):\n",
    "    model.train()\n",
    "    epoch_loss = 0\n",
    "    for batch in train_loader:\n",
    "        batch = batch[0]\n",
    "        optimizer.zero_grad()\n",
    "        outputs = model(batch)\n",
    "        loss = criterion(outputs, batch)\n",
    "        loss.backward()\n",
    "        optimizer.step()\n",
    "        epoch_loss += loss.item()\n",
    "\n",
    "    train_losses.append(epoch_loss / len(train_loader))\n",
    "\n",
    "    # Evaluate test loss\n",
    "    model.eval()\n",
    "    test_loss = 0\n",
    "    with torch.no_grad():\n",
    "        for batch in test_loader:\n",
    "            batch = batch[0]\n",
    "            outputs = model(batch)\n",
    "            loss = criterion(outputs, batch)\n",
    "            test_loss += loss.item()\n",
    "\n",
    "    test_loss /= len(test_loader)\n",
    "    test_losses_history.append(test_loss)\n",
    "\n",
    "    # Print progress every 25 epochs\n",
    "    if (epoch + 1) % 25 == 0 or epoch == 0 or epoch + 1 == num_epochs:\n",
    "        print(f\"Epoch [{epoch+1}/{num_epochs}], Train Loss: {train_losses[-1]:.6f}, Test Loss: {test_loss:.6f}\")\n",
    "\n",
    "    # Check for early stopping\n",
    "    if test_loss < best_loss:\n",
    "        best_loss = test_loss\n",
    "        counter = 0  # Reset patience counter\n",
    "        torch.save(model.state_dict(), \"best_autoencoder.pth\")  # Save best model\n",
    "    else:\n",
    "        counter += 1  # Increment patience counter\n",
    "        if counter >= patience:\n",
    "            print(f\"Early stopping at epoch {epoch+1}, no improvement for {patience} epochs.\")\n",
    "            break  # Stop training\n",
    "\n",
    "# Load the best model\n",
    "model.load_state_dict(torch.load(\"best_autoencoder.pth\"))\n",
    "\n",
    "# Plot the loss curves\n",
    "plt.plot(train_losses, label=\"Train Loss\")\n",
    "plt.plot(test_losses_history, label=\"Test Loss\")\n",
    "plt.xlabel(\"Epoch\")\n",
    "plt.ylabel(\"Reconstruction Loss\")\n",
    "plt.title(\"Training vs Test Loss\")\n",
    "plt.legend()\n",
    "plt.show()\n",
    "\n",
    "\n"
   ]
  },
  {
   "cell_type": "markdown",
   "metadata": {
    "id": "xi5ZVUpo1YdM"
   },
   "source": [
    "**Task 3: anomaly detection**\n",
    "\n",
    "From the histogram of the reconstruction error decide what the cutoff should be applied to distinguish anomalies from valid samples, given that the anomaly rate is ~7%."
   ]
  },
  {
   "cell_type": "code",
   "execution_count": 12,
   "metadata": {
    "colab": {
     "base_uri": "https://localhost:8080/",
     "height": 506
    },
    "executionInfo": {
     "elapsed": 492,
     "status": "ok",
     "timestamp": 1738263240274,
     "user": {
      "displayName": "Dean McGarr",
      "userId": "15059688870067220706"
     },
     "user_tz": 0
    },
    "id": "G2byxWr-g2NR",
    "outputId": "5526631b-30ba-4140-98fa-9c30d75cef41"
   },
   "outputs": [
    {
     "data": {
      "image/png": "[encoded data removed]",
      "text/plain": [
       "<Figure size 640x480 with 1 Axes>"
      ]
     },
     "metadata": {},
     "output_type": "display_data"
    },
    {
     "name": "stdout",
     "output_type": "stream",
     "text": [
      "Threshold for anomalies: 0.009731\n",
      "Detected Anomalies: 688 out of 9820 (7.01%)\n"
     ]
    }
   ],
   "source": [
    "# Evaluate Reconstruction Error on Test Data\n",
    "model.eval()\n",
    "X_test_reconstructed = model(X_test_tensor).detach().numpy()\n",
    "reconstruction_error = np.mean((X_test - X_test_reconstructed) ** 2, axis=1)\n",
    "\n",
    "# Visualizing the reconstruction errors\n",
    "plt.hist(reconstruction_error, bins=50, alpha=0.7, color='blue', label=\"Reconstruction Error\")\n",
    "plt.axvline(np.percentile(reconstruction_error, 93), color='red', linestyle='dashed', linewidth=2, label=\"Anomaly Threshold\")\n",
    "plt.xlabel(\"Reconstruction Error\")\n",
    "plt.ylabel(\"Frequency\")\n",
    "plt.title(\"Reconstruction Error Distribution with Threshold\")\n",
    "plt.legend()\n",
    "plt.show()\n",
    "\n",
    "# Define threshold at 93rd percentile (top 7% as anomalies)\n",
    "threshold = np.percentile(reconstruction_error, 93)\n",
    "anomalies = reconstruction_error > threshold\n",
    "\n",
    "print(f\"Threshold for anomalies: {threshold:.6f}\")\n",
    "print(f\"Detected Anomalies: {np.sum(anomalies)} out of {len(reconstruction_error)} ({np.sum(anomalies) / len(reconstruction_error) * 100:.2f}%)\")"
   ]
  },
  {
   "cell_type": "markdown",
   "metadata": {
    "id": "_j04DwPk1YdM"
   },
   "source": [
    "### Respond (complete by Wednesday 05/02/24)\n",
    "\n",
    "If you feel you can provide useful advise then respond to another member of the group through the appropriate forum. Responses should be respectful and offer some sort of advise. Try and avoid clogging the forums with support or thank you messages.\n",
    "\n",
    "In reviewing others code you will discover different ways to tackle the same problem. It is acceptable to copy parts of others code. However whole scale copying from another notebook is not acceptable.\n",
    "\n",
    "If you stick to the deadline then it will allow yourself and others to have enough time to implement suggestions. From the Schedule you can see that this is not a hard deadline.\n",
    "\n",
    "The posts on the forum/topic associated with this e-tivity are graded. Below is a link to the rubrics.\n",
    "\n",
    "https://learn.ul.ie/d2l/lp/rubrics/preview.d2l?ou=49284&rubricId=2620&originTool=quicklinks"
   ]
  },
  {
   "cell_type": "markdown",
   "metadata": {
    "id": "2bClZ-iW1YdN"
   },
   "source": [
    "### Task 4: VAE (completed by Sunday 09/02/24)\n",
    "\n",
    "This task is a individual task and should **not** to be uploaded to the Group Locker. No direct support should be given via the forums. Marks will be deducted if the instructions are not followed (see rubrics). This part should be uploaded directly to Brightpsace.\n",
    "\n",
    "Change the network to be a VAE. Again determine the optimal cutoff and plot the latent variables. Check how good the cutoffs were by constructing a confusion matrix or generating a classification report. Obviously for this task you need to use the Anom column.\n",
    "\n",
    "**Hint** you can use the model topology from the AE (with the obvious modifications). I found that I had a good model (almost as good and the supervised learning model) when the KL divergence was small. You can print out both the KL divergence and reconstruction loss for each epoch. It can be tricky to train these type of models, so do not be surprised if you do not get a stellar result. What is more important is that you have the correct code to implement the VAE."
   ]
  },
  {
   "cell_type": "markdown",
   "metadata": {
    "id": "zVoJq-RC1YdN"
   },
   "source": [
    "### Final Submission (complete by Sunday 09/02/24)\n",
    "\n",
    "Submit Tasks 1-4 in a single notebook this before the deadline on Sunday.\n"
   ]
  },
  {
   "cell_type": "code",
   "execution_count": null,
   "metadata": {
    "id": "dO2Nj0Cu1YdN"
   },
   "outputs": [],
   "source": [
    "## Add additional code cells to implememt the tasks stated above"
   ]
  },
  {
   "cell_type": "markdown",
   "metadata": {
    "id": "HrwBwfTJ1YdN"
   },
   "source": [
    "## Reflection\n",
    "\n",
    "There are no specific marks allocated for a reflection. However due consideration will be given if pertinent comments or valuable insights are made."
   ]
  },
  {
   "cell_type": "code",
   "execution_count": null,
   "metadata": {
    "id": "w2bfyLYh1YdO"
   },
   "outputs": [],
   "source": []
  }
 ],
 "metadata": {
  "colab": {
   "provenance": []
  },
  "kernelspec": {
   "display_name": "Python 3 (ipykernel)",
   "language": "python",
   "name": "python3"
  },
  "language_info": {
   "codemirror_mode": {
    "name": "ipython",
    "version": 3
   },
   "file_extension": ".py",
   "mimetype": "text/x-python",
   "name": "python",
   "nbconvert_exporter": "python",
   "pygments_lexer": "ipython3",
   "version": "3.10.9"
  },
  "latex_envs": {
   "LaTeX_envs_menu_present": true,
   "autoclose": false,
   "autocomplete": true,
   "bibliofile": "biblio.bib",
   "cite_by": "apalike",
   "current_citInitial": 1,
   "eqLabelWithNumbers": true,
   "eqNumInitial": 1,
   "hotkeys": {
    "equation": "Ctrl-E",
    "itemize": "Ctrl-I"
   },
   "labels_anchors": false,
   "latex_user_defs": false,
   "report_style_numbering": false,
   "user_envs_cfg": false
  }
 },
 "nbformat": 4,
 "nbformat_minor": 1
}
