{
 "cells": [
  {
   "cell_type": "markdown",
   "metadata": {},
   "source": [
    "# E-tivity 1 (27/01/25 - 09/02/25)\n",
    "\n",
    "* Sean Noonan\n",
    "\n",
    "* 23300159"
   ]
  },
  {
   "cell_type": "markdown",
   "metadata": {},
   "source": [
    "## Anomaly Detection\n",
    "\n",
    "### Context\n",
    "We have a mystery dataset. There are 9 explanatory variables and one response variable. The response variable is the last column and indicates if the sample is anomalous (=1, valid =0). The dataset is provided \"data.csv\". \n",
    "\n",
    "Of course in this case we could use supervised learning to generate a model and detect anomalies in new data. However the focus is on autoencoders, anomaly detection is just one of the potential uses for autoencoders.\n",
    "\n",
    "So we are going to pretend that we do not know which data are anomalous but we do know that the anomaly rate is small. Use an autoencoder to detect anomalies in the data. The correctness of the model can of course be checked."
   ]
  },
  {
   "cell_type": "markdown",
   "metadata": {},
   "source": [
    "### Guidelines\n",
    "\n",
    "The e-tivity is split into four tasks. The first three are \"group\" excersises, in that you post the solutions to Tasks 1-3 to a site. This will allow the members of your group to send you feedback (via the forums) so you can improve your submission. The final task is an individual task and together with the other tasks, should be uploaded to the Group Locker. \n",
    "\n",
    "Marks will be deducted if task 4 is uploaded in contravention of instructions. Also if the the final submission is not a single notebook with tasks 1-4 and with correct identification or filename.\n",
    "\n",
    "Grading guidelines: the scores for each task are additive. Below is a link to the E-tivity rubrics.\n",
    "\n",
    "https://learn.ul.ie/d2l/lp/rubrics/preview.d2l?ou=49284&rubricId=2620&originTool=quicklinks\n",
    "\n"
   ]
  },
  {
   "cell_type": "markdown",
   "metadata": {},
   "source": [
    "## Problem\n",
    "\n",
    "If you train even a modest feed forward network via supervised learning you can get extremely good recall and precision, despite the unbalanced dataset. However in this e-tivity you will determining the anomalies by using an autoencoder. That is you will **not** be using the Anom flag to guide the training.\n",
    "\n",
    "The mystery dataset is available from Brightspace, download the csv file and use it as the input data.\n",
    "\n",
    "### Tasks 1-3 (complete by Sunday 02/02/25)\n",
    "\n",
    "The initial implementation of the tasks are to be uploaded to the locker on which the other group members can comment. The forum activity will form part of the overall mark for the e-tivity."
   ]
  },
  {
   "cell_type": "markdown",
   "metadata": {},
   "source": [
    "**Task 1: data preprocessing**\n",
    "\n",
    "Explain any preprocessing steps you take and also how you have selected the training and test sets. Remember we do not know which samples are anomalous only that there are a small number of them compared to the total sample size.\n"
   ]
  },
  {
   "cell_type": "code",
   "execution_count": 136,
   "metadata": {},
   "outputs": [],
   "source": [
    "import pandas as pd\n",
    "import numpy as np\n",
    "import matplotlib.pyplot as plt\n",
    "import seaborn as sns"
   ]
  },
  {
   "cell_type": "code",
   "execution_count": 137,
   "metadata": {},
   "outputs": [],
   "source": [
    "df = pd.read_csv(\"./data.csv\")"
   ]
  },
  {
   "cell_type": "markdown",
   "metadata": {},
   "source": [
    "## Quick peep at data"
   ]
  },
  {
   "cell_type": "code",
   "execution_count": 138,
   "metadata": {},
   "outputs": [
    {
     "data": {
      "text/html": [
       "<div>\n",
       "<style scoped>\n",
       "    .dataframe tbody tr th:only-of-type {\n",
       "        vertical-align: middle;\n",
       "    }\n",
       "\n",
       "    .dataframe tbody tr th {\n",
       "        vertical-align: top;\n",
       "    }\n",
       "\n",
       "    .dataframe thead th {\n",
       "        text-align: right;\n",
       "    }\n",
       "</style>\n",
       "<table border=\"1\" class=\"dataframe\">\n",
       "  <thead>\n",
       "    <tr style=\"text-align: right;\">\n",
       "      <th></th>\n",
       "      <th>V1</th>\n",
       "      <th>V2</th>\n",
       "      <th>V3</th>\n",
       "      <th>V4</th>\n",
       "      <th>V5</th>\n",
       "      <th>V6</th>\n",
       "      <th>V7</th>\n",
       "      <th>V8</th>\n",
       "      <th>V9</th>\n",
       "      <th>Anom</th>\n",
       "    </tr>\n",
       "  </thead>\n",
       "  <tbody>\n",
       "    <tr>\n",
       "      <th>0</th>\n",
       "      <td>50</td>\n",
       "      <td>21</td>\n",
       "      <td>77</td>\n",
       "      <td>0</td>\n",
       "      <td>28</td>\n",
       "      <td>0</td>\n",
       "      <td>27</td>\n",
       "      <td>48</td>\n",
       "      <td>22</td>\n",
       "      <td>1</td>\n",
       "    </tr>\n",
       "    <tr>\n",
       "      <th>1</th>\n",
       "      <td>53</td>\n",
       "      <td>0</td>\n",
       "      <td>82</td>\n",
       "      <td>0</td>\n",
       "      <td>52</td>\n",
       "      <td>-5</td>\n",
       "      <td>29</td>\n",
       "      <td>30</td>\n",
       "      <td>2</td>\n",
       "      <td>0</td>\n",
       "    </tr>\n",
       "    <tr>\n",
       "      <th>2</th>\n",
       "      <td>37</td>\n",
       "      <td>0</td>\n",
       "      <td>76</td>\n",
       "      <td>0</td>\n",
       "      <td>28</td>\n",
       "      <td>18</td>\n",
       "      <td>40</td>\n",
       "      <td>48</td>\n",
       "      <td>8</td>\n",
       "      <td>0</td>\n",
       "    </tr>\n",
       "    <tr>\n",
       "      <th>3</th>\n",
       "      <td>37</td>\n",
       "      <td>0</td>\n",
       "      <td>79</td>\n",
       "      <td>0</td>\n",
       "      <td>34</td>\n",
       "      <td>-26</td>\n",
       "      <td>43</td>\n",
       "      <td>46</td>\n",
       "      <td>2</td>\n",
       "      <td>0</td>\n",
       "    </tr>\n",
       "    <tr>\n",
       "      <th>4</th>\n",
       "      <td>85</td>\n",
       "      <td>0</td>\n",
       "      <td>88</td>\n",
       "      <td>-4</td>\n",
       "      <td>6</td>\n",
       "      <td>1</td>\n",
       "      <td>3</td>\n",
       "      <td>83</td>\n",
       "      <td>80</td>\n",
       "      <td>1</td>\n",
       "    </tr>\n",
       "  </tbody>\n",
       "</table>\n",
       "</div>"
      ],
      "text/plain": [
       "   V1  V2  V3  V4  V5  V6  V7  V8  V9  Anom\n",
       "0  50  21  77   0  28   0  27  48  22     1\n",
       "1  53   0  82   0  52  -5  29  30   2     0\n",
       "2  37   0  76   0  28  18  40  48   8     0\n",
       "3  37   0  79   0  34 -26  43  46   2     0\n",
       "4  85   0  88  -4   6   1   3  83  80     1"
      ]
     },
     "execution_count": 138,
     "metadata": {},
     "output_type": "execute_result"
    }
   ],
   "source": [
    "# Lets have a look at the data\n",
    "df.head()"
   ]
  },
  {
   "cell_type": "code",
   "execution_count": 139,
   "metadata": {},
   "outputs": [
    {
     "name": "stdout",
     "output_type": "stream",
     "text": [
      "V1      49097\n",
      "V2      49097\n",
      "V3      49097\n",
      "V4      49097\n",
      "V5      49097\n",
      "V6      49097\n",
      "V7      49097\n",
      "V8      49097\n",
      "V9      49097\n",
      "Anom    49097\n",
      "dtype: int64\n"
     ]
    }
   ],
   "source": [
    "print(df.count())"
   ]
  },
  {
   "cell_type": "code",
   "execution_count": 140,
   "metadata": {},
   "outputs": [
    {
     "data": {
      "text/html": [
       "<div>\n",
       "<style scoped>\n",
       "    .dataframe tbody tr th:only-of-type {\n",
       "        vertical-align: middle;\n",
       "    }\n",
       "\n",
       "    .dataframe tbody tr th {\n",
       "        vertical-align: top;\n",
       "    }\n",
       "\n",
       "    .dataframe thead th {\n",
       "        text-align: right;\n",
       "    }\n",
       "</style>\n",
       "<table border=\"1\" class=\"dataframe\">\n",
       "  <thead>\n",
       "    <tr style=\"text-align: right;\">\n",
       "      <th></th>\n",
       "      <th>V1</th>\n",
       "      <th>V2</th>\n",
       "      <th>V3</th>\n",
       "      <th>V4</th>\n",
       "      <th>V5</th>\n",
       "      <th>V6</th>\n",
       "      <th>V7</th>\n",
       "      <th>V8</th>\n",
       "      <th>V9</th>\n",
       "      <th>Anom</th>\n",
       "    </tr>\n",
       "  </thead>\n",
       "  <tbody>\n",
       "    <tr>\n",
       "      <th>count</th>\n",
       "      <td>49097.000000</td>\n",
       "      <td>49097.000000</td>\n",
       "      <td>49097.000000</td>\n",
       "      <td>49097.000000</td>\n",
       "      <td>49097.000000</td>\n",
       "      <td>49097.000000</td>\n",
       "      <td>49097.000000</td>\n",
       "      <td>49097.000000</td>\n",
       "      <td>49097.000000</td>\n",
       "      <td>49097.000000</td>\n",
       "    </tr>\n",
       "    <tr>\n",
       "      <th>mean</th>\n",
       "      <td>46.932399</td>\n",
       "      <td>-0.063955</td>\n",
       "      <td>85.123124</td>\n",
       "      <td>0.213231</td>\n",
       "      <td>36.871784</td>\n",
       "      <td>2.160030</td>\n",
       "      <td>38.200725</td>\n",
       "      <td>48.288592</td>\n",
       "      <td>10.261930</td>\n",
       "      <td>0.071511</td>\n",
       "    </tr>\n",
       "    <tr>\n",
       "      <th>std</th>\n",
       "      <td>12.875159</td>\n",
       "      <td>84.674481</td>\n",
       "      <td>8.877517</td>\n",
       "      <td>37.579171</td>\n",
       "      <td>19.963113</td>\n",
       "      <td>218.324964</td>\n",
       "      <td>13.446306</td>\n",
       "      <td>20.572064</td>\n",
       "      <td>23.751024</td>\n",
       "      <td>0.257680</td>\n",
       "    </tr>\n",
       "    <tr>\n",
       "      <th>min</th>\n",
       "      <td>27.000000</td>\n",
       "      <td>-4821.000000</td>\n",
       "      <td>21.000000</td>\n",
       "      <td>-3939.000000</td>\n",
       "      <td>-188.000000</td>\n",
       "      <td>-26739.000000</td>\n",
       "      <td>-48.000000</td>\n",
       "      <td>-353.000000</td>\n",
       "      <td>-356.000000</td>\n",
       "      <td>0.000000</td>\n",
       "    </tr>\n",
       "    <tr>\n",
       "      <th>25%</th>\n",
       "      <td>37.000000</td>\n",
       "      <td>0.000000</td>\n",
       "      <td>79.000000</td>\n",
       "      <td>0.000000</td>\n",
       "      <td>30.000000</td>\n",
       "      <td>-4.000000</td>\n",
       "      <td>33.000000</td>\n",
       "      <td>35.000000</td>\n",
       "      <td>0.000000</td>\n",
       "      <td>0.000000</td>\n",
       "    </tr>\n",
       "    <tr>\n",
       "      <th>50%</th>\n",
       "      <td>44.000000</td>\n",
       "      <td>0.000000</td>\n",
       "      <td>83.000000</td>\n",
       "      <td>0.000000</td>\n",
       "      <td>42.000000</td>\n",
       "      <td>0.000000</td>\n",
       "      <td>39.000000</td>\n",
       "      <td>41.000000</td>\n",
       "      <td>2.000000</td>\n",
       "      <td>0.000000</td>\n",
       "    </tr>\n",
       "    <tr>\n",
       "      <th>75%</th>\n",
       "      <td>50.000000</td>\n",
       "      <td>0.000000</td>\n",
       "      <td>88.000000</td>\n",
       "      <td>0.000000</td>\n",
       "      <td>46.000000</td>\n",
       "      <td>5.000000</td>\n",
       "      <td>43.000000</td>\n",
       "      <td>55.000000</td>\n",
       "      <td>6.000000</td>\n",
       "      <td>0.000000</td>\n",
       "    </tr>\n",
       "    <tr>\n",
       "      <th>max</th>\n",
       "      <td>126.000000</td>\n",
       "      <td>5075.000000</td>\n",
       "      <td>149.000000</td>\n",
       "      <td>3830.000000</td>\n",
       "      <td>436.000000</td>\n",
       "      <td>15164.000000</td>\n",
       "      <td>105.000000</td>\n",
       "      <td>270.000000</td>\n",
       "      <td>266.000000</td>\n",
       "      <td>1.000000</td>\n",
       "    </tr>\n",
       "  </tbody>\n",
       "</table>\n",
       "</div>"
      ],
      "text/plain": [
       "                 V1            V2            V3            V4            V5  \\\n",
       "count  49097.000000  49097.000000  49097.000000  49097.000000  49097.000000   \n",
       "mean      46.932399     -0.063955     85.123124      0.213231     36.871784   \n",
       "std       12.875159     84.674481      8.877517     37.579171     19.963113   \n",
       "min       27.000000  -4821.000000     21.000000  -3939.000000   -188.000000   \n",
       "25%       37.000000      0.000000     79.000000      0.000000     30.000000   \n",
       "50%       44.000000      0.000000     83.000000      0.000000     42.000000   \n",
       "75%       50.000000      0.000000     88.000000      0.000000     46.000000   \n",
       "max      126.000000   5075.000000    149.000000   3830.000000    436.000000   \n",
       "\n",
       "                 V6            V7            V8            V9          Anom  \n",
       "count  49097.000000  49097.000000  49097.000000  49097.000000  49097.000000  \n",
       "mean       2.160030     38.200725     48.288592     10.261930      0.071511  \n",
       "std      218.324964     13.446306     20.572064     23.751024      0.257680  \n",
       "min   -26739.000000    -48.000000   -353.000000   -356.000000      0.000000  \n",
       "25%       -4.000000     33.000000     35.000000      0.000000      0.000000  \n",
       "50%        0.000000     39.000000     41.000000      2.000000      0.000000  \n",
       "75%        5.000000     43.000000     55.000000      6.000000      0.000000  \n",
       "max    15164.000000    105.000000    270.000000    266.000000      1.000000  "
      ]
     },
     "execution_count": 140,
     "metadata": {},
     "output_type": "execute_result"
    }
   ],
   "source": [
    "# Print statistical summary for all numerical attributes\n",
    "df.describe()"
   ]
  },
  {
   "cell_type": "code",
   "execution_count": 141,
   "metadata": {},
   "outputs": [
    {
     "name": "stdout",
     "output_type": "stream",
     "text": [
      "Index(['V1', 'V2', 'V3', 'V4', 'V5', 'V6', 'V7', 'V8', 'V9', 'Anom'], dtype='object')\n"
     ]
    }
   ],
   "source": [
    "print(df.columns)"
   ]
  },
  {
   "cell_type": "code",
   "execution_count": 142,
   "metadata": {},
   "outputs": [
    {
     "name": "stdout",
     "output_type": "stream",
     "text": [
      "Number of rows with 'Anom' = 1: 3511\n"
     ]
    }
   ],
   "source": [
    "# Count rows where the 'Anom' column is equal to 1\n",
    "num_anomalies = df[df['Anom'] == 1].shape[0]\n",
    "\n",
    "print(f\"Number of rows with 'Anom' = 1: {num_anomalies}\")\n"
   ]
  },
  {
   "cell_type": "markdown",
   "metadata": {},
   "source": [
    "So we have 49k records and 3.5 k anomalies"
   ]
  },
  {
   "cell_type": "code",
   "execution_count": 143,
   "metadata": {},
   "outputs": [
    {
     "data": {
      "text/plain": [
       "0.0715114976475141"
      ]
     },
     "execution_count": 143,
     "metadata": {},
     "output_type": "execute_result"
    }
   ],
   "source": [
    "3511/49097"
   ]
  },
  {
   "cell_type": "code",
   "execution_count": 144,
   "metadata": {},
   "outputs": [
    {
     "data": {
      "image/png": "[encoded data removed]",
      "text/plain": [
       "<Figure size 1000x600 with 2 Axes>"
      ]
     },
     "metadata": {},
     "output_type": "display_data"
    }
   ],
   "source": [
    "import seaborn as sns\n",
    "import matplotlib.pyplot as plt\n",
    "\n",
    "# Compute the correlation matrix\n",
    "corr_matrix = df.corr()\n",
    "\n",
    "# Display the matrix as a heatmap\n",
    "plt.figure(figsize=(10, 6))\n",
    "sns.heatmap(corr_matrix, annot=True, cmap='coolwarm', fmt=\".2f\", linewidths=0.5)\n",
    "\n",
    "# Add title\n",
    "plt.title(\"Correlation Matrix\")\n",
    "\n",
    "# Show the plot\n",
    "plt.show()\n"
   ]
  },
  {
   "cell_type": "code",
   "execution_count": 145,
   "metadata": {},
   "outputs": [],
   "source": [
    "df_unlabelled = df.drop(\"Anom\", axis=1)"
   ]
  },
  {
   "cell_type": "code",
   "execution_count": 146,
   "metadata": {},
   "outputs": [
    {
     "data": {
      "text/html": [
       "<div>\n",
       "<style scoped>\n",
       "    .dataframe tbody tr th:only-of-type {\n",
       "        vertical-align: middle;\n",
       "    }\n",
       "\n",
       "    .dataframe tbody tr th {\n",
       "        vertical-align: top;\n",
       "    }\n",
       "\n",
       "    .dataframe thead th {\n",
       "        text-align: right;\n",
       "    }\n",
       "</style>\n",
       "<table border=\"1\" class=\"dataframe\">\n",
       "  <thead>\n",
       "    <tr style=\"text-align: right;\">\n",
       "      <th></th>\n",
       "      <th>V1</th>\n",
       "      <th>V2</th>\n",
       "      <th>V3</th>\n",
       "      <th>V4</th>\n",
       "      <th>V5</th>\n",
       "      <th>V6</th>\n",
       "      <th>V7</th>\n",
       "      <th>V8</th>\n",
       "      <th>V9</th>\n",
       "    </tr>\n",
       "  </thead>\n",
       "  <tbody>\n",
       "    <tr>\n",
       "      <th>0</th>\n",
       "      <td>50</td>\n",
       "      <td>21</td>\n",
       "      <td>77</td>\n",
       "      <td>0</td>\n",
       "      <td>28</td>\n",
       "      <td>0</td>\n",
       "      <td>27</td>\n",
       "      <td>48</td>\n",
       "      <td>22</td>\n",
       "    </tr>\n",
       "    <tr>\n",
       "      <th>1</th>\n",
       "      <td>53</td>\n",
       "      <td>0</td>\n",
       "      <td>82</td>\n",
       "      <td>0</td>\n",
       "      <td>52</td>\n",
       "      <td>-5</td>\n",
       "      <td>29</td>\n",
       "      <td>30</td>\n",
       "      <td>2</td>\n",
       "    </tr>\n",
       "    <tr>\n",
       "      <th>2</th>\n",
       "      <td>37</td>\n",
       "      <td>0</td>\n",
       "      <td>76</td>\n",
       "      <td>0</td>\n",
       "      <td>28</td>\n",
       "      <td>18</td>\n",
       "      <td>40</td>\n",
       "      <td>48</td>\n",
       "      <td>8</td>\n",
       "    </tr>\n",
       "    <tr>\n",
       "      <th>3</th>\n",
       "      <td>37</td>\n",
       "      <td>0</td>\n",
       "      <td>79</td>\n",
       "      <td>0</td>\n",
       "      <td>34</td>\n",
       "      <td>-26</td>\n",
       "      <td>43</td>\n",
       "      <td>46</td>\n",
       "      <td>2</td>\n",
       "    </tr>\n",
       "    <tr>\n",
       "      <th>4</th>\n",
       "      <td>85</td>\n",
       "      <td>0</td>\n",
       "      <td>88</td>\n",
       "      <td>-4</td>\n",
       "      <td>6</td>\n",
       "      <td>1</td>\n",
       "      <td>3</td>\n",
       "      <td>83</td>\n",
       "      <td>80</td>\n",
       "    </tr>\n",
       "  </tbody>\n",
       "</table>\n",
       "</div>"
      ],
      "text/plain": [
       "   V1  V2  V3  V4  V5  V6  V7  V8  V9\n",
       "0  50  21  77   0  28   0  27  48  22\n",
       "1  53   0  82   0  52  -5  29  30   2\n",
       "2  37   0  76   0  28  18  40  48   8\n",
       "3  37   0  79   0  34 -26  43  46   2\n",
       "4  85   0  88  -4   6   1   3  83  80"
      ]
     },
     "execution_count": 146,
     "metadata": {},
     "output_type": "execute_result"
    }
   ],
   "source": [
    "df_unlabelled.head()"
   ]
  },
  {
   "cell_type": "code",
   "execution_count": 147,
   "metadata": {},
   "outputs": [
    {
     "name": "stdout",
     "output_type": "stream",
     "text": [
      "Training set size: 34367\n",
      "Testing set size: 14730\n"
     ]
    }
   ],
   "source": [
    "from sklearn.model_selection import train_test_split\n",
    "\n",
    "# Split the data into training and testing sets\n",
    "df_train, df_test = train_test_split(df, test_size=0.3, random_state=42)\n",
    "\n",
    "# Print sizes to verify\n",
    "print(f\"Training set size: {len(df_train)}\")\n",
    "print(f\"Testing set size: {len(df_test)}\")\n"
   ]
  },
  {
   "cell_type": "markdown",
   "metadata": {},
   "source": [
    "Set up the labelled and unlabelled data"
   ]
  },
  {
   "cell_type": "code",
   "execution_count": 148,
   "metadata": {},
   "outputs": [],
   "source": [
    "X_train = df_train.drop(\"Anom\", axis=1)\n",
    "Y_train = df_train[['Anom']].copy()\n",
    "X_test = df_test.drop(\"Anom\", axis=1)\n",
    "Y_test = df_test[['Anom']].copy()"
   ]
  },
  {
   "cell_type": "markdown",
   "metadata": {},
   "source": [
    "**Task 2: model generation and training**\n",
    "\n",
    "Generate a suitable autoencoder model, the only restriction is that there should be only 2 latent variables. Train the model to a satistifactory result. Be aware that it will be much harder to achieve the sort of result you can get from a supervised learning model. \n",
    "\n",
    "**Hint**: it should not take longer than a 1000 epochs to train. However it may be difficult to train. Use different optimizers, topologies and/or weight initialisations to get convergence. Remember that achieving a perfect error means that the model will also be good at reconstructing anomalies. \n"
   ]
  },
  {
   "cell_type": "code",
   "execution_count": 149,
   "metadata": {},
   "outputs": [],
   "source": [
    "\n",
    "from __future__ import absolute_import\n",
    "from __future__ import division\n",
    "from __future__ import print_function\n",
    "\n",
    "# Load the module we need\n",
    "# Note that we are import the Keras backend, which is assumed to be Tensorflow\n",
    "from tensorflow.keras.layers import UpSampling2D, Reshape\n",
    "from tensorflow.keras.models import Model\n",
    "from tensorflow.keras.optimizers import Adagrad\n",
    "from tensorflow.keras import backend as K\n",
    "\n",
    "\n",
    "from tensorflow.keras.layers import Lambda\n",
    "from tensorflow.keras.losses import mean_squared_error, binary_crossentropy, mse, KLDivergence\n",
    "from tensorflow.keras.utils import plot_model\n",
    "\n",
    "import tensorflow as tf\n",
    "import os"
   ]
  },
  {
   "cell_type": "code",
   "execution_count": 150,
   "metadata": {},
   "outputs": [
    {
     "name": "stdout",
     "output_type": "stream",
     "text": [
      "9\n"
     ]
    }
   ],
   "source": [
    "from tensorflow.keras import layers, models\n",
    "from sklearn.preprocessing import MinMaxScaler,StandardScaler\n",
    "\n",
    "# Example dataset (replace `df_unlabelled` with your own data)\n",
    "# data_train = X_train.values\n",
    "\n",
    "# Normalize the data to [0, 1], need toi do on test and train separately to void data snooping\n",
    "scaler = MinMaxScaler()\n",
    "scaler = StandardScaler()\n",
    "X_train = scaler.fit_transform(X_train)\n",
    "\n",
    "# data_test = X_test.values\n",
    "\n",
    "X_test = scaler.fit_transform(X_test)\n",
    "\n",
    "# Dimensions of the input data\n",
    "input_dim = X_train.shape[1]\n",
    "print(input_dim)"
   ]
  },
  {
   "cell_type": "code",
   "execution_count": 151,
   "metadata": {},
   "outputs": [],
   "source": [
    "# pip install pydot"
   ]
  },
  {
   "cell_type": "code",
   "execution_count": 152,
   "metadata": {},
   "outputs": [],
   "source": [
    "# pip install graphviz"
   ]
  },
  {
   "cell_type": "code",
   "execution_count": 153,
   "metadata": {},
   "outputs": [],
   "source": [
    "# This function samples random points from a distribution\n",
    "# reparameterization trick\n",
    "# instead of sampling from Q(z|X), sample epsilon = N(0,I)\n",
    "# z = z_mean + sqrt(var) * epsilon\n",
    "def sampling(args):\n",
    "    \"\"\"Reparameterization trick by sampling from an isotropic unit Gaussian.\n",
    "    # Arguments\n",
    "        args (tensor): mean and log of variance of Q(z|X)\n",
    "    # Returns\n",
    "        z (tensor): sampled latent vector\n",
    "    \"\"\"\n",
    "\n",
    "    z_mean, z_log_var = args\n",
    "    batch = K.shape(z_mean)[0]\n",
    "    dim = K.int_shape(z_mean)[1]\n",
    "    # by default, random_normal has mean = 0 and std = 1.0\n",
    "    epsilon = K.random_normal(shape=(batch, dim))\n",
    "    return z_mean + K.exp(0.5 * z_log_var) * epsilon\n",
    "\n",
    "\n",
    "def plot_results(models,\n",
    "                 data,\n",
    "                 batch_size=128,\n",
    "                 model_name=\"vae_mnist\"):\n",
    "    \"\"\"Plots labels and MNIST digits as a function of the 2D latent vector\n",
    "    # Arguments\n",
    "        models (tuple): encoder and decoder models\n",
    "        data (tuple): test data and label\n",
    "        batch_size (int): prediction batch size\n",
    "        model_name (string): which model is using this function\n",
    "    \"\"\"\n",
    "\n",
    "    encoder, decoder = models\n",
    "    x_test, y_test = data\n",
    "    os.makedirs(model_name, exist_ok=True)\n",
    "\n",
    "    filename = os.path.join(model_name, \"vae_mean.png\")\n",
    "    # display a 2D plot of the digit classes in the latent subspace\n",
    "    if (model_name == 'vae_mlp'):\n",
    "        z_mean, _, _ = encoder.predict(x_test,\n",
    "                                   batch_size=batch_size)\n",
    "    else:\n",
    "        z_mean = encoder.predict(x_test,batch_size=batch_size)\n",
    "    \n",
    "    plt.figure(figsize=(12, 10))\n",
    "    plt.scatter(z_mean[:, 0], z_mean[:, 1], c=y_test)\n",
    "    plt.colorbar()\n",
    "    plt.xlabel(\"z[0]\")\n",
    "    plt.ylabel(\"z[1]\")\n",
    "    plt.savefig(filename)\n",
    "    plt.show()\n",
    "\n",
    "    filename = os.path.join(model_name, \"digits_over_latent.png\")\n",
    "    # display a 30x30 2D manifold of digits\n",
    "    n = 30\n",
    "    digit_size = 28\n",
    "    figure = np.zeros((digit_size * n, digit_size * n))\n",
    "    # linearly spaced coordinates corresponding to the 2D plot\n",
    "    # of digit classes in the latent space\n",
    "    grid_x = np.linspace(np.amin(z_mean[:,0]), np.amax(z_mean[:,0]), n)\n",
    "    grid_y = np.linspace(np.amin(z_mean[:,1]), np.amax(z_mean[:,1]), n)[::-1]\n",
    "\n",
    "    z_sample = np.zeros((1,5))\n",
    "    z_sample[0,2] = np.mean(z_mean[:,2])\n",
    "    z_sample[0,3] = np.mean(z_mean[:,3])\n",
    "    z_sample[0,4] = np.mean(z_mean[:,4])    \n",
    "    for i, yi in enumerate(grid_y):\n",
    "        for j, xi in enumerate(grid_x):\n",
    "            z_sample[0,0] = xi\n",
    "            z_sample[0,1] = yi\n",
    "            x_decoded = decoder.predict(z_sample)\n",
    "            digit = x_decoded[0].reshape(digit_size, digit_size)\n",
    "            figure[i * digit_size: (i + 1) * digit_size,\n",
    "                   j * digit_size: (j + 1) * digit_size] = digit\n",
    "\n",
    "    plt.figure(figsize=(10, 10))\n",
    "    start_range = digit_size // 2\n",
    "    end_range = (n - 1) * digit_size + start_range + 1\n",
    "    pixel_range = np.arange(start_range, end_range, digit_size)\n",
    "    sample_range_x = np.round(grid_x, 1)\n",
    "    sample_range_y = np.round(grid_y, 1)\n",
    "    plt.xticks(pixel_range, sample_range_x)\n",
    "    plt.yticks(pixel_range, sample_range_y)\n",
    "    plt.xlabel(\"z[0]\")\n",
    "    plt.ylabel(\"z[1]\")\n",
    "    plt.imshow(figure, cmap='Greys_r')\n",
    "    plt.savefig(filename)\n",
    "    plt.show()"
   ]
  },
  {
   "cell_type": "code",
   "execution_count": 154,
   "metadata": {},
   "outputs": [
    {
     "name": "stdout",
     "output_type": "stream",
     "text": [
      "Model: \"encoded\"\n",
      "_________________________________________________________________\n",
      " Layer (type)                Output Shape              Param #   \n",
      "=================================================================\n",
      " input_29 (InputLayer)       [(None, 9)]               0         \n",
      "                                                                 \n",
      " dense_70 (Dense)            (None, 6)                 60        \n",
      "                                                                 \n",
      " dense_71 (Dense)            (None, 4)                 28        \n",
      "                                                                 \n",
      " latent_space (Dense)        (None, 2)                 10        \n",
      "                                                                 \n",
      "=================================================================\n",
      "Total params: 98 (392.00 Byte)\n",
      "Trainable params: 98 (392.00 Byte)\n",
      "Non-trainable params: 0 (0.00 Byte)\n",
      "_________________________________________________________________\n",
      "Model: \"decoded\"\n",
      "_________________________________________________________________\n",
      " Layer (type)                Output Shape              Param #   \n",
      "=================================================================\n",
      " input_30 (InputLayer)       [(None, 2)]               0         \n",
      "                                                                 \n",
      " dense_72 (Dense)            (None, 4)                 12        \n",
      "                                                                 \n",
      " dense_73 (Dense)            (None, 6)                 30        \n",
      "                                                                 \n",
      " dense_74 (Dense)            (None, 9)                 63        \n",
      "                                                                 \n",
      "=================================================================\n",
      "Total params: 105 (420.00 Byte)\n",
      "Trainable params: 105 (420.00 Byte)\n",
      "Non-trainable params: 0 (0.00 Byte)\n",
      "_________________________________________________________________\n",
      "461/461 [==============================] - 1s 2ms/step\n",
      "Model: \"AE\"\n",
      "_________________________________________________________________\n",
      " Layer (type)                Output Shape              Param #   \n",
      "=================================================================\n",
      " input_29 (InputLayer)       [(None, 9)]               0         \n",
      "                                                                 \n",
      " encoded (Functional)        (None, 2)                 98        \n",
      "                                                                 \n",
      " decoded (Functional)        (None, 9)                 105       \n",
      "                                                                 \n",
      "=================================================================\n",
      "Total params: 203 (812.00 Byte)\n",
      "Trainable params: 203 (812.00 Byte)\n",
      "Non-trainable params: 0 (0.00 Byte)\n",
      "_________________________________________________________________\n"
     ]
    }
   ],
   "source": [
    "# Define the Encoder, inputs are the MNIST 28x28 greyscale images \n",
    "inputs = layers.Input(shape=(input_dim,))\n",
    "x = layers.Dense(6, activation='relu', kernel_initializer='he_normal')(inputs)\n",
    "x = layers.Dense(4, activation='relu', kernel_initializer='he_normal')(x)\n",
    "latent = layers.Dense(2, activation='linear', name='latent_space')(x)  # 2 latent variables\n",
    "\n",
    "encoded = Model(inputs,latent,name='encoded')\n",
    "encoded.summary()\n",
    "# plot_model(encoded, to_file='AE_encoded_etiv.png', show_shapes=True)            \n",
    "\n",
    "# Latent space is a 5 dimensional vector space\n",
    "\n",
    "# This is the decoder, it take the 5 dim latent vector and generates a 28x28 image\n",
    "# lats = Input(shape=(2,),name='latent')\n",
    "# Decoder\n",
    "latent_inputs = layers.Input(shape=(2,))\n",
    "x = layers.Dense(4, activation='relu', kernel_initializer='he_normal')(latent_inputs)\n",
    "x = layers.Dense(6, activation='relu', kernel_initializer='he_normal')(x)\n",
    "outputs = layers.Dense(input_dim, activation='sigmoid')(x)  # Sigmoid to ensure output in [0, 1]\n",
    "\n",
    "decoded = Model(latent_inputs,outputs,name='decoded')\n",
    "decoded.summary()\n",
    "# plot_model(decoded, to_file='AE_decoded_etiv.png', show_shapes=True)     \n",
    "\n",
    "# The autoencoder takes the image as input encodes it, then decodes it\n",
    "rec = decoded(encoded(inputs))\n",
    "autoencoder = Model(inputs,rec,name=\"AE\")\n",
    "\n",
    "reconstructions = autoencoder.predict(X_test)\n",
    "reconstruction_loss = np.mean(np.square(reconstructions - X_test), axis=1)\n",
    "# autoencoder.add_loss(lambda: reconstruction_loss) \n",
    "autoencoder.summary()"
   ]
  },
  {
   "cell_type": "code",
   "execution_count": 155,
   "metadata": {},
   "outputs": [],
   "source": [
    "autoencoder.compile(optimizer=tf.keras.optimizers.Adam(learning_rate=0.001), loss='mse')"
   ]
  },
  {
   "cell_type": "code",
   "execution_count": 156,
   "metadata": {},
   "outputs": [],
   "source": [
    "autoencoder.compile(optimizer=tf.keras.optimizers.Adam(learning_rate=0.001), loss='mae')"
   ]
  },
  {
   "cell_type": "code",
   "execution_count": 157,
   "metadata": {},
   "outputs": [
    {
     "name": "stdout",
     "output_type": "stream",
     "text": [
      "Epoch 1/300\n",
      "1074/1074 - 5s - loss: 0.4997 - val_loss: 0.4524 - 5s/epoch - 5ms/step\n",
      "Epoch 2/300\n",
      "1074/1074 - 4s - loss: 0.4373 - val_loss: 0.4351 - 4s/epoch - 4ms/step\n",
      "Epoch 3/300\n",
      "1074/1074 - 4s - loss: 0.4273 - val_loss: 0.4309 - 4s/epoch - 4ms/step\n",
      "Epoch 4/300\n",
      "1074/1074 - 4s - loss: 0.4247 - val_loss: 0.4293 - 4s/epoch - 4ms/step\n",
      "Epoch 5/300\n",
      "1074/1074 - 4s - loss: 0.4233 - val_loss: 0.4279 - 4s/epoch - 4ms/step\n",
      "Epoch 6/300\n",
      "1074/1074 - 4s - loss: 0.4223 - val_loss: 0.4275 - 4s/epoch - 4ms/step\n",
      "Epoch 7/300\n",
      "1074/1074 - 4s - loss: 0.4218 - val_loss: 0.4267 - 4s/epoch - 4ms/step\n",
      "Epoch 8/300\n",
      "1074/1074 - 4s - loss: 0.4213 - val_loss: 0.4264 - 4s/epoch - 4ms/step\n",
      "Epoch 9/300\n",
      "1074/1074 - 4s - loss: 0.4210 - val_loss: 0.4263 - 4s/epoch - 4ms/step\n",
      "Epoch 10/300\n",
      "1074/1074 - 4s - loss: 0.4208 - val_loss: 0.4266 - 4s/epoch - 4ms/step\n",
      "Epoch 11/300\n",
      "1074/1074 - 4s - loss: 0.4206 - val_loss: 0.4261 - 4s/epoch - 3ms/step\n",
      "Epoch 12/300\n",
      "1074/1074 - 4s - loss: 0.4203 - val_loss: 0.4254 - 4s/epoch - 4ms/step\n",
      "Epoch 13/300\n",
      "1074/1074 - 4s - loss: 0.4202 - val_loss: 0.4254 - 4s/epoch - 4ms/step\n",
      "Epoch 14/300\n",
      "1074/1074 - 4s - loss: 0.4200 - val_loss: 0.4253 - 4s/epoch - 4ms/step\n",
      "Epoch 15/300\n",
      "1074/1074 - 4s - loss: 0.4199 - val_loss: 0.4249 - 4s/epoch - 4ms/step\n",
      "Epoch 16/300\n",
      "1074/1074 - 4s - loss: 0.4198 - val_loss: 0.4249 - 4s/epoch - 4ms/step\n",
      "Epoch 17/300\n",
      "1074/1074 - 4s - loss: 0.4197 - val_loss: 0.4249 - 4s/epoch - 4ms/step\n",
      "Epoch 18/300\n",
      "1074/1074 - 4s - loss: 0.4196 - val_loss: 0.4249 - 4s/epoch - 4ms/step\n",
      "Epoch 19/300\n",
      "1074/1074 - 4s - loss: 0.4195 - val_loss: 0.4247 - 4s/epoch - 4ms/step\n",
      "Epoch 20/300\n",
      "1074/1074 - 4s - loss: 0.4195 - val_loss: 0.4245 - 4s/epoch - 4ms/step\n",
      "Epoch 21/300\n",
      "1074/1074 - 4s - loss: 0.4194 - val_loss: 0.4251 - 4s/epoch - 4ms/step\n",
      "Epoch 22/300\n",
      "1074/1074 - 4s - loss: 0.4194 - val_loss: 0.4245 - 4s/epoch - 4ms/step\n",
      "Epoch 23/300\n",
      "1074/1074 - 4s - loss: 0.4193 - val_loss: 0.4242 - 4s/epoch - 4ms/step\n",
      "Epoch 24/300\n",
      "1074/1074 - 4s - loss: 0.4190 - val_loss: 0.4239 - 4s/epoch - 4ms/step\n",
      "Epoch 25/300\n",
      "1074/1074 - 4s - loss: 0.4189 - val_loss: 0.4238 - 4s/epoch - 4ms/step\n",
      "Epoch 26/300\n",
      "1074/1074 - 4s - loss: 0.4188 - val_loss: 0.4238 - 4s/epoch - 4ms/step\n",
      "Epoch 27/300\n",
      "1074/1074 - 4s - loss: 0.4187 - val_loss: 0.4238 - 4s/epoch - 4ms/step\n",
      "Epoch 28/300\n",
      "1074/1074 - 4s - loss: 0.4186 - val_loss: 0.4237 - 4s/epoch - 4ms/step\n",
      "Epoch 29/300\n",
      "1074/1074 - 4s - loss: 0.4186 - val_loss: 0.4236 - 4s/epoch - 4ms/step\n",
      "Epoch 30/300\n",
      "1074/1074 - 4s - loss: 0.4186 - val_loss: 0.4237 - 4s/epoch - 4ms/step\n",
      "Epoch 31/300\n",
      "1074/1074 - 4s - loss: 0.4185 - val_loss: 0.4236 - 4s/epoch - 4ms/step\n",
      "Epoch 32/300\n",
      "1074/1074 - 4s - loss: 0.4185 - val_loss: 0.4239 - 4s/epoch - 4ms/step\n",
      "Epoch 33/300\n",
      "1074/1074 - 4s - loss: 0.4185 - val_loss: 0.4241 - 4s/epoch - 4ms/step\n",
      "Epoch 34/300\n",
      "1074/1074 - 4s - loss: 0.4185 - val_loss: 0.4236 - 4s/epoch - 4ms/step\n",
      "Epoch 35/300\n",
      "1074/1074 - 4s - loss: 0.4185 - val_loss: 0.4237 - 4s/epoch - 4ms/step\n",
      "Epoch 36/300\n",
      "1074/1074 - 4s - loss: 0.4185 - val_loss: 0.4237 - 4s/epoch - 4ms/step\n",
      "Epoch 37/300\n",
      "1074/1074 - 4s - loss: 0.4185 - val_loss: 0.4236 - 4s/epoch - 4ms/step\n",
      "Epoch 38/300\n",
      "1074/1074 - 4s - loss: 0.4184 - val_loss: 0.4237 - 4s/epoch - 4ms/step\n",
      "Epoch 39/300\n",
      "1074/1074 - 4s - loss: 0.4184 - val_loss: 0.4235 - 4s/epoch - 4ms/step\n",
      "Epoch 40/300\n",
      "1074/1074 - 4s - loss: 0.4184 - val_loss: 0.4241 - 4s/epoch - 4ms/step\n",
      "Epoch 41/300\n",
      "1074/1074 - 4s - loss: 0.4184 - val_loss: 0.4235 - 4s/epoch - 4ms/step\n",
      "Epoch 42/300\n",
      "1074/1074 - 4s - loss: 0.4184 - val_loss: 0.4235 - 4s/epoch - 4ms/step\n",
      "Epoch 43/300\n",
      "1074/1074 - 4s - loss: 0.4184 - val_loss: 0.4235 - 4s/epoch - 4ms/step\n",
      "Epoch 44/300\n",
      "1074/1074 - 4s - loss: 0.4184 - val_loss: 0.4236 - 4s/epoch - 4ms/step\n",
      "Epoch 45/300\n",
      "1074/1074 - 4s - loss: 0.4184 - val_loss: 0.4237 - 4s/epoch - 4ms/step\n",
      "Epoch 46/300\n",
      "1074/1074 - 4s - loss: 0.4184 - val_loss: 0.4234 - 4s/epoch - 4ms/step\n",
      "Epoch 47/300\n",
      "1074/1074 - 4s - loss: 0.4183 - val_loss: 0.4234 - 4s/epoch - 4ms/step\n",
      "Epoch 48/300\n",
      "1074/1074 - 4s - loss: 0.4182 - val_loss: 0.4234 - 4s/epoch - 4ms/step\n",
      "Epoch 49/300\n",
      "1074/1074 - 4s - loss: 0.4182 - val_loss: 0.4236 - 4s/epoch - 4ms/step\n",
      "Epoch 50/300\n",
      "1074/1074 - 4s - loss: 0.4182 - val_loss: 0.4235 - 4s/epoch - 4ms/step\n",
      "Epoch 51/300\n",
      "1074/1074 - 4s - loss: 0.4182 - val_loss: 0.4233 - 4s/epoch - 4ms/step\n",
      "Epoch 52/300\n",
      "1074/1074 - 4s - loss: 0.4182 - val_loss: 0.4235 - 4s/epoch - 4ms/step\n",
      "Epoch 53/300\n",
      "1074/1074 - 4s - loss: 0.4182 - val_loss: 0.4234 - 4s/epoch - 4ms/step\n",
      "Epoch 54/300\n",
      "1074/1074 - 4s - loss: 0.4181 - val_loss: 0.4233 - 4s/epoch - 4ms/step\n",
      "Epoch 55/300\n",
      "1074/1074 - 4s - loss: 0.4181 - val_loss: 0.4234 - 4s/epoch - 4ms/step\n",
      "Epoch 56/300\n",
      "1074/1074 - 4s - loss: 0.4181 - val_loss: 0.4233 - 4s/epoch - 4ms/step\n",
      "Epoch 57/300\n",
      "1074/1074 - 4s - loss: 0.4181 - val_loss: 0.4233 - 4s/epoch - 4ms/step\n",
      "Epoch 58/300\n",
      "1074/1074 - 4s - loss: 0.4177 - val_loss: 0.4224 - 4s/epoch - 4ms/step\n",
      "Epoch 59/300\n",
      "1074/1074 - 4s - loss: 0.4172 - val_loss: 0.4225 - 4s/epoch - 3ms/step\n",
      "Epoch 60/300\n",
      "1074/1074 - 4s - loss: 0.4172 - val_loss: 0.4222 - 4s/epoch - 4ms/step\n",
      "Epoch 61/300\n",
      "1074/1074 - 4s - loss: 0.4172 - val_loss: 0.4226 - 4s/epoch - 4ms/step\n",
      "Epoch 62/300\n",
      "1074/1074 - 4s - loss: 0.4171 - val_loss: 0.4223 - 4s/epoch - 4ms/step\n",
      "Epoch 63/300\n",
      "1074/1074 - 4s - loss: 0.4171 - val_loss: 0.4223 - 4s/epoch - 4ms/step\n",
      "Epoch 64/300\n",
      "1074/1074 - 4s - loss: 0.4171 - val_loss: 0.4222 - 4s/epoch - 4ms/step\n",
      "Epoch 65/300\n",
      "1074/1074 - 4s - loss: 0.4171 - val_loss: 0.4223 - 4s/epoch - 4ms/step\n",
      "Epoch 66/300\n",
      "1074/1074 - 4s - loss: 0.4171 - val_loss: 0.4222 - 4s/epoch - 4ms/step\n",
      "Epoch 67/300\n",
      "1074/1074 - 4s - loss: 0.4171 - val_loss: 0.4223 - 4s/epoch - 4ms/step\n",
      "Epoch 68/300\n",
      "1074/1074 - 4s - loss: 0.4170 - val_loss: 0.4224 - 4s/epoch - 4ms/step\n",
      "Epoch 69/300\n",
      "1074/1074 - 4s - loss: 0.4170 - val_loss: 0.4222 - 4s/epoch - 4ms/step\n",
      "Epoch 70/300\n",
      "1074/1074 - 4s - loss: 0.4170 - val_loss: 0.4223 - 4s/epoch - 4ms/step\n",
      "Epoch 71/300\n",
      "1074/1074 - 4s - loss: 0.4170 - val_loss: 0.4222 - 4s/epoch - 4ms/step\n",
      "Epoch 72/300\n",
      "1074/1074 - 4s - loss: 0.4170 - val_loss: 0.4222 - 4s/epoch - 4ms/step\n",
      "Epoch 73/300\n",
      "1074/1074 - 4s - loss: 0.4170 - val_loss: 0.4222 - 4s/epoch - 4ms/step\n",
      "Epoch 74/300\n",
      "1074/1074 - 4s - loss: 0.4170 - val_loss: 0.4223 - 4s/epoch - 4ms/step\n",
      "Epoch 75/300\n",
      "1074/1074 - 4s - loss: 0.4169 - val_loss: 0.4221 - 4s/epoch - 4ms/step\n",
      "Epoch 76/300\n",
      "1074/1074 - 4s - loss: 0.4170 - val_loss: 0.4222 - 4s/epoch - 4ms/step\n",
      "Epoch 77/300\n",
      "1074/1074 - 4s - loss: 0.4170 - val_loss: 0.4221 - 4s/epoch - 4ms/step\n",
      "Epoch 78/300\n",
      "1074/1074 - 4s - loss: 0.4169 - val_loss: 0.4222 - 4s/epoch - 4ms/step\n",
      "Epoch 79/300\n",
      "1074/1074 - 503s - loss: 0.4169 - val_loss: 0.4226 - 503s/epoch - 469ms/step\n",
      "Epoch 80/300\n",
      "1074/1074 - 3s - loss: 0.4169 - val_loss: 0.4223 - 3s/epoch - 3ms/step\n",
      "Epoch 81/300\n",
      "1074/1074 - 3s - loss: 0.4169 - val_loss: 0.4222 - 3s/epoch - 2ms/step\n",
      "Epoch 82/300\n",
      "1074/1074 - 3s - loss: 0.4169 - val_loss: 0.4222 - 3s/epoch - 3ms/step\n",
      "Epoch 83/300\n",
      "1074/1074 - 3s - loss: 0.4169 - val_loss: 0.4222 - 3s/epoch - 2ms/step\n",
      "Epoch 84/300\n",
      "1074/1074 - 3s - loss: 0.4169 - val_loss: 0.4222 - 3s/epoch - 3ms/step\n",
      "Epoch 85/300\n",
      "1074/1074 - 5s - loss: 0.4169 - val_loss: 0.4221 - 5s/epoch - 5ms/step\n",
      "Epoch 86/300\n",
      "1074/1074 - 4s - loss: 0.4169 - val_loss: 0.4228 - 4s/epoch - 4ms/step\n",
      "Epoch 87/300\n",
      "1074/1074 - 4s - loss: 0.4169 - val_loss: 0.4221 - 4s/epoch - 4ms/step\n",
      "Epoch 88/300\n",
      "1074/1074 - 3s - loss: 0.4169 - val_loss: 0.4221 - 3s/epoch - 3ms/step\n",
      "Epoch 89/300\n",
      "1074/1074 - 3s - loss: 0.4169 - val_loss: 0.4221 - 3s/epoch - 3ms/step\n",
      "Epoch 90/300\n",
      "1074/1074 - 3s - loss: 0.4169 - val_loss: 0.4221 - 3s/epoch - 3ms/step\n",
      "Epoch 91/300\n",
      "1074/1074 - 4s - loss: 0.4169 - val_loss: 0.4221 - 4s/epoch - 4ms/step\n",
      "Epoch 92/300\n",
      "1074/1074 - 4s - loss: 0.4169 - val_loss: 0.4221 - 4s/epoch - 4ms/step\n",
      "Epoch 93/300\n",
      "1074/1074 - 4s - loss: 0.4169 - val_loss: 0.4221 - 4s/epoch - 4ms/step\n",
      "Epoch 94/300\n",
      "1074/1074 - 4s - loss: 0.4169 - val_loss: 0.4221 - 4s/epoch - 4ms/step\n",
      "Epoch 95/300\n",
      "1074/1074 - 4s - loss: 0.4169 - val_loss: 0.4221 - 4s/epoch - 3ms/step\n",
      "Epoch 96/300\n",
      "1074/1074 - 3s - loss: 0.4169 - val_loss: 0.4221 - 3s/epoch - 3ms/step\n",
      "Epoch 97/300\n",
      "1074/1074 - 3s - loss: 0.4169 - val_loss: 0.4221 - 3s/epoch - 3ms/step\n",
      "Epoch 98/300\n",
      "1074/1074 - 4s - loss: 0.4168 - val_loss: 0.4221 - 4s/epoch - 3ms/step\n"
     ]
    },
    {
     "name": "stdout",
     "output_type": "stream",
     "text": [
      "Epoch 99/300\n",
      "1074/1074 - 4s - loss: 0.4168 - val_loss: 0.4220 - 4s/epoch - 4ms/step\n",
      "Epoch 100/300\n",
      "1074/1074 - 4s - loss: 0.4169 - val_loss: 0.4225 - 4s/epoch - 4ms/step\n",
      "Epoch 101/300\n",
      "1074/1074 - 4s - loss: 0.4169 - val_loss: 0.4220 - 4s/epoch - 4ms/step\n",
      "Epoch 102/300\n",
      "1074/1074 - 4s - loss: 0.4168 - val_loss: 0.4220 - 4s/epoch - 4ms/step\n",
      "Epoch 103/300\n",
      "1074/1074 - 4s - loss: 0.4168 - val_loss: 0.4221 - 4s/epoch - 4ms/step\n",
      "Epoch 104/300\n",
      "1074/1074 - 3s - loss: 0.4169 - val_loss: 0.4223 - 3s/epoch - 3ms/step\n",
      "Epoch 105/300\n",
      "1074/1074 - 4s - loss: 0.4168 - val_loss: 0.4222 - 4s/epoch - 4ms/step\n",
      "Epoch 106/300\n",
      "1074/1074 - 4s - loss: 0.4168 - val_loss: 0.4221 - 4s/epoch - 4ms/step\n",
      "Epoch 107/300\n",
      "1074/1074 - 4s - loss: 0.4168 - val_loss: 0.4222 - 4s/epoch - 4ms/step\n",
      "Epoch 108/300\n",
      "1074/1074 - 4s - loss: 0.4168 - val_loss: 0.4221 - 4s/epoch - 4ms/step\n",
      "Epoch 109/300\n",
      "1074/1074 - 4s - loss: 0.4168 - val_loss: 0.4223 - 4s/epoch - 4ms/step\n",
      "Epoch 110/300\n",
      "1074/1074 - 4s - loss: 0.4168 - val_loss: 0.4221 - 4s/epoch - 4ms/step\n",
      "Epoch 111/300\n",
      "1074/1074 - 4s - loss: 0.4168 - val_loss: 0.4220 - 4s/epoch - 3ms/step\n",
      "Epoch 112/300\n",
      "1074/1074 - 4s - loss: 0.4168 - val_loss: 0.4221 - 4s/epoch - 4ms/step\n",
      "Epoch 113/300\n",
      "1074/1074 - 4s - loss: 0.4168 - val_loss: 0.4221 - 4s/epoch - 4ms/step\n",
      "Epoch 114/300\n",
      "1074/1074 - 4s - loss: 0.4168 - val_loss: 0.4221 - 4s/epoch - 4ms/step\n",
      "Epoch 115/300\n",
      "1074/1074 - 4s - loss: 0.4168 - val_loss: 0.4221 - 4s/epoch - 4ms/step\n",
      "Epoch 116/300\n",
      "1074/1074 - 4s - loss: 0.4168 - val_loss: 0.4220 - 4s/epoch - 4ms/step\n",
      "Epoch 117/300\n",
      "1074/1074 - 4s - loss: 0.4168 - val_loss: 0.4220 - 4s/epoch - 4ms/step\n",
      "Epoch 118/300\n",
      "1074/1074 - 4s - loss: 0.4168 - val_loss: 0.4220 - 4s/epoch - 4ms/step\n",
      "Epoch 119/300\n",
      "1074/1074 - 3s - loss: 0.4168 - val_loss: 0.4221 - 3s/epoch - 3ms/step\n",
      "Epoch 120/300\n",
      "1074/1074 - 3s - loss: 0.4168 - val_loss: 0.4220 - 3s/epoch - 3ms/step\n",
      "Epoch 121/300\n",
      "1074/1074 - 3s - loss: 0.4168 - val_loss: 0.4220 - 3s/epoch - 3ms/step\n",
      "Epoch 122/300\n",
      "1074/1074 - 4s - loss: 0.4168 - val_loss: 0.4221 - 4s/epoch - 3ms/step\n",
      "Epoch 123/300\n",
      "1074/1074 - 4s - loss: 0.4168 - val_loss: 0.4220 - 4s/epoch - 4ms/step\n",
      "Epoch 124/300\n",
      "1074/1074 - 4s - loss: 0.4168 - val_loss: 0.4220 - 4s/epoch - 4ms/step\n",
      "Epoch 125/300\n",
      "1074/1074 - 4s - loss: 0.4168 - val_loss: 0.4221 - 4s/epoch - 4ms/step\n",
      "Epoch 126/300\n",
      "1074/1074 - 4s - loss: 0.4168 - val_loss: 0.4220 - 4s/epoch - 4ms/step\n",
      "Epoch 127/300\n",
      "1074/1074 - 4s - loss: 0.4168 - val_loss: 0.4221 - 4s/epoch - 4ms/step\n",
      "Epoch 128/300\n",
      "1074/1074 - 3s - loss: 0.4169 - val_loss: 0.4221 - 3s/epoch - 3ms/step\n",
      "Epoch 129/300\n",
      "1074/1074 - 4s - loss: 0.4168 - val_loss: 0.4221 - 4s/epoch - 4ms/step\n",
      "Epoch 130/300\n",
      "1074/1074 - 4s - loss: 0.4168 - val_loss: 0.4223 - 4s/epoch - 4ms/step\n",
      "Epoch 131/300\n",
      "1074/1074 - 4s - loss: 0.4168 - val_loss: 0.4220 - 4s/epoch - 4ms/step\n",
      "Epoch 132/300\n",
      "1074/1074 - 4s - loss: 0.4168 - val_loss: 0.4220 - 4s/epoch - 4ms/step\n",
      "Epoch 133/300\n",
      "1074/1074 - 4s - loss: 0.4168 - val_loss: 0.4220 - 4s/epoch - 4ms/step\n",
      "Epoch 134/300\n",
      "1074/1074 - 4s - loss: 0.4168 - val_loss: 0.4220 - 4s/epoch - 4ms/step\n",
      "Epoch 135/300\n",
      "1074/1074 - 4s - loss: 0.4168 - val_loss: 0.4221 - 4s/epoch - 4ms/step\n",
      "Epoch 136/300\n",
      "1074/1074 - 4s - loss: 0.4168 - val_loss: 0.4220 - 4s/epoch - 3ms/step\n",
      "Epoch 137/300\n",
      "1074/1074 - 4s - loss: 0.4168 - val_loss: 0.4221 - 4s/epoch - 4ms/step\n"
     ]
    }
   ],
   "source": [
    "# Train the autoencoder\n",
    "history = autoencoder.fit(\n",
    "    X_train,\n",
    "    X_train,  # Input and output are the same for an autoencoder\n",
    "    validation_data=(X_test, X_test),\n",
    "    epochs=300,\n",
    "    batch_size=32,\n",
    "    shuffle=True,\n",
    "    verbose=2,\n",
    "    callbacks=[\n",
    "        tf.keras.callbacks.EarlyStopping(monitor='val_loss', patience=20, restore_best_weights=True)\n",
    "    ]\n",
    ")"
   ]
  },
  {
   "cell_type": "code",
   "execution_count": 179,
   "metadata": {},
   "outputs": [],
   "source": [
    "autoencoder.save_weights('ae_mlp.h5')"
   ]
  },
  {
   "cell_type": "code",
   "execution_count": 158,
   "metadata": {},
   "outputs": [
    {
     "data": {
      "image/png": "[encoded data removed]",
      "text/plain": [
       "<Figure size 640x480 with 1 Axes>"
      ]
     },
     "metadata": {},
     "output_type": "display_data"
    }
   ],
   "source": [
    "# Plot training and validation loss\n",
    "plt.plot(history.history['loss'], label='Training Loss')\n",
    "plt.plot(history.history['val_loss'], label='Validation Loss')\n",
    "plt.xlabel('Epochs')\n",
    "plt.ylabel('Loss (MAE)')\n",
    "plt.legend()\n",
    "plt.title('Autoencoder Training Performance')\n",
    "plt.show()"
   ]
  },
  {
   "cell_type": "code",
   "execution_count": 159,
   "metadata": {},
   "outputs": [
    {
     "name": "stdout",
     "output_type": "stream",
     "text": [
      "461/461 [==============================] - 1s 2ms/step\n",
      "Mean Reconstruction Loss on Test Data: 0.9309\n"
     ]
    }
   ],
   "source": [
    "# Evaluate on test data\n",
    "reconstructions = autoencoder.predict(X_test)\n",
    "reconstruction_loss = np.mean(np.square(reconstructions - X_test), axis=1)\n",
    "\n",
    "print(f\"Mean Reconstruction Loss on Test Data: {np.mean(reconstruction_loss):.4f}\")"
   ]
  },
  {
   "cell_type": "markdown",
   "metadata": {},
   "source": [
    "**Task 3: anomaly detection**\n",
    "\n",
    "From the histogram of the reconstruction error decide what the cutoff should be applied to distinguish anomalies from valid samples, given that the anomaly rate is ~7%."
   ]
  },
  {
   "cell_type": "code",
   "execution_count": 160,
   "metadata": {},
   "outputs": [
    {
     "name": "stdout",
     "output_type": "stream",
     "text": [
      "461/461 [==============================] - 1s 2ms/step\n"
     ]
    }
   ],
   "source": [
    "import numpy as np\n",
    "\n",
    "# Get reconstructed values for the test data\n",
    "reconstructions = autoencoder.predict(X_test)\n",
    "\n",
    "# Calculate reconstruction error for each sample\n",
    "reconstruction_errors = np.mean(np.square(reconstructions - X_test), axis=1)\n"
   ]
  },
  {
   "cell_type": "code",
   "execution_count": 161,
   "metadata": {},
   "outputs": [
    {
     "data": {
      "image/png": "[encoded data removed]",
      "text/plain": [
       "<Figure size 640x480 with 1 Axes>"
      ]
     },
     "metadata": {},
     "output_type": "display_data"
    }
   ],
   "source": [
    "import matplotlib.pyplot as plt\n",
    "\n",
    "# Plot the histogram\n",
    "plt.hist(reconstruction_errors, bins=50, alpha=0.7, color='blue')\n",
    "plt.xlabel(\"Reconstruction Error\")\n",
    "plt.ylabel(\"Frequency\")\n",
    "plt.title(\"Histogram of Reconstruction Errors\")\n",
    "plt.show()"
   ]
  },
  {
   "cell_type": "code",
   "execution_count": 162,
   "metadata": {},
   "outputs": [
    {
     "name": "stdout",
     "output_type": "stream",
     "text": [
      "Cutoff Threshold for Anomalies: 3.1955\n"
     ]
    }
   ],
   "source": [
    "# Calculate the 95th percentile as the cutoff for anomalies\n",
    "threshold = np.percentile(reconstruction_errors, 95)\n",
    "\n",
    "# Print the threshold\n",
    "print(f\"Cutoff Threshold for Anomalies: {threshold:.4f}\")\n"
   ]
  },
  {
   "cell_type": "code",
   "execution_count": 163,
   "metadata": {},
   "outputs": [
    {
     "name": "stdout",
     "output_type": "stream",
     "text": [
      "Number of anomalies: 737\n"
     ]
    }
   ],
   "source": [
    "# Classify samples as anomalies\n",
    "anomalies = reconstruction_errors > threshold\n",
    "\n",
    "# Print the number of anomalies\n",
    "print(f\"Number of anomalies: {np.sum(anomalies)}\")\n"
   ]
  },
  {
   "cell_type": "code",
   "execution_count": 164,
   "metadata": {},
   "outputs": [
    {
     "name": "stdout",
     "output_type": "stream",
     "text": [
      "Total number of arrays (rows): 14730\n"
     ]
    }
   ],
   "source": [
    "# Get the total number of arrays (rows) in the 2D array\n",
    "num_rows = X_test.shape[0]\n",
    "\n",
    "# Print the number of rows (arrays)\n",
    "print(f\"Total number of arrays (rows): {num_rows}\")"
   ]
  },
  {
   "cell_type": "code",
   "execution_count": 165,
   "metadata": {},
   "outputs": [
    {
     "name": "stdout",
     "output_type": "stream",
     "text": [
      "0.050033944331296674\n"
     ]
    }
   ],
   "source": [
    "print(np.sum(anomalies)/num_rows)"
   ]
  },
  {
   "cell_type": "code",
   "execution_count": 166,
   "metadata": {},
   "outputs": [
    {
     "name": "stdout",
     "output_type": "stream",
     "text": [
      "Anomalous Samples:\n",
      "[[ 2.85687278e+00 -1.35336474e-02  3.24851946e-01 ... -2.59987279e+00\n",
      "   2.03682464e+00  3.26293323e+00]\n",
      " [ 2.16189912e+00  1.17966179e-03 -5.79035879e-01 ... -2.45185643e+00\n",
      "   3.70203984e+00  4.60943630e+00]\n",
      " [ 2.62521489e+00  6.00328984e-02 -1.27091967e-01 ... -2.52586461e+00\n",
      "   2.77147840e+00  3.85202832e+00]\n",
      " ...\n",
      " [-7.72434099e-01  1.17966179e-03 -9.17993814e-01 ...  1.38429970e-01\n",
      "  -2.02058878e-02 -1.03324457e-01]\n",
      " [ 2.62521489e+00 -2.82469565e-02 -1.41059887e-02 ... -2.52586461e+00\n",
      "   3.79999367e+00  4.69359274e+00]\n",
      " [ 2.93409207e+00 -1.35336474e-02  3.24851946e-01 ... -2.59987279e+00\n",
      "   1.84091697e+00  3.01046390e+00]]\n"
     ]
    }
   ],
   "source": [
    "# Extract the anomalous rows from the test data\n",
    "anomalous_samples = X_test[anomalies]\n",
    "\n",
    "# Optionally, display the anomalous samples\n",
    "print(\"Anomalous Samples:\")\n",
    "print(anomalous_samples)\n"
   ]
  },
  {
   "cell_type": "code",
   "execution_count": 167,
   "metadata": {
    "scrolled": true
   },
   "outputs": [
    {
     "name": "stdout",
     "output_type": "stream",
     "text": [
      "1074/1074 [==============================] - 2s 1ms/step\n"
     ]
    },
    {
     "data": {
      "image/png": "[encoded data removed]",
      "text/plain": [
       "<Figure size 640x480 with 1 Axes>"
      ]
     },
     "metadata": {},
     "output_type": "display_data"
    }
   ],
   "source": [
    "# Transform the training data into the latent space\n",
    "latent_space = encoded.predict(X_train)\n",
    "\n",
    "# Plot the latent space\n",
    "import matplotlib.pyplot as plt\n",
    "\n",
    "plt.scatter(latent_space[:, 0], latent_space[:, 1], c='blue', alpha=0.5)\n",
    "plt.xlabel('Latent Variable 1')\n",
    "plt.ylabel('Latent Variable 2')\n",
    "plt.title('Latent Space Visualization')\n",
    "plt.grid(True)\n",
    "plt.show()\n"
   ]
  },
  {
   "cell_type": "markdown",
   "metadata": {},
   "source": [
    "There is some structure. The anomalies are presumably the onesfar from the dense cluster."
   ]
  },
  {
   "cell_type": "code",
   "execution_count": 168,
   "metadata": {},
   "outputs": [
    {
     "name": "stdout",
     "output_type": "stream",
     "text": [
      "1074/1074 [==============================] - 2s 2ms/step\n"
     ]
    },
    {
     "data": {
      "image/png": "[encoded data removed]",
      "text/plain": [
       "<Figure size 800x600 with 1 Axes>"
      ]
     },
     "metadata": {},
     "output_type": "display_data"
    }
   ],
   "source": [
    "import matplotlib.pyplot as plt\n",
    "\n",
    "# Transform the training data into the latent space\n",
    "latent_space = encoded.predict(X_train)\n",
    "\n",
    "# Define colors: Normal samples (blue), Anomalies (red)\n",
    "colors = ['red' if label == 1 else 'blue' for label in Y_train]  # Y_train should contain 0 (normal) and 1 (anomaly)\n",
    "\n",
    "# Plot the latent space with different colors for anomalies\n",
    "plt.figure(figsize=(8, 6))\n",
    "plt.scatter(latent_space[:, 0], latent_space[:, 1], c=colors, alpha=0.5)\n",
    "plt.xlabel('Latent Variable 1')\n",
    "plt.ylabel('Latent Variable 2')\n",
    "plt.title('Latent Space Visualization')\n",
    "plt.grid(True)\n",
    "\n",
    "# Add legend\n",
    "from matplotlib.lines import Line2D\n",
    "legend_elements = [Line2D([0], [0], marker='o', color='w', label='Normal', markersize=8, markerfacecolor='blue'),\n",
    "                   Line2D([0], [0], marker='o', color='w', label='Anomaly', markersize=8, markerfacecolor='red')]\n",
    "plt.legend(handles=legend_elements)\n",
    "\n",
    "plt.show()\n"
   ]
  },
  {
   "cell_type": "code",
   "execution_count": 169,
   "metadata": {},
   "outputs": [
    {
     "name": "stdout",
     "output_type": "stream",
     "text": [
      "461/461 [==============================] - 1s 2ms/step\n"
     ]
    },
    {
     "data": {
      "image/png": "[encoded data removed]",
      "text/plain": [
       "<Figure size 600x500 with 2 Axes>"
      ]
     },
     "metadata": {},
     "output_type": "display_data"
    },
    {
     "name": "stdout",
     "output_type": "stream",
     "text": [
      "              precision    recall  f1-score   support\n",
      "\n",
      "           0       0.97      1.00      0.99     13666\n",
      "           1       0.97      0.67      0.79      1064\n",
      "\n",
      "    accuracy                           0.97     14730\n",
      "   macro avg       0.97      0.83      0.89     14730\n",
      "weighted avg       0.97      0.97      0.97     14730\n",
      "\n"
     ]
    }
   ],
   "source": [
    "import numpy as np\n",
    "import matplotlib.pyplot as plt\n",
    "import seaborn as sns\n",
    "from sklearn.metrics import confusion_matrix, classification_report\n",
    "\n",
    "# Step 1: Get model predictions (Reconstruction Errors)\n",
    "reconstructions = autoencoder.predict(X_test)  # X_test is the test data\n",
    "reconstruction_errors = np.mean(np.square(X_test - reconstructions), axis=1)\n",
    "\n",
    "# Step 2: Set an anomaly detection threshold (e.g., 95th percentile)\n",
    "threshold = np.percentile(reconstruction_errors, 95)\n",
    "\n",
    "# Step 3: Predict anomalies based on threshold\n",
    "y_pred = (reconstruction_errors > threshold).astype(int)  # 1 = Anomaly, 0 = Normal\n",
    "\n",
    "# Step 4: Get actual labels (assuming 1 = Anomaly, 0 = Normal)\n",
    "y_true = Y_test  # Replace with actual anomaly labels\n",
    "\n",
    "# Step 5: Compute Confusion Matrix\n",
    "cm = confusion_matrix(y_true, y_pred)\n",
    "\n",
    "# Step 6: Plot Confusion Matrix\n",
    "plt.figure(figsize=(6,5))\n",
    "sns.heatmap(cm, annot=True, fmt='d', cmap='Blues', xticklabels=['Normal', 'Anomaly'], yticklabels=['Normal', 'Anomaly'])\n",
    "plt.xlabel(\"Predicted\")\n",
    "plt.ylabel(\"Actual\")\n",
    "plt.title(\"Confusion Matrix\")\n",
    "plt.show()\n",
    "\n",
    "# Step 7: Print Classification Report\n",
    "print(classification_report(y_true, y_pred))\n"
   ]
  },
  {
   "cell_type": "code",
   "execution_count": 170,
   "metadata": {},
   "outputs": [
    {
     "name": "stdout",
     "output_type": "stream",
     "text": [
      "[[13643    23]\n",
      " [  350   714]]\n"
     ]
    }
   ],
   "source": [
    "print(cm)"
   ]
  },
  {
   "cell_type": "code",
   "execution_count": 171,
   "metadata": {},
   "outputs": [
    {
     "name": "stdout",
     "output_type": "stream",
     "text": [
      "461/461 [==============================] - 1s 2ms/step\n"
     ]
    },
    {
     "data": {
      "image/png": "[encoded data removed]",
      "text/plain": [
       "<Figure size 800x600 with 1 Axes>"
      ]
     },
     "metadata": {},
     "output_type": "display_data"
    }
   ],
   "source": [
    "import seaborn as sns\n",
    "from sklearn.metrics import roc_curve, auc\n",
    "\n",
    "# Step 1: Get model predictions (Reconstruction Errors)\n",
    "reconstructions = autoencoder.predict(X_test)  \n",
    "reconstruction_errors = np.mean(np.square(X_test - reconstructions), axis=1)\n",
    "\n",
    "# Step 2: Get actual labels (assuming 1 = Anomaly, 0 = Normal)\n",
    "y_true = Y_test  # Replace with actual anomaly labels\n",
    "\n",
    "# Step 3: Compute ROC Curve\n",
    "fpr, tpr, thresholds = roc_curve(y_true, reconstruction_errors)\n",
    "\n",
    "# Step 4: Compute AUC (Area Under Curve)\n",
    "roc_auc = auc(fpr, tpr)\n",
    "\n",
    "# Step 5: Plot ROC Curve\n",
    "plt.figure(figsize=(8,6))\n",
    "plt.plot(fpr, tpr, color='blue', lw=2, label=f'ROC curve (AUC = {roc_auc:.2f})')\n",
    "plt.plot([0, 1], [0, 1], color='gray', linestyle='--')  # Diagonal reference line\n",
    "\n",
    "# Display AUC score on plot\n",
    "plt.text(0.6, 0.2, f'AUC = {roc_auc:.2f}', fontsize=12, bbox=dict(facecolor='white', alpha=0.7))\n",
    "\n",
    "# Formatting\n",
    "plt.xlim([0.0, 1.0])\n",
    "plt.ylim([0.0, 1.05])\n",
    "plt.xlabel('False Positive Rate (FPR)')\n",
    "plt.ylabel('True Positive Rate (TPR)')\n",
    "plt.title('Receiver Operating Characteristic (ROC) Curve')\n",
    "plt.legend(loc='lower right')\n",
    "plt.grid()\n",
    "\n",
    "# Show plot\n",
    "plt.show()"
   ]
  },
  {
   "cell_type": "markdown",
   "metadata": {},
   "source": [
    "This is a very high AUC"
   ]
  },
  {
   "cell_type": "markdown",
   "metadata": {},
   "source": [
    "### Post (complete by Sunday 02/02/25)\n",
    "\n",
    "Once you have an implemntation however rough, use the forums/topics to advertise the fact. The purpose is to get feedback from others in the group, so if you have only a basic outline then you may get ideas about how to proceed and also examples from others in your group.\n",
    "\n",
    "No posts should refer to Task 4."
   ]
  },
  {
   "cell_type": "markdown",
   "metadata": {},
   "source": [
    "### Respond (complete by Wednesday 05/02/24)\n",
    "\n",
    "If you feel you can provide useful advise then respond to another member of the group through the appropriate forum. Responses should be respectful and offer some sort of advise. Try and avoid clogging the forums with support or thank you messages.\n",
    "\n",
    "In reviewing others code you will discover different ways to tackle the same problem. It is acceptable to copy parts of others code. However whole scale copying from another notebook is not acceptable.\n",
    "\n",
    "If you stick to the deadline then it will allow yourself and others to have enough time to implement suggestions. From the Schedule you can see that this is not a hard deadline.\n",
    "\n",
    "The posts on the forum/topic associated with this e-tivity are graded. Below is a link to the rubrics.\n",
    "\n",
    "https://learn.ul.ie/d2l/lp/rubrics/preview.d2l?ou=49284&rubricId=2620&originTool=quicklinks"
   ]
  },
  {
   "cell_type": "markdown",
   "metadata": {},
   "source": [
    "### Task 4: VAE (completed by Sunday 09/02/24)\n",
    "\n",
    "This task is a individual task and should **not** to be uploaded to the Group Locker. No direct support should be given via the forums. Marks will be deducted if the instructions are not followed (see rubrics). This part should be uploaded directly to Brightpsace.\n",
    "\n",
    "Change the network to be a VAE. Again determine the optimal cutoff and plot the latent variables. Check how good the cutoffs were by constructing a confusion matrix or generating a classification report. Obviously for this task you need to use the Anom column.\n",
    "\n",
    "**Hint** you can use the model topology from the AE (with the obvious modifications). I found that I had a good model (almost as good and the supervised learning model) when the KL divergence was small. You can print out both the KL divergence and reconstruction loss for each epoch. It can be tricky to train these type of models, so do not be surprised if you do not get a stellar result. What is more important is that you have the correct code to implement the VAE."
   ]
  },
  {
   "cell_type": "markdown",
   "metadata": {},
   "source": [
    "### Final Submission (complete by Sunday 09/02/24)\n",
    "\n",
    "Submit Tasks 1-4 in a single notebook this before the deadline on Sunday.\n"
   ]
  },
  {
   "cell_type": "code",
   "execution_count": 172,
   "metadata": {},
   "outputs": [],
   "source": [
    "## Add additional code cells to implememt the tasks stated above "
   ]
  },
  {
   "cell_type": "code",
   "execution_count": 173,
   "metadata": {},
   "outputs": [
    {
     "name": "stdout",
     "output_type": "stream",
     "text": [
      "Model: \"encoder\"\n",
      "__________________________________________________________________________________________________\n",
      " Layer (type)                Output Shape                 Param #   Connected to                  \n",
      "==================================================================================================\n",
      " input_31 (InputLayer)       [(None, 9)]                  0         []                            \n",
      "                                                                                                  \n",
      " dense_75 (Dense)            (None, 6)                    60        ['input_31[0][0]']            \n",
      "                                                                                                  \n",
      " dense_76 (Dense)            (None, 4)                    28        ['dense_75[0][0]']            \n",
      "                                                                                                  \n",
      " z_mean (Dense)              (None, 2)                    10        ['dense_76[0][0]']            \n",
      "                                                                                                  \n",
      " z_log_var (Dense)           (None, 2)                    10        ['dense_76[0][0]']            \n",
      "                                                                                                  \n",
      " z (Lambda)                  (None, 2)                    0         ['z_mean[0][0]',              \n",
      "                                                                     'z_log_var[0][0]']           \n",
      "                                                                                                  \n",
      "==================================================================================================\n",
      "Total params: 108 (432.00 Byte)\n",
      "Trainable params: 108 (432.00 Byte)\n",
      "Non-trainable params: 0 (0.00 Byte)\n",
      "__________________________________________________________________________________________________\n",
      "Model: \"decoder\"\n",
      "_________________________________________________________________\n",
      " Layer (type)                Output Shape              Param #   \n",
      "=================================================================\n",
      " input_32 (InputLayer)       [(None, 2)]               0         \n",
      "                                                                 \n",
      " dense_77 (Dense)            (None, 4)                 12        \n",
      "                                                                 \n",
      " dense_78 (Dense)            (None, 6)                 30        \n",
      "                                                                 \n",
      " dense_79 (Dense)            (None, 9)                 63        \n",
      "                                                                 \n",
      "=================================================================\n",
      "Total params: 105 (420.00 Byte)\n",
      "Trainable params: 105 (420.00 Byte)\n",
      "Non-trainable params: 0 (0.00 Byte)\n",
      "_________________________________________________________________\n",
      "Model: \"vae\"\n",
      "_________________________________________________________________\n",
      " Layer (type)                Output Shape              Param #   \n",
      "=================================================================\n",
      " input_31 (InputLayer)       [(None, 9)]               0         \n",
      "                                                                 \n",
      " encoder (Functional)        [(None, 2),               108       \n",
      "                              (None, 2),                         \n",
      "                              (None, 2)]                         \n",
      "                                                                 \n",
      " decoder (Functional)        (None, 9)                 105       \n",
      "                                                                 \n",
      "=================================================================\n",
      "Total params: 213 (852.00 Byte)\n",
      "Trainable params: 213 (852.00 Byte)\n",
      "Non-trainable params: 0 (0.00 Byte)\n",
      "_________________________________________________________________\n"
     ]
    }
   ],
   "source": [
    "import tensorflow.keras.backend as K\n",
    "\n",
    "latent_dim = 2  # Latent space with 2 variables\n",
    "\n",
    "# ---- Encoder ----\n",
    "inputs = layers.Input(shape=(input_dim,))\n",
    "x = layers.Dense(6, activation='relu', kernel_initializer='he_normal')(inputs)\n",
    "x = layers.Dense(4, activation='relu', kernel_initializer='he_normal')(x)\n",
    "\n",
    "# Latent space: Mean and Log Variance\n",
    "z_mean = layers.Dense(latent_dim, name='z_mean')(x)\n",
    "z_log_var = layers.Dense(latent_dim, name='z_log_var')(x)\n",
    "\n",
    "# Reparameterization Trick\n",
    "def sampling(args):\n",
    "    z_mean, z_log_var = args\n",
    "    epsilon = K.random_normal(shape=K.shape(z_mean))  # Noise\n",
    "    return z_mean + K.exp(0.5 * z_log_var) * epsilon\n",
    "\n",
    "z = layers.Lambda(sampling, output_shape=(latent_dim,), name='z')([z_mean, z_log_var])\n",
    "\n",
    "# Encoder model\n",
    "encoder = Model(inputs, [z_mean, z_log_var, z], name=\"encoder\")\n",
    "encoder.summary()\n",
    "\n",
    "\n",
    "# ---- Decoder ----\n",
    "latent_inputs = layers.Input(shape=(latent_dim,))\n",
    "x = layers.Dense(4, activation='relu', kernel_initializer='he_normal')(latent_inputs)\n",
    "x = layers.Dense(6, activation='relu', kernel_initializer='he_normal')(x)\n",
    "outputs = layers.Dense(input_dim, activation='sigmoid')(x)  # Sigmoid for pixel intensity\n",
    "\n",
    "# Decoder model\n",
    "decoder = Model(latent_inputs, outputs, name=\"decoder\")\n",
    "decoder.summary()\n",
    "\n",
    "\n",
    "# ---- VAE Model ----\n",
    "z_mean, z_log_var, z = encoder(inputs)\n",
    "reconstructions = decoder(z)\n",
    "\n",
    "vae = Model(inputs, reconstructions, name=\"vae\")\n",
    "\n",
    "# Summary\n",
    "vae.summary()\n"
   ]
  },
  {
   "cell_type": "code",
   "execution_count": 174,
   "metadata": {},
   "outputs": [],
   "source": [
    "vae.compile(optimizer=tf.keras.optimizers.Adam(learning_rate=0.001), loss='mae')"
   ]
  },
  {
   "cell_type": "code",
   "execution_count": 175,
   "metadata": {},
   "outputs": [],
   "source": [
    "# Generate the new loss function with the reconstruction error and the Kulback-Leibler\n",
    "# divergence\n",
    "\n",
    "# Calculate reconstruction error for each sample\n",
    "reconstruction_loss = K.mean(K.square(reconstructions - X_test), axis=1)\n",
    "z = 1 + z_log_var - K.square(z_mean) - K.exp(z_log_var)\n",
    "kl_loss = -0.5*z\n",
    "kl_loss = K.mean(kl_loss)\n",
    "vae_loss_tot = reconstruction_loss + kl_loss\n",
    "# vae.add_loss(vae_loss_tot)\n",
    "\n"
   ]
  },
  {
   "cell_type": "code",
   "execution_count": 176,
   "metadata": {},
   "outputs": [
    {
     "name": "stdout",
     "output_type": "stream",
     "text": [
      "Epoch 1/100\n",
      "1074/1074 - 6s - loss: 0.4866 - val_loss: 0.4298 - 6s/epoch - 5ms/step\n",
      "Epoch 2/100\n",
      "1074/1074 - 4s - loss: 0.4216 - val_loss: 0.4250 - 4s/epoch - 3ms/step\n",
      "Epoch 3/100\n",
      "1074/1074 - 4s - loss: 0.4121 - val_loss: 0.3777 - 4s/epoch - 4ms/step\n",
      "Epoch 4/100\n",
      "1074/1074 - 4s - loss: 0.3646 - val_loss: 0.3664 - 4s/epoch - 4ms/step\n",
      "Epoch 5/100\n",
      "1074/1074 - 4s - loss: 0.3589 - val_loss: 0.3624 - 4s/epoch - 4ms/step\n",
      "Epoch 6/100\n",
      "1074/1074 - 4s - loss: 0.3571 - val_loss: 0.3615 - 4s/epoch - 4ms/step\n",
      "Epoch 7/100\n",
      "1074/1074 - 4s - loss: 0.3563 - val_loss: 0.3609 - 4s/epoch - 4ms/step\n",
      "Epoch 8/100\n",
      "1074/1074 - 4s - loss: 0.3559 - val_loss: 0.3604 - 4s/epoch - 4ms/step\n",
      "Epoch 9/100\n",
      "1074/1074 - 4s - loss: 0.3556 - val_loss: 0.3603 - 4s/epoch - 4ms/step\n",
      "Epoch 10/100\n",
      "1074/1074 - 5s - loss: 0.3551 - val_loss: 0.3598 - 5s/epoch - 4ms/step\n",
      "Epoch 11/100\n",
      "1074/1074 - 5s - loss: 0.3547 - val_loss: 0.3593 - 5s/epoch - 4ms/step\n",
      "Epoch 12/100\n",
      "1074/1074 - 4s - loss: 0.3545 - val_loss: 0.3593 - 4s/epoch - 4ms/step\n",
      "Epoch 13/100\n",
      "1074/1074 - 5s - loss: 0.3542 - val_loss: 0.3590 - 5s/epoch - 4ms/step\n",
      "Epoch 14/100\n",
      "1074/1074 - 5s - loss: 0.3539 - val_loss: 0.3591 - 5s/epoch - 4ms/step\n",
      "Epoch 15/100\n",
      "1074/1074 - 4s - loss: 0.3537 - val_loss: 0.3583 - 4s/epoch - 4ms/step\n",
      "Epoch 16/100\n",
      "1074/1074 - 4s - loss: 0.3535 - val_loss: 0.3582 - 4s/epoch - 4ms/step\n",
      "Epoch 17/100\n",
      "1074/1074 - 5s - loss: 0.3534 - val_loss: 0.3580 - 5s/epoch - 4ms/step\n",
      "Epoch 18/100\n",
      "1074/1074 - 4s - loss: 0.3532 - val_loss: 0.3582 - 4s/epoch - 4ms/step\n",
      "Epoch 19/100\n",
      "1074/1074 - 4s - loss: 0.3530 - val_loss: 0.3578 - 4s/epoch - 4ms/step\n",
      "Epoch 20/100\n",
      "1074/1074 - 4s - loss: 0.3529 - val_loss: 0.3576 - 4s/epoch - 4ms/step\n",
      "Epoch 21/100\n",
      "1074/1074 - 5s - loss: 0.3529 - val_loss: 0.3576 - 5s/epoch - 4ms/step\n",
      "Epoch 22/100\n",
      "1074/1074 - 4s - loss: 0.3528 - val_loss: 0.3579 - 4s/epoch - 4ms/step\n",
      "Epoch 23/100\n",
      "1074/1074 - 5s - loss: 0.3527 - val_loss: 0.3574 - 5s/epoch - 4ms/step\n",
      "Epoch 24/100\n",
      "1074/1074 - 5s - loss: 0.3527 - val_loss: 0.3575 - 5s/epoch - 5ms/step\n",
      "Epoch 25/100\n",
      "1074/1074 - 4s - loss: 0.3526 - val_loss: 0.3572 - 4s/epoch - 4ms/step\n",
      "Epoch 26/100\n",
      "1074/1074 - 5s - loss: 0.3526 - val_loss: 0.3581 - 5s/epoch - 4ms/step\n",
      "Epoch 27/100\n",
      "1074/1074 - 4s - loss: 0.3525 - val_loss: 0.3577 - 4s/epoch - 4ms/step\n",
      "Epoch 28/100\n",
      "1074/1074 - 4s - loss: 0.3524 - val_loss: 0.3570 - 4s/epoch - 4ms/step\n",
      "Epoch 29/100\n",
      "1074/1074 - 4s - loss: 0.3522 - val_loss: 0.3570 - 4s/epoch - 4ms/step\n",
      "Epoch 30/100\n",
      "1074/1074 - 4s - loss: 0.3522 - val_loss: 0.3573 - 4s/epoch - 4ms/step\n",
      "Epoch 31/100\n",
      "1074/1074 - 4s - loss: 0.3522 - val_loss: 0.3573 - 4s/epoch - 4ms/step\n",
      "Epoch 32/100\n",
      "1074/1074 - 4s - loss: 0.3521 - val_loss: 0.3567 - 4s/epoch - 4ms/step\n",
      "Epoch 33/100\n",
      "1074/1074 - 4s - loss: 0.3521 - val_loss: 0.3574 - 4s/epoch - 4ms/step\n",
      "Epoch 34/100\n",
      "1074/1074 - 5s - loss: 0.3521 - val_loss: 0.3569 - 5s/epoch - 4ms/step\n",
      "Epoch 35/100\n",
      "1074/1074 - 5s - loss: 0.3521 - val_loss: 0.3570 - 5s/epoch - 4ms/step\n",
      "Epoch 36/100\n",
      "1074/1074 - 4s - loss: 0.3520 - val_loss: 0.3569 - 4s/epoch - 4ms/step\n",
      "Epoch 37/100\n",
      "1074/1074 - 4s - loss: 0.3520 - val_loss: 0.3567 - 4s/epoch - 4ms/step\n",
      "Epoch 38/100\n",
      "1074/1074 - 4s - loss: 0.3520 - val_loss: 0.3567 - 4s/epoch - 4ms/step\n",
      "Epoch 39/100\n",
      "1074/1074 - 4s - loss: 0.3520 - val_loss: 0.3568 - 4s/epoch - 4ms/step\n",
      "Epoch 40/100\n",
      "1074/1074 - 4s - loss: 0.3519 - val_loss: 0.3569 - 4s/epoch - 4ms/step\n",
      "Epoch 41/100\n",
      "1074/1074 - 5s - loss: 0.3519 - val_loss: 0.3565 - 5s/epoch - 4ms/step\n",
      "Epoch 42/100\n",
      "1074/1074 - 5s - loss: 0.3519 - val_loss: 0.3568 - 5s/epoch - 4ms/step\n",
      "Epoch 43/100\n",
      "1074/1074 - 4s - loss: 0.3519 - val_loss: 0.3566 - 4s/epoch - 4ms/step\n",
      "Epoch 44/100\n",
      "1074/1074 - 4s - loss: 0.3518 - val_loss: 0.3564 - 4s/epoch - 4ms/step\n",
      "Epoch 45/100\n",
      "1074/1074 - 4s - loss: 0.3518 - val_loss: 0.3567 - 4s/epoch - 4ms/step\n",
      "Epoch 46/100\n",
      "1074/1074 - 4s - loss: 0.3518 - val_loss: 0.3570 - 4s/epoch - 4ms/step\n",
      "Epoch 47/100\n",
      "1074/1074 - 3s - loss: 0.3518 - val_loss: 0.3570 - 3s/epoch - 3ms/step\n",
      "Epoch 48/100\n",
      "1074/1074 - 3s - loss: 0.3518 - val_loss: 0.3568 - 3s/epoch - 3ms/step\n",
      "Epoch 49/100\n",
      "1074/1074 - 3s - loss: 0.3518 - val_loss: 0.3567 - 3s/epoch - 2ms/step\n",
      "Epoch 50/100\n",
      "1074/1074 - 2s - loss: 0.3518 - val_loss: 0.3565 - 2s/epoch - 2ms/step\n",
      "Epoch 51/100\n",
      "1074/1074 - 3s - loss: 0.3517 - val_loss: 0.3564 - 3s/epoch - 3ms/step\n",
      "Epoch 52/100\n",
      "1074/1074 - 3s - loss: 0.3517 - val_loss: 0.3570 - 3s/epoch - 3ms/step\n",
      "Epoch 53/100\n",
      "1074/1074 - 3s - loss: 0.3517 - val_loss: 0.3568 - 3s/epoch - 3ms/step\n",
      "Epoch 54/100\n",
      "1074/1074 - 3s - loss: 0.3517 - val_loss: 0.3568 - 3s/epoch - 3ms/step\n",
      "Epoch 55/100\n",
      "1074/1074 - 3s - loss: 0.3517 - val_loss: 0.3575 - 3s/epoch - 3ms/step\n",
      "Epoch 56/100\n",
      "1074/1074 - 3s - loss: 0.3517 - val_loss: 0.3566 - 3s/epoch - 3ms/step\n",
      "Epoch 57/100\n",
      "1074/1074 - 3s - loss: 0.3516 - val_loss: 0.3567 - 3s/epoch - 3ms/step\n",
      "Epoch 58/100\n",
      "1074/1074 - 3s - loss: 0.3516 - val_loss: 0.3563 - 3s/epoch - 3ms/step\n",
      "Epoch 59/100\n",
      "1074/1074 - 3s - loss: 0.3516 - val_loss: 0.3569 - 3s/epoch - 3ms/step\n",
      "Epoch 60/100\n",
      "1074/1074 - 3s - loss: 0.3516 - val_loss: 0.3564 - 3s/epoch - 3ms/step\n",
      "Epoch 61/100\n",
      "1074/1074 - 3s - loss: 0.3516 - val_loss: 0.3564 - 3s/epoch - 3ms/step\n",
      "Epoch 62/100\n",
      "1074/1074 - 3s - loss: 0.3515 - val_loss: 0.3562 - 3s/epoch - 3ms/step\n",
      "Epoch 63/100\n",
      "1074/1074 - 3s - loss: 0.3515 - val_loss: 0.3566 - 3s/epoch - 3ms/step\n",
      "Epoch 64/100\n",
      "1074/1074 - 3s - loss: 0.3516 - val_loss: 0.3565 - 3s/epoch - 3ms/step\n",
      "Epoch 65/100\n",
      "1074/1074 - 3s - loss: 0.3515 - val_loss: 0.3562 - 3s/epoch - 3ms/step\n",
      "Epoch 66/100\n",
      "1074/1074 - 3s - loss: 0.3515 - val_loss: 0.3563 - 3s/epoch - 3ms/step\n",
      "Epoch 67/100\n",
      "1074/1074 - 3s - loss: 0.3515 - val_loss: 0.3562 - 3s/epoch - 3ms/step\n",
      "Epoch 68/100\n",
      "1074/1074 - 3s - loss: 0.3515 - val_loss: 0.3564 - 3s/epoch - 3ms/step\n",
      "Epoch 69/100\n",
      "1074/1074 - 3s - loss: 0.3515 - val_loss: 0.3562 - 3s/epoch - 3ms/step\n",
      "Epoch 70/100\n",
      "1074/1074 - 3s - loss: 0.3515 - val_loss: 0.3564 - 3s/epoch - 3ms/step\n",
      "Epoch 71/100\n",
      "1074/1074 - 3s - loss: 0.3515 - val_loss: 0.3565 - 3s/epoch - 3ms/step\n",
      "Epoch 72/100\n",
      "1074/1074 - 3s - loss: 0.3515 - val_loss: 0.3565 - 3s/epoch - 3ms/step\n",
      "Epoch 73/100\n",
      "1074/1074 - 3s - loss: 0.3514 - val_loss: 0.3565 - 3s/epoch - 3ms/step\n",
      "Epoch 74/100\n",
      "1074/1074 - 4s - loss: 0.3515 - val_loss: 0.3565 - 4s/epoch - 3ms/step\n",
      "Epoch 75/100\n",
      "1074/1074 - 3s - loss: 0.3515 - val_loss: 0.3566 - 3s/epoch - 3ms/step\n",
      "Epoch 76/100\n",
      "1074/1074 - 3s - loss: 0.3515 - val_loss: 0.3564 - 3s/epoch - 3ms/step\n",
      "Epoch 77/100\n",
      "1074/1074 - 3s - loss: 0.3514 - val_loss: 0.3565 - 3s/epoch - 3ms/step\n",
      "Epoch 78/100\n",
      "1074/1074 - 3s - loss: 0.3514 - val_loss: 0.3565 - 3s/epoch - 3ms/step\n",
      "Epoch 79/100\n",
      "1074/1074 - 3s - loss: 0.3514 - val_loss: 0.3566 - 3s/epoch - 3ms/step\n",
      "Epoch 80/100\n",
      "1074/1074 - 3s - loss: 0.3514 - val_loss: 0.3560 - 3s/epoch - 3ms/step\n",
      "Epoch 81/100\n",
      "1074/1074 - 3s - loss: 0.3514 - val_loss: 0.3562 - 3s/epoch - 3ms/step\n",
      "Epoch 82/100\n",
      "1074/1074 - 3s - loss: 0.3514 - val_loss: 0.3563 - 3s/epoch - 3ms/step\n",
      "Epoch 83/100\n",
      "1074/1074 - 3s - loss: 0.3514 - val_loss: 0.3562 - 3s/epoch - 3ms/step\n",
      "Epoch 84/100\n",
      "1074/1074 - 3s - loss: 0.3513 - val_loss: 0.3564 - 3s/epoch - 3ms/step\n",
      "Epoch 85/100\n",
      "1074/1074 - 29s - loss: 0.3513 - val_loss: 0.3563 - 29s/epoch - 27ms/step\n",
      "Epoch 86/100\n",
      "1074/1074 - 3s - loss: 0.3514 - val_loss: 0.3562 - 3s/epoch - 3ms/step\n",
      "Epoch 87/100\n",
      "1074/1074 - 4s - loss: 0.3513 - val_loss: 0.3564 - 4s/epoch - 3ms/step\n",
      "Epoch 88/100\n",
      "1074/1074 - 4s - loss: 0.3513 - val_loss: 0.3565 - 4s/epoch - 4ms/step\n",
      "Epoch 89/100\n",
      "1074/1074 - 4s - loss: 0.3514 - val_loss: 0.3564 - 4s/epoch - 4ms/step\n",
      "Epoch 90/100\n",
      "1074/1074 - 3s - loss: 0.3513 - val_loss: 0.3562 - 3s/epoch - 3ms/step\n",
      "Epoch 91/100\n",
      "1074/1074 - 4s - loss: 0.3513 - val_loss: 0.3564 - 4s/epoch - 4ms/step\n",
      "Epoch 92/100\n",
      "1074/1074 - 4s - loss: 0.3513 - val_loss: 0.3562 - 4s/epoch - 4ms/step\n",
      "Epoch 93/100\n",
      "1074/1074 - 4s - loss: 0.3512 - val_loss: 0.3561 - 4s/epoch - 3ms/step\n",
      "Epoch 94/100\n",
      "1074/1074 - 4s - loss: 0.3513 - val_loss: 0.3566 - 4s/epoch - 3ms/step\n",
      "Epoch 95/100\n",
      "1074/1074 - 4s - loss: 0.3513 - val_loss: 0.3562 - 4s/epoch - 4ms/step\n",
      "Epoch 96/100\n",
      "1074/1074 - 4s - loss: 0.3512 - val_loss: 0.3558 - 4s/epoch - 4ms/step\n",
      "Epoch 97/100\n",
      "1074/1074 - 4s - loss: 0.3512 - val_loss: 0.3567 - 4s/epoch - 3ms/step\n",
      "Epoch 98/100\n",
      "1074/1074 - 3s - loss: 0.3512 - val_loss: 0.3561 - 3s/epoch - 3ms/step\n"
     ]
    },
    {
     "name": "stdout",
     "output_type": "stream",
     "text": [
      "Epoch 99/100\n",
      "1074/1074 - 4s - loss: 0.3512 - val_loss: 0.3560 - 4s/epoch - 4ms/step\n",
      "Epoch 100/100\n",
      "1074/1074 - 4s - loss: 0.3512 - val_loss: 0.3563 - 4s/epoch - 4ms/step\n"
     ]
    }
   ],
   "source": [
    "batch_size = 32\n",
    "# Train the autoencoder\n",
    "history1 = vae.fit(\n",
    "    X_train,\n",
    "    X_train,  # Input and output are the same for an autoencoder\n",
    "    validation_data=(X_test, X_test),\n",
    "    epochs=100,\n",
    "    batch_size=batch_size,\n",
    "    shuffle=True,\n",
    "    verbose=2,\n",
    "    callbacks=[\n",
    "        tf.keras.callbacks.EarlyStopping(monitor='val_loss', patience=20, restore_best_weights=True)\n",
    "    ]\n",
    ")"
   ]
  },
  {
   "cell_type": "code",
   "execution_count": 178,
   "metadata": {},
   "outputs": [],
   "source": [
    "vae.save_weights('vae_mlp.h5')"
   ]
  },
  {
   "cell_type": "code",
   "execution_count": 177,
   "metadata": {},
   "outputs": [
    {
     "data": {
      "image/png": "[encoded data removed]",
      "text/plain": [
       "<Figure size 640x480 with 1 Axes>"
      ]
     },
     "metadata": {},
     "output_type": "display_data"
    }
   ],
   "source": [
    "# Plot training and validation loss\n",
    "plt.plot(history1.history['loss'], label='Training Loss')\n",
    "plt.plot(history1.history['val_loss'], label='Validation Loss')\n",
    "plt.xlabel('Epochs')\n",
    "plt.ylabel('Loss (MAE)')\n",
    "plt.legend()\n",
    "plt.title('Autoencoder Training Performance')\n",
    "plt.show()"
   ]
  },
  {
   "cell_type": "markdown",
   "metadata": {},
   "source": [
    "## Reflection\n",
    "\n",
    "There are no specific marks allocated for a reflection. However due consideration will be given if pertinent comments or valuable insights are made."
   ]
  },
  {
   "cell_type": "markdown",
   "metadata": {},
   "source": [
    "This task proved very interesting.\n",
    "\n",
    "AN initial take resulted in may unusual results that required graphs for debugging.\n",
    "\n",
    "the first issue I had was data snooping. I applied the sclaer function before separating train and tets data."
   ]
  },
  {
   "cell_type": "code",
   "execution_count": null,
   "metadata": {},
   "outputs": [],
   "source": []
  }
 ],
 "metadata": {
  "kernelspec": {
   "display_name": "Python 3 (ipykernel)",
   "language": "python",
   "name": "python3"
  },
  "language_info": {
   "codemirror_mode": {
    "name": "ipython",
    "version": 3
   },
   "file_extension": ".py",
   "mimetype": "text/x-python",
   "name": "python",
   "nbconvert_exporter": "python",
   "pygments_lexer": "ipython3",
   "version": "3.10.9"
  },
  "latex_envs": {
   "LaTeX_envs_menu_present": true,
   "autoclose": false,
   "autocomplete": true,
   "bibliofile": "biblio.bib",
   "cite_by": "apalike",
   "current_citInitial": 1,
   "eqLabelWithNumbers": true,
   "eqNumInitial": 1,
   "hotkeys": {
    "equation": "Ctrl-E",
    "itemize": "Ctrl-I"
   },
   "labels_anchors": false,
   "latex_user_defs": false,
   "report_style_numbering": false,
   "user_envs_cfg": false
  }
 },
 "nbformat": 4,
 "nbformat_minor": 4
}
