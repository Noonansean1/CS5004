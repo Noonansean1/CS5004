{
 "cells": [
  {
   "cell_type": "markdown",
   "metadata": {},
   "source": [
    "# E-tivity 1 (27/01/25 - 09/02/25)\n",
    "\n",
    "* Sean Noonan\n",
    "\n",
    "* 23300159"
   ]
  },
  {
   "cell_type": "markdown",
   "metadata": {},
   "source": [
    "## Anomaly Detection\n",
    "\n",
    "### Context\n",
    "We have a mystery dataset. There are 9 explanatory variables and one response variable. The response variable is the last column and indicates if the sample is anomalous (=1, valid =0). The dataset is provided \"data.csv\". \n",
    "\n",
    "Of course in this case we could use supervised learning to generate a model and detect anomalies in new data. However the focus is on autoencoders, anomaly detection is just one of the potential uses for autoencoders.\n",
    "\n",
    "So we are going to pretend that we do not know which data are anomalous but we do know that the anomaly rate is small. Use an autoencoder to detect anomalies in the data. The correctness of the model can of course be checked."
   ]
  },
  {
   "cell_type": "markdown",
   "metadata": {},
   "source": [
    "### Guidelines\n",
    "\n",
    "The e-tivity is split into four tasks. The first three are \"group\" excersises, in that you post the solutions to Tasks 1-3 to a site. This will allow the members of your group to send you feedback (via the forums) so you can improve your submission. The final task is an individual task and together with the other tasks, should be uploaded to the Group Locker. \n",
    "\n",
    "Marks will be deducted if task 4 is uploaded in contravention of instructions. Also if the the final submission is not a single notebook with tasks 1-4 and with correct identification or filename.\n",
    "\n",
    "Grading guidelines: the scores for each task are additive. Below is a link to the E-tivity rubrics.\n",
    "\n",
    "https://learn.ul.ie/d2l/lp/rubrics/preview.d2l?ou=49284&rubricId=2620&originTool=quicklinks\n",
    "\n"
   ]
  },
  {
   "cell_type": "markdown",
   "metadata": {},
   "source": [
    "## Problem\n",
    "\n",
    "If you train even a modest feed forward network via supervised learning you can get extremely good recall and precision, despite the unbalanced dataset. However in this e-tivity you will determining the anomalies by using an autoencoder. That is you will **not** be using the Anom flag to guide the training.\n",
    "\n",
    "The mystery dataset is available from Brightspace, download the csv file and use it as the input data.\n",
    "\n",
    "### Tasks 1-3 (complete by Sunday 02/02/25)\n",
    "\n",
    "The initial implementation of the tasks are to be uploaded to the locker on which the other group members can comment. The forum activity will form part of the overall mark for the e-tivity."
   ]
  },
  {
   "cell_type": "markdown",
   "metadata": {},
   "source": [
    "**Task 1: data preprocessing**\n",
    "\n",
    "Explain any preprocessing steps you take and also how you have selected the training and test sets. Remember we do not know which samples are anomalous only that there are a small number of them compared to the total sample size.\n"
   ]
  },
  {
   "cell_type": "code",
   "execution_count": 194,
   "metadata": {},
   "outputs": [],
   "source": [
    "import pandas as pd\n",
    "import numpy as np\n",
    "import matplotlib.pyplot as plt\n",
    "import seaborn as sns"
   ]
  },
  {
   "cell_type": "code",
   "execution_count": 195,
   "metadata": {},
   "outputs": [],
   "source": [
    "df = pd.read_csv(\"./data.csv\")"
   ]
  },
  {
   "cell_type": "markdown",
   "metadata": {},
   "source": [
    "## Quick peep at data"
   ]
  },
  {
   "cell_type": "code",
   "execution_count": 196,
   "metadata": {},
   "outputs": [
    {
     "data": {
      "text/html": [
       "<div>\n",
       "<style scoped>\n",
       "    .dataframe tbody tr th:only-of-type {\n",
       "        vertical-align: middle;\n",
       "    }\n",
       "\n",
       "    .dataframe tbody tr th {\n",
       "        vertical-align: top;\n",
       "    }\n",
       "\n",
       "    .dataframe thead th {\n",
       "        text-align: right;\n",
       "    }\n",
       "</style>\n",
       "<table border=\"1\" class=\"dataframe\">\n",
       "  <thead>\n",
       "    <tr style=\"text-align: right;\">\n",
       "      <th></th>\n",
       "      <th>V1</th>\n",
       "      <th>V2</th>\n",
       "      <th>V3</th>\n",
       "      <th>V4</th>\n",
       "      <th>V5</th>\n",
       "      <th>V6</th>\n",
       "      <th>V7</th>\n",
       "      <th>V8</th>\n",
       "      <th>V9</th>\n",
       "      <th>Anom</th>\n",
       "    </tr>\n",
       "  </thead>\n",
       "  <tbody>\n",
       "    <tr>\n",
       "      <th>0</th>\n",
       "      <td>50</td>\n",
       "      <td>21</td>\n",
       "      <td>77</td>\n",
       "      <td>0</td>\n",
       "      <td>28</td>\n",
       "      <td>0</td>\n",
       "      <td>27</td>\n",
       "      <td>48</td>\n",
       "      <td>22</td>\n",
       "      <td>1</td>\n",
       "    </tr>\n",
       "    <tr>\n",
       "      <th>1</th>\n",
       "      <td>53</td>\n",
       "      <td>0</td>\n",
       "      <td>82</td>\n",
       "      <td>0</td>\n",
       "      <td>52</td>\n",
       "      <td>-5</td>\n",
       "      <td>29</td>\n",
       "      <td>30</td>\n",
       "      <td>2</td>\n",
       "      <td>0</td>\n",
       "    </tr>\n",
       "    <tr>\n",
       "      <th>2</th>\n",
       "      <td>37</td>\n",
       "      <td>0</td>\n",
       "      <td>76</td>\n",
       "      <td>0</td>\n",
       "      <td>28</td>\n",
       "      <td>18</td>\n",
       "      <td>40</td>\n",
       "      <td>48</td>\n",
       "      <td>8</td>\n",
       "      <td>0</td>\n",
       "    </tr>\n",
       "    <tr>\n",
       "      <th>3</th>\n",
       "      <td>37</td>\n",
       "      <td>0</td>\n",
       "      <td>79</td>\n",
       "      <td>0</td>\n",
       "      <td>34</td>\n",
       "      <td>-26</td>\n",
       "      <td>43</td>\n",
       "      <td>46</td>\n",
       "      <td>2</td>\n",
       "      <td>0</td>\n",
       "    </tr>\n",
       "    <tr>\n",
       "      <th>4</th>\n",
       "      <td>85</td>\n",
       "      <td>0</td>\n",
       "      <td>88</td>\n",
       "      <td>-4</td>\n",
       "      <td>6</td>\n",
       "      <td>1</td>\n",
       "      <td>3</td>\n",
       "      <td>83</td>\n",
       "      <td>80</td>\n",
       "      <td>1</td>\n",
       "    </tr>\n",
       "  </tbody>\n",
       "</table>\n",
       "</div>"
      ],
      "text/plain": [
       "   V1  V2  V3  V4  V5  V6  V7  V8  V9  Anom\n",
       "0  50  21  77   0  28   0  27  48  22     1\n",
       "1  53   0  82   0  52  -5  29  30   2     0\n",
       "2  37   0  76   0  28  18  40  48   8     0\n",
       "3  37   0  79   0  34 -26  43  46   2     0\n",
       "4  85   0  88  -4   6   1   3  83  80     1"
      ]
     },
     "execution_count": 196,
     "metadata": {},
     "output_type": "execute_result"
    }
   ],
   "source": [
    "# Lets have a look at the data\n",
    "df.head()"
   ]
  },
  {
   "cell_type": "code",
   "execution_count": 197,
   "metadata": {},
   "outputs": [
    {
     "name": "stdout",
     "output_type": "stream",
     "text": [
      "V1      49097\n",
      "V2      49097\n",
      "V3      49097\n",
      "V4      49097\n",
      "V5      49097\n",
      "V6      49097\n",
      "V7      49097\n",
      "V8      49097\n",
      "V9      49097\n",
      "Anom    49097\n",
      "dtype: int64\n"
     ]
    }
   ],
   "source": [
    "print(df.count())"
   ]
  },
  {
   "cell_type": "code",
   "execution_count": 198,
   "metadata": {},
   "outputs": [
    {
     "data": {
      "text/html": [
       "<div>\n",
       "<style scoped>\n",
       "    .dataframe tbody tr th:only-of-type {\n",
       "        vertical-align: middle;\n",
       "    }\n",
       "\n",
       "    .dataframe tbody tr th {\n",
       "        vertical-align: top;\n",
       "    }\n",
       "\n",
       "    .dataframe thead th {\n",
       "        text-align: right;\n",
       "    }\n",
       "</style>\n",
       "<table border=\"1\" class=\"dataframe\">\n",
       "  <thead>\n",
       "    <tr style=\"text-align: right;\">\n",
       "      <th></th>\n",
       "      <th>V1</th>\n",
       "      <th>V2</th>\n",
       "      <th>V3</th>\n",
       "      <th>V4</th>\n",
       "      <th>V5</th>\n",
       "      <th>V6</th>\n",
       "      <th>V7</th>\n",
       "      <th>V8</th>\n",
       "      <th>V9</th>\n",
       "      <th>Anom</th>\n",
       "    </tr>\n",
       "  </thead>\n",
       "  <tbody>\n",
       "    <tr>\n",
       "      <th>count</th>\n",
       "      <td>49097.000000</td>\n",
       "      <td>49097.000000</td>\n",
       "      <td>49097.000000</td>\n",
       "      <td>49097.000000</td>\n",
       "      <td>49097.000000</td>\n",
       "      <td>49097.000000</td>\n",
       "      <td>49097.000000</td>\n",
       "      <td>49097.000000</td>\n",
       "      <td>49097.000000</td>\n",
       "      <td>49097.000000</td>\n",
       "    </tr>\n",
       "    <tr>\n",
       "      <th>mean</th>\n",
       "      <td>46.932399</td>\n",
       "      <td>-0.063955</td>\n",
       "      <td>85.123124</td>\n",
       "      <td>0.213231</td>\n",
       "      <td>36.871784</td>\n",
       "      <td>2.160030</td>\n",
       "      <td>38.200725</td>\n",
       "      <td>48.288592</td>\n",
       "      <td>10.261930</td>\n",
       "      <td>0.071511</td>\n",
       "    </tr>\n",
       "    <tr>\n",
       "      <th>std</th>\n",
       "      <td>12.875159</td>\n",
       "      <td>84.674481</td>\n",
       "      <td>8.877517</td>\n",
       "      <td>37.579171</td>\n",
       "      <td>19.963113</td>\n",
       "      <td>218.324964</td>\n",
       "      <td>13.446306</td>\n",
       "      <td>20.572064</td>\n",
       "      <td>23.751024</td>\n",
       "      <td>0.257680</td>\n",
       "    </tr>\n",
       "    <tr>\n",
       "      <th>min</th>\n",
       "      <td>27.000000</td>\n",
       "      <td>-4821.000000</td>\n",
       "      <td>21.000000</td>\n",
       "      <td>-3939.000000</td>\n",
       "      <td>-188.000000</td>\n",
       "      <td>-26739.000000</td>\n",
       "      <td>-48.000000</td>\n",
       "      <td>-353.000000</td>\n",
       "      <td>-356.000000</td>\n",
       "      <td>0.000000</td>\n",
       "    </tr>\n",
       "    <tr>\n",
       "      <th>25%</th>\n",
       "      <td>37.000000</td>\n",
       "      <td>0.000000</td>\n",
       "      <td>79.000000</td>\n",
       "      <td>0.000000</td>\n",
       "      <td>30.000000</td>\n",
       "      <td>-4.000000</td>\n",
       "      <td>33.000000</td>\n",
       "      <td>35.000000</td>\n",
       "      <td>0.000000</td>\n",
       "      <td>0.000000</td>\n",
       "    </tr>\n",
       "    <tr>\n",
       "      <th>50%</th>\n",
       "      <td>44.000000</td>\n",
       "      <td>0.000000</td>\n",
       "      <td>83.000000</td>\n",
       "      <td>0.000000</td>\n",
       "      <td>42.000000</td>\n",
       "      <td>0.000000</td>\n",
       "      <td>39.000000</td>\n",
       "      <td>41.000000</td>\n",
       "      <td>2.000000</td>\n",
       "      <td>0.000000</td>\n",
       "    </tr>\n",
       "    <tr>\n",
       "      <th>75%</th>\n",
       "      <td>50.000000</td>\n",
       "      <td>0.000000</td>\n",
       "      <td>88.000000</td>\n",
       "      <td>0.000000</td>\n",
       "      <td>46.000000</td>\n",
       "      <td>5.000000</td>\n",
       "      <td>43.000000</td>\n",
       "      <td>55.000000</td>\n",
       "      <td>6.000000</td>\n",
       "      <td>0.000000</td>\n",
       "    </tr>\n",
       "    <tr>\n",
       "      <th>max</th>\n",
       "      <td>126.000000</td>\n",
       "      <td>5075.000000</td>\n",
       "      <td>149.000000</td>\n",
       "      <td>3830.000000</td>\n",
       "      <td>436.000000</td>\n",
       "      <td>15164.000000</td>\n",
       "      <td>105.000000</td>\n",
       "      <td>270.000000</td>\n",
       "      <td>266.000000</td>\n",
       "      <td>1.000000</td>\n",
       "    </tr>\n",
       "  </tbody>\n",
       "</table>\n",
       "</div>"
      ],
      "text/plain": [
       "                 V1            V2            V3            V4            V5  \\\n",
       "count  49097.000000  49097.000000  49097.000000  49097.000000  49097.000000   \n",
       "mean      46.932399     -0.063955     85.123124      0.213231     36.871784   \n",
       "std       12.875159     84.674481      8.877517     37.579171     19.963113   \n",
       "min       27.000000  -4821.000000     21.000000  -3939.000000   -188.000000   \n",
       "25%       37.000000      0.000000     79.000000      0.000000     30.000000   \n",
       "50%       44.000000      0.000000     83.000000      0.000000     42.000000   \n",
       "75%       50.000000      0.000000     88.000000      0.000000     46.000000   \n",
       "max      126.000000   5075.000000    149.000000   3830.000000    436.000000   \n",
       "\n",
       "                 V6            V7            V8            V9          Anom  \n",
       "count  49097.000000  49097.000000  49097.000000  49097.000000  49097.000000  \n",
       "mean       2.160030     38.200725     48.288592     10.261930      0.071511  \n",
       "std      218.324964     13.446306     20.572064     23.751024      0.257680  \n",
       "min   -26739.000000    -48.000000   -353.000000   -356.000000      0.000000  \n",
       "25%       -4.000000     33.000000     35.000000      0.000000      0.000000  \n",
       "50%        0.000000     39.000000     41.000000      2.000000      0.000000  \n",
       "75%        5.000000     43.000000     55.000000      6.000000      0.000000  \n",
       "max    15164.000000    105.000000    270.000000    266.000000      1.000000  "
      ]
     },
     "execution_count": 198,
     "metadata": {},
     "output_type": "execute_result"
    }
   ],
   "source": [
    "# Print statistical summary for all numerical attributes\n",
    "df.describe()"
   ]
  },
  {
   "cell_type": "code",
   "execution_count": 199,
   "metadata": {},
   "outputs": [
    {
     "name": "stdout",
     "output_type": "stream",
     "text": [
      "Index(['V1', 'V2', 'V3', 'V4', 'V5', 'V6', 'V7', 'V8', 'V9', 'Anom'], dtype='object')\n"
     ]
    }
   ],
   "source": [
    "print(df.columns)"
   ]
  },
  {
   "cell_type": "code",
   "execution_count": 200,
   "metadata": {},
   "outputs": [
    {
     "name": "stdout",
     "output_type": "stream",
     "text": [
      "Number of rows with 'Anom' = 1: 3511\n"
     ]
    }
   ],
   "source": [
    "# Count rows where the 'Anom' column is equal to 1\n",
    "num_anomalies = df[df['Anom'] == 1].shape[0]\n",
    "\n",
    "print(f\"Number of rows with 'Anom' = 1: {num_anomalies}\")\n"
   ]
  },
  {
   "cell_type": "markdown",
   "metadata": {},
   "source": [
    "So we have 49k records and 3.5 k anomalies"
   ]
  },
  {
   "cell_type": "code",
   "execution_count": 201,
   "metadata": {},
   "outputs": [
    {
     "data": {
      "text/plain": [
       "0.0715114976475141"
      ]
     },
     "execution_count": 201,
     "metadata": {},
     "output_type": "execute_result"
    }
   ],
   "source": [
    "3511/49097"
   ]
  },
  {
   "cell_type": "code",
   "execution_count": 202,
   "metadata": {},
   "outputs": [
    {
     "data": {
      "image/png": "[encoded data removed]",
      "text/plain": [
       "<Figure size 1000x600 with 2 Axes>"
      ]
     },
     "metadata": {},
     "output_type": "display_data"
    }
   ],
   "source": [
    "import seaborn as sns\n",
    "import matplotlib.pyplot as plt\n",
    "\n",
    "# Compute the correlation matrix\n",
    "corr_matrix = df.corr()\n",
    "\n",
    "# Display the matrix as a heatmap\n",
    "plt.figure(figsize=(10, 6))\n",
    "sns.heatmap(corr_matrix, annot=True, cmap='coolwarm', fmt=\".2f\", linewidths=0.5)\n",
    "\n",
    "# Add title\n",
    "plt.title(\"Correlation Matrix\")\n",
    "\n",
    "# Show the plot\n",
    "plt.show()\n"
   ]
  },
  {
   "cell_type": "code",
   "execution_count": 203,
   "metadata": {},
   "outputs": [],
   "source": [
    "df_unlabelled = df.drop(\"Anom\", axis=1)"
   ]
  },
  {
   "cell_type": "code",
   "execution_count": 204,
   "metadata": {},
   "outputs": [
    {
     "data": {
      "text/html": [
       "<div>\n",
       "<style scoped>\n",
       "    .dataframe tbody tr th:only-of-type {\n",
       "        vertical-align: middle;\n",
       "    }\n",
       "\n",
       "    .dataframe tbody tr th {\n",
       "        vertical-align: top;\n",
       "    }\n",
       "\n",
       "    .dataframe thead th {\n",
       "        text-align: right;\n",
       "    }\n",
       "</style>\n",
       "<table border=\"1\" class=\"dataframe\">\n",
       "  <thead>\n",
       "    <tr style=\"text-align: right;\">\n",
       "      <th></th>\n",
       "      <th>V1</th>\n",
       "      <th>V2</th>\n",
       "      <th>V3</th>\n",
       "      <th>V4</th>\n",
       "      <th>V5</th>\n",
       "      <th>V6</th>\n",
       "      <th>V7</th>\n",
       "      <th>V8</th>\n",
       "      <th>V9</th>\n",
       "    </tr>\n",
       "  </thead>\n",
       "  <tbody>\n",
       "    <tr>\n",
       "      <th>0</th>\n",
       "      <td>50</td>\n",
       "      <td>21</td>\n",
       "      <td>77</td>\n",
       "      <td>0</td>\n",
       "      <td>28</td>\n",
       "      <td>0</td>\n",
       "      <td>27</td>\n",
       "      <td>48</td>\n",
       "      <td>22</td>\n",
       "    </tr>\n",
       "    <tr>\n",
       "      <th>1</th>\n",
       "      <td>53</td>\n",
       "      <td>0</td>\n",
       "      <td>82</td>\n",
       "      <td>0</td>\n",
       "      <td>52</td>\n",
       "      <td>-5</td>\n",
       "      <td>29</td>\n",
       "      <td>30</td>\n",
       "      <td>2</td>\n",
       "    </tr>\n",
       "    <tr>\n",
       "      <th>2</th>\n",
       "      <td>37</td>\n",
       "      <td>0</td>\n",
       "      <td>76</td>\n",
       "      <td>0</td>\n",
       "      <td>28</td>\n",
       "      <td>18</td>\n",
       "      <td>40</td>\n",
       "      <td>48</td>\n",
       "      <td>8</td>\n",
       "    </tr>\n",
       "    <tr>\n",
       "      <th>3</th>\n",
       "      <td>37</td>\n",
       "      <td>0</td>\n",
       "      <td>79</td>\n",
       "      <td>0</td>\n",
       "      <td>34</td>\n",
       "      <td>-26</td>\n",
       "      <td>43</td>\n",
       "      <td>46</td>\n",
       "      <td>2</td>\n",
       "    </tr>\n",
       "    <tr>\n",
       "      <th>4</th>\n",
       "      <td>85</td>\n",
       "      <td>0</td>\n",
       "      <td>88</td>\n",
       "      <td>-4</td>\n",
       "      <td>6</td>\n",
       "      <td>1</td>\n",
       "      <td>3</td>\n",
       "      <td>83</td>\n",
       "      <td>80</td>\n",
       "    </tr>\n",
       "  </tbody>\n",
       "</table>\n",
       "</div>"
      ],
      "text/plain": [
       "   V1  V2  V3  V4  V5  V6  V7  V8  V9\n",
       "0  50  21  77   0  28   0  27  48  22\n",
       "1  53   0  82   0  52  -5  29  30   2\n",
       "2  37   0  76   0  28  18  40  48   8\n",
       "3  37   0  79   0  34 -26  43  46   2\n",
       "4  85   0  88  -4   6   1   3  83  80"
      ]
     },
     "execution_count": 204,
     "metadata": {},
     "output_type": "execute_result"
    }
   ],
   "source": [
    "df_unlabelled.head()"
   ]
  },
  {
   "cell_type": "code",
   "execution_count": 205,
   "metadata": {},
   "outputs": [
    {
     "name": "stdout",
     "output_type": "stream",
     "text": [
      "Training set size: 34367\n",
      "Testing set size: 14730\n"
     ]
    }
   ],
   "source": [
    "from sklearn.model_selection import train_test_split\n",
    "\n",
    "# Split the data into training and testing sets\n",
    "df_train, df_test = train_test_split(df, test_size=0.3, random_state=42)\n",
    "\n",
    "# Print sizes to verify\n",
    "print(f\"Training set size: {len(df_train)}\")\n",
    "print(f\"Testing set size: {len(df_test)}\")\n"
   ]
  },
  {
   "cell_type": "markdown",
   "metadata": {},
   "source": [
    "Set up the labelled and unlabelled data"
   ]
  },
  {
   "cell_type": "code",
   "execution_count": 206,
   "metadata": {},
   "outputs": [],
   "source": [
    "X_train = df_train.drop(\"Anom\", axis=1)\n",
    "Y_train = df_train[['Anom']].copy()\n",
    "X_test = df_test.drop(\"Anom\", axis=1)\n",
    "Y_test = df_test[['Anom']].copy()"
   ]
  },
  {
   "cell_type": "markdown",
   "metadata": {},
   "source": [
    "**Task 2: model generation and training**\n",
    "\n",
    "Generate a suitable autoencoder model, the only restriction is that there should be only 2 latent variables. Train the model to a satistifactory result. Be aware that it will be much harder to achieve the sort of result you can get from a supervised learning model. \n",
    "\n",
    "**Hint**: it should not take longer than a 1000 epochs to train. However it may be difficult to train. Use different optimizers, topologies and/or weight initialisations to get convergence. Remember that achieving a perfect error means that the model will also be good at reconstructing anomalies. \n"
   ]
  },
  {
   "cell_type": "code",
   "execution_count": 207,
   "metadata": {},
   "outputs": [],
   "source": [
    "\n",
    "from __future__ import absolute_import\n",
    "from __future__ import division\n",
    "from __future__ import print_function\n",
    "\n",
    "# Load the module we need\n",
    "# Note that we are import the Keras backend, which is assumed to be Tensorflow\n",
    "from tensorflow.keras.layers import UpSampling2D, Reshape\n",
    "from tensorflow.keras.models import Model\n",
    "from tensorflow.keras.optimizers import Adagrad\n",
    "from tensorflow.keras import backend as K\n",
    "\n",
    "\n",
    "from tensorflow.keras.layers import Lambda\n",
    "from tensorflow.keras.losses import mean_squared_error, binary_crossentropy, mse, KLDivergence\n",
    "from tensorflow.keras.utils import plot_model\n",
    "\n",
    "import tensorflow as tf\n",
    "import os"
   ]
  },
  {
   "cell_type": "code",
   "execution_count": 208,
   "metadata": {},
   "outputs": [
    {
     "name": "stdout",
     "output_type": "stream",
     "text": [
      "9\n"
     ]
    }
   ],
   "source": [
    "from tensorflow.keras import layers, models\n",
    "from sklearn.preprocessing import MinMaxScaler,StandardScaler\n",
    "\n",
    "# Example dataset (replace `df_unlabelled` with your own data)\n",
    "# data_train = X_train.values\n",
    "\n",
    "# Normalize the data to [0, 1], need toi do on test and train separately to void data snooping\n",
    "scaler = MinMaxScaler()\n",
    "scaler = StandardScaler()\n",
    "train_data = scaler.fit_transform(X_train)\n",
    "\n",
    "# data_test = X_test.values\n",
    "\n",
    "test_data = scaler.fit_transform(X_test)\n",
    "\n",
    "# Dimensions of the input data\n",
    "input_dim = train_data.shape[1]\n",
    "print(input_dim)"
   ]
  },
  {
   "cell_type": "code",
   "execution_count": 209,
   "metadata": {},
   "outputs": [],
   "source": [
    "# pip install pydot"
   ]
  },
  {
   "cell_type": "code",
   "execution_count": 210,
   "metadata": {},
   "outputs": [],
   "source": [
    "# pip install graphviz"
   ]
  },
  {
   "cell_type": "code",
   "execution_count": 211,
   "metadata": {},
   "outputs": [],
   "source": [
    "# This function samples random points from a distribution\n",
    "# reparameterization trick\n",
    "# instead of sampling from Q(z|X), sample epsilon = N(0,I)\n",
    "# z = z_mean + sqrt(var) * epsilon\n",
    "def sampling(args):\n",
    "    \"\"\"Reparameterization trick by sampling from an isotropic unit Gaussian.\n",
    "    # Arguments\n",
    "        args (tensor): mean and log of variance of Q(z|X)\n",
    "    # Returns\n",
    "        z (tensor): sampled latent vector\n",
    "    \"\"\"\n",
    "\n",
    "    z_mean, z_log_var = args\n",
    "    batch = K.shape(z_mean)[0]\n",
    "    dim = K.int_shape(z_mean)[1]\n",
    "    # by default, random_normal has mean = 0 and std = 1.0\n",
    "    epsilon = K.random_normal(shape=(batch, dim))\n",
    "    return z_mean + K.exp(0.5 * z_log_var) * epsilon\n",
    "\n",
    "\n",
    "def plot_results(models,\n",
    "                 data,\n",
    "                 batch_size=128,\n",
    "                 model_name=\"vae_mnist\"):\n",
    "    \"\"\"Plots labels and MNIST digits as a function of the 2D latent vector\n",
    "    # Arguments\n",
    "        models (tuple): encoder and decoder models\n",
    "        data (tuple): test data and label\n",
    "        batch_size (int): prediction batch size\n",
    "        model_name (string): which model is using this function\n",
    "    \"\"\"\n",
    "\n",
    "    encoder, decoder = models\n",
    "    x_test, y_test = data\n",
    "    os.makedirs(model_name, exist_ok=True)\n",
    "\n",
    "    filename = os.path.join(model_name, \"vae_mean.png\")\n",
    "    # display a 2D plot of the digit classes in the latent subspace\n",
    "    if (model_name == 'vae_mlp'):\n",
    "        z_mean, _, _ = encoder.predict(x_test,\n",
    "                                   batch_size=batch_size)\n",
    "    else:\n",
    "        z_mean = encoder.predict(x_test,batch_size=batch_size)\n",
    "    \n",
    "    plt.figure(figsize=(12, 10))\n",
    "    plt.scatter(z_mean[:, 0], z_mean[:, 1], c=y_test)\n",
    "    plt.colorbar()\n",
    "    plt.xlabel(\"z[0]\")\n",
    "    plt.ylabel(\"z[1]\")\n",
    "    plt.savefig(filename)\n",
    "    plt.show()\n",
    "\n",
    "    filename = os.path.join(model_name, \"digits_over_latent.png\")\n",
    "    # display a 30x30 2D manifold of digits\n",
    "    n = 30\n",
    "    digit_size = 28\n",
    "    figure = np.zeros((digit_size * n, digit_size * n))\n",
    "    # linearly spaced coordinates corresponding to the 2D plot\n",
    "    # of digit classes in the latent space\n",
    "    grid_x = np.linspace(np.amin(z_mean[:,0]), np.amax(z_mean[:,0]), n)\n",
    "    grid_y = np.linspace(np.amin(z_mean[:,1]), np.amax(z_mean[:,1]), n)[::-1]\n",
    "\n",
    "    z_sample = np.zeros((1,5))\n",
    "    z_sample[0,2] = np.mean(z_mean[:,2])\n",
    "    z_sample[0,3] = np.mean(z_mean[:,3])\n",
    "    z_sample[0,4] = np.mean(z_mean[:,4])    \n",
    "    for i, yi in enumerate(grid_y):\n",
    "        for j, xi in enumerate(grid_x):\n",
    "            z_sample[0,0] = xi\n",
    "            z_sample[0,1] = yi\n",
    "            x_decoded = decoder.predict(z_sample)\n",
    "            digit = x_decoded[0].reshape(digit_size, digit_size)\n",
    "            figure[i * digit_size: (i + 1) * digit_size,\n",
    "                   j * digit_size: (j + 1) * digit_size] = digit\n",
    "\n",
    "    plt.figure(figsize=(10, 10))\n",
    "    start_range = digit_size // 2\n",
    "    end_range = (n - 1) * digit_size + start_range + 1\n",
    "    pixel_range = np.arange(start_range, end_range, digit_size)\n",
    "    sample_range_x = np.round(grid_x, 1)\n",
    "    sample_range_y = np.round(grid_y, 1)\n",
    "    plt.xticks(pixel_range, sample_range_x)\n",
    "    plt.yticks(pixel_range, sample_range_y)\n",
    "    plt.xlabel(\"z[0]\")\n",
    "    plt.ylabel(\"z[1]\")\n",
    "    plt.imshow(figure, cmap='Greys_r')\n",
    "    plt.savefig(filename)\n",
    "    plt.show()"
   ]
  },
  {
   "cell_type": "code",
   "execution_count": 251,
   "metadata": {},
   "outputs": [
    {
     "name": "stdout",
     "output_type": "stream",
     "text": [
      "Model: \"encoded\"\n",
      "_________________________________________________________________\n",
      " Layer (type)                Output Shape              Param #   \n",
      "=================================================================\n",
      " input_38 (InputLayer)       [(None, 9)]               0         \n",
      "                                                                 \n",
      " dense_96 (Dense)            (None, 6)                 60        \n",
      "                                                                 \n",
      " dense_97 (Dense)            (None, 4)                 28        \n",
      "                                                                 \n",
      " latent_space (Dense)        (None, 2)                 10        \n",
      "                                                                 \n",
      "=================================================================\n",
      "Total params: 98 (392.00 Byte)\n",
      "Trainable params: 98 (392.00 Byte)\n",
      "Non-trainable params: 0 (0.00 Byte)\n",
      "_________________________________________________________________\n",
      "Model: \"decoded\"\n",
      "_________________________________________________________________\n",
      " Layer (type)                Output Shape              Param #   \n",
      "=================================================================\n",
      " input_39 (InputLayer)       [(None, 2)]               0         \n",
      "                                                                 \n",
      " dense_98 (Dense)            (None, 4)                 12        \n",
      "                                                                 \n",
      " dense_99 (Dense)            (None, 6)                 30        \n",
      "                                                                 \n",
      " dense_100 (Dense)           (None, 9)                 63        \n",
      "                                                                 \n",
      "=================================================================\n",
      "Total params: 105 (420.00 Byte)\n",
      "Trainable params: 105 (420.00 Byte)\n",
      "Non-trainable params: 0 (0.00 Byte)\n",
      "_________________________________________________________________\n",
      "461/461 [==============================] - 1s 2ms/step\n",
      "Model: \"model_12\"\n",
      "_________________________________________________________________\n",
      " Layer (type)                Output Shape              Param #   \n",
      "=================================================================\n",
      " input_38 (InputLayer)       [(None, 9)]               0         \n",
      "                                                                 \n",
      " encoded (Functional)        (None, 2)                 98        \n",
      "                                                                 \n",
      " decoded (Functional)        (None, 9)                 105       \n",
      "                                                                 \n",
      "=================================================================\n",
      "Total params: 203 (812.00 Byte)\n",
      "Trainable params: 203 (812.00 Byte)\n",
      "Non-trainable params: 0 (0.00 Byte)\n",
      "_________________________________________________________________\n"
     ]
    }
   ],
   "source": [
    "# Define the Encoder, inputs are the MNIST 28x28 greyscale images \n",
    "inputs = layers.Input(shape=(input_dim,))\n",
    "x = layers.Dense(6, activation='relu', kernel_initializer='he_normal')(inputs)\n",
    "x = layers.Dense(4, activation='relu', kernel_initializer='he_normal')(x)\n",
    "latent = layers.Dense(2, activation='linear', name='latent_space')(x)  # 2 latent variables\n",
    "\n",
    "encoded = Model(inputs,latent,name='encoded')\n",
    "encoded.summary()\n",
    "# plot_model(encoded, to_file='AE_encoded_etiv.png', show_shapes=True)            \n",
    "\n",
    "# Latent space is a 5 dimensional vector space\n",
    "\n",
    "# This is the decoder, it take the 5 dim latent vector and generates a 28x28 image\n",
    "# lats = Input(shape=(2,),name='latent')\n",
    "# Decoder\n",
    "latent_inputs = layers.Input(shape=(2,))\n",
    "x = layers.Dense(4, activation='relu', kernel_initializer='he_normal')(latent_inputs)\n",
    "x = layers.Dense(6, activation='relu', kernel_initializer='he_normal')(x)\n",
    "outputs = layers.Dense(input_dim, activation='sigmoid')(x)  # Sigmoid to ensure output in [0, 1]\n",
    "\n",
    "decoded = Model(latent_inputs,outputs,name='decoded')\n",
    "decoded.summary()\n",
    "# plot_model(decoded, to_file='AE_decoded_etiv.png', show_shapes=True)     \n",
    "\n",
    "# The autoencoder takes the image as input encodes it, then decodes it\n",
    "rec = decoded(encoded(inputs))\n",
    "autoencoder = Model(inputs,rec)\n",
    "\n",
    "\n",
    "reconstructions = autoencoder.predict(test_data)\n",
    "# reconstruction_loss = tf.reduce_mean(1000.0*tf.square(inputs-rec),axis=(1,2))\n",
    "# reconstruction_loss = np.mean(np.square(reconstructions - test_data), axis=1)\n",
    "# autoencoder.add_loss(lambda: tf.reduce_mean(tf.square(reconstructions - test_data)))\n",
    "# autoencoder.add_loss(reconstruction_loss)\n",
    "# autoencoder.compile(optimizer='adadelta', loss='mse')\n",
    "autoencoder.summary()"
   ]
  },
  {
   "cell_type": "code",
   "execution_count": 213,
   "metadata": {},
   "outputs": [],
   "source": [
    "autoencoder.compile(optimizer=tf.keras.optimizers.Adam(learning_rate=0.001), loss='mse')"
   ]
  },
  {
   "cell_type": "code",
   "execution_count": 252,
   "metadata": {},
   "outputs": [],
   "source": [
    "autoencoder.compile(optimizer=tf.keras.optimizers.Adam(learning_rate=0.001), loss='mae')"
   ]
  },
  {
   "cell_type": "code",
   "execution_count": 253,
   "metadata": {},
   "outputs": [
    {
     "name": "stdout",
     "output_type": "stream",
     "text": [
      "Epoch 1/10\n",
      "1074/1074 - 8s - loss: 0.4963 - val_loss: 0.4309 - 8s/epoch - 7ms/step\n",
      "Epoch 2/10\n",
      "1074/1074 - 4s - loss: 0.4210 - val_loss: 0.4114 - 4s/epoch - 4ms/step\n",
      "Epoch 3/10\n",
      "1074/1074 - 3s - loss: 0.3991 - val_loss: 0.4012 - 3s/epoch - 3ms/step\n",
      "Epoch 4/10\n",
      "1074/1074 - 4s - loss: 0.3906 - val_loss: 0.3800 - 4s/epoch - 3ms/step\n",
      "Epoch 5/10\n",
      "1074/1074 - 3s - loss: 0.3712 - val_loss: 0.3731 - 3s/epoch - 3ms/step\n",
      "Epoch 6/10\n",
      "1074/1074 - 4s - loss: 0.3667 - val_loss: 0.3704 - 4s/epoch - 3ms/step\n",
      "Epoch 7/10\n",
      "1074/1074 - 3s - loss: 0.3636 - val_loss: 0.3672 - 3s/epoch - 3ms/step\n",
      "Epoch 8/10\n",
      "1074/1074 - 3s - loss: 0.3616 - val_loss: 0.3660 - 3s/epoch - 3ms/step\n",
      "Epoch 9/10\n",
      "1074/1074 - 3s - loss: 0.3604 - val_loss: 0.3645 - 3s/epoch - 3ms/step\n",
      "Epoch 10/10\n",
      "1074/1074 - 4s - loss: 0.3595 - val_loss: 0.3640 - 4s/epoch - 4ms/step\n"
     ]
    }
   ],
   "source": [
    "# Train the autoencoder\n",
    "history = autoencoder.fit(\n",
    "    train_data,\n",
    "    train_data,  # Input and output are the same for an autoencoder\n",
    "    validation_data=(test_data, test_data),\n",
    "    epochs=10,\n",
    "    batch_size=32,\n",
    "    shuffle=True,\n",
    "    verbose=2,\n",
    "    callbacks=[\n",
    "        tf.keras.callbacks.EarlyStopping(monitor='val_loss', patience=20, restore_best_weights=True)\n",
    "    ]\n",
    ")"
   ]
  },
  {
   "cell_type": "code",
   "execution_count": 255,
   "metadata": {},
   "outputs": [
    {
     "data": {
      "image/png": "[encoded data removed]",
      "text/plain": [
       "<Figure size 640x480 with 1 Axes>"
      ]
     },
     "metadata": {},
     "output_type": "display_data"
    }
   ],
   "source": [
    "# Plot training and validation loss\n",
    "plt.plot(history.history['loss'], label='Training Loss')\n",
    "plt.plot(history.history['val_loss'], label='Validation Loss')\n",
    "plt.xlabel('Epochs')\n",
    "plt.ylabel('Loss (MAE)')\n",
    "plt.legend()\n",
    "plt.title('Autoencoder Training Performance')\n",
    "plt.show()"
   ]
  },
  {
   "cell_type": "code",
   "execution_count": 217,
   "metadata": {},
   "outputs": [
    {
     "name": "stdout",
     "output_type": "stream",
     "text": [
      "461/461 [==============================] - 1s 2ms/step\n",
      "Mean Reconstruction Loss on Test Data: 0.7553\n"
     ]
    }
   ],
   "source": [
    "# Evaluate on test data\n",
    "reconstructions = autoencoder.predict(test_data)\n",
    "reconstruction_loss = np.mean(np.square(reconstructions - test_data), axis=1)\n",
    "\n",
    "print(f\"Mean Reconstruction Loss on Test Data: {np.mean(reconstruction_loss):.4f}\")"
   ]
  },
  {
   "cell_type": "markdown",
   "metadata": {},
   "source": [
    "**Task 3: anomaly detection**\n",
    "\n",
    "From the histogram of the reconstruction error decide what the cutoff should be applied to distinguish anomalies from valid samples, given that the anomaly rate is ~7%."
   ]
  },
  {
   "cell_type": "code",
   "execution_count": 218,
   "metadata": {},
   "outputs": [
    {
     "name": "stdout",
     "output_type": "stream",
     "text": [
      "461/461 [==============================] - 1s 2ms/step\n"
     ]
    }
   ],
   "source": [
    "import numpy as np\n",
    "\n",
    "# Get reconstructed values for the test data\n",
    "reconstructions = autoencoder.predict(test_data)\n",
    "\n",
    "# Calculate reconstruction error for each sample\n",
    "reconstruction_errors = np.mean(np.square(reconstructions - test_data), axis=1)\n"
   ]
  },
  {
   "cell_type": "code",
   "execution_count": 219,
   "metadata": {},
   "outputs": [
    {
     "data": {
      "image/png": "[encoded data removed]",
      "text/plain": [
       "<Figure size 640x480 with 1 Axes>"
      ]
     },
     "metadata": {},
     "output_type": "display_data"
    }
   ],
   "source": [
    "import matplotlib.pyplot as plt\n",
    "\n",
    "# Plot the histogram\n",
    "plt.hist(reconstruction_errors, bins=50, alpha=0.7, color='blue')\n",
    "plt.xlabel(\"Reconstruction Error\")\n",
    "plt.ylabel(\"Frequency\")\n",
    "plt.title(\"Histogram of Reconstruction Errors\")\n",
    "plt.show()"
   ]
  },
  {
   "cell_type": "code",
   "execution_count": 220,
   "metadata": {},
   "outputs": [
    {
     "name": "stdout",
     "output_type": "stream",
     "text": [
      "Cutoff Threshold for Anomalies: 2.6213\n"
     ]
    }
   ],
   "source": [
    "# Calculate the 95th percentile as the cutoff for anomalies\n",
    "threshold = np.percentile(reconstruction_errors, 95)\n",
    "\n",
    "# Print the threshold\n",
    "print(f\"Cutoff Threshold for Anomalies: {threshold:.4f}\")\n"
   ]
  },
  {
   "cell_type": "code",
   "execution_count": 221,
   "metadata": {},
   "outputs": [
    {
     "name": "stdout",
     "output_type": "stream",
     "text": [
      "Number of anomalies: 737\n"
     ]
    }
   ],
   "source": [
    "# Classify samples as anomalies\n",
    "anomalies = reconstruction_errors > threshold\n",
    "\n",
    "# Print the number of anomalies\n",
    "print(f\"Number of anomalies: {np.sum(anomalies)}\")\n"
   ]
  },
  {
   "cell_type": "code",
   "execution_count": 222,
   "metadata": {},
   "outputs": [
    {
     "name": "stdout",
     "output_type": "stream",
     "text": [
      "Total number of arrays (rows): 14730\n"
     ]
    }
   ],
   "source": [
    "# Get the total number of arrays (rows) in the 2D array\n",
    "num_rows = test_data.shape[0]\n",
    "\n",
    "# Print the number of rows (arrays)\n",
    "print(f\"Total number of arrays (rows): {num_rows}\")"
   ]
  },
  {
   "cell_type": "code",
   "execution_count": 223,
   "metadata": {},
   "outputs": [
    {
     "name": "stdout",
     "output_type": "stream",
     "text": [
      "[0. 0. 0. ... 0. 0. 0.]\n"
     ]
    }
   ],
   "source": [
    "print(anomalies/num_rows)"
   ]
  },
  {
   "cell_type": "code",
   "execution_count": 224,
   "metadata": {},
   "outputs": [
    {
     "name": "stdout",
     "output_type": "stream",
     "text": [
      "Anomalous Samples:\n",
      "[[ 2.85687278e+00 -1.35336474e-02  3.24851946e-01 ... -2.59987279e+00\n",
      "   2.03682464e+00  3.26293323e+00]\n",
      " [ 4.47847798e+00 -5.76735749e-02  2.47158553e+00 ... -2.74788916e+00\n",
      "  -5.58951979e-01  1.07486573e+00]\n",
      " [ 4.63291657e+00  3.06062801e-02  2.58457151e+00 ... -2.74788916e+00\n",
      "  -6.07928897e-01  9.90709290e-01]\n",
      " ...\n",
      " [-7.72434099e-01  1.17966179e-03 -9.17993814e-01 ...  1.38429970e-01\n",
      "  -2.02058878e-02 -1.03324457e-01]\n",
      " [ 2.62521489e+00 -2.82469565e-02 -1.41059887e-02 ... -2.52586461e+00\n",
      "   3.79999367e+00  4.69359274e+00]\n",
      " [ 4.47847798e+00  6.00328984e-02  2.35859955e+00 ... -2.74788916e+00\n",
      "  -6.07928897e-01  1.07486573e+00]]\n"
     ]
    }
   ],
   "source": [
    "# Extract the anomalous rows from the test data\n",
    "anomalous_samples = test_data[anomalies]\n",
    "\n",
    "# Optionally, display the anomalous samples\n",
    "print(\"Anomalous Samples:\")\n",
    "print(anomalous_samples)\n"
   ]
  },
  {
   "cell_type": "code",
   "execution_count": 225,
   "metadata": {},
   "outputs": [
    {
     "name": "stdout",
     "output_type": "stream",
     "text": [
      "1074/1074 [==============================] - 2s 2ms/step\n"
     ]
    },
    {
     "data": {
      "image/png": "[encoded data removed]",
      "text/plain": [
       "<Figure size 640x480 with 1 Axes>"
      ]
     },
     "metadata": {},
     "output_type": "display_data"
    }
   ],
   "source": [
    "# Transform the training data into the latent space\n",
    "latent_space = encoded.predict(train_data)\n",
    "\n",
    "# Plot the latent space\n",
    "import matplotlib.pyplot as plt\n",
    "\n",
    "plt.scatter(latent_space[:, 0], latent_space[:, 1], c='blue', alpha=0.5)\n",
    "plt.xlabel('Latent Variable 1')\n",
    "plt.ylabel('Latent Variable 2')\n",
    "plt.title('Latent Space Visualization')\n",
    "plt.grid(True)\n",
    "plt.show()\n"
   ]
  },
  {
   "cell_type": "markdown",
   "metadata": {},
   "source": [
    "There is some structure. The anomalies are presumably the onesfar from the dense clusters."
   ]
  },
  {
   "cell_type": "code",
   "execution_count": 226,
   "metadata": {},
   "outputs": [
    {
     "name": "stdout",
     "output_type": "stream",
     "text": [
      "1074/1074 [==============================] - 2s 1ms/step\n"
     ]
    },
    {
     "data": {
      "image/png": "[encoded data removed]",
      "text/plain": [
       "<Figure size 800x600 with 1 Axes>"
      ]
     },
     "metadata": {},
     "output_type": "display_data"
    }
   ],
   "source": [
    "import matplotlib.pyplot as plt\n",
    "\n",
    "# Transform the training data into the latent space\n",
    "latent_space = encoded.predict(train_data)\n",
    "\n",
    "# Define colors: Normal samples (blue), Anomalies (red)\n",
    "colors = ['red' if label == 1 else 'blue' for label in Y_train]  # Y_train should contain 0 (normal) and 1 (anomaly)\n",
    "\n",
    "# Plot the latent space with different colors for anomalies\n",
    "plt.figure(figsize=(8, 6))\n",
    "plt.scatter(latent_space[:, 0], latent_space[:, 1], c=colors, alpha=0.5)\n",
    "plt.xlabel('Latent Variable 1')\n",
    "plt.ylabel('Latent Variable 2')\n",
    "plt.title('Latent Space Visualization')\n",
    "plt.grid(True)\n",
    "\n",
    "# Add legend\n",
    "from matplotlib.lines import Line2D\n",
    "legend_elements = [Line2D([0], [0], marker='o', color='w', label='Normal', markersize=8, markerfacecolor='blue'),\n",
    "                   Line2D([0], [0], marker='o', color='w', label='Anomaly', markersize=8, markerfacecolor='red')]\n",
    "plt.legend(handles=legend_elements)\n",
    "\n",
    "plt.show()\n"
   ]
  },
  {
   "cell_type": "code",
   "execution_count": 227,
   "metadata": {},
   "outputs": [
    {
     "name": "stdout",
     "output_type": "stream",
     "text": [
      "461/461 [==============================] - 1s 1ms/step\n"
     ]
    },
    {
     "ename": "NameError",
     "evalue": "name 'y_test' is not defined",
     "output_type": "error",
     "traceback": [
      "\u001b[1;31m---------------------------------------------------------------------------\u001b[0m",
      "\u001b[1;31mNameError\u001b[0m                                 Traceback (most recent call last)",
      "Cell \u001b[1;32mIn[227], line 17\u001b[0m\n\u001b[0;32m     14\u001b[0m y_pred \u001b[38;5;241m=\u001b[39m (reconstruction_errors \u001b[38;5;241m>\u001b[39m threshold)\u001b[38;5;241m.\u001b[39mastype(\u001b[38;5;28mint\u001b[39m)  \u001b[38;5;66;03m# 1 = Anomaly, 0 = Normal\u001b[39;00m\n\u001b[0;32m     16\u001b[0m \u001b[38;5;66;03m# Step 4: Get actual labels (assuming 1 = Anomaly, 0 = Normal)\u001b[39;00m\n\u001b[1;32m---> 17\u001b[0m y_true \u001b[38;5;241m=\u001b[39m \u001b[43my_test\u001b[49m  \u001b[38;5;66;03m# Replace with actual anomaly labels\u001b[39;00m\n\u001b[0;32m     19\u001b[0m \u001b[38;5;66;03m# Step 5: Compute Confusion Matrix\u001b[39;00m\n\u001b[0;32m     20\u001b[0m cm \u001b[38;5;241m=\u001b[39m confusion_matrix(y_true, y_pred)\n",
      "\u001b[1;31mNameError\u001b[0m: name 'y_test' is not defined"
     ]
    }
   ],
   "source": [
    "import numpy as np\n",
    "import matplotlib.pyplot as plt\n",
    "import seaborn as sns\n",
    "from sklearn.metrics import confusion_matrix, classification_report\n",
    "\n",
    "# Step 1: Get model predictions (Reconstruction Errors)\n",
    "reconstructions = autoencoder.predict(test_data)  # X_test is the test data\n",
    "reconstruction_errors = np.mean(np.square(test_data - reconstructions), axis=1)\n",
    "\n",
    "# Step 2: Set an anomaly detection threshold (e.g., 95th percentile)\n",
    "threshold = np.percentile(reconstruction_errors, 95)\n",
    "\n",
    "# Step 3: Predict anomalies based on threshold\n",
    "y_pred = (reconstruction_errors > threshold).astype(int)  # 1 = Anomaly, 0 = Normal\n",
    "\n",
    "# Step 4: Get actual labels (assuming 1 = Anomaly, 0 = Normal)\n",
    "y_true = y_test  # Replace with actual anomaly labels\n",
    "\n",
    "# Step 5: Compute Confusion Matrix\n",
    "cm = confusion_matrix(y_true, y_pred)\n",
    "\n",
    "# Step 6: Plot Confusion Matrix\n",
    "plt.figure(figsize=(6,5))\n",
    "sns.heatmap(cm, annot=True, fmt='d', cmap='Blues', xticklabels=['Normal', 'Anomaly'], yticklabels=['Normal', 'Anomaly'])\n",
    "plt.xlabel(\"Predicted\")\n",
    "plt.ylabel(\"Actual\")\n",
    "plt.title(\"Confusion Matrix\")\n",
    "plt.show()\n",
    "\n",
    "# Step 7: Print Classification Report\n",
    "print(classification_report(y_true, y_pred))\n"
   ]
  },
  {
   "cell_type": "markdown",
   "metadata": {},
   "source": [
    "### Post (complete by Sunday 02/02/25)\n",
    "\n",
    "Once you have an implemntation however rough, use the forums/topics to advertise the fact. The purpose is to get feedback from others in the group, so if you have only a basic outline then you may get ideas about how to proceed and also examples from others in your group.\n",
    "\n",
    "No posts should refer to Task 4."
   ]
  },
  {
   "cell_type": "markdown",
   "metadata": {},
   "source": [
    "### Respond (complete by Wednesday 05/02/24)\n",
    "\n",
    "If you feel you can provide useful advise then respond to another member of the group through the appropriate forum. Responses should be respectful and offer some sort of advise. Try and avoid clogging the forums with support or thank you messages.\n",
    "\n",
    "In reviewing others code you will discover different ways to tackle the same problem. It is acceptable to copy parts of others code. However whole scale copying from another notebook is not acceptable.\n",
    "\n",
    "If you stick to the deadline then it will allow yourself and others to have enough time to implement suggestions. From the Schedule you can see that this is not a hard deadline.\n",
    "\n",
    "The posts on the forum/topic associated with this e-tivity are graded. Below is a link to the rubrics.\n",
    "\n",
    "https://learn.ul.ie/d2l/lp/rubrics/preview.d2l?ou=49284&rubricId=2620&originTool=quicklinks"
   ]
  },
  {
   "cell_type": "markdown",
   "metadata": {},
   "source": [
    "### Task 4: VAE (completed by Sunday 09/02/24)\n",
    "\n",
    "This task is a individual task and should **not** to be uploaded to the Group Locker. No direct support should be given via the forums. Marks will be deducted if the instructions are not followed (see rubrics). This part should be uploaded directly to Brightpsace.\n",
    "\n",
    "Change the network to be a VAE. Again determine the optimal cutoff and plot the latent variables. Check how good the cutoffs were by constructing a confusion matrix or generating a classification report. Obviously for this task you need to use the Anom column.\n",
    "\n",
    "**Hint** you can use the model topology from the AE (with the obvious modifications). I found that I had a good model (almost as good and the supervised learning model) when the KL divergence was small. You can print out both the KL divergence and reconstruction loss for each epoch. It can be tricky to train these type of models, so do not be surprised if you do not get a stellar result. What is more important is that you have the correct code to implement the VAE."
   ]
  },
  {
   "cell_type": "markdown",
   "metadata": {},
   "source": [
    "### Final Submission (complete by Sunday 09/02/24)\n",
    "\n",
    "Submit Tasks 1-4 in a single notebook this before the deadline on Sunday.\n"
   ]
  },
  {
   "cell_type": "code",
   "execution_count": null,
   "metadata": {},
   "outputs": [],
   "source": [
    "## Add additional code cells to implememt the tasks stated above "
   ]
  },
  {
   "cell_type": "code",
   "execution_count": 256,
   "metadata": {},
   "outputs": [
    {
     "ename": "ValueError",
     "evalue": "Graph disconnected: cannot obtain value for tensor KerasTensor(type_spec=TensorSpec(shape=(None, 9), dtype=tf.float32, name='input_41'), name='input_41', description=\"created by layer 'input_41'\") at layer \"dense_103\". The following previous layers were accessed without issue: []",
     "output_type": "error",
     "traceback": [
      "\u001b[1;31m---------------------------------------------------------------------------\u001b[0m",
      "\u001b[1;31mValueError\u001b[0m                                Traceback (most recent call last)",
      "Cell \u001b[1;32mIn[256], line 17\u001b[0m\n\u001b[0;32m     14\u001b[0m z \u001b[38;5;241m=\u001b[39m Lambda(sampling, output_shape\u001b[38;5;241m=\u001b[39m(latent_dim,), name\u001b[38;5;241m=\u001b[39m\u001b[38;5;124m'\u001b[39m\u001b[38;5;124mz\u001b[39m\u001b[38;5;124m'\u001b[39m)([z_mean, z_log_var])\n\u001b[0;32m     16\u001b[0m \u001b[38;5;66;03m# instantiate encoder model\u001b[39;00m\n\u001b[1;32m---> 17\u001b[0m encoded \u001b[38;5;241m=\u001b[39m \u001b[43mModel\u001b[49m\u001b[43m(\u001b[49m\u001b[43minputs\u001b[49m\u001b[43m,\u001b[49m\u001b[43m \u001b[49m\u001b[43m[\u001b[49m\u001b[43mz_mean\u001b[49m\u001b[43m,\u001b[49m\u001b[43m \u001b[49m\u001b[43mz_log_var\u001b[49m\u001b[43m,\u001b[49m\u001b[43m \u001b[49m\u001b[43mz\u001b[49m\u001b[43m]\u001b[49m\u001b[43m,\u001b[49m\u001b[43m \u001b[49m\u001b[43mname\u001b[49m\u001b[38;5;241;43m=\u001b[39;49m\u001b[38;5;124;43m'\u001b[39;49m\u001b[38;5;124;43mencoded\u001b[39;49m\u001b[38;5;124;43m'\u001b[39;49m\u001b[43m)\u001b[49m\n\u001b[0;32m     18\u001b[0m encoded\u001b[38;5;241m.\u001b[39msummary()\n\u001b[0;32m     19\u001b[0m \u001b[38;5;66;03m# plot_model(encoded, to_file='AE_encoded_etiv.png', show_shapes=True)    \u001b[39;00m\n\u001b[0;32m     20\u001b[0m \n\u001b[0;32m     21\u001b[0m \u001b[38;5;66;03m# Decoder\u001b[39;00m\n",
      "File \u001b[1;32m~\\anaconda3\\lib\\site-packages\\tensorflow\\python\\trackable\\base.py:204\u001b[0m, in \u001b[0;36mno_automatic_dependency_tracking.<locals>._method_wrapper\u001b[1;34m(self, *args, **kwargs)\u001b[0m\n\u001b[0;32m    202\u001b[0m \u001b[38;5;28mself\u001b[39m\u001b[38;5;241m.\u001b[39m_self_setattr_tracking \u001b[38;5;241m=\u001b[39m \u001b[38;5;28;01mFalse\u001b[39;00m  \u001b[38;5;66;03m# pylint: disable=protected-access\u001b[39;00m\n\u001b[0;32m    203\u001b[0m \u001b[38;5;28;01mtry\u001b[39;00m:\n\u001b[1;32m--> 204\u001b[0m   result \u001b[38;5;241m=\u001b[39m method(\u001b[38;5;28mself\u001b[39m, \u001b[38;5;241m*\u001b[39margs, \u001b[38;5;241m*\u001b[39m\u001b[38;5;241m*\u001b[39mkwargs)\n\u001b[0;32m    205\u001b[0m \u001b[38;5;28;01mfinally\u001b[39;00m:\n\u001b[0;32m    206\u001b[0m   \u001b[38;5;28mself\u001b[39m\u001b[38;5;241m.\u001b[39m_self_setattr_tracking \u001b[38;5;241m=\u001b[39m previous_value  \u001b[38;5;66;03m# pylint: disable=protected-access\u001b[39;00m\n",
      "File \u001b[1;32m~\\anaconda3\\lib\\site-packages\\keras\\src\\engine\\functional.py:166\u001b[0m, in \u001b[0;36mFunctional.__init__\u001b[1;34m(self, inputs, outputs, name, trainable, **kwargs)\u001b[0m\n\u001b[0;32m    157\u001b[0m     \u001b[38;5;28;01mif\u001b[39;00m \u001b[38;5;129;01mnot\u001b[39;00m \u001b[38;5;28mall\u001b[39m(\n\u001b[0;32m    158\u001b[0m         [\n\u001b[0;32m    159\u001b[0m             functional_utils\u001b[38;5;241m.\u001b[39mis_input_keras_tensor(t)\n\u001b[0;32m    160\u001b[0m             \u001b[38;5;28;01mfor\u001b[39;00m t \u001b[38;5;129;01min\u001b[39;00m tf\u001b[38;5;241m.\u001b[39mnest\u001b[38;5;241m.\u001b[39mflatten(inputs)\n\u001b[0;32m    161\u001b[0m         ]\n\u001b[0;32m    162\u001b[0m     ):\n\u001b[0;32m    163\u001b[0m         inputs, outputs \u001b[38;5;241m=\u001b[39m functional_utils\u001b[38;5;241m.\u001b[39mclone_graph_nodes(\n\u001b[0;32m    164\u001b[0m             inputs, outputs\n\u001b[0;32m    165\u001b[0m         )\n\u001b[1;32m--> 166\u001b[0m \u001b[38;5;28;43mself\u001b[39;49m\u001b[38;5;241;43m.\u001b[39;49m\u001b[43m_init_graph_network\u001b[49m\u001b[43m(\u001b[49m\u001b[43minputs\u001b[49m\u001b[43m,\u001b[49m\u001b[43m \u001b[49m\u001b[43moutputs\u001b[49m\u001b[43m)\u001b[49m\n",
      "File \u001b[1;32m~\\anaconda3\\lib\\site-packages\\tensorflow\\python\\trackable\\base.py:204\u001b[0m, in \u001b[0;36mno_automatic_dependency_tracking.<locals>._method_wrapper\u001b[1;34m(self, *args, **kwargs)\u001b[0m\n\u001b[0;32m    202\u001b[0m \u001b[38;5;28mself\u001b[39m\u001b[38;5;241m.\u001b[39m_self_setattr_tracking \u001b[38;5;241m=\u001b[39m \u001b[38;5;28;01mFalse\u001b[39;00m  \u001b[38;5;66;03m# pylint: disable=protected-access\u001b[39;00m\n\u001b[0;32m    203\u001b[0m \u001b[38;5;28;01mtry\u001b[39;00m:\n\u001b[1;32m--> 204\u001b[0m   result \u001b[38;5;241m=\u001b[39m method(\u001b[38;5;28mself\u001b[39m, \u001b[38;5;241m*\u001b[39margs, \u001b[38;5;241m*\u001b[39m\u001b[38;5;241m*\u001b[39mkwargs)\n\u001b[0;32m    205\u001b[0m \u001b[38;5;28;01mfinally\u001b[39;00m:\n\u001b[0;32m    206\u001b[0m   \u001b[38;5;28mself\u001b[39m\u001b[38;5;241m.\u001b[39m_self_setattr_tracking \u001b[38;5;241m=\u001b[39m previous_value  \u001b[38;5;66;03m# pylint: disable=protected-access\u001b[39;00m\n",
      "File \u001b[1;32m~\\anaconda3\\lib\\site-packages\\keras\\src\\engine\\functional.py:265\u001b[0m, in \u001b[0;36mFunctional._init_graph_network\u001b[1;34m(self, inputs, outputs)\u001b[0m\n\u001b[0;32m    262\u001b[0m     \u001b[38;5;28mself\u001b[39m\u001b[38;5;241m.\u001b[39m_input_coordinates\u001b[38;5;241m.\u001b[39mappend((layer, node_index, tensor_index))\n\u001b[0;32m    264\u001b[0m \u001b[38;5;66;03m# Keep track of the network's nodes and layers.\u001b[39;00m\n\u001b[1;32m--> 265\u001b[0m nodes, nodes_by_depth, layers, _ \u001b[38;5;241m=\u001b[39m \u001b[43m_map_graph_network\u001b[49m\u001b[43m(\u001b[49m\n\u001b[0;32m    266\u001b[0m \u001b[43m    \u001b[49m\u001b[38;5;28;43mself\u001b[39;49m\u001b[38;5;241;43m.\u001b[39;49m\u001b[43minputs\u001b[49m\u001b[43m,\u001b[49m\u001b[43m \u001b[49m\u001b[38;5;28;43mself\u001b[39;49m\u001b[38;5;241;43m.\u001b[39;49m\u001b[43moutputs\u001b[49m\n\u001b[0;32m    267\u001b[0m \u001b[43m\u001b[49m\u001b[43m)\u001b[49m\n\u001b[0;32m    268\u001b[0m \u001b[38;5;28mself\u001b[39m\u001b[38;5;241m.\u001b[39m_network_nodes \u001b[38;5;241m=\u001b[39m nodes\n\u001b[0;32m    269\u001b[0m \u001b[38;5;28mself\u001b[39m\u001b[38;5;241m.\u001b[39m_nodes_by_depth \u001b[38;5;241m=\u001b[39m nodes_by_depth\n",
      "File \u001b[1;32m~\\anaconda3\\lib\\site-packages\\keras\\src\\engine\\functional.py:1145\u001b[0m, in \u001b[0;36m_map_graph_network\u001b[1;34m(inputs, outputs)\u001b[0m\n\u001b[0;32m   1143\u001b[0m \u001b[38;5;28;01mfor\u001b[39;00m x \u001b[38;5;129;01min\u001b[39;00m tf\u001b[38;5;241m.\u001b[39mnest\u001b[38;5;241m.\u001b[39mflatten(node\u001b[38;5;241m.\u001b[39mkeras_inputs):\n\u001b[0;32m   1144\u001b[0m     \u001b[38;5;28;01mif\u001b[39;00m \u001b[38;5;28mid\u001b[39m(x) \u001b[38;5;129;01mnot\u001b[39;00m \u001b[38;5;129;01min\u001b[39;00m computable_tensors:\n\u001b[1;32m-> 1145\u001b[0m         \u001b[38;5;28;01mraise\u001b[39;00m \u001b[38;5;167;01mValueError\u001b[39;00m(\n\u001b[0;32m   1146\u001b[0m             \u001b[38;5;124m\"\u001b[39m\u001b[38;5;124mGraph disconnected: cannot obtain value for \u001b[39m\u001b[38;5;124m\"\u001b[39m\n\u001b[0;32m   1147\u001b[0m             \u001b[38;5;124mf\u001b[39m\u001b[38;5;124m'\u001b[39m\u001b[38;5;124mtensor \u001b[39m\u001b[38;5;132;01m{\u001b[39;00mx\u001b[38;5;132;01m}\u001b[39;00m\u001b[38;5;124m at layer \u001b[39m\u001b[38;5;124m\"\u001b[39m\u001b[38;5;132;01m{\u001b[39;00mlayer\u001b[38;5;241m.\u001b[39mname\u001b[38;5;132;01m}\u001b[39;00m\u001b[38;5;124m\"\u001b[39m\u001b[38;5;124m. \u001b[39m\u001b[38;5;124m'\u001b[39m\n\u001b[0;32m   1148\u001b[0m             \u001b[38;5;124m\"\u001b[39m\u001b[38;5;124mThe following previous layers were accessed \u001b[39m\u001b[38;5;124m\"\u001b[39m\n\u001b[0;32m   1149\u001b[0m             \u001b[38;5;124mf\u001b[39m\u001b[38;5;124m\"\u001b[39m\u001b[38;5;124mwithout issue: \u001b[39m\u001b[38;5;132;01m{\u001b[39;00mlayers_with_complete_input\u001b[38;5;132;01m}\u001b[39;00m\u001b[38;5;124m\"\u001b[39m\n\u001b[0;32m   1150\u001b[0m         )\n\u001b[0;32m   1151\u001b[0m \u001b[38;5;28;01mfor\u001b[39;00m x \u001b[38;5;129;01min\u001b[39;00m tf\u001b[38;5;241m.\u001b[39mnest\u001b[38;5;241m.\u001b[39mflatten(node\u001b[38;5;241m.\u001b[39moutputs):\n\u001b[0;32m   1152\u001b[0m     computable_tensors\u001b[38;5;241m.\u001b[39madd(\u001b[38;5;28mid\u001b[39m(x))\n",
      "\u001b[1;31mValueError\u001b[0m: Graph disconnected: cannot obtain value for tensor KerasTensor(type_spec=TensorSpec(shape=(None, 9), dtype=tf.float32, name='input_41'), name='input_41', description=\"created by layer 'input_41'\") at layer \"dense_103\". The following previous layers were accessed without issue: []"
     ]
    }
   ],
   "source": [
    "batch_size = 128\n",
    "latent_dim = 2\n",
    "epochs = 20\n",
    "\n",
    "# VAE \n",
    "inputs1 = layers.Input(shape=(input_dim,))\n",
    "x1 = layers.Dense(7, activation='relu', kernel_initializer='he_normal')(inputs1)\n",
    "x1 = layers.Dense(4, activation='relu', kernel_initializer='he_normal')(x1)\n",
    "z_mean = layers.Dense(2, activation='linear', name='z_mean')(x1)  # 2 latent variables\n",
    "\n",
    "z_log_var = layers.Dense(2, name='z_log_var',activation='linear')(x1)        \n",
    "\n",
    "# note that \"output_shape\" isn't necessary with the TensorFlow backend\n",
    "z = Lambda(sampling, output_shape=(latent_dim,), name='z')([z_mean, z_log_var])\n",
    "\n",
    "# instantiate encoder model\n",
    "encoded = Model(inputs, [z_mean, z_log_var, z], name='encoded')\n",
    "encoded.summary()\n",
    "# plot_model(encoded, to_file='AE_encoded_etiv.png', show_shapes=True)    \n",
    "\n",
    "# Decoder\n",
    "latent_inputs1 = layers.Input(shape=(latent_dim,), name='z_sampling')\n",
    "x = layers.Dense(4, activation='relu', kernel_initializer='he_normal')(latent_inputs1)\n",
    "x = layers.Dense(7, activation='relu', kernel_initializer='he_normal')(x)\n",
    "outputs1 = layers.Dense(input_dim, activation='sigmoid')(x)  # Sigmoid to ensure output in [0, 1]\n",
    "\n",
    "decoded = Model(latent_inputs1,outputs1,name='decoded')\n",
    "decoded.summary()\n",
    "# plot_model(decoded, to_file='AE_decoded_etiv.png', show_shapes=True)     \n",
    "\n",
    "# The autoencoder takes the image as input encodes it, then decodes it\n",
    "rec1 = decoded(encoded(inputs1))\n",
    "vae = Model(inputs1,rec1, name='vae_mlp')\n",
    "\n",
    "# reconstructions1 = vae_autoencoder.predict(test_data)\n",
    "vae.summary()"
   ]
  },
  {
   "cell_type": "code",
   "execution_count": 257,
   "metadata": {},
   "outputs": [
    {
     "name": "stdout",
     "output_type": "stream",
     "text": [
      "Model: \"encoder\"\n",
      "__________________________________________________________________________________________________\n",
      " Layer (type)                Output Shape                 Param #   Connected to                  \n",
      "==================================================================================================\n",
      " input_42 (InputLayer)       [(None, 9)]                  0         []                            \n",
      "                                                                                                  \n",
      " dense_105 (Dense)           (None, 6)                    60        ['input_42[0][0]']            \n",
      "                                                                                                  \n",
      " dense_106 (Dense)           (None, 4)                    28        ['dense_105[0][0]']           \n",
      "                                                                                                  \n",
      " z_mean (Dense)              (None, 2)                    10        ['dense_106[0][0]']           \n",
      "                                                                                                  \n",
      " z_log_var (Dense)           (None, 2)                    10        ['dense_106[0][0]']           \n",
      "                                                                                                  \n",
      " z (Lambda)                  (None, 2)                    0         ['z_mean[0][0]',              \n",
      "                                                                     'z_log_var[0][0]']           \n",
      "                                                                                                  \n",
      "==================================================================================================\n",
      "Total params: 108 (432.00 Byte)\n",
      "Trainable params: 108 (432.00 Byte)\n",
      "Non-trainable params: 0 (0.00 Byte)\n",
      "__________________________________________________________________________________________________\n",
      "Model: \"decoder\"\n",
      "_________________________________________________________________\n",
      " Layer (type)                Output Shape              Param #   \n",
      "=================================================================\n",
      " input_43 (InputLayer)       [(None, 2)]               0         \n",
      "                                                                 \n",
      " dense_107 (Dense)           (None, 4)                 12        \n",
      "                                                                 \n",
      " dense_108 (Dense)           (None, 6)                 30        \n",
      "                                                                 \n",
      " dense_109 (Dense)           (None, 9)                 63        \n",
      "                                                                 \n",
      "=================================================================\n",
      "Total params: 105 (420.00 Byte)\n",
      "Trainable params: 105 (420.00 Byte)\n",
      "Non-trainable params: 0 (0.00 Byte)\n",
      "_________________________________________________________________\n",
      "WARNING:tensorflow:From C:\\Users\\noona\\anaconda3\\lib\\site-packages\\keras\\src\\engine\\base_layer_utils.py:384: The name tf.executing_eagerly_outside_functions is deprecated. Please use tf.compat.v1.executing_eagerly_outside_functions instead.\n",
      "\n",
      "Model: \"vae\"\n",
      "__________________________________________________________________________________________________\n",
      " Layer (type)                Output Shape                 Param #   Connected to                  \n",
      "==================================================================================================\n",
      " input_42 (InputLayer)       [(None, 9)]                  0         []                            \n",
      "                                                                                                  \n",
      " encoder (Functional)        [(None, 2),                  108       ['input_42[0][0]']            \n",
      "                              (None, 2),                                                          \n",
      "                              (None, 2)]                                                          \n",
      "                                                                                                  \n",
      " decoder (Functional)        (None, 9)                    105       ['encoder[0][2]']             \n",
      "                                                                                                  \n",
      " tf.__operators__.add (TFOp  (None, 2)                    0         ['encoder[0][1]']             \n",
      " Lambda)                                                                                          \n",
      "                                                                                                  \n",
      " tf.math.square (TFOpLambda  (None, 2)                    0         ['encoder[0][0]']             \n",
      " )                                                                                                \n",
      "                                                                                                  \n",
      " tf.math.subtract (TFOpLamb  (None, 2)                    0         ['tf.__operators__.add[0][0]',\n",
      " da)                                                                 'tf.math.square[0][0]']      \n",
      "                                                                                                  \n",
      " tf.math.exp (TFOpLambda)    (None, 2)                    0         ['encoder[0][1]']             \n",
      "                                                                                                  \n",
      " tf.cast (TFOpLambda)        (None, 9)                    0         ['input_42[0][0]']            \n",
      "                                                                                                  \n",
      " tf.convert_to_tensor (TFOp  (None, 9)                    0         ['decoder[0][0]']             \n",
      " Lambda)                                                                                          \n",
      "                                                                                                  \n",
      " tf.math.subtract_1 (TFOpLa  (None, 2)                    0         ['tf.math.subtract[0][0]',    \n",
      " mbda)                                                               'tf.math.exp[0][0]']         \n",
      "                                                                                                  \n",
      " tf.keras.backend.binary_cr  (None, 9)                    0         ['tf.cast[0][0]',             \n",
      " ossentropy (TFOpLambda)                                             'tf.convert_to_tensor[0][0]']\n",
      "                                                                                                  \n",
      " tf.math.reduce_sum (TFOpLa  (None,)                      0         ['tf.math.subtract_1[0][0]']  \n",
      " mbda)                                                                                            \n",
      "                                                                                                  \n",
      " tf.math.reduce_mean (TFOpL  (None,)                      0         ['tf.keras.backend.binary_cros\n",
      " ambda)                                                             sentropy[0][0]']              \n",
      "                                                                                                  \n",
      " tf.math.multiply (TFOpLamb  (None,)                      0         ['tf.math.reduce_sum[0][0]']  \n",
      " da)                                                                                              \n",
      "                                                                                                  \n",
      " tf.math.reduce_mean_1 (TFO  ()                           0         ['tf.math.reduce_mean[0][0]'] \n",
      " pLambda)                                                                                         \n",
      "                                                                                                  \n",
      " tf.math.reduce_mean_2 (TFO  ()                           0         ['tf.math.multiply[0][0]']    \n",
      " pLambda)                                                                                         \n",
      "                                                                                                  \n",
      " tf.__operators__.add_1 (TF  ()                           0         ['tf.math.reduce_mean_1[0][0]'\n",
      " OpLambda)                                                          , 'tf.math.reduce_mean_2[0][0]\n",
      "                                                                    ']                            \n",
      "                                                                                                  \n"
     ]
    },
    {
     "name": "stdout",
     "output_type": "stream",
     "text": [
      " add_loss (AddLoss)          ()                           0         ['tf.__operators__.add_1[0][0]\n",
      "                                                                    ']                            \n",
      "                                                                                                  \n",
      "==================================================================================================\n",
      "Total params: 213 (852.00 Byte)\n",
      "Trainable params: 213 (852.00 Byte)\n",
      "Non-trainable params: 0 (0.00 Byte)\n",
      "__________________________________________________________________________________________________\n"
     ]
    }
   ],
   "source": [
    "import tensorflow.keras.backend as K\n",
    "\n",
    "latent_dim = 2  # Latent space with 2 variables\n",
    "\n",
    "# ---- Encoder ----\n",
    "inputs = layers.Input(shape=(input_dim,))\n",
    "x = layers.Dense(6, activation='relu', kernel_initializer='he_normal')(inputs)\n",
    "x = layers.Dense(4, activation='relu', kernel_initializer='he_normal')(x)\n",
    "\n",
    "# Latent space: Mean and Log Variance\n",
    "z_mean = layers.Dense(latent_dim, name='z_mean')(x)\n",
    "z_log_var = layers.Dense(latent_dim, name='z_log_var')(x)\n",
    "\n",
    "# Reparameterization Trick\n",
    "def sampling(args):\n",
    "    z_mean, z_log_var = args\n",
    "    epsilon = K.random_normal(shape=K.shape(z_mean))  # Noise\n",
    "    return z_mean + K.exp(0.5 * z_log_var) * epsilon\n",
    "\n",
    "z = layers.Lambda(sampling, output_shape=(latent_dim,), name='z')([z_mean, z_log_var])\n",
    "\n",
    "# Encoder model\n",
    "encoder = Model(inputs, [z_mean, z_log_var, z], name=\"encoder\")\n",
    "encoder.summary()\n",
    "\n",
    "\n",
    "# ---- Decoder ----\n",
    "latent_inputs = layers.Input(shape=(latent_dim,))\n",
    "x = layers.Dense(4, activation='relu', kernel_initializer='he_normal')(latent_inputs)\n",
    "x = layers.Dense(6, activation='relu', kernel_initializer='he_normal')(x)\n",
    "outputs = layers.Dense(input_dim, activation='sigmoid')(x)  # Sigmoid for pixel intensity\n",
    "\n",
    "# Decoder model\n",
    "decoder = Model(latent_inputs, outputs, name=\"decoder\")\n",
    "decoder.summary()\n",
    "\n",
    "\n",
    "# ---- VAE Model ----\n",
    "z_mean, z_log_var, z = encoder(inputs)\n",
    "reconstructions = decoder(z)\n",
    "\n",
    "vae = Model(inputs, reconstructions, name=\"vae\")\n",
    "\n",
    "# Summary\n",
    "vae.summary()\n"
   ]
  },
  {
   "cell_type": "code",
   "execution_count": 258,
   "metadata": {},
   "outputs": [],
   "source": [
    "vae.compile(optimizer=tf.keras.optimizers.Adam(learning_rate=0.001), loss='mae')"
   ]
  },
  {
   "cell_type": "code",
   "execution_count": 265,
   "metadata": {},
   "outputs": [],
   "source": [
    "# Generate the new loss function with the reconstruction error and the Kulback-Leibler\n",
    "# divergence\n",
    "\n",
    "# Calculate reconstruction error for each sample\n",
    "reconstruction_errors = K.mean(K.square(reconstructions - test_data), axis=1)\n",
    "z = 1 + z_log_var - K.square(z_mean) - K.exp(z_log_var)\n",
    "kl_loss = -0.5*z\n",
    "vae_loss - K.mean(vae_loss)\n",
    "vae_loss_tot = reconstruction_loss + kl_loss\n",
    "vae.add_loss(vae_loss_tot)\n",
    "\n"
   ]
  },
  {
   "cell_type": "code",
   "execution_count": null,
   "metadata": {},
   "outputs": [
    {
     "name": "stdout",
     "output_type": "stream",
     "text": [
      "Epoch 1/10\n",
      "1074/1074 - 4s - loss: nan - val_loss: nan - 4s/epoch - 4ms/step\n",
      "Epoch 2/10\n",
      "1074/1074 - 4s - loss: nan - val_loss: nan - 4s/epoch - 4ms/step\n",
      "Epoch 3/10\n",
      "1074/1074 - 3s - loss: nan - val_loss: nan - 3s/epoch - 3ms/step\n",
      "Epoch 4/10\n",
      "1074/1074 - 4s - loss: nan - val_loss: nan - 4s/epoch - 4ms/step\n",
      "Epoch 5/10\n",
      "1074/1074 - 3s - loss: nan - val_loss: nan - 3s/epoch - 3ms/step\n",
      "Epoch 6/10\n",
      "1074/1074 - 4s - loss: nan - val_loss: nan - 4s/epoch - 4ms/step\n",
      "Epoch 7/10\n"
     ]
    }
   ],
   "source": [
    "# Train the autoencoder\n",
    "history1 = vae.fit(\n",
    "    train_data,\n",
    "    train_data,  # Input and output are the same for an autoencoder\n",
    "    validation_data=(test_data, test_data),\n",
    "    epochs=10,\n",
    "    batch_size=32,\n",
    "    shuffle=True,\n",
    "    verbose=2,\n",
    "    callbacks=[\n",
    "        tf.keras.callbacks.EarlyStopping(monitor='val_loss', patience=20, restore_best_weights=True)\n",
    "    ]\n",
    ")"
   ]
  },
  {
   "cell_type": "code",
   "execution_count": 261,
   "metadata": {},
   "outputs": [
    {
     "data": {
      "image/png": "[encoded data removed]",
      "text/plain": [
       "<Figure size 640x480 with 1 Axes>"
      ]
     },
     "metadata": {},
     "output_type": "display_data"
    }
   ],
   "source": [
    "# Plot training and validation loss\n",
    "plt.plot(history1.history['loss'], label='Training Loss')\n",
    "plt.plot(history1.history['val_loss'], label='Validation Loss')\n",
    "plt.xlabel('Epochs')\n",
    "plt.ylabel('Loss (MAE)')\n",
    "plt.legend()\n",
    "plt.title('Autoencoder Training Performance')\n",
    "plt.show()"
   ]
  },
  {
   "cell_type": "markdown",
   "metadata": {},
   "source": [
    "## Reflection\n",
    "\n",
    "There are no specific marks allocated for a reflection. However due consideration will be given if pertinent comments or valuable insights are made."
   ]
  },
  {
   "cell_type": "markdown",
   "metadata": {},
   "source": [
    "This task proved very interesting.\n",
    "\n",
    "AN initial take resulted in may unusual results that required graphs for debugging.\n",
    "\n",
    "the first issue I had was data snooping. I applied the sclaer function before separating train and tets data."
   ]
  }
 ],
 "metadata": {
  "kernelspec": {
   "display_name": "Python 3 (ipykernel)",
   "language": "python",
   "name": "python3"
  },
  "language_info": {
   "codemirror_mode": {
    "name": "ipython",
    "version": 3
   },
   "file_extension": ".py",
   "mimetype": "text/x-python",
   "name": "python",
   "nbconvert_exporter": "python",
   "pygments_lexer": "ipython3",
   "version": "3.10.9"
  },
  "latex_envs": {
   "LaTeX_envs_menu_present": true,
   "autoclose": false,
   "autocomplete": true,
   "bibliofile": "biblio.bib",
   "cite_by": "apalike",
   "current_citInitial": 1,
   "eqLabelWithNumbers": true,
   "eqNumInitial": 1,
   "hotkeys": {
    "equation": "Ctrl-E",
    "itemize": "Ctrl-I"
   },
   "labels_anchors": false,
   "latex_user_defs": false,
   "report_style_numbering": false,
   "user_envs_cfg": false
  }
 },
 "nbformat": 4,
 "nbformat_minor": 4
}
