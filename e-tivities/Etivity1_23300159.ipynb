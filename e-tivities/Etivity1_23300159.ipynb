{
 "cells": [
  {
   "cell_type": "markdown",
   "metadata": {},
   "source": [
    "# E-tivity 1 (27/01/25 - 09/02/25)\n",
    "\n",
    "* Sean Noonan\n",
    "\n",
    "* 23300159"
   ]
  },
  {
   "cell_type": "markdown",
   "metadata": {},
   "source": [
    "## Anomaly Detection\n",
    "\n",
    "### Context\n",
    "We have a mystery dataset. There are 9 explanatory variables and one response variable. The response variable is the last column and indicates if the sample is anomalous (=1, valid =0). The dataset is provided \"data.csv\". \n",
    "\n",
    "Of course in this case we could use supervised learning to generate a model and detect anomalies in new data. However the focus is on autoencoders, anomaly detection is just one of the potential uses for autoencoders.\n",
    "\n",
    "So we are going to pretend that we do not know which data are anomalous but we do know that the anomaly rate is small. Use an autoencoder to detect anomalies in the data. The correctness of the model can of course be checked."
   ]
  },
  {
   "cell_type": "markdown",
   "metadata": {},
   "source": [
    "### Guidelines\n",
    "\n",
    "The e-tivity is split into four tasks. The first three are \"group\" excersises, in that you post the solutions to Tasks 1-3 to a site. This will allow the members of your group to send you feedback (via the forums) so you can improve your submission. The final task is an individual task and together with the other tasks, should be uploaded to the Group Locker. \n",
    "\n",
    "Marks will be deducted if task 4 is uploaded in contravention of instructions. Also if the the final submission is not a single notebook with tasks 1-4 and with correct identification or filename.\n",
    "\n",
    "Grading guidelines: the scores for each task are additive. Below is a link to the E-tivity rubrics.\n",
    "\n",
    "https://learn.ul.ie/d2l/lp/rubrics/preview.d2l?ou=49284&rubricId=2620&originTool=quicklinks\n",
    "\n"
   ]
  },
  {
   "cell_type": "markdown",
   "metadata": {},
   "source": [
    "## Problem\n",
    "\n",
    "If you train even a modest feed forward network via supervised learning you can get extremely good recall and precision, despite the unbalanced dataset. However in this e-tivity you will determining the anomalies by using an autoencoder. That is you will **not** be using the Anom flag to guide the training.\n",
    "\n",
    "The mystery dataset is available from Brightspace, download the csv file and use it as the input data.\n",
    "\n",
    "### Tasks 1-3 (complete by Sunday 02/02/25)\n",
    "\n",
    "The initial implementation of the tasks are to be uploaded to the locker on which the other group members can comment. The forum activity will form part of the overall mark for the e-tivity."
   ]
  },
  {
   "cell_type": "markdown",
   "metadata": {},
   "source": [
    "**Task 1: data preprocessing**\n",
    "\n",
    "Explain any preprocessing steps you take and also how you have selected the training and test sets. Remember we do not know which samples are anomalous only that there are a small number of them compared to the total sample size.\n"
   ]
  },
  {
   "cell_type": "code",
   "execution_count": 112,
   "metadata": {},
   "outputs": [],
   "source": [
    "import pandas as pd\n",
    "import numpy as np\n",
    "import matplotlib.pyplot as plt\n",
    "import seaborn as sns"
   ]
  },
  {
   "cell_type": "code",
   "execution_count": 113,
   "metadata": {},
   "outputs": [],
   "source": [
    "df = pd.read_csv(\"./data.csv\")"
   ]
  },
  {
   "cell_type": "markdown",
   "metadata": {},
   "source": [
    "## Quick peep at data"
   ]
  },
  {
   "cell_type": "code",
   "execution_count": 114,
   "metadata": {},
   "outputs": [
    {
     "data": {
      "text/html": [
       "<div>\n",
       "<style scoped>\n",
       "    .dataframe tbody tr th:only-of-type {\n",
       "        vertical-align: middle;\n",
       "    }\n",
       "\n",
       "    .dataframe tbody tr th {\n",
       "        vertical-align: top;\n",
       "    }\n",
       "\n",
       "    .dataframe thead th {\n",
       "        text-align: right;\n",
       "    }\n",
       "</style>\n",
       "<table border=\"1\" class=\"dataframe\">\n",
       "  <thead>\n",
       "    <tr style=\"text-align: right;\">\n",
       "      <th></th>\n",
       "      <th>V1</th>\n",
       "      <th>V2</th>\n",
       "      <th>V3</th>\n",
       "      <th>V4</th>\n",
       "      <th>V5</th>\n",
       "      <th>V6</th>\n",
       "      <th>V7</th>\n",
       "      <th>V8</th>\n",
       "      <th>V9</th>\n",
       "      <th>Anom</th>\n",
       "    </tr>\n",
       "  </thead>\n",
       "  <tbody>\n",
       "    <tr>\n",
       "      <th>0</th>\n",
       "      <td>50</td>\n",
       "      <td>21</td>\n",
       "      <td>77</td>\n",
       "      <td>0</td>\n",
       "      <td>28</td>\n",
       "      <td>0</td>\n",
       "      <td>27</td>\n",
       "      <td>48</td>\n",
       "      <td>22</td>\n",
       "      <td>1</td>\n",
       "    </tr>\n",
       "    <tr>\n",
       "      <th>1</th>\n",
       "      <td>53</td>\n",
       "      <td>0</td>\n",
       "      <td>82</td>\n",
       "      <td>0</td>\n",
       "      <td>52</td>\n",
       "      <td>-5</td>\n",
       "      <td>29</td>\n",
       "      <td>30</td>\n",
       "      <td>2</td>\n",
       "      <td>0</td>\n",
       "    </tr>\n",
       "    <tr>\n",
       "      <th>2</th>\n",
       "      <td>37</td>\n",
       "      <td>0</td>\n",
       "      <td>76</td>\n",
       "      <td>0</td>\n",
       "      <td>28</td>\n",
       "      <td>18</td>\n",
       "      <td>40</td>\n",
       "      <td>48</td>\n",
       "      <td>8</td>\n",
       "      <td>0</td>\n",
       "    </tr>\n",
       "    <tr>\n",
       "      <th>3</th>\n",
       "      <td>37</td>\n",
       "      <td>0</td>\n",
       "      <td>79</td>\n",
       "      <td>0</td>\n",
       "      <td>34</td>\n",
       "      <td>-26</td>\n",
       "      <td>43</td>\n",
       "      <td>46</td>\n",
       "      <td>2</td>\n",
       "      <td>0</td>\n",
       "    </tr>\n",
       "    <tr>\n",
       "      <th>4</th>\n",
       "      <td>85</td>\n",
       "      <td>0</td>\n",
       "      <td>88</td>\n",
       "      <td>-4</td>\n",
       "      <td>6</td>\n",
       "      <td>1</td>\n",
       "      <td>3</td>\n",
       "      <td>83</td>\n",
       "      <td>80</td>\n",
       "      <td>1</td>\n",
       "    </tr>\n",
       "  </tbody>\n",
       "</table>\n",
       "</div>"
      ],
      "text/plain": [
       "   V1  V2  V3  V4  V5  V6  V7  V8  V9  Anom\n",
       "0  50  21  77   0  28   0  27  48  22     1\n",
       "1  53   0  82   0  52  -5  29  30   2     0\n",
       "2  37   0  76   0  28  18  40  48   8     0\n",
       "3  37   0  79   0  34 -26  43  46   2     0\n",
       "4  85   0  88  -4   6   1   3  83  80     1"
      ]
     },
     "execution_count": 114,
     "metadata": {},
     "output_type": "execute_result"
    }
   ],
   "source": [
    "# Lets have a look at the data\n",
    "df.head()"
   ]
  },
  {
   "cell_type": "code",
   "execution_count": 115,
   "metadata": {},
   "outputs": [
    {
     "name": "stdout",
     "output_type": "stream",
     "text": [
      "V1      49097\n",
      "V2      49097\n",
      "V3      49097\n",
      "V4      49097\n",
      "V5      49097\n",
      "V6      49097\n",
      "V7      49097\n",
      "V8      49097\n",
      "V9      49097\n",
      "Anom    49097\n",
      "dtype: int64\n"
     ]
    }
   ],
   "source": [
    "print(df.count())"
   ]
  },
  {
   "cell_type": "code",
   "execution_count": 116,
   "metadata": {},
   "outputs": [
    {
     "data": {
      "text/html": [
       "<div>\n",
       "<style scoped>\n",
       "    .dataframe tbody tr th:only-of-type {\n",
       "        vertical-align: middle;\n",
       "    }\n",
       "\n",
       "    .dataframe tbody tr th {\n",
       "        vertical-align: top;\n",
       "    }\n",
       "\n",
       "    .dataframe thead th {\n",
       "        text-align: right;\n",
       "    }\n",
       "</style>\n",
       "<table border=\"1\" class=\"dataframe\">\n",
       "  <thead>\n",
       "    <tr style=\"text-align: right;\">\n",
       "      <th></th>\n",
       "      <th>V1</th>\n",
       "      <th>V2</th>\n",
       "      <th>V3</th>\n",
       "      <th>V4</th>\n",
       "      <th>V5</th>\n",
       "      <th>V6</th>\n",
       "      <th>V7</th>\n",
       "      <th>V8</th>\n",
       "      <th>V9</th>\n",
       "      <th>Anom</th>\n",
       "    </tr>\n",
       "  </thead>\n",
       "  <tbody>\n",
       "    <tr>\n",
       "      <th>count</th>\n",
       "      <td>49097.000000</td>\n",
       "      <td>49097.000000</td>\n",
       "      <td>49097.000000</td>\n",
       "      <td>49097.000000</td>\n",
       "      <td>49097.000000</td>\n",
       "      <td>49097.000000</td>\n",
       "      <td>49097.000000</td>\n",
       "      <td>49097.000000</td>\n",
       "      <td>49097.000000</td>\n",
       "      <td>49097.000000</td>\n",
       "    </tr>\n",
       "    <tr>\n",
       "      <th>mean</th>\n",
       "      <td>46.932399</td>\n",
       "      <td>-0.063955</td>\n",
       "      <td>85.123124</td>\n",
       "      <td>0.213231</td>\n",
       "      <td>36.871784</td>\n",
       "      <td>2.160030</td>\n",
       "      <td>38.200725</td>\n",
       "      <td>48.288592</td>\n",
       "      <td>10.261930</td>\n",
       "      <td>0.071511</td>\n",
       "    </tr>\n",
       "    <tr>\n",
       "      <th>std</th>\n",
       "      <td>12.875159</td>\n",
       "      <td>84.674481</td>\n",
       "      <td>8.877517</td>\n",
       "      <td>37.579171</td>\n",
       "      <td>19.963113</td>\n",
       "      <td>218.324964</td>\n",
       "      <td>13.446306</td>\n",
       "      <td>20.572064</td>\n",
       "      <td>23.751024</td>\n",
       "      <td>0.257680</td>\n",
       "    </tr>\n",
       "    <tr>\n",
       "      <th>min</th>\n",
       "      <td>27.000000</td>\n",
       "      <td>-4821.000000</td>\n",
       "      <td>21.000000</td>\n",
       "      <td>-3939.000000</td>\n",
       "      <td>-188.000000</td>\n",
       "      <td>-26739.000000</td>\n",
       "      <td>-48.000000</td>\n",
       "      <td>-353.000000</td>\n",
       "      <td>-356.000000</td>\n",
       "      <td>0.000000</td>\n",
       "    </tr>\n",
       "    <tr>\n",
       "      <th>25%</th>\n",
       "      <td>37.000000</td>\n",
       "      <td>0.000000</td>\n",
       "      <td>79.000000</td>\n",
       "      <td>0.000000</td>\n",
       "      <td>30.000000</td>\n",
       "      <td>-4.000000</td>\n",
       "      <td>33.000000</td>\n",
       "      <td>35.000000</td>\n",
       "      <td>0.000000</td>\n",
       "      <td>0.000000</td>\n",
       "    </tr>\n",
       "    <tr>\n",
       "      <th>50%</th>\n",
       "      <td>44.000000</td>\n",
       "      <td>0.000000</td>\n",
       "      <td>83.000000</td>\n",
       "      <td>0.000000</td>\n",
       "      <td>42.000000</td>\n",
       "      <td>0.000000</td>\n",
       "      <td>39.000000</td>\n",
       "      <td>41.000000</td>\n",
       "      <td>2.000000</td>\n",
       "      <td>0.000000</td>\n",
       "    </tr>\n",
       "    <tr>\n",
       "      <th>75%</th>\n",
       "      <td>50.000000</td>\n",
       "      <td>0.000000</td>\n",
       "      <td>88.000000</td>\n",
       "      <td>0.000000</td>\n",
       "      <td>46.000000</td>\n",
       "      <td>5.000000</td>\n",
       "      <td>43.000000</td>\n",
       "      <td>55.000000</td>\n",
       "      <td>6.000000</td>\n",
       "      <td>0.000000</td>\n",
       "    </tr>\n",
       "    <tr>\n",
       "      <th>max</th>\n",
       "      <td>126.000000</td>\n",
       "      <td>5075.000000</td>\n",
       "      <td>149.000000</td>\n",
       "      <td>3830.000000</td>\n",
       "      <td>436.000000</td>\n",
       "      <td>15164.000000</td>\n",
       "      <td>105.000000</td>\n",
       "      <td>270.000000</td>\n",
       "      <td>266.000000</td>\n",
       "      <td>1.000000</td>\n",
       "    </tr>\n",
       "  </tbody>\n",
       "</table>\n",
       "</div>"
      ],
      "text/plain": [
       "                 V1            V2            V3            V4            V5  \\\n",
       "count  49097.000000  49097.000000  49097.000000  49097.000000  49097.000000   \n",
       "mean      46.932399     -0.063955     85.123124      0.213231     36.871784   \n",
       "std       12.875159     84.674481      8.877517     37.579171     19.963113   \n",
       "min       27.000000  -4821.000000     21.000000  -3939.000000   -188.000000   \n",
       "25%       37.000000      0.000000     79.000000      0.000000     30.000000   \n",
       "50%       44.000000      0.000000     83.000000      0.000000     42.000000   \n",
       "75%       50.000000      0.000000     88.000000      0.000000     46.000000   \n",
       "max      126.000000   5075.000000    149.000000   3830.000000    436.000000   \n",
       "\n",
       "                 V6            V7            V8            V9          Anom  \n",
       "count  49097.000000  49097.000000  49097.000000  49097.000000  49097.000000  \n",
       "mean       2.160030     38.200725     48.288592     10.261930      0.071511  \n",
       "std      218.324964     13.446306     20.572064     23.751024      0.257680  \n",
       "min   -26739.000000    -48.000000   -353.000000   -356.000000      0.000000  \n",
       "25%       -4.000000     33.000000     35.000000      0.000000      0.000000  \n",
       "50%        0.000000     39.000000     41.000000      2.000000      0.000000  \n",
       "75%        5.000000     43.000000     55.000000      6.000000      0.000000  \n",
       "max    15164.000000    105.000000    270.000000    266.000000      1.000000  "
      ]
     },
     "execution_count": 116,
     "metadata": {},
     "output_type": "execute_result"
    }
   ],
   "source": [
    "# Print statistical summary for all numerical attributes\n",
    "df.describe()"
   ]
  },
  {
   "cell_type": "code",
   "execution_count": 117,
   "metadata": {},
   "outputs": [
    {
     "name": "stdout",
     "output_type": "stream",
     "text": [
      "Index(['V1', 'V2', 'V3', 'V4', 'V5', 'V6', 'V7', 'V8', 'V9', 'Anom'], dtype='object')\n"
     ]
    }
   ],
   "source": [
    "print(df.columns)"
   ]
  },
  {
   "cell_type": "code",
   "execution_count": 118,
   "metadata": {},
   "outputs": [
    {
     "name": "stdout",
     "output_type": "stream",
     "text": [
      "Number of rows with 'Anom' = 1: 3511\n"
     ]
    }
   ],
   "source": [
    "# Count rows where the 'Anom' column is equal to 1\n",
    "num_anomalies = df[df['Anom'] == 1].shape[0]\n",
    "\n",
    "print(f\"Number of rows with 'Anom' = 1: {num_anomalies}\")\n"
   ]
  },
  {
   "cell_type": "markdown",
   "metadata": {},
   "source": [
    "So we have 49k records and 3.5 k anomalies"
   ]
  },
  {
   "cell_type": "code",
   "execution_count": 119,
   "metadata": {},
   "outputs": [
    {
     "data": {
      "text/plain": [
       "0.0715114976475141"
      ]
     },
     "execution_count": 119,
     "metadata": {},
     "output_type": "execute_result"
    }
   ],
   "source": [
    "3511/49097"
   ]
  },
  {
   "cell_type": "code",
   "execution_count": 120,
   "metadata": {},
   "outputs": [],
   "source": [
    "df_unlabelled = df.drop(\"Anom\", axis=1)"
   ]
  },
  {
   "cell_type": "code",
   "execution_count": 121,
   "metadata": {},
   "outputs": [
    {
     "data": {
      "text/html": [
       "<div>\n",
       "<style scoped>\n",
       "    .dataframe tbody tr th:only-of-type {\n",
       "        vertical-align: middle;\n",
       "    }\n",
       "\n",
       "    .dataframe tbody tr th {\n",
       "        vertical-align: top;\n",
       "    }\n",
       "\n",
       "    .dataframe thead th {\n",
       "        text-align: right;\n",
       "    }\n",
       "</style>\n",
       "<table border=\"1\" class=\"dataframe\">\n",
       "  <thead>\n",
       "    <tr style=\"text-align: right;\">\n",
       "      <th></th>\n",
       "      <th>V1</th>\n",
       "      <th>V2</th>\n",
       "      <th>V3</th>\n",
       "      <th>V4</th>\n",
       "      <th>V5</th>\n",
       "      <th>V6</th>\n",
       "      <th>V7</th>\n",
       "      <th>V8</th>\n",
       "      <th>V9</th>\n",
       "    </tr>\n",
       "  </thead>\n",
       "  <tbody>\n",
       "    <tr>\n",
       "      <th>0</th>\n",
       "      <td>50</td>\n",
       "      <td>21</td>\n",
       "      <td>77</td>\n",
       "      <td>0</td>\n",
       "      <td>28</td>\n",
       "      <td>0</td>\n",
       "      <td>27</td>\n",
       "      <td>48</td>\n",
       "      <td>22</td>\n",
       "    </tr>\n",
       "    <tr>\n",
       "      <th>1</th>\n",
       "      <td>53</td>\n",
       "      <td>0</td>\n",
       "      <td>82</td>\n",
       "      <td>0</td>\n",
       "      <td>52</td>\n",
       "      <td>-5</td>\n",
       "      <td>29</td>\n",
       "      <td>30</td>\n",
       "      <td>2</td>\n",
       "    </tr>\n",
       "    <tr>\n",
       "      <th>2</th>\n",
       "      <td>37</td>\n",
       "      <td>0</td>\n",
       "      <td>76</td>\n",
       "      <td>0</td>\n",
       "      <td>28</td>\n",
       "      <td>18</td>\n",
       "      <td>40</td>\n",
       "      <td>48</td>\n",
       "      <td>8</td>\n",
       "    </tr>\n",
       "    <tr>\n",
       "      <th>3</th>\n",
       "      <td>37</td>\n",
       "      <td>0</td>\n",
       "      <td>79</td>\n",
       "      <td>0</td>\n",
       "      <td>34</td>\n",
       "      <td>-26</td>\n",
       "      <td>43</td>\n",
       "      <td>46</td>\n",
       "      <td>2</td>\n",
       "    </tr>\n",
       "    <tr>\n",
       "      <th>4</th>\n",
       "      <td>85</td>\n",
       "      <td>0</td>\n",
       "      <td>88</td>\n",
       "      <td>-4</td>\n",
       "      <td>6</td>\n",
       "      <td>1</td>\n",
       "      <td>3</td>\n",
       "      <td>83</td>\n",
       "      <td>80</td>\n",
       "    </tr>\n",
       "  </tbody>\n",
       "</table>\n",
       "</div>"
      ],
      "text/plain": [
       "   V1  V2  V3  V4  V5  V6  V7  V8  V9\n",
       "0  50  21  77   0  28   0  27  48  22\n",
       "1  53   0  82   0  52  -5  29  30   2\n",
       "2  37   0  76   0  28  18  40  48   8\n",
       "3  37   0  79   0  34 -26  43  46   2\n",
       "4  85   0  88  -4   6   1   3  83  80"
      ]
     },
     "execution_count": 121,
     "metadata": {},
     "output_type": "execute_result"
    }
   ],
   "source": [
    "df_unlabelled.head()"
   ]
  },
  {
   "cell_type": "code",
   "execution_count": 122,
   "metadata": {},
   "outputs": [
    {
     "name": "stdout",
     "output_type": "stream",
     "text": [
      "Training set size: 39277\n",
      "Testing set size: 9820\n"
     ]
    }
   ],
   "source": [
    "from sklearn.model_selection import train_test_split\n",
    "\n",
    "# Split the data into training and testing sets\n",
    "df_train, df_test = train_test_split(df_unlabelled, test_size=0.2, random_state=42)\n",
    "\n",
    "# Print sizes to verify\n",
    "print(f\"Training set size: {len(df_train)}\")\n",
    "print(f\"Testing set size: {len(df_test)}\")\n"
   ]
  },
  {
   "cell_type": "markdown",
   "metadata": {},
   "source": [
    "**Task 2: model generation and training**\n",
    "\n",
    "Generate a suitable autoencoder model, the only restriction is that there should be only 2 latent variables. Train the model to a satistifactory result. Be aware that it will be much harder to achieve the sort of result you can get from a supervised learning model. \n",
    "\n",
    "**Hint**: it should not take longer than a 1000 epochs to train. However it may be difficult to train. Use different optimizers, topologies and/or weight initialisations to get convergence. Remember that achieving a perfect error means that the model will also be good at reconstructing anomalies. \n"
   ]
  },
  {
   "cell_type": "code",
   "execution_count": 123,
   "metadata": {},
   "outputs": [],
   "source": [
    "'''Example of VAE and AE on MNIST dataset using a CNN.\n",
    "There are three models the encoder, decoder and autoencoder.\n",
    "The encoder generates the latent variables and the \n",
    "decoder can be used to generate MNIST digits by sampling. The VAE\n",
    "restricts the latent vector/variable to be from a Gaussian distribution \n",
    "with mean = 0 and std = 1. This example was adapted fro\n",
    "# Reference\n",
    "[1] Kingma, Diederik P., and Max Welling.\n",
    "\"Auto-Encoding Variational Bayes.\"\n",
    "https://arxiv.org/abs/1312.6114\n",
    "'''\n",
    "\n",
    "from __future__ import absolute_import\n",
    "from __future__ import division\n",
    "from __future__ import print_function\n",
    "\n",
    "# Load the module we need\n",
    "# Note that we are import the Keras backend, which is assumed to be Tensorflow\n",
    "from tensorflow.keras.layers import Input, Dense, Conv2D, Conv2DTranspose, MaxPooling2D\n",
    "from tensorflow.keras.layers import UpSampling2D, Reshape\n",
    "from tensorflow.keras.models import Model\n",
    "from tensorflow.keras.optimizers import Adagrad\n",
    "from tensorflow.keras import backend as K\n",
    "\n",
    "from tensorflow.keras.datasets import mnist\n",
    "import numpy as np\n",
    "\n",
    "import matplotlib.pyplot as plt\n",
    "\n",
    "\n",
    "\n",
    "from tensorflow.keras.layers import Lambda\n",
    "from tensorflow.keras.losses import mean_squared_error, binary_crossentropy, mse, KLDivergence\n",
    "from tensorflow.keras.utils import plot_model\n",
    "\n",
    "import tensorflow as tf\n",
    "import os"
   ]
  },
  {
   "cell_type": "code",
   "execution_count": 124,
   "metadata": {},
   "outputs": [
    {
     "name": "stdout",
     "output_type": "stream",
     "text": [
      "9\n"
     ]
    }
   ],
   "source": [
    "import tensorflow as tf\n",
    "from tensorflow.keras import layers, models\n",
    "from sklearn.preprocessing import MinMaxScaler\n",
    "import matplotlib.pyplot as plt\n",
    "\n",
    "# Example dataset (replace `df_unlabelled` with your own data)\n",
    "data = df_unlabelled.values\n",
    "\n",
    "# Normalize the data to [0, 1]\n",
    "scaler = MinMaxScaler()\n",
    "data_scaled = scaler.fit_transform(data)\n",
    "\n",
    "# Split into training and testing sets\n",
    "from sklearn.model_selection import train_test_split\n",
    "train_data, test_data = train_test_split(data_scaled, test_size=0.2, random_state=42)\n",
    "\n",
    "# Dimensions of the input data\n",
    "input_dim = train_data.shape[1]\n",
    "print(input_dim)"
   ]
  },
  {
   "cell_type": "code",
   "execution_count": 125,
   "metadata": {},
   "outputs": [],
   "source": [
    "# pip install pydot"
   ]
  },
  {
   "cell_type": "code",
   "execution_count": 126,
   "metadata": {},
   "outputs": [],
   "source": [
    "# pip install graphviz"
   ]
  },
  {
   "cell_type": "code",
   "execution_count": 127,
   "metadata": {},
   "outputs": [],
   "source": [
    "# This function samples random points from a distribution\n",
    "# reparameterization trick\n",
    "# instead of sampling from Q(z|X), sample epsilon = N(0,I)\n",
    "# z = z_mean + sqrt(var) * epsilon\n",
    "def sampling(args):\n",
    "    \"\"\"Reparameterization trick by sampling from an isotropic unit Gaussian.\n",
    "    # Arguments\n",
    "        args (tensor): mean and log of variance of Q(z|X)\n",
    "    # Returns\n",
    "        z (tensor): sampled latent vector\n",
    "    \"\"\"\n",
    "\n",
    "    z_mean, z_log_var = args\n",
    "    batch = K.shape(z_mean)[0]\n",
    "    dim = K.int_shape(z_mean)[1]\n",
    "    # by default, random_normal has mean = 0 and std = 1.0\n",
    "    epsilon = K.random_normal(shape=(batch, dim))\n",
    "    return z_mean + K.exp(0.5 * z_log_var) * epsilon\n",
    "\n",
    "\n",
    "def plot_results(models,\n",
    "                 data,\n",
    "                 batch_size=128,\n",
    "                 model_name=\"vae_mnist\"):\n",
    "    \"\"\"Plots labels and MNIST digits as a function of the 2D latent vector\n",
    "    # Arguments\n",
    "        models (tuple): encoder and decoder models\n",
    "        data (tuple): test data and label\n",
    "        batch_size (int): prediction batch size\n",
    "        model_name (string): which model is using this function\n",
    "    \"\"\"\n",
    "\n",
    "    encoder, decoder = models\n",
    "    x_test, y_test = data\n",
    "    os.makedirs(model_name, exist_ok=True)\n",
    "\n",
    "    filename = os.path.join(model_name, \"vae_mean.png\")\n",
    "    # display a 2D plot of the digit classes in the latent subspace\n",
    "    if (model_name == 'vae_mlp'):\n",
    "        z_mean, _, _ = encoder.predict(x_test,\n",
    "                                   batch_size=batch_size)\n",
    "    else:\n",
    "        z_mean = encoder.predict(x_test,batch_size=batch_size)\n",
    "    \n",
    "    plt.figure(figsize=(12, 10))\n",
    "    plt.scatter(z_mean[:, 0], z_mean[:, 1], c=y_test)\n",
    "    plt.colorbar()\n",
    "    plt.xlabel(\"z[0]\")\n",
    "    plt.ylabel(\"z[1]\")\n",
    "    plt.savefig(filename)\n",
    "    plt.show()\n",
    "\n",
    "    filename = os.path.join(model_name, \"digits_over_latent.png\")\n",
    "    # display a 30x30 2D manifold of digits\n",
    "    n = 30\n",
    "    digit_size = 28\n",
    "    figure = np.zeros((digit_size * n, digit_size * n))\n",
    "    # linearly spaced coordinates corresponding to the 2D plot\n",
    "    # of digit classes in the latent space\n",
    "    grid_x = np.linspace(np.amin(z_mean[:,0]), np.amax(z_mean[:,0]), n)\n",
    "    grid_y = np.linspace(np.amin(z_mean[:,1]), np.amax(z_mean[:,1]), n)[::-1]\n",
    "\n",
    "    z_sample = np.zeros((1,5))\n",
    "    z_sample[0,2] = np.mean(z_mean[:,2])\n",
    "    z_sample[0,3] = np.mean(z_mean[:,3])\n",
    "    z_sample[0,4] = np.mean(z_mean[:,4])    \n",
    "    for i, yi in enumerate(grid_y):\n",
    "        for j, xi in enumerate(grid_x):\n",
    "            z_sample[0,0] = xi\n",
    "            z_sample[0,1] = yi\n",
    "            x_decoded = decoder.predict(z_sample)\n",
    "            digit = x_decoded[0].reshape(digit_size, digit_size)\n",
    "            figure[i * digit_size: (i + 1) * digit_size,\n",
    "                   j * digit_size: (j + 1) * digit_size] = digit\n",
    "\n",
    "    plt.figure(figsize=(10, 10))\n",
    "    start_range = digit_size // 2\n",
    "    end_range = (n - 1) * digit_size + start_range + 1\n",
    "    pixel_range = np.arange(start_range, end_range, digit_size)\n",
    "    sample_range_x = np.round(grid_x, 1)\n",
    "    sample_range_y = np.round(grid_y, 1)\n",
    "    plt.xticks(pixel_range, sample_range_x)\n",
    "    plt.yticks(pixel_range, sample_range_y)\n",
    "    plt.xlabel(\"z[0]\")\n",
    "    plt.ylabel(\"z[1]\")\n",
    "    plt.imshow(figure, cmap='Greys_r')\n",
    "    plt.savefig(filename)\n",
    "    plt.show()"
   ]
  },
  {
   "cell_type": "code",
   "execution_count": 128,
   "metadata": {},
   "outputs": [
    {
     "name": "stdout",
     "output_type": "stream",
     "text": [
      "Model: \"encoded\"\n",
      "_________________________________________________________________\n",
      " Layer (type)                Output Shape              Param #   \n",
      "=================================================================\n",
      " input_37 (InputLayer)       [(None, 9)]               0         \n",
      "                                                                 \n",
      " dense_92 (Dense)            (None, 64)                640       \n",
      "                                                                 \n",
      " dense_93 (Dense)            (None, 32)                2080      \n",
      "                                                                 \n",
      " latent_space (Dense)        (None, 2)                 66        \n",
      "                                                                 \n",
      "=================================================================\n",
      "Total params: 2786 (10.88 KB)\n",
      "Trainable params: 2786 (10.88 KB)\n",
      "Non-trainable params: 0 (0.00 Byte)\n",
      "_________________________________________________________________\n",
      "Model: \"decoded\"\n",
      "_________________________________________________________________\n",
      " Layer (type)                Output Shape              Param #   \n",
      "=================================================================\n",
      " input_38 (InputLayer)       [(None, 2)]               0         \n",
      "                                                                 \n",
      " dense_94 (Dense)            (None, 32)                96        \n",
      "                                                                 \n",
      " dense_95 (Dense)            (None, 64)                2112      \n",
      "                                                                 \n",
      " dense_96 (Dense)            (None, 9)                 585       \n",
      "                                                                 \n",
      "=================================================================\n",
      "Total params: 2793 (10.91 KB)\n",
      "Trainable params: 2793 (10.91 KB)\n",
      "Non-trainable params: 0 (0.00 Byte)\n",
      "_________________________________________________________________\n",
      "307/307 [==============================] - 1s 1ms/step\n",
      "Model: \"model_18\"\n",
      "_________________________________________________________________\n",
      " Layer (type)                Output Shape              Param #   \n",
      "=================================================================\n",
      " input_37 (InputLayer)       [(None, 9)]               0         \n",
      "                                                                 \n",
      " encoded (Functional)        (None, 2)                 2786      \n",
      "                                                                 \n",
      " decoded (Functional)        (None, 9)                 2793      \n",
      "                                                                 \n",
      "=================================================================\n",
      "Total params: 5579 (21.79 KB)\n",
      "Trainable params: 5579 (21.79 KB)\n",
      "Non-trainable params: 0 (0.00 Byte)\n",
      "_________________________________________________________________\n"
     ]
    }
   ],
   "source": [
    "# Define the Encoder, inputs are the MNIST 28x28 greyscale images \n",
    "inputs = layers.Input(shape=(input_dim,))\n",
    "x = layers.Dense(64, activation='relu', kernel_initializer='he_normal')(inputs)\n",
    "x = layers.Dense(32, activation='relu', kernel_initializer='he_normal')(x)\n",
    "latent = layers.Dense(2, activation='linear', name='latent_space')(x)  # 2 latent variables\n",
    "\n",
    "encoded = Model(inputs,latent,name='encoded')\n",
    "encoded.summary()\n",
    "# plot_model(encoded, to_file='AE_encoded_etiv.png', show_shapes=True)            \n",
    "\n",
    "# Latent space is a 5 dimensional vector space\n",
    "\n",
    "# This is the decoder, it take the 5 dim latent vector and generates a 28x28 image\n",
    "# lats = Input(shape=(2,),name='latent')\n",
    "# Decoder\n",
    "x = layers.Dense(32, activation='relu', kernel_initializer='he_normal')(latent)\n",
    "x = layers.Dense(64, activation='relu', kernel_initializer='he_normal')(x)\n",
    "outputs = layers.Dense(input_dim, activation='sigmoid')(x)  # Sigmoid to ensure output in [0, 1]\n",
    "\n",
    "decoded = Model(latent,outputs,name='decoded')\n",
    "decoded.summary()\n",
    "# plot_model(decoded, to_file='AE_decoded_etiv.png', show_shapes=True)     \n",
    "\n",
    "# The autoencoder takes the image as input encodes it, then decodes it\n",
    "rec = decoded(encoded(inputs))\n",
    "autoencoder = Model(inputs,rec)\n",
    "\n",
    "\n",
    "reconstructions = autoencoder.predict(test_data)\n",
    "# reconstruction_loss = tf.reduce_mean(1000.0*tf.square(inputs-rec),axis=(1,2))\n",
    "# reconstruction_loss = np.mean(np.square(reconstructions - test_data), axis=1)\n",
    "# autoencoder.add_loss(lambda: tf.reduce_mean(tf.square(reconstructions - test_data)))\n",
    "# autoencoder.add_loss(reconstruction_loss)\n",
    "# autoencoder.compile(optimizer='adadelta', loss='mse')\n",
    "autoencoder.summary()"
   ]
  },
  {
   "cell_type": "code",
   "execution_count": 129,
   "metadata": {},
   "outputs": [],
   "source": [
    "autoencoder.compile(optimizer=tf.keras.optimizers.Adam(learning_rate=0.001), loss='mse')"
   ]
  },
  {
   "cell_type": "code",
   "execution_count": 130,
   "metadata": {},
   "outputs": [
    {
     "name": "stdout",
     "output_type": "stream",
     "text": [
      "Epoch 1/100\n",
      "1228/1228 - 3s - loss: 8.1866e-04 - val_loss: 8.3977e-05 - 3s/epoch - 3ms/step\n",
      "Epoch 2/100\n",
      "1228/1228 - 2s - loss: 8.9709e-05 - val_loss: 6.4061e-05 - 2s/epoch - 1ms/step\n",
      "Epoch 3/100\n",
      "1228/1228 - 2s - loss: 7.2571e-05 - val_loss: 6.0007e-05 - 2s/epoch - 2ms/step\n",
      "Epoch 4/100\n",
      "1228/1228 - 2s - loss: 5.5708e-05 - val_loss: 4.5163e-05 - 2s/epoch - 2ms/step\n",
      "Epoch 5/100\n",
      "1228/1228 - 2s - loss: 5.0690e-05 - val_loss: 4.8531e-05 - 2s/epoch - 1ms/step\n",
      "Epoch 6/100\n",
      "1228/1228 - 2s - loss: 4.4908e-05 - val_loss: 3.8033e-05 - 2s/epoch - 1ms/step\n",
      "Epoch 7/100\n",
      "1228/1228 - 2s - loss: 4.3775e-05 - val_loss: 5.9783e-05 - 2s/epoch - 1ms/step\n",
      "Epoch 8/100\n",
      "1228/1228 - 2s - loss: 3.9035e-05 - val_loss: 4.1258e-05 - 2s/epoch - 1ms/step\n",
      "Epoch 9/100\n",
      "1228/1228 - 2s - loss: 3.8278e-05 - val_loss: 4.9319e-05 - 2s/epoch - 2ms/step\n",
      "Epoch 10/100\n",
      "1228/1228 - 2s - loss: 3.7915e-05 - val_loss: 4.5960e-05 - 2s/epoch - 2ms/step\n",
      "Epoch 11/100\n",
      "1228/1228 - 2s - loss: 3.5439e-05 - val_loss: 3.7382e-05 - 2s/epoch - 2ms/step\n",
      "Epoch 12/100\n",
      "1228/1228 - 2s - loss: 3.3578e-05 - val_loss: 2.8552e-05 - 2s/epoch - 1ms/step\n",
      "Epoch 13/100\n",
      "1228/1228 - 2s - loss: 3.3394e-05 - val_loss: 2.7662e-05 - 2s/epoch - 2ms/step\n",
      "Epoch 14/100\n",
      "1228/1228 - 2s - loss: 3.4048e-05 - val_loss: 3.0537e-05 - 2s/epoch - 2ms/step\n",
      "Epoch 15/100\n",
      "1228/1228 - 2s - loss: 2.9563e-05 - val_loss: 4.0708e-05 - 2s/epoch - 2ms/step\n",
      "Epoch 16/100\n",
      "1228/1228 - 2s - loss: 2.9853e-05 - val_loss: 2.5949e-05 - 2s/epoch - 1ms/step\n",
      "Epoch 17/100\n",
      "1228/1228 - 2s - loss: 2.9361e-05 - val_loss: 2.3672e-05 - 2s/epoch - 2ms/step\n",
      "Epoch 18/100\n",
      "1228/1228 - 2s - loss: 2.7244e-05 - val_loss: 2.8381e-05 - 2s/epoch - 2ms/step\n",
      "Epoch 19/100\n",
      "1228/1228 - 2s - loss: 2.7227e-05 - val_loss: 2.4298e-05 - 2s/epoch - 2ms/step\n",
      "Epoch 20/100\n",
      "1228/1228 - 2s - loss: 2.5177e-05 - val_loss: 2.4008e-05 - 2s/epoch - 1ms/step\n",
      "Epoch 21/100\n",
      "1228/1228 - 2s - loss: 2.6315e-05 - val_loss: 3.5627e-05 - 2s/epoch - 1ms/step\n",
      "Epoch 22/100\n",
      "1228/1228 - 2s - loss: 2.6234e-05 - val_loss: 2.6116e-05 - 2s/epoch - 1ms/step\n",
      "Epoch 23/100\n",
      "1228/1228 - 2s - loss: 2.4547e-05 - val_loss: 2.7465e-05 - 2s/epoch - 1ms/step\n",
      "Epoch 24/100\n",
      "1228/1228 - 2s - loss: 2.5691e-05 - val_loss: 2.5624e-05 - 2s/epoch - 1ms/step\n",
      "Epoch 25/100\n",
      "1228/1228 - 2s - loss: 2.3987e-05 - val_loss: 2.4544e-05 - 2s/epoch - 1ms/step\n",
      "Epoch 26/100\n",
      "1228/1228 - 2s - loss: 2.7088e-05 - val_loss: 2.3955e-05 - 2s/epoch - 2ms/step\n",
      "Epoch 27/100\n",
      "1228/1228 - 2s - loss: 2.3503e-05 - val_loss: 2.7865e-05 - 2s/epoch - 2ms/step\n",
      "Epoch 28/100\n",
      "1228/1228 - 2s - loss: 2.3775e-05 - val_loss: 2.2864e-05 - 2s/epoch - 2ms/step\n",
      "Epoch 29/100\n",
      "1228/1228 - 2s - loss: 2.4287e-05 - val_loss: 2.3114e-05 - 2s/epoch - 2ms/step\n",
      "Epoch 30/100\n",
      "1228/1228 - 2s - loss: 2.4190e-05 - val_loss: 2.2586e-05 - 2s/epoch - 2ms/step\n",
      "Epoch 31/100\n",
      "1228/1228 - 2s - loss: 2.3286e-05 - val_loss: 2.2122e-05 - 2s/epoch - 2ms/step\n",
      "Epoch 32/100\n",
      "1228/1228 - 2s - loss: 2.1934e-05 - val_loss: 2.3476e-05 - 2s/epoch - 2ms/step\n",
      "Epoch 33/100\n",
      "1228/1228 - 2s - loss: 2.3273e-05 - val_loss: 2.2661e-05 - 2s/epoch - 1ms/step\n",
      "Epoch 34/100\n",
      "1228/1228 - 2s - loss: 2.1337e-05 - val_loss: 2.5636e-05 - 2s/epoch - 2ms/step\n",
      "Epoch 35/100\n",
      "1228/1228 - 2s - loss: 2.2227e-05 - val_loss: 2.5791e-05 - 2s/epoch - 2ms/step\n",
      "Epoch 36/100\n",
      "1228/1228 - 2s - loss: 2.3219e-05 - val_loss: 2.9118e-05 - 2s/epoch - 2ms/step\n",
      "Epoch 37/100\n",
      "1228/1228 - 2s - loss: 2.1049e-05 - val_loss: 2.5879e-05 - 2s/epoch - 2ms/step\n",
      "Epoch 38/100\n",
      "1228/1228 - 2s - loss: 2.2556e-05 - val_loss: 2.3454e-05 - 2s/epoch - 2ms/step\n",
      "Epoch 39/100\n",
      "1228/1228 - 2s - loss: 2.1761e-05 - val_loss: 2.2725e-05 - 2s/epoch - 2ms/step\n",
      "Epoch 40/100\n",
      "1228/1228 - 2s - loss: 2.0580e-05 - val_loss: 2.3937e-05 - 2s/epoch - 2ms/step\n",
      "Epoch 41/100\n",
      "1228/1228 - 3s - loss: 2.1856e-05 - val_loss: 2.8244e-05 - 3s/epoch - 2ms/step\n",
      "Epoch 42/100\n",
      "1228/1228 - 2s - loss: 1.9973e-05 - val_loss: 2.3290e-05 - 2s/epoch - 2ms/step\n",
      "Epoch 43/100\n",
      "1228/1228 - 2s - loss: 2.1122e-05 - val_loss: 2.3088e-05 - 2s/epoch - 2ms/step\n",
      "Epoch 44/100\n",
      "1228/1228 - 2s - loss: 2.2016e-05 - val_loss: 3.4649e-05 - 2s/epoch - 2ms/step\n",
      "Epoch 45/100\n",
      "1228/1228 - 2s - loss: 2.0424e-05 - val_loss: 2.5087e-05 - 2s/epoch - 2ms/step\n",
      "Epoch 46/100\n",
      "1228/1228 - 2s - loss: 2.0123e-05 - val_loss: 4.1261e-05 - 2s/epoch - 2ms/step\n",
      "Epoch 47/100\n",
      "1228/1228 - 2s - loss: 2.0083e-05 - val_loss: 2.1984e-05 - 2s/epoch - 2ms/step\n",
      "Epoch 48/100\n",
      "1228/1228 - 2s - loss: 2.3881e-05 - val_loss: 2.0969e-05 - 2s/epoch - 2ms/step\n",
      "Epoch 49/100\n",
      "1228/1228 - 2s - loss: 1.9553e-05 - val_loss: 2.1955e-05 - 2s/epoch - 2ms/step\n",
      "Epoch 50/100\n",
      "1228/1228 - 2s - loss: 2.0004e-05 - val_loss: 2.1018e-05 - 2s/epoch - 2ms/step\n",
      "Epoch 51/100\n",
      "1228/1228 - 2s - loss: 1.9818e-05 - val_loss: 2.5986e-05 - 2s/epoch - 2ms/step\n",
      "Epoch 52/100\n",
      "1228/1228 - 2s - loss: 2.1072e-05 - val_loss: 2.7474e-05 - 2s/epoch - 2ms/step\n",
      "Epoch 53/100\n",
      "1228/1228 - 2s - loss: 2.3381e-05 - val_loss: 2.0496e-05 - 2s/epoch - 2ms/step\n",
      "Epoch 54/100\n",
      "1228/1228 - 2s - loss: 1.8561e-05 - val_loss: 2.0548e-05 - 2s/epoch - 2ms/step\n",
      "Epoch 55/100\n",
      "1228/1228 - 2s - loss: 1.9341e-05 - val_loss: 2.2464e-05 - 2s/epoch - 2ms/step\n",
      "Epoch 56/100\n",
      "1228/1228 - 2s - loss: 1.8965e-05 - val_loss: 2.8755e-05 - 2s/epoch - 2ms/step\n",
      "Epoch 57/100\n",
      "1228/1228 - 2s - loss: 2.0550e-05 - val_loss: 2.3314e-05 - 2s/epoch - 2ms/step\n",
      "Epoch 58/100\n",
      "1228/1228 - 2s - loss: 1.9550e-05 - val_loss: 2.7035e-05 - 2s/epoch - 2ms/step\n",
      "Epoch 59/100\n",
      "1228/1228 - 2s - loss: 2.0494e-05 - val_loss: 2.1031e-05 - 2s/epoch - 2ms/step\n",
      "Epoch 60/100\n",
      "1228/1228 - 2s - loss: 1.8919e-05 - val_loss: 2.1473e-05 - 2s/epoch - 2ms/step\n",
      "Epoch 61/100\n",
      "1228/1228 - 2s - loss: 2.2175e-05 - val_loss: 2.1717e-05 - 2s/epoch - 2ms/step\n",
      "Epoch 62/100\n",
      "1228/1228 - 2s - loss: 1.7775e-05 - val_loss: 3.4735e-05 - 2s/epoch - 2ms/step\n",
      "Epoch 63/100\n",
      "1228/1228 - 2s - loss: 1.8334e-05 - val_loss: 2.1325e-05 - 2s/epoch - 2ms/step\n",
      "Epoch 64/100\n",
      "1228/1228 - 2s - loss: 1.7922e-05 - val_loss: 2.2656e-05 - 2s/epoch - 2ms/step\n",
      "Epoch 65/100\n",
      "1228/1228 - 2s - loss: 1.8997e-05 - val_loss: 2.4810e-05 - 2s/epoch - 2ms/step\n",
      "Epoch 66/100\n",
      "1228/1228 - 2s - loss: 1.8112e-05 - val_loss: 2.6761e-05 - 2s/epoch - 2ms/step\n",
      "Epoch 67/100\n",
      "1228/1228 - 2s - loss: 1.8376e-05 - val_loss: 2.0070e-05 - 2s/epoch - 2ms/step\n",
      "Epoch 68/100\n",
      "1228/1228 - 2s - loss: 1.7992e-05 - val_loss: 2.2203e-05 - 2s/epoch - 2ms/step\n",
      "Epoch 69/100\n",
      "1228/1228 - 2s - loss: 1.8365e-05 - val_loss: 2.2269e-05 - 2s/epoch - 2ms/step\n",
      "Epoch 70/100\n",
      "1228/1228 - 2s - loss: 1.8836e-05 - val_loss: 2.1752e-05 - 2s/epoch - 2ms/step\n",
      "Epoch 71/100\n",
      "1228/1228 - 2s - loss: 1.7302e-05 - val_loss: 2.1712e-05 - 2s/epoch - 2ms/step\n",
      "Epoch 72/100\n",
      "1228/1228 - 2s - loss: 2.0252e-05 - val_loss: 2.0253e-05 - 2s/epoch - 1ms/step\n",
      "Epoch 73/100\n",
      "1228/1228 - 2s - loss: 1.8749e-05 - val_loss: 1.9510e-05 - 2s/epoch - 2ms/step\n",
      "Epoch 74/100\n",
      "1228/1228 - 2s - loss: 2.0145e-05 - val_loss: 1.9866e-05 - 2s/epoch - 2ms/step\n",
      "Epoch 75/100\n",
      "1228/1228 - 2s - loss: 2.1017e-05 - val_loss: 2.1669e-05 - 2s/epoch - 2ms/step\n",
      "Epoch 76/100\n",
      "1228/1228 - 2s - loss: 1.8886e-05 - val_loss: 2.2397e-05 - 2s/epoch - 2ms/step\n",
      "Epoch 77/100\n",
      "1228/1228 - 2s - loss: 1.8418e-05 - val_loss: 2.1008e-05 - 2s/epoch - 2ms/step\n",
      "Epoch 78/100\n",
      "1228/1228 - 2s - loss: 1.9519e-05 - val_loss: 3.5174e-05 - 2s/epoch - 2ms/step\n",
      "Epoch 79/100\n",
      "1228/1228 - 2s - loss: 1.7887e-05 - val_loss: 2.2386e-05 - 2s/epoch - 2ms/step\n",
      "Epoch 80/100\n",
      "1228/1228 - 2s - loss: 1.7439e-05 - val_loss: 2.3635e-05 - 2s/epoch - 2ms/step\n",
      "Epoch 81/100\n",
      "1228/1228 - 2s - loss: 1.7289e-05 - val_loss: 1.9659e-05 - 2s/epoch - 2ms/step\n",
      "Epoch 82/100\n",
      "1228/1228 - 2s - loss: 1.7380e-05 - val_loss: 2.0246e-05 - 2s/epoch - 2ms/step\n",
      "Epoch 83/100\n",
      "1228/1228 - 2s - loss: 1.6944e-05 - val_loss: 2.1365e-05 - 2s/epoch - 1ms/step\n",
      "Epoch 84/100\n",
      "1228/1228 - 2s - loss: 1.7723e-05 - val_loss: 2.1787e-05 - 2s/epoch - 2ms/step\n",
      "Epoch 85/100\n",
      "1228/1228 - 2s - loss: 1.8094e-05 - val_loss: 2.4841e-05 - 2s/epoch - 2ms/step\n",
      "Epoch 86/100\n",
      "1228/1228 - 2s - loss: 1.7550e-05 - val_loss: 1.9302e-05 - 2s/epoch - 2ms/step\n",
      "Epoch 87/100\n",
      "1228/1228 - 2s - loss: 1.9931e-05 - val_loss: 2.4591e-05 - 2s/epoch - 2ms/step\n",
      "Epoch 88/100\n",
      "1228/1228 - 2s - loss: 1.8124e-05 - val_loss: 2.6429e-05 - 2s/epoch - 2ms/step\n",
      "Epoch 89/100\n",
      "1228/1228 - 2s - loss: 1.7183e-05 - val_loss: 2.2430e-05 - 2s/epoch - 2ms/step\n",
      "Epoch 90/100\n",
      "1228/1228 - 2s - loss: 1.9178e-05 - val_loss: 2.0779e-05 - 2s/epoch - 2ms/step\n"
     ]
    },
    {
     "name": "stdout",
     "output_type": "stream",
     "text": [
      "Epoch 91/100\n",
      "1228/1228 - 2s - loss: 1.5941e-05 - val_loss: 2.2842e-05 - 2s/epoch - 2ms/step\n",
      "Epoch 92/100\n",
      "1228/1228 - 2s - loss: 1.7411e-05 - val_loss: 2.1880e-05 - 2s/epoch - 2ms/step\n",
      "Epoch 93/100\n",
      "1228/1228 - 2s - loss: 1.9265e-05 - val_loss: 2.8847e-05 - 2s/epoch - 2ms/step\n",
      "Epoch 94/100\n",
      "1228/1228 - 3s - loss: 1.8268e-05 - val_loss: 2.0450e-05 - 3s/epoch - 2ms/step\n",
      "Epoch 95/100\n",
      "1228/1228 - 2s - loss: 1.6296e-05 - val_loss: 2.2338e-05 - 2s/epoch - 2ms/step\n",
      "Epoch 96/100\n",
      "1228/1228 - 2s - loss: 1.6550e-05 - val_loss: 1.9219e-05 - 2s/epoch - 2ms/step\n",
      "Epoch 97/100\n",
      "1228/1228 - 2s - loss: 1.6315e-05 - val_loss: 2.1039e-05 - 2s/epoch - 2ms/step\n",
      "Epoch 98/100\n",
      "1228/1228 - 2s - loss: 1.7954e-05 - val_loss: 2.3270e-05 - 2s/epoch - 2ms/step\n",
      "Epoch 99/100\n",
      "1228/1228 - 2s - loss: 1.7421e-05 - val_loss: 2.0421e-05 - 2s/epoch - 2ms/step\n",
      "Epoch 100/100\n",
      "1228/1228 - 2s - loss: 1.7096e-05 - val_loss: 3.3221e-05 - 2s/epoch - 2ms/step\n"
     ]
    }
   ],
   "source": [
    "# Train the autoencoder\n",
    "history = autoencoder.fit(\n",
    "    train_data,\n",
    "    train_data,  # Input and output are the same for an autoencoder\n",
    "    validation_data=(test_data, test_data),\n",
    "    epochs=100,\n",
    "    batch_size=32,\n",
    "    shuffle=True,\n",
    "    verbose=2,\n",
    "    callbacks=[\n",
    "        tf.keras.callbacks.EarlyStopping(monitor='val_loss', patience=20, restore_best_weights=True)\n",
    "    ]\n",
    ")"
   ]
  },
  {
   "cell_type": "code",
   "execution_count": 131,
   "metadata": {},
   "outputs": [
    {
     "data": {
      "image/png": "[encoded data removed]",
      "text/plain": [
       "<Figure size 640x480 with 1 Axes>"
      ]
     },
     "metadata": {},
     "output_type": "display_data"
    }
   ],
   "source": [
    "# Plot training and validation loss\n",
    "plt.plot(history.history['loss'], label='Training Loss')\n",
    "plt.plot(history.history['val_loss'], label='Validation Loss')\n",
    "plt.xlabel('Epochs')\n",
    "plt.ylabel('Loss (MSE)')\n",
    "plt.legend()\n",
    "plt.title('Autoencoder Training Performance')\n",
    "plt.show()"
   ]
  },
  {
   "cell_type": "code",
   "execution_count": 132,
   "metadata": {},
   "outputs": [
    {
     "name": "stdout",
     "output_type": "stream",
     "text": [
      "307/307 [==============================] - 0s 1ms/step\n",
      "Mean Reconstruction Loss on Test Data: 0.0000\n"
     ]
    }
   ],
   "source": [
    "# Evaluate on test data\n",
    "reconstructions = autoencoder.predict(test_data)\n",
    "reconstruction_loss = np.mean(np.square(reconstructions - test_data), axis=1)\n",
    "\n",
    "print(f\"Mean Reconstruction Loss on Test Data: {np.mean(reconstruction_loss):.4f}\")"
   ]
  },
  {
   "cell_type": "markdown",
   "metadata": {},
   "source": [
    "**Task 3: anomaly detection**\n",
    "\n",
    "From the histogram of the reconstruction error decide what the cutoff should be applied to distinguish anomalies from valid samples, given that the anomaly rate is ~7%."
   ]
  },
  {
   "cell_type": "code",
   "execution_count": 133,
   "metadata": {},
   "outputs": [
    {
     "name": "stdout",
     "output_type": "stream",
     "text": [
      "307/307 [==============================] - 0s 1ms/step\n"
     ]
    }
   ],
   "source": [
    "import numpy as np\n",
    "\n",
    "# Get reconstructed values for the test data\n",
    "reconstructions = autoencoder.predict(test_data)\n",
    "\n",
    "# Calculate reconstruction error for each sample\n",
    "reconstruction_errors = np.mean(np.square(reconstructions - test_data), axis=1)\n"
   ]
  },
  {
   "cell_type": "code",
   "execution_count": 134,
   "metadata": {},
   "outputs": [
    {
     "data": {
      "image/png": "[encoded data removed]",
      "text/plain": [
       "<Figure size 640x480 with 1 Axes>"
      ]
     },
     "metadata": {},
     "output_type": "display_data"
    }
   ],
   "source": [
    "import matplotlib.pyplot as plt\n",
    "\n",
    "# Plot the histogram\n",
    "plt.hist(reconstruction_errors, bins=50, alpha=0.7, color='blue')\n",
    "plt.xlabel(\"Reconstruction Error\")\n",
    "plt.ylabel(\"Frequency\")\n",
    "plt.title(\"Histogram of Reconstruction Errors\")\n",
    "plt.show()"
   ]
  },
  {
   "cell_type": "code",
   "execution_count": 135,
   "metadata": {},
   "outputs": [
    {
     "name": "stdout",
     "output_type": "stream",
     "text": [
      "Cutoff Threshold for Anomalies: 0.0001\n"
     ]
    }
   ],
   "source": [
    "# Calculate the 95th percentile as the cutoff for anomalies\n",
    "threshold = np.percentile(reconstruction_errors, 95)\n",
    "\n",
    "# Print the threshold\n",
    "print(f\"Cutoff Threshold for Anomalies: {threshold:.4f}\")\n"
   ]
  },
  {
   "cell_type": "code",
   "execution_count": 136,
   "metadata": {},
   "outputs": [
    {
     "name": "stdout",
     "output_type": "stream",
     "text": [
      "Number of anomalies: 491\n"
     ]
    }
   ],
   "source": [
    "# Classify samples as anomalies\n",
    "anomalies = reconstruction_errors > threshold\n",
    "\n",
    "# Print the number of anomalies\n",
    "print(f\"Number of anomalies: {np.sum(anomalies)}\")\n"
   ]
  },
  {
   "cell_type": "code",
   "execution_count": 137,
   "metadata": {},
   "outputs": [
    {
     "name": "stdout",
     "output_type": "stream",
     "text": [
      "Total number of arrays (rows): 9820\n"
     ]
    }
   ],
   "source": [
    "# Get the total number of arrays (rows) in the 2D array\n",
    "num_rows = test_data.shape[0]\n",
    "\n",
    "# Print the number of rows (arrays)\n",
    "print(f\"Total number of arrays (rows): {num_rows}\")"
   ]
  },
  {
   "cell_type": "code",
   "execution_count": 138,
   "metadata": {},
   "outputs": [
    {
     "data": {
      "text/plain": [
       "0.05"
      ]
     },
     "execution_count": 138,
     "metadata": {},
     "output_type": "execute_result"
    }
   ],
   "source": [
    "491/9820"
   ]
  },
  {
   "cell_type": "code",
   "execution_count": 139,
   "metadata": {},
   "outputs": [
    {
     "name": "stdout",
     "output_type": "stream",
     "text": [
      "Anomalous Samples:\n",
      "[[0.78787879 0.48676233 0.671875   ... 0.32026144 0.62600321 0.63022508]\n",
      " [0.80808081 0.48736863 0.6796875  ... 0.32026144 0.62439807 0.62700965]\n",
      " [0.48484848 0.48716653 0.4609375  ... 0.34640523 0.76565008 0.76527331]\n",
      " ...\n",
      " [0.56565657 0.48746968 0.5078125  ... 0.33333333 0.70786517 0.71061093]\n",
      " [0.28282828 0.48716653 0.0625     ... 0.14379085 0.65008026 0.6977492 ]\n",
      " [0.52525253 0.48656023 0.484375   ... 0.33986928 0.75441413 0.75241158]]\n"
     ]
    }
   ],
   "source": [
    "# Extract the anomalous rows from the test data\n",
    "anomalous_samples = test_data[anomalies]\n",
    "\n",
    "# Optionally, display the anomalous samples\n",
    "print(\"Anomalous Samples:\")\n",
    "print(anomalous_samples)\n"
   ]
  },
  {
   "cell_type": "code",
   "execution_count": 140,
   "metadata": {},
   "outputs": [
    {
     "name": "stdout",
     "output_type": "stream",
     "text": [
      "1228/1228 [==============================] - 1s 908us/step\n"
     ]
    },
    {
     "data": {
      "image/png": "[encoded data removed]",
      "text/plain": [
       "<Figure size 640x480 with 1 Axes>"
      ]
     },
     "metadata": {},
     "output_type": "display_data"
    }
   ],
   "source": [
    "# Transform the training data into the latent space\n",
    "latent_space = encoded.predict(train_data)\n",
    "\n",
    "# Plot the latent space\n",
    "import matplotlib.pyplot as plt\n",
    "\n",
    "plt.scatter(latent_space[:, 0], latent_space[:, 1], c='blue', alpha=0.5)\n",
    "plt.xlabel('Latent Variable 1')\n",
    "plt.ylabel('Latent Variable 2')\n",
    "plt.title('Latent Space Visualization')\n",
    "plt.grid(True)\n",
    "plt.show()\n"
   ]
  },
  {
   "cell_type": "markdown",
   "metadata": {},
   "source": [
    "### Post (complete by Sunday 02/02/25)\n",
    "\n",
    "Once you have an implemntation however rough, use the forums/topics to advertise the fact. The purpose is to get feedback from others in the group, so if you have only a basic outline then you may get ideas about how to proceed and also examples from others in your group.\n",
    "\n",
    "No posts should refer to Task 4."
   ]
  },
  {
   "cell_type": "markdown",
   "metadata": {},
   "source": [
    "### Respond (complete by Wednesday 05/02/24)\n",
    "\n",
    "If you feel you can provide useful advise then respond to another member of the group through the appropriate forum. Responses should be respectful and offer some sort of advise. Try and avoid clogging the forums with support or thank you messages.\n",
    "\n",
    "In reviewing others code you will discover different ways to tackle the same problem. It is acceptable to copy parts of others code. However whole scale copying from another notebook is not acceptable.\n",
    "\n",
    "If you stick to the deadline then it will allow yourself and others to have enough time to implement suggestions. From the Schedule you can see that this is not a hard deadline.\n",
    "\n",
    "The posts on the forum/topic associated with this e-tivity are graded. Below is a link to the rubrics.\n",
    "\n",
    "https://learn.ul.ie/d2l/lp/rubrics/preview.d2l?ou=49284&rubricId=2620&originTool=quicklinks"
   ]
  },
  {
   "cell_type": "markdown",
   "metadata": {},
   "source": [
    "### Task 4: VAE (completed by Sunday 09/02/24)\n",
    "\n",
    "This task is a individual task and should **not** to be uploaded to the Group Locker. No direct support should be given via the forums. Marks will be deducted if the instructions are not followed (see rubrics). This part should be uploaded directly to Brightpsace.\n",
    "\n",
    "Change the network to be a VAE. Again determine the optimal cutoff and plot the latent variables. Check how good the cutoffs were by constructing a confusion matrix or generating a classification report. Obviously for this task you need to use the Anom column.\n",
    "\n",
    "**Hint** you can use the model topology from the AE (with the obvious modifications). I found that I had a good model (almost as good and the supervised learning model) when the KL divergence was small. You can print out both the KL divergence and reconstruction loss for each epoch. It can be tricky to train these type of models, so do not be surprised if you do not get a stellar result. What is more important is that you have the correct code to implement the VAE."
   ]
  },
  {
   "cell_type": "markdown",
   "metadata": {},
   "source": [
    "### Final Submission (complete by Sunday 09/02/24)\n",
    "\n",
    "Submit Tasks 1-4 in a single notebook this before the deadline on Sunday.\n"
   ]
  },
  {
   "cell_type": "code",
   "execution_count": 141,
   "metadata": {},
   "outputs": [],
   "source": [
    "## Add additional code cells to implememt the tasks stated above "
   ]
  },
  {
   "cell_type": "markdown",
   "metadata": {},
   "source": [
    "## Reflection\n",
    "\n",
    "There are no specific marks allocated for a reflection. However due consideration will be given if pertinent comments or valuable insights are made."
   ]
  },
  {
   "cell_type": "code",
   "execution_count": null,
   "metadata": {},
   "outputs": [],
   "source": []
  }
 ],
 "metadata": {
  "kernelspec": {
   "display_name": "Python 3 (ipykernel)",
   "language": "python",
   "name": "python3"
  },
  "language_info": {
   "codemirror_mode": {
    "name": "ipython",
    "version": 3
   },
   "file_extension": ".py",
   "mimetype": "text/x-python",
   "name": "python",
   "nbconvert_exporter": "python",
   "pygments_lexer": "ipython3",
   "version": "3.10.9"
  },
  "latex_envs": {
   "LaTeX_envs_menu_present": true,
   "autoclose": false,
   "autocomplete": true,
   "bibliofile": "biblio.bib",
   "cite_by": "apalike",
   "current_citInitial": 1,
   "eqLabelWithNumbers": true,
   "eqNumInitial": 1,
   "hotkeys": {
    "equation": "Ctrl-E",
    "itemize": "Ctrl-I"
   },
   "labels_anchors": false,
   "latex_user_defs": false,
   "report_style_numbering": false,
   "user_envs_cfg": false
  }
 },
 "nbformat": 4,
 "nbformat_minor": 4
}
