{
 "cells": [
  {
   "cell_type": "code",
   "execution_count": null,
   "metadata": {},
   "outputs": [],
   "source": [
    "import numpy as np\n",
    "\n",
    "from pandas import read_csv\n",
    "from sklearn import datasets\n",
    "\n",
    "from sklearn.preprocessing import StandardScaler\n",
    "from sklearn.decomposition import PCA, FactorAnalysis\n",
    "\n",
    "import matplotlib.pyplot as plt\n",
    "from mpl_toolkits.mplot3d import Axes3D\n",
    "\n",
    "import tensorflow as tf\n",
    "from tensorflow.keras.models import Sequential, Model\n",
    "from tensorflow.keras.layers import Dense, Input\n",
    "from tensorflow.keras.optimizers import Adagrad, Adam\n",
    "\n",
    "from tensorflow.keras.utils import to_categorical\n",
    "# Eithe Keras or Sklearn function can be used for one-hot encodong\n",
    "from sklearn.preprocessing import OneHotEncoder\n",
    "\n",
    "from sklearn.model_selection import train_test_split\n",
    "\n",
    "import matplotlib.pyplot as plt"
   ]
  },
  {
   "cell_type": "code",
   "execution_count": null,
   "metadata": {},
   "outputs": [],
   "source": [
    "# Read data from file stored in the Keras Libarary definition\n",
    "iris = datasets.load_iris()\n",
    "X = iris.data\n",
    "y = iris.target"
   ]
  },
  {
   "cell_type": "code",
   "execution_count": null,
   "metadata": {},
   "outputs": [],
   "source": [
    "# Plot the data in 3D\n",
    "# Note there are four features but we are only plotting 3. Try plotting each combination\n",
    "# of the four input features.\n",
    "fig = plt.figure(0, figsize=(5, 4))\n",
    "ax = Axes3D(fig, rect=[0, 0, .95, 1], elev=48, azim=134)\n",
    "ax.scatter(X[:, 3], X[:, 0], X[:, 2],c=y)\n",
    "ax.set_title(\"Data\")"
   ]
  },
  {
   "cell_type": "code",
   "execution_count": null,
   "metadata": {},
   "outputs": [],
   "source": [
    "y_onehot_encoded_Keras = to_categorical(y).astype(int)"
   ]
  },
  {
   "cell_type": "code",
   "execution_count": null,
   "metadata": {},
   "outputs": [],
   "source": [
    "X_train, X_test, y_train, y_test = train_test_split(X, y_onehot_encoded_Keras, test_size=0.2, random_state=42)"
   ]
  },
  {
   "cell_type": "code",
   "execution_count": null,
   "metadata": {},
   "outputs": [],
   "source": [
    "# Scale the data with respect to the training data set\n",
    "scaler = StandardScaler()\n",
    "scaler.fit(X_train)\n",
    "X_scaled_train = scaler.transform(X_train)\n",
    "\n",
    "# Scaling the test set using the transform defined by the train set.\n",
    "X_scaled_test = scaler.transform(X_test)"
   ]
  },
  {
   "cell_type": "code",
   "execution_count": null,
   "metadata": {},
   "outputs": [],
   "source": [
    "#\n",
    "# PCA\n",
    "#\n",
    "\n",
    "pca = PCA(n_components=2)\n",
    "pca.fit(X_scaled_train)\n",
    "X_pca_train = pca.transform(X_scaled_train)\n",
    "\n",
    "X_pca_test = pca.transform(X_scaled_test)\n",
    "\n",
    "\n",
    "\n",
    "# Output PCA variance results\n",
    "print(\"Singular values = \\n\",pca.singular_values_)  # Not required to print\n",
    "print(\"\\nProportion of variance = \\n\",pca.explained_variance_ratio_) # Required to print\n"
   ]
  },
  {
   "cell_type": "code",
   "execution_count": null,
   "metadata": {},
   "outputs": [],
   "source": [
    "plt.scatter(X_pca_train[:,0],X_pca_train[:,1],c=y_train)\n",
    "plt.title(\"PCA components\")\n",
    "plt.savefig(\"PCA_plot.png\")\n",
    "plt.show()"
   ]
  },
  {
   "cell_type": "code",
   "execution_count": null,
   "metadata": {},
   "outputs": [],
   "source": [
    "#\n",
    "# Factor Analysis\n",
    "#\n",
    "\n",
    "fanal = FactorAnalysis(n_components=2)\n",
    "fanal.fit(X_scaled_train)\n",
    "\n",
    "X_fanal_train = fanal.transform(X_scaled_train)\n",
    "X_fanal_test = fanal.transform(X_scaled_test)\n",
    "print(X_scaled_train.shape[0])"
   ]
  },
  {
   "cell_type": "code",
   "execution_count": null,
   "metadata": {},
   "outputs": [],
   "source": [
    "plt.scatter(X_fanal_train[:,0],X_fanal_train[:,1],c=y_train)\n",
    "plt.title(\"Factor Analysis\")\n",
    "plt.savefig(\"FA.png\")\n",
    "plt.show()"
   ]
  },
  {
   "cell_type": "code",
   "execution_count": null,
   "metadata": {},
   "outputs": [],
   "source": [
    "#\n",
    "# AutoEncoder\n",
    "#\n",
    "\n",
    "input_data = Input(shape=(4,))\n",
    "encoder = Dense(units=2,activation='relu')(input_data)\n",
    "decoder = Dense(units=4,activation='linear')(encoder)\n",
    "\n",
    "autoencoder = Model(input_data,decoder)\n",
    "opt = Adagrad(learning_rate=0.1)\n",
    "autoencoder.compile(optimizer=opt,loss='mean_squared_error')\n",
    "autoencoder.summary()"
   ]
  },
  {
   "cell_type": "code",
   "execution_count": null,
   "metadata": {},
   "outputs": [],
   "source": [
    "autoencoder.fit(X_scaled_train,X_scaled_train,epochs=2000,batch_size=X_scaled_train.shape[0])"
   ]
  },
  {
   "cell_type": "code",
   "execution_count": null,
   "metadata": {},
   "outputs": [],
   "source": [
    "hidden_layers = tf.keras.backend.function(\n",
    "[autoencoder.layers[0].input],  # we will feed the function with the input of the first layer\n",
    "[autoencoder.layers[1].output,] # we want to get the output of the second layer\n",
    ")\n",
    "latent = hidden_layers([X_scaled_train])[0]"
   ]
  },
  {
   "cell_type": "code",
   "execution_count": null,
   "metadata": {},
   "outputs": [],
   "source": [
    "plt.scatter(latent[:,0],latent[:,1],c=y_train)\n",
    "plt.savefig(\"AE.png\")\n",
    "plt.show()"
   ]
  },
  {
   "cell_type": "code",
   "execution_count": null,
   "metadata": {},
   "outputs": [],
   "source": []
  }
 ],
 "metadata": {
  "kernelspec": {
   "display_name": "Python 3 (ipykernel)",
   "language": "python",
   "name": "python3"
  },
  "language_info": {
   "codemirror_mode": {
    "name": "ipython",
    "version": 3
   },
   "file_extension": ".py",
   "mimetype": "text/x-python",
   "name": "python",
   "nbconvert_exporter": "python",
   "pygments_lexer": "ipython3",
   "version": "3.9.17"
  },
  "latex_envs": {
   "LaTeX_envs_menu_present": true,
   "autoclose": false,
   "autocomplete": true,
   "bibliofile": "biblio.bib",
   "cite_by": "apalike",
   "current_citInitial": 1,
   "eqLabelWithNumbers": true,
   "eqNumInitial": 1,
   "hotkeys": {
    "equation": "Ctrl-E",
    "itemize": "Ctrl-I"
   },
   "labels_anchors": false,
   "latex_user_defs": false,
   "report_style_numbering": false,
   "user_envs_cfg": false
  }
 },
 "nbformat": 4,
 "nbformat_minor": 4
}
