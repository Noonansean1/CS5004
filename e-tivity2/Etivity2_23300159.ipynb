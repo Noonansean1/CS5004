{
 "cells": [
  {
   "cell_type": "markdown",
   "metadata": {},
   "source": [
    "# E-tivity 2 (10/02/25 - 23/02/25)\n",
    "\n",
    "* Sean Noonan\n",
    "\n",
    "* 23300159"
   ]
  },
  {
   "cell_type": "markdown",
   "metadata": {},
   "source": [
    "## Outline\n",
    "\n",
    "This e-tivity is split into two parts. The first part <a href=\"#part1\">**Stock Predicition**</a> is a group activity where you are tasked with predicting the stock market.\n",
    "\n",
    "The second <a href=\"#part2\">**Sentiment Analysis**</a> is an individual task, the problem is to predict if a film review is positive or negative."
   ]
  },
  {
   "cell_type": "markdown",
   "metadata": {},
   "source": [
    "### Guidelines\n",
    "\n",
    "The e-tivity is split into five tasks. The first four are \"group\" excersises, in that you post the solutions to Tasks 1-4 to the Group Locker. This will allow the members of your group to send you feedback (via the forums) so you can improve your submission. The final task is an individual task and together with the other tasks, should be uploaded to Brightspace.\n",
    "\n",
    "Marks will be deducted if task 5 is uploaded in contravention of instructions. Also if the the final submission is not a single notebook with tasks 1-5 and with correct identification or filename.\n",
    "\n",
    "\n",
    "Grading guidelines: the rubrics for the e-tivity are here https://learn.ul.ie/d2l/lp/rubrics/preview.d2l?ou=49284&rubricId=2621&originTool=quicklinks\n",
    "\n",
    "\n"
   ]
  },
  {
   "cell_type": "markdown",
   "metadata": {},
   "source": [
    "<a id='part1'></a>\n",
    "## Stock Prediction\n",
    "\n",
    "### Context\n",
    "\n",
    "There is a small dataset of real stock prices for each working day from the end of 2015 to the end of 2019. There are four variables (with a time stamp), stock price, oil price, gold price and Euro to Dollar exchange. You need to predict the Stock price a day ahead from only the past values of each of the 4 variables. \n",
    "\n",
    "\n",
    "### Tasks 1-4 (complete by Sunday 16/02/25)\n",
    "\n",
    "These tasks are to be completed and uploaded to GitLab on which the other group members can comment. The forum activity will form part of the overall mark for the e-tivity."
   ]
  },
  {
   "cell_type": "markdown",
   "metadata": {},
   "source": [
    "**Task 1: data preprocessing**\n",
    "\n",
    "Explain any preprocessing steps you take including but limited to reformatting and also how you have selected the training and test sets. The test set should be 20% of the whole.\n"
   ]
  },
  {
   "cell_type": "code",
   "execution_count": 63,
   "metadata": {},
   "outputs": [],
   "source": [
    "import pandas as pd\n",
    "import numpy as np\n",
    "import matplotlib.pyplot as plt\n",
    "import seaborn as sns"
   ]
  },
  {
   "cell_type": "code",
   "execution_count": 64,
   "metadata": {},
   "outputs": [],
   "source": [
    "df = pd.read_csv(\"./stock.csv\")"
   ]
  },
  {
   "cell_type": "markdown",
   "metadata": {},
   "source": [
    "Lets take a look at the data"
   ]
  },
  {
   "cell_type": "code",
   "execution_count": 65,
   "metadata": {},
   "outputs": [
    {
     "data": {
      "text/html": [
       "<div>\n",
       "<style scoped>\n",
       "    .dataframe tbody tr th:only-of-type {\n",
       "        vertical-align: middle;\n",
       "    }\n",
       "\n",
       "    .dataframe tbody tr th {\n",
       "        vertical-align: top;\n",
       "    }\n",
       "\n",
       "    .dataframe thead th {\n",
       "        text-align: right;\n",
       "    }\n",
       "</style>\n",
       "<table border=\"1\" class=\"dataframe\">\n",
       "  <thead>\n",
       "    <tr style=\"text-align: right;\">\n",
       "      <th></th>\n",
       "      <th>Date</th>\n",
       "      <th>Stock</th>\n",
       "      <th>Oil</th>\n",
       "      <th>EuroToDollar</th>\n",
       "      <th>Gold</th>\n",
       "    </tr>\n",
       "  </thead>\n",
       "  <tbody>\n",
       "    <tr>\n",
       "      <th>0</th>\n",
       "      <td>2015-11-23</td>\n",
       "      <td>2089.409912</td>\n",
       "      <td>41.490002</td>\n",
       "      <td>0.9432</td>\n",
       "      <td>1124.7</td>\n",
       "    </tr>\n",
       "    <tr>\n",
       "      <th>1</th>\n",
       "      <td>2015-11-24</td>\n",
       "      <td>2084.419922</td>\n",
       "      <td>42.040001</td>\n",
       "      <td>0.9388</td>\n",
       "      <td>1131.6</td>\n",
       "    </tr>\n",
       "    <tr>\n",
       "      <th>2</th>\n",
       "      <td>2015-11-25</td>\n",
       "      <td>2089.300049</td>\n",
       "      <td>42.689999</td>\n",
       "      <td>0.9420</td>\n",
       "      <td>1128.4</td>\n",
       "    </tr>\n",
       "    <tr>\n",
       "      <th>3</th>\n",
       "      <td>2015-11-27</td>\n",
       "      <td>2088.820068</td>\n",
       "      <td>43.250000</td>\n",
       "      <td>0.9438</td>\n",
       "      <td>1114.5</td>\n",
       "    </tr>\n",
       "    <tr>\n",
       "      <th>4</th>\n",
       "      <td>2015-11-30</td>\n",
       "      <td>2090.949951</td>\n",
       "      <td>41.770000</td>\n",
       "      <td>0.9468</td>\n",
       "      <td>1123.9</td>\n",
       "    </tr>\n",
       "  </tbody>\n",
       "</table>\n",
       "</div>"
      ],
      "text/plain": [
       "         Date        Stock        Oil  EuroToDollar    Gold\n",
       "0  2015-11-23  2089.409912  41.490002        0.9432  1124.7\n",
       "1  2015-11-24  2084.419922  42.040001        0.9388  1131.6\n",
       "2  2015-11-25  2089.300049  42.689999        0.9420  1128.4\n",
       "3  2015-11-27  2088.820068  43.250000        0.9438  1114.5\n",
       "4  2015-11-30  2090.949951  41.770000        0.9468  1123.9"
      ]
     },
     "execution_count": 65,
     "metadata": {},
     "output_type": "execute_result"
    }
   ],
   "source": [
    "# Lets have a look at the data\n",
    "df.head()"
   ]
  },
  {
   "cell_type": "markdown",
   "metadata": {},
   "source": [
    "Data is sorted into date order"
   ]
  },
  {
   "cell_type": "code",
   "execution_count": 66,
   "metadata": {},
   "outputs": [
    {
     "data": {
      "text/html": [
       "<div>\n",
       "<style scoped>\n",
       "    .dataframe tbody tr th:only-of-type {\n",
       "        vertical-align: middle;\n",
       "    }\n",
       "\n",
       "    .dataframe tbody tr th {\n",
       "        vertical-align: top;\n",
       "    }\n",
       "\n",
       "    .dataframe thead th {\n",
       "        text-align: right;\n",
       "    }\n",
       "</style>\n",
       "<table border=\"1\" class=\"dataframe\">\n",
       "  <thead>\n",
       "    <tr style=\"text-align: right;\">\n",
       "      <th></th>\n",
       "      <th>Stock</th>\n",
       "      <th>Oil</th>\n",
       "      <th>EuroToDollar</th>\n",
       "      <th>Gold</th>\n",
       "    </tr>\n",
       "  </thead>\n",
       "  <tbody>\n",
       "    <tr>\n",
       "      <th>count</th>\n",
       "      <td>1033.000000</td>\n",
       "      <td>1023.000000</td>\n",
       "      <td>1021.000000</td>\n",
       "      <td>1033.000000</td>\n",
       "    </tr>\n",
       "    <tr>\n",
       "      <th>mean</th>\n",
       "      <td>2537.063011</td>\n",
       "      <td>53.655484</td>\n",
       "      <td>0.883818</td>\n",
       "      <td>1353.312488</td>\n",
       "    </tr>\n",
       "    <tr>\n",
       "      <th>std</th>\n",
       "      <td>338.853458</td>\n",
       "      <td>9.799842</td>\n",
       "      <td>0.034394</td>\n",
       "      <td>89.592361</td>\n",
       "    </tr>\n",
       "    <tr>\n",
       "      <th>min</th>\n",
       "      <td>1833.400024</td>\n",
       "      <td>27.299999</td>\n",
       "      <td>0.800800</td>\n",
       "      <td>1090.200000</td>\n",
       "    </tr>\n",
       "    <tr>\n",
       "      <th>25%</th>\n",
       "      <td>2204.969971</td>\n",
       "      <td>47.594999</td>\n",
       "      <td>0.859700</td>\n",
       "      <td>1303.800000</td>\n",
       "    </tr>\n",
       "    <tr>\n",
       "      <th>50%</th>\n",
       "      <td>2584.000000</td>\n",
       "      <td>53.049999</td>\n",
       "      <td>0.887900</td>\n",
       "      <td>1346.500000</td>\n",
       "    </tr>\n",
       "    <tr>\n",
       "      <th>75%</th>\n",
       "      <td>2811.350098</td>\n",
       "      <td>60.625000</td>\n",
       "      <td>0.904500</td>\n",
       "      <td>1403.900000</td>\n",
       "    </tr>\n",
       "    <tr>\n",
       "      <th>max</th>\n",
       "      <td>3247.229980</td>\n",
       "      <td>76.180000</td>\n",
       "      <td>0.963900</td>\n",
       "      <td>1584.500000</td>\n",
       "    </tr>\n",
       "  </tbody>\n",
       "</table>\n",
       "</div>"
      ],
      "text/plain": [
       "             Stock          Oil  EuroToDollar         Gold\n",
       "count  1033.000000  1023.000000   1021.000000  1033.000000\n",
       "mean   2537.063011    53.655484      0.883818  1353.312488\n",
       "std     338.853458     9.799842      0.034394    89.592361\n",
       "min    1833.400024    27.299999      0.800800  1090.200000\n",
       "25%    2204.969971    47.594999      0.859700  1303.800000\n",
       "50%    2584.000000    53.049999      0.887900  1346.500000\n",
       "75%    2811.350098    60.625000      0.904500  1403.900000\n",
       "max    3247.229980    76.180000      0.963900  1584.500000"
      ]
     },
     "execution_count": 66,
     "metadata": {},
     "output_type": "execute_result"
    }
   ],
   "source": [
    "# Print statistical summary for all numerical attributes\n",
    "df.describe()"
   ]
  },
  {
   "cell_type": "code",
   "execution_count": 67,
   "metadata": {},
   "outputs": [
    {
     "data": {
      "text/plain": [
       "Index(['Date', 'Stock', 'Oil', 'EuroToDollar', 'Gold'], dtype='object')"
      ]
     },
     "execution_count": 67,
     "metadata": {},
     "output_type": "execute_result"
    }
   ],
   "source": [
    "df.columns"
   ]
  },
  {
   "cell_type": "code",
   "execution_count": 68,
   "metadata": {},
   "outputs": [
    {
     "data": {
      "text/plain": [
       "Date             object\n",
       "Stock           float64\n",
       "Oil             float64\n",
       "EuroToDollar    float64\n",
       "Gold            float64\n",
       "dtype: object"
      ]
     },
     "execution_count": 68,
     "metadata": {},
     "output_type": "execute_result"
    }
   ],
   "source": [
    "df.dtypes"
   ]
  },
  {
   "cell_type": "code",
   "execution_count": 69,
   "metadata": {},
   "outputs": [
    {
     "name": "stdout",
     "output_type": "stream",
     "text": [
      "Missing values in numerical variables:\n",
      "Stock            0\n",
      "Oil             10\n",
      "EuroToDollar    12\n",
      "Gold             0\n",
      "dtype: int64\n"
     ]
    }
   ],
   "source": [
    "numerical_columns = df.select_dtypes(include=['number']).columns\n",
    "missing_numerical = df[numerical_columns].isnull().sum()\n",
    "\n",
    "print(\"Missing values in numerical variables:\")\n",
    "print(missing_numerical)"
   ]
  },
  {
   "cell_type": "code",
   "execution_count": 70,
   "metadata": {},
   "outputs": [
    {
     "data": {
      "image/png": "[encoded data removed]",
      "text/plain": [
       "<Figure size 1000x600 with 2 Axes>"
      ]
     },
     "metadata": {},
     "output_type": "display_data"
    }
   ],
   "source": [
    "# Compute the correlation matrix\n",
    "corr_matrix = df.drop(columns=[\"Date\"]).corr()\n",
    "\n",
    "# Display the matrix as a heatmap\n",
    "plt.figure(figsize=(10, 6))\n",
    "sns.heatmap(corr_matrix, annot=True, cmap='coolwarm', fmt=\".2f\", linewidths=0.5)\n",
    "\n",
    "# Add title\n",
    "plt.title(\"Correlation Matrix\")\n",
    "\n",
    "# Show the plot\n",
    "plt.show()"
   ]
  },
  {
   "cell_type": "code",
   "execution_count": 71,
   "metadata": {},
   "outputs": [
    {
     "data": {
      "text/plain": [
       "<Axes: ylabel='Density'>"
      ]
     },
     "execution_count": 71,
     "metadata": {},
     "output_type": "execute_result"
    },
    {
     "data": {
      "image/png": "[encoded data removed]",
      "text/plain": [
       "<Figure size 640x480 with 1 Axes>"
      ]
     },
     "metadata": {},
     "output_type": "display_data"
    }
   ],
   "source": [
    "df['Stock'].plot.density()"
   ]
  },
  {
   "cell_type": "code",
   "execution_count": 72,
   "metadata": {},
   "outputs": [
    {
     "name": "stdout",
     "output_type": "stream",
     "text": [
      "1033 Date\n",
      "1021 Stock\n",
      "878 Oil\n",
      "645 EuroToDollar\n",
      "854 Gold\n"
     ]
    }
   ],
   "source": [
    "for column in df.columns:\n",
    "    print(df[column].nunique(), column) "
   ]
  },
  {
   "cell_type": "markdown",
   "metadata": {},
   "source": [
    "1033 unique dates"
   ]
  },
  {
   "cell_type": "markdown",
   "metadata": {},
   "source": [
    "I need to ensure train test split is in sequence"
   ]
  },
  {
   "cell_type": "code",
   "execution_count": 73,
   "metadata": {},
   "outputs": [],
   "source": [
    "# Split data\n",
    "train_size = int(len(df) * 0.8)  # 80% train, 20% test\n",
    "df_train, df_test = df.iloc[:train_size], df.iloc[train_size:]"
   ]
  },
  {
   "cell_type": "markdown",
   "metadata": {},
   "source": [
    "**Task 2: data cleaning**\n",
    "\n",
    "There are a number of missing values in the data. Clean the data so that it is suitable for use with the NN. Bare in mind that you want to retain the time coherency of the data as much as possible. Explain the steps you have taken.\n"
   ]
  },
  {
   "cell_type": "code",
   "execution_count": 74,
   "metadata": {},
   "outputs": [],
   "source": [
    "# Remove rows with any NaN values for any feature\n",
    "\n",
    "# df_train_c = df_train.dropna()\n",
    "# df_test_c = df_test.dropna()"
   ]
  },
  {
   "cell_type": "markdown",
   "metadata": {},
   "source": [
    "Instead of removing we will fill them in. It is not good to remove as the sequence of data is disturbed."
   ]
  },
  {
   "cell_type": "code",
   "execution_count": 75,
   "metadata": {},
   "outputs": [],
   "source": [
    "from sklearn.impute import KNNImputer\n",
    "\n",
    "# Exclude the DATE column\n",
    "df_train_numeric = df_train.drop(columns=[\"Date\"])\n",
    "df_test_numeric = df_test.drop(columns=[\"Date\"])\n",
    "\n",
    "# Apply KNN imputation only on numeric columns\n",
    "knn_imputer = KNNImputer(n_neighbors=3)  # Use 3 nearest neighbors\n",
    "\n",
    "df_train_imputed = pd.DataFrame(knn_imputer.fit_transform(df_train_numeric), \n",
    "                                columns=df_train_numeric.columns, \n",
    "                                index=df_train_numeric.index)\n",
    "\n",
    "df_test_imputed = pd.DataFrame(knn_imputer.transform(df_test_numeric), \n",
    "                               columns=df_test_numeric.columns, \n",
    "                               index=df_test_numeric.index)\n",
    "\n",
    "# Reattach the DATE column\n",
    "df_train_c = df_train.copy()\n",
    "df_test_c = df_test.copy()\n",
    "df_train_c[df_train_numeric.columns] = df_train_imputed\n",
    "df_test_c[df_test_numeric.columns] = df_test_imputed"
   ]
  },
  {
   "cell_type": "code",
   "execution_count": 76,
   "metadata": {},
   "outputs": [
    {
     "name": "stdout",
     "output_type": "stream",
     "text": [
      "Missing values in numerical variables:\n",
      "Stock           0\n",
      "Oil             0\n",
      "EuroToDollar    0\n",
      "Gold            0\n",
      "dtype: int64\n"
     ]
    }
   ],
   "source": [
    "numerical_columns = df_train_c.select_dtypes(include=['number']).columns\n",
    "missing_numerical = df_train_c[numerical_columns].isnull().sum()\n",
    "\n",
    "print(\"Missing values in numerical variables:\")\n",
    "print(missing_numerical)"
   ]
  },
  {
   "cell_type": "code",
   "execution_count": 77,
   "metadata": {},
   "outputs": [
    {
     "name": "stdout",
     "output_type": "stream",
     "text": [
      "Date            826\n",
      "Stock           826\n",
      "Oil             826\n",
      "EuroToDollar    826\n",
      "Gold            826\n",
      "dtype: int64\n",
      "Date            207\n",
      "Stock           207\n",
      "Oil             207\n",
      "EuroToDollar    207\n",
      "Gold            207\n",
      "dtype: int64\n"
     ]
    }
   ],
   "source": [
    "print(df_train_c.count())\n",
    "print(df_test_c.count())"
   ]
  },
  {
   "cell_type": "code",
   "execution_count": 78,
   "metadata": {},
   "outputs": [
    {
     "name": "stdout",
     "output_type": "stream",
     "text": [
      "Non-numeric columns: Index(['Date'], dtype='object')\n"
     ]
    }
   ],
   "source": [
    "# List all non-numeric features in the DataFrame\n",
    "non_numeric_columns = df_train_c.select_dtypes(include=['object']).columns\n",
    "print(\"Non-numeric columns:\", non_numeric_columns)\n"
   ]
  },
  {
   "cell_type": "markdown",
   "metadata": {},
   "source": [
    "I need to convert the Date column"
   ]
  },
  {
   "cell_type": "code",
   "execution_count": 79,
   "metadata": {},
   "outputs": [
    {
     "data": {
      "text/html": [
       "<div>\n",
       "<style scoped>\n",
       "    .dataframe tbody tr th:only-of-type {\n",
       "        vertical-align: middle;\n",
       "    }\n",
       "\n",
       "    .dataframe tbody tr th {\n",
       "        vertical-align: top;\n",
       "    }\n",
       "\n",
       "    .dataframe thead th {\n",
       "        text-align: right;\n",
       "    }\n",
       "</style>\n",
       "<table border=\"1\" class=\"dataframe\">\n",
       "  <thead>\n",
       "    <tr style=\"text-align: right;\">\n",
       "      <th></th>\n",
       "      <th>Stock</th>\n",
       "      <th>Oil</th>\n",
       "      <th>EuroToDollar</th>\n",
       "      <th>Gold</th>\n",
       "    </tr>\n",
       "    <tr>\n",
       "      <th>Date</th>\n",
       "      <th></th>\n",
       "      <th></th>\n",
       "      <th></th>\n",
       "      <th></th>\n",
       "    </tr>\n",
       "  </thead>\n",
       "  <tbody>\n",
       "    <tr>\n",
       "      <th>2015-11-23</th>\n",
       "      <td>2089.409912</td>\n",
       "      <td>41.490002</td>\n",
       "      <td>0.9432</td>\n",
       "      <td>1124.7</td>\n",
       "    </tr>\n",
       "    <tr>\n",
       "      <th>2015-11-24</th>\n",
       "      <td>2084.419922</td>\n",
       "      <td>42.040001</td>\n",
       "      <td>0.9388</td>\n",
       "      <td>1131.6</td>\n",
       "    </tr>\n",
       "    <tr>\n",
       "      <th>2015-11-25</th>\n",
       "      <td>2089.300049</td>\n",
       "      <td>42.689999</td>\n",
       "      <td>0.9420</td>\n",
       "      <td>1128.4</td>\n",
       "    </tr>\n",
       "    <tr>\n",
       "      <th>2015-11-27</th>\n",
       "      <td>2088.820068</td>\n",
       "      <td>43.250000</td>\n",
       "      <td>0.9438</td>\n",
       "      <td>1114.5</td>\n",
       "    </tr>\n",
       "    <tr>\n",
       "      <th>2015-11-30</th>\n",
       "      <td>2090.949951</td>\n",
       "      <td>41.770000</td>\n",
       "      <td>0.9468</td>\n",
       "      <td>1123.9</td>\n",
       "    </tr>\n",
       "  </tbody>\n",
       "</table>\n",
       "</div>"
      ],
      "text/plain": [
       "                  Stock        Oil  EuroToDollar    Gold\n",
       "Date                                                    \n",
       "2015-11-23  2089.409912  41.490002        0.9432  1124.7\n",
       "2015-11-24  2084.419922  42.040001        0.9388  1131.6\n",
       "2015-11-25  2089.300049  42.689999        0.9420  1128.4\n",
       "2015-11-27  2088.820068  43.250000        0.9438  1114.5\n",
       "2015-11-30  2090.949951  41.770000        0.9468  1123.9"
      ]
     },
     "execution_count": 79,
     "metadata": {},
     "output_type": "execute_result"
    }
   ],
   "source": [
    "import pandas as pd\n",
    "df_train_c1 = df_train_c\n",
    "df_train_c1[\"Date\"] = pd.to_datetime(df_train_c[\"Date\"])\n",
    "df_train_c1.set_index(\"Date\", inplace=True)  # Set Date as the index\n",
    "df_train_c1.sort_index(inplace=True)  # Ensure chronological order\n",
    "df_train_c1.head()"
   ]
  },
  {
   "cell_type": "code",
   "execution_count": 80,
   "metadata": {},
   "outputs": [],
   "source": [
    "df_test_c1 = df_test_c\n",
    "df_test_c1[\"Date\"] = pd.to_datetime(df_test_c[\"Date\"])\n",
    "df_test_c1.set_index(\"Date\", inplace=True)  # Set Date as the index\n",
    "df_test_c1.sort_index(inplace=True)  # Ensure chronological order"
   ]
  },
  {
   "cell_type": "code",
   "execution_count": 81,
   "metadata": {},
   "outputs": [],
   "source": [
    "from sklearn.preprocessing import MinMaxScaler\n",
    "\n",
    "# Fit the scaler only on the training data\n",
    "scaler = MinMaxScaler()\n",
    "df_train_t = pd.DataFrame(scaler.fit_transform(df_train_c1), columns=df_train_c1.columns, index=df_train_c1.index)\n",
    "\n",
    "# Transform the test data using the same scaler fitted on the training data\n",
    "df_test_t = pd.DataFrame(scaler.transform(df_test_c1), columns=df_test_c1.columns, index=df_test_c1.index)\n"
   ]
  },
  {
   "cell_type": "markdown",
   "metadata": {},
   "source": [
    "**Task 3: model construction**\n",
    "\n",
    "Construct a RNN network that will predict the future value of Stock, one day/time inteval in advance."
   ]
  },
  {
   "cell_type": "code",
   "execution_count": 82,
   "metadata": {},
   "outputs": [],
   "source": [
    "# Create Sequences\n",
    "sequence_length = 12 # We will use the prvious samples to predict the next one\n",
    "target_column = \"Stock\"\n",
    "\n",
    "X_train, y_train, X_test, y_test = [], [], [], []\n",
    "\n",
    "# Train sequences\n",
    "for i in range(len(df_train_t) - sequence_length):\n",
    "    X_train.append(df_train_t.iloc[i : i + sequence_length].values)\n",
    "    y_train.append(df_train_t.iloc[i + sequence_length][target_column])\n",
    "\n",
    "# Test sequences\n",
    "for i in range(len(df_test_t) - sequence_length):\n",
    "    X_test.append(df_test_t.iloc[i : i + sequence_length].values)\n",
    "    y_test.append(df_test_t.iloc[i + sequence_length][target_column])\n",
    "\n",
    "# Convert to NumPy arrays\n",
    "X_train, y_train = np.array(X_train), np.array(y_train)\n",
    "X_test, y_test = np.array(X_test), np.array(y_test)"
   ]
  },
  {
   "cell_type": "code",
   "execution_count": 83,
   "metadata": {},
   "outputs": [
    {
     "name": "stdout",
     "output_type": "stream",
     "text": [
      "[[[0.81332478 0.59594927 0.54322502 0.71949584]\n",
      "  [0.82856918 0.5885843  0.55180871 0.69670153]\n",
      "  [0.86457736 0.60270046 0.52728387 0.71440064]\n",
      "  ...\n",
      "  [0.89392398 0.66878074 0.4868179  0.73558595]\n",
      "  [0.91640082 0.66632568 0.52483139 0.74550818]\n",
      "  [0.87243511 0.64811785 0.50459841 0.77205685]]\n",
      "\n",
      " [[0.82856918 0.5885843  0.55180871 0.69670153]\n",
      "  [0.86457736 0.60270046 0.52728387 0.71440064]\n",
      "  [0.87585196 0.60945173 0.51134273 0.74524001]\n",
      "  ...\n",
      "  [0.91640082 0.66632568 0.52483139 0.74550818]\n",
      "  [0.87243511 0.64811785 0.50459841 0.77205685]\n",
      "  [0.88752529 0.65098198 0.52544451 0.74845803]]\n",
      "\n",
      " [[0.86457736 0.60270046 0.52728387 0.71440064]\n",
      "  [0.87585196 0.60945173 0.51134273 0.74524001]\n",
      "  [0.88545885 0.6352291  0.51379522 0.70447841]\n",
      "  ...\n",
      "  [0.87243511 0.64811785 0.50459841 0.77205685]\n",
      "  [0.88752529 0.65098198 0.52544451 0.74845803]\n",
      "  [0.89392398 0.669599   0.54015941 0.73370877]]\n",
      "\n",
      " ...\n",
      "\n",
      " [[1.17999574 0.64689031 0.61863887 1.07374631]\n",
      "  [1.18034911 0.64975453 0.61802575 1.09895414]\n",
      "  [1.18531574 0.64607204 0.60637646 1.12898901]\n",
      "  ...\n",
      "  [1.26219008 0.67737317 0.61802575 1.12764816]\n",
      "  [1.26164619 0.88379706 0.62170448 1.14883347]\n",
      "  [1.26323226 0.69353521 0.61250766 1.17645481]]\n",
      "\n",
      " [[1.18034911 0.64975453 0.61802575 1.09895414]\n",
      "  [1.18531574 0.64607204 0.60637646 1.12898901]\n",
      "  [1.20835439 0.65589201 0.59963213 1.08018235]\n",
      "  ...\n",
      "  [1.26164619 0.88379706 0.62170448 1.14883347]\n",
      "  [1.26323226 0.69353521 0.61250766 1.17645481]\n",
      "  [1.28138593 0.70437807 0.57694666 1.20809869]]\n",
      "\n",
      " [[1.18531574 0.64607204 0.60637646 1.12898901]\n",
      "  [1.20835439 0.65589201 0.59963213 1.08018235]\n",
      "  [1.22374372 0.66632568 0.59411404 1.11343524]\n",
      "  ...\n",
      "  [1.26323226 0.69353521 0.61250766 1.17645481]\n",
      "  [1.28138593 0.70437807 0.57694666 1.20809869]\n",
      "  [1.27491488 0.70396889 0.55610055 1.21668008]]]\n"
     ]
    }
   ],
   "source": [
    "print(X_test)"
   ]
  },
  {
   "cell_type": "code",
   "execution_count": 84,
   "metadata": {},
   "outputs": [
    {
     "name": "stdout",
     "output_type": "stream",
     "text": [
      "Model: \"sequential_5\"\n",
      "_________________________________________________________________\n",
      " Layer (type)                Output Shape              Param #   \n",
      "=================================================================\n",
      " simple_rnn_6 (SimpleRNN)    (None, 12, 50)            2750      \n",
      "                                                                 \n",
      " dropout_10 (Dropout)        (None, 12, 50)            0         \n",
      "                                                                 \n",
      " simple_rnn_7 (SimpleRNN)    (None, 50)                5050      \n",
      "                                                                 \n",
      " dropout_11 (Dropout)        (None, 50)                0         \n",
      "                                                                 \n",
      " dense_8 (Dense)             (None, 25)                1275      \n",
      "                                                                 \n",
      " dense_9 (Dense)             (None, 1)                 26        \n",
      "                                                                 \n",
      "=================================================================\n",
      "Total params: 9101 (35.55 KB)\n",
      "Trainable params: 9101 (35.55 KB)\n",
      "Non-trainable params: 0 (0.00 Byte)\n",
      "_________________________________________________________________\n"
     ]
    }
   ],
   "source": [
    "import tensorflow as tf\n",
    "from tensorflow.keras.models import Sequential\n",
    "from tensorflow.keras.layers import SimpleRNN, Dense, Dropout\n",
    "\n",
    "# Define the RNN model\n",
    "model = Sequential([\n",
    "    SimpleRNN(units=50, return_sequences=True, input_shape=(X_train.shape[1], X_train.shape[2])),\n",
    "    Dropout(0.2),  # Dropout to prevent overfitting\n",
    "    SimpleRNN(units=50, return_sequences=False),\n",
    "    Dropout(0.2),\n",
    "    Dense(units=25, activation=\"relu\"),\n",
    "    Dense(units=1)  # Output layer for regression (predicting one value)\n",
    "])\n",
    "\n",
    "# Compile the model\n",
    "# model.compile(optimizer=\"adam\", loss=\"mean_squared_error\")\n",
    "from tensorflow.keras.optimizers import Adam\n",
    "model.compile(optimizer=Adam(learning_rate=0.0001), loss='mse', metrics=['mae'])\n",
    "\n",
    "\n",
    "# Model Summary\n",
    "model.summary()\n"
   ]
  },
  {
   "cell_type": "code",
   "execution_count": 85,
   "metadata": {},
   "outputs": [
    {
     "name": "stdout",
     "output_type": "stream",
     "text": [
      "Epoch 1/100\n",
      "26/26 [==============================] - 2s 15ms/step - loss: 0.1235 - mae: 0.2749 - val_loss: 0.2245 - val_mae: 0.4680\n",
      "Epoch 2/100\n",
      "26/26 [==============================] - 0s 6ms/step - loss: 0.1007 - mae: 0.2533 - val_loss: 0.1296 - val_mae: 0.3529\n",
      "Epoch 3/100\n",
      "26/26 [==============================] - 0s 6ms/step - loss: 0.0694 - mae: 0.2094 - val_loss: 0.0596 - val_mae: 0.2336\n",
      "Epoch 4/100\n",
      "26/26 [==============================] - 0s 6ms/step - loss: 0.0586 - mae: 0.1924 - val_loss: 0.0551 - val_mae: 0.2236\n",
      "Epoch 5/100\n",
      "26/26 [==============================] - 0s 6ms/step - loss: 0.0534 - mae: 0.1828 - val_loss: 0.0522 - val_mae: 0.2185\n",
      "Epoch 6/100\n",
      "26/26 [==============================] - 0s 6ms/step - loss: 0.0477 - mae: 0.1728 - val_loss: 0.0408 - val_mae: 0.1930\n",
      "Epoch 7/100\n",
      "26/26 [==============================] - 0s 5ms/step - loss: 0.0396 - mae: 0.1558 - val_loss: 0.0417 - val_mae: 0.1962\n",
      "Epoch 8/100\n",
      "26/26 [==============================] - 0s 6ms/step - loss: 0.0364 - mae: 0.1513 - val_loss: 0.0390 - val_mae: 0.1896\n",
      "Epoch 9/100\n",
      "26/26 [==============================] - 0s 6ms/step - loss: 0.0306 - mae: 0.1392 - val_loss: 0.0305 - val_mae: 0.1650\n",
      "Epoch 10/100\n",
      "26/26 [==============================] - 0s 5ms/step - loss: 0.0314 - mae: 0.1405 - val_loss: 0.0221 - val_mae: 0.1374\n",
      "Epoch 11/100\n",
      "26/26 [==============================] - 0s 6ms/step - loss: 0.0301 - mae: 0.1380 - val_loss: 0.0285 - val_mae: 0.1597\n",
      "Epoch 12/100\n",
      "26/26 [==============================] - 0s 5ms/step - loss: 0.0264 - mae: 0.1268 - val_loss: 0.0251 - val_mae: 0.1490\n",
      "Epoch 13/100\n",
      "26/26 [==============================] - 0s 5ms/step - loss: 0.0267 - mae: 0.1299 - val_loss: 0.0241 - val_mae: 0.1453\n",
      "Epoch 14/100\n",
      "26/26 [==============================] - 0s 6ms/step - loss: 0.0232 - mae: 0.1238 - val_loss: 0.0329 - val_mae: 0.1733\n",
      "Epoch 15/100\n",
      "26/26 [==============================] - 0s 6ms/step - loss: 0.0243 - mae: 0.1224 - val_loss: 0.0295 - val_mae: 0.1621\n",
      "Epoch 16/100\n",
      "26/26 [==============================] - 0s 5ms/step - loss: 0.0222 - mae: 0.1190 - val_loss: 0.0265 - val_mae: 0.1509\n",
      "Epoch 17/100\n",
      "26/26 [==============================] - 0s 5ms/step - loss: 0.0219 - mae: 0.1176 - val_loss: 0.0237 - val_mae: 0.1419\n",
      "Epoch 18/100\n",
      "26/26 [==============================] - 0s 6ms/step - loss: 0.0204 - mae: 0.1133 - val_loss: 0.0324 - val_mae: 0.1690\n",
      "Epoch 19/100\n",
      "26/26 [==============================] - 0s 5ms/step - loss: 0.0191 - mae: 0.1094 - val_loss: 0.0254 - val_mae: 0.1456\n",
      "Epoch 20/100\n",
      "26/26 [==============================] - 0s 6ms/step - loss: 0.0177 - mae: 0.1049 - val_loss: 0.0322 - val_mae: 0.1683\n",
      "Epoch 21/100\n",
      "26/26 [==============================] - 0s 6ms/step - loss: 0.0193 - mae: 0.1079 - val_loss: 0.0320 - val_mae: 0.1678\n",
      "Epoch 22/100\n",
      "26/26 [==============================] - 0s 6ms/step - loss: 0.0174 - mae: 0.1051 - val_loss: 0.0345 - val_mae: 0.1756\n",
      "Epoch 23/100\n",
      "26/26 [==============================] - 0s 6ms/step - loss: 0.0177 - mae: 0.1050 - val_loss: 0.0340 - val_mae: 0.1739\n",
      "Epoch 24/100\n",
      "26/26 [==============================] - 0s 6ms/step - loss: 0.0177 - mae: 0.1062 - val_loss: 0.0307 - val_mae: 0.1642\n",
      "Epoch 25/100\n",
      "26/26 [==============================] - 0s 6ms/step - loss: 0.0167 - mae: 0.1027 - val_loss: 0.0464 - val_mae: 0.2052\n",
      "Epoch 26/100\n",
      "26/26 [==============================] - 0s 5ms/step - loss: 0.0157 - mae: 0.0987 - val_loss: 0.0359 - val_mae: 0.1774\n",
      "Epoch 27/100\n",
      "26/26 [==============================] - 0s 6ms/step - loss: 0.0158 - mae: 0.1011 - val_loss: 0.0266 - val_mae: 0.1487\n",
      "Epoch 28/100\n",
      "26/26 [==============================] - 0s 6ms/step - loss: 0.0160 - mae: 0.1020 - val_loss: 0.0311 - val_mae: 0.1618\n",
      "Epoch 29/100\n",
      "26/26 [==============================] - 0s 6ms/step - loss: 0.0151 - mae: 0.0975 - val_loss: 0.0377 - val_mae: 0.1833\n",
      "Epoch 30/100\n",
      "26/26 [==============================] - 0s 6ms/step - loss: 0.0140 - mae: 0.0930 - val_loss: 0.0399 - val_mae: 0.1897\n",
      "Epoch 31/100\n",
      "26/26 [==============================] - 0s 6ms/step - loss: 0.0142 - mae: 0.0946 - val_loss: 0.0342 - val_mae: 0.1739\n",
      "Epoch 32/100\n",
      "26/26 [==============================] - 0s 6ms/step - loss: 0.0152 - mae: 0.0974 - val_loss: 0.0401 - val_mae: 0.1876\n",
      "Epoch 33/100\n",
      "26/26 [==============================] - 0s 6ms/step - loss: 0.0136 - mae: 0.0913 - val_loss: 0.0366 - val_mae: 0.1792\n",
      "Epoch 34/100\n",
      "26/26 [==============================] - 0s 6ms/step - loss: 0.0140 - mae: 0.0933 - val_loss: 0.0432 - val_mae: 0.1963\n",
      "Epoch 35/100\n",
      "26/26 [==============================] - 0s 6ms/step - loss: 0.0118 - mae: 0.0854 - val_loss: 0.0422 - val_mae: 0.1935\n",
      "Epoch 36/100\n",
      "26/26 [==============================] - 0s 6ms/step - loss: 0.0124 - mae: 0.0893 - val_loss: 0.0533 - val_mae: 0.2214\n",
      "Epoch 37/100\n",
      "26/26 [==============================] - 0s 6ms/step - loss: 0.0127 - mae: 0.0887 - val_loss: 0.0501 - val_mae: 0.2147\n",
      "Epoch 38/100\n",
      "26/26 [==============================] - 0s 6ms/step - loss: 0.0127 - mae: 0.0898 - val_loss: 0.0417 - val_mae: 0.1925\n",
      "Epoch 39/100\n",
      "26/26 [==============================] - 0s 5ms/step - loss: 0.0116 - mae: 0.0843 - val_loss: 0.0507 - val_mae: 0.2145\n",
      "Epoch 40/100\n",
      "26/26 [==============================] - 0s 5ms/step - loss: 0.0118 - mae: 0.0869 - val_loss: 0.0415 - val_mae: 0.1916\n",
      "Epoch 41/100\n",
      "26/26 [==============================] - 0s 6ms/step - loss: 0.0116 - mae: 0.0849 - val_loss: 0.0416 - val_mae: 0.1927\n",
      "Epoch 42/100\n",
      "26/26 [==============================] - 0s 6ms/step - loss: 0.0111 - mae: 0.0835 - val_loss: 0.0421 - val_mae: 0.1930\n",
      "Epoch 43/100\n",
      "26/26 [==============================] - 0s 6ms/step - loss: 0.0110 - mae: 0.0836 - val_loss: 0.0423 - val_mae: 0.1944\n",
      "Epoch 44/100\n",
      "26/26 [==============================] - 0s 5ms/step - loss: 0.0100 - mae: 0.0803 - val_loss: 0.0395 - val_mae: 0.1869\n",
      "Epoch 45/100\n",
      "26/26 [==============================] - 0s 5ms/step - loss: 0.0114 - mae: 0.0833 - val_loss: 0.0360 - val_mae: 0.1772\n",
      "Epoch 46/100\n",
      "26/26 [==============================] - 0s 6ms/step - loss: 0.0108 - mae: 0.0825 - val_loss: 0.0432 - val_mae: 0.1959\n",
      "Epoch 47/100\n",
      "26/26 [==============================] - 0s 5ms/step - loss: 0.0104 - mae: 0.0804 - val_loss: 0.0438 - val_mae: 0.1963\n",
      "Epoch 48/100\n",
      "26/26 [==============================] - 0s 7ms/step - loss: 0.0110 - mae: 0.0823 - val_loss: 0.0411 - val_mae: 0.1914\n",
      "Epoch 49/100\n",
      "26/26 [==============================] - 0s 7ms/step - loss: 0.0106 - mae: 0.0803 - val_loss: 0.0429 - val_mae: 0.1961\n",
      "Epoch 50/100\n",
      "26/26 [==============================] - 0s 6ms/step - loss: 0.0107 - mae: 0.0834 - val_loss: 0.0459 - val_mae: 0.2025\n",
      "Epoch 51/100\n",
      "26/26 [==============================] - 0s 7ms/step - loss: 0.0102 - mae: 0.0802 - val_loss: 0.0412 - val_mae: 0.1900\n",
      "Epoch 52/100\n",
      "26/26 [==============================] - 0s 6ms/step - loss: 0.0095 - mae: 0.0765 - val_loss: 0.0386 - val_mae: 0.1835\n",
      "Epoch 53/100\n",
      "26/26 [==============================] - 0s 7ms/step - loss: 0.0093 - mae: 0.0766 - val_loss: 0.0463 - val_mae: 0.2019\n",
      "Epoch 54/100\n",
      "26/26 [==============================] - 0s 6ms/step - loss: 0.0090 - mae: 0.0759 - val_loss: 0.0375 - val_mae: 0.1791\n",
      "Epoch 55/100\n",
      "26/26 [==============================] - 0s 6ms/step - loss: 0.0083 - mae: 0.0712 - val_loss: 0.0388 - val_mae: 0.1822\n",
      "Epoch 56/100\n",
      "26/26 [==============================] - 0s 7ms/step - loss: 0.0088 - mae: 0.0741 - val_loss: 0.0419 - val_mae: 0.1909\n",
      "Epoch 57/100\n",
      "26/26 [==============================] - 0s 7ms/step - loss: 0.0091 - mae: 0.0752 - val_loss: 0.0313 - val_mae: 0.1613\n",
      "Epoch 58/100\n",
      "26/26 [==============================] - 0s 6ms/step - loss: 0.0087 - mae: 0.0721 - val_loss: 0.0360 - val_mae: 0.1764\n",
      "Epoch 59/100\n",
      "26/26 [==============================] - 0s 5ms/step - loss: 0.0079 - mae: 0.0700 - val_loss: 0.0402 - val_mae: 0.1879\n",
      "Epoch 60/100\n",
      "26/26 [==============================] - 0s 6ms/step - loss: 0.0087 - mae: 0.0722 - val_loss: 0.0343 - val_mae: 0.1712\n",
      "Epoch 61/100\n",
      "26/26 [==============================] - 0s 5ms/step - loss: 0.0079 - mae: 0.0702 - val_loss: 0.0315 - val_mae: 0.1628\n",
      "Epoch 62/100\n",
      "26/26 [==============================] - 0s 6ms/step - loss: 0.0076 - mae: 0.0694 - val_loss: 0.0397 - val_mae: 0.1866\n",
      "Epoch 63/100\n"
     ]
    },
    {
     "name": "stdout",
     "output_type": "stream",
     "text": [
      "26/26 [==============================] - 0s 6ms/step - loss: 0.0093 - mae: 0.0758 - val_loss: 0.0345 - val_mae: 0.1710\n",
      "Epoch 64/100\n",
      "26/26 [==============================] - 0s 6ms/step - loss: 0.0077 - mae: 0.0695 - val_loss: 0.0357 - val_mae: 0.1749\n",
      "Epoch 65/100\n",
      "26/26 [==============================] - 0s 6ms/step - loss: 0.0085 - mae: 0.0734 - val_loss: 0.0352 - val_mae: 0.1736\n",
      "Epoch 66/100\n",
      "26/26 [==============================] - 0s 6ms/step - loss: 0.0083 - mae: 0.0726 - val_loss: 0.0308 - val_mae: 0.1603\n",
      "Epoch 67/100\n",
      "26/26 [==============================] - 0s 6ms/step - loss: 0.0074 - mae: 0.0675 - val_loss: 0.0287 - val_mae: 0.1541\n",
      "Epoch 68/100\n",
      "26/26 [==============================] - 0s 6ms/step - loss: 0.0074 - mae: 0.0672 - val_loss: 0.0304 - val_mae: 0.1598\n",
      "Epoch 69/100\n",
      "26/26 [==============================] - 0s 6ms/step - loss: 0.0075 - mae: 0.0680 - val_loss: 0.0370 - val_mae: 0.1797\n",
      "Epoch 70/100\n",
      "26/26 [==============================] - 0s 6ms/step - loss: 0.0075 - mae: 0.0685 - val_loss: 0.0368 - val_mae: 0.1781\n",
      "Epoch 71/100\n",
      "26/26 [==============================] - 0s 6ms/step - loss: 0.0078 - mae: 0.0687 - val_loss: 0.0342 - val_mae: 0.1699\n",
      "Epoch 72/100\n",
      "26/26 [==============================] - 0s 6ms/step - loss: 0.0071 - mae: 0.0661 - val_loss: 0.0364 - val_mae: 0.1764\n",
      "Epoch 73/100\n",
      "26/26 [==============================] - 0s 6ms/step - loss: 0.0071 - mae: 0.0661 - val_loss: 0.0303 - val_mae: 0.1601\n",
      "Epoch 74/100\n",
      "26/26 [==============================] - 0s 6ms/step - loss: 0.0062 - mae: 0.0633 - val_loss: 0.0335 - val_mae: 0.1704\n",
      "Epoch 75/100\n",
      "26/26 [==============================] - 0s 6ms/step - loss: 0.0069 - mae: 0.0639 - val_loss: 0.0359 - val_mae: 0.1765\n",
      "Epoch 76/100\n",
      "26/26 [==============================] - 0s 6ms/step - loss: 0.0068 - mae: 0.0654 - val_loss: 0.0305 - val_mae: 0.1610\n",
      "Epoch 77/100\n",
      "26/26 [==============================] - 0s 6ms/step - loss: 0.0073 - mae: 0.0678 - val_loss: 0.0287 - val_mae: 0.1553\n",
      "Epoch 78/100\n",
      "26/26 [==============================] - 0s 6ms/step - loss: 0.0069 - mae: 0.0658 - val_loss: 0.0323 - val_mae: 0.1668\n",
      "Epoch 79/100\n",
      "26/26 [==============================] - 0s 6ms/step - loss: 0.0060 - mae: 0.0619 - val_loss: 0.0331 - val_mae: 0.1694\n",
      "Epoch 80/100\n",
      "26/26 [==============================] - 0s 6ms/step - loss: 0.0066 - mae: 0.0641 - val_loss: 0.0296 - val_mae: 0.1586\n",
      "Epoch 81/100\n",
      "26/26 [==============================] - 0s 6ms/step - loss: 0.0062 - mae: 0.0624 - val_loss: 0.0358 - val_mae: 0.1770\n",
      "Epoch 82/100\n",
      "26/26 [==============================] - 0s 6ms/step - loss: 0.0065 - mae: 0.0637 - val_loss: 0.0356 - val_mae: 0.1767\n",
      "Epoch 83/100\n",
      "26/26 [==============================] - 0s 6ms/step - loss: 0.0064 - mae: 0.0624 - val_loss: 0.0284 - val_mae: 0.1546\n",
      "Epoch 84/100\n",
      "26/26 [==============================] - 0s 5ms/step - loss: 0.0058 - mae: 0.0602 - val_loss: 0.0270 - val_mae: 0.1497\n",
      "Epoch 85/100\n",
      "26/26 [==============================] - 0s 6ms/step - loss: 0.0063 - mae: 0.0613 - val_loss: 0.0245 - val_mae: 0.1413\n",
      "Epoch 86/100\n",
      "26/26 [==============================] - 0s 6ms/step - loss: 0.0061 - mae: 0.0619 - val_loss: 0.0341 - val_mae: 0.1717\n",
      "Epoch 87/100\n",
      "26/26 [==============================] - 0s 6ms/step - loss: 0.0066 - mae: 0.0643 - val_loss: 0.0316 - val_mae: 0.1645\n",
      "Epoch 88/100\n",
      "26/26 [==============================] - 0s 6ms/step - loss: 0.0067 - mae: 0.0638 - val_loss: 0.0307 - val_mae: 0.1617\n",
      "Epoch 89/100\n",
      "26/26 [==============================] - 0s 6ms/step - loss: 0.0061 - mae: 0.0615 - val_loss: 0.0304 - val_mae: 0.1606\n",
      "Epoch 90/100\n",
      "26/26 [==============================] - 0s 6ms/step - loss: 0.0057 - mae: 0.0593 - val_loss: 0.0333 - val_mae: 0.1694\n",
      "Epoch 91/100\n",
      "26/26 [==============================] - 0s 6ms/step - loss: 0.0056 - mae: 0.0593 - val_loss: 0.0336 - val_mae: 0.1707\n",
      "Epoch 92/100\n",
      "26/26 [==============================] - 0s 6ms/step - loss: 0.0056 - mae: 0.0600 - val_loss: 0.0326 - val_mae: 0.1676\n",
      "Epoch 93/100\n",
      "26/26 [==============================] - 0s 6ms/step - loss: 0.0060 - mae: 0.0599 - val_loss: 0.0278 - val_mae: 0.1529\n",
      "Epoch 94/100\n",
      "26/26 [==============================] - 0s 6ms/step - loss: 0.0061 - mae: 0.0606 - val_loss: 0.0305 - val_mae: 0.1616\n",
      "Epoch 95/100\n",
      "26/26 [==============================] - 0s 6ms/step - loss: 0.0052 - mae: 0.0563 - val_loss: 0.0276 - val_mae: 0.1522\n",
      "Epoch 96/100\n",
      "26/26 [==============================] - 0s 6ms/step - loss: 0.0057 - mae: 0.0601 - val_loss: 0.0334 - val_mae: 0.1702\n",
      "Epoch 97/100\n",
      "26/26 [==============================] - 0s 6ms/step - loss: 0.0056 - mae: 0.0602 - val_loss: 0.0295 - val_mae: 0.1580\n",
      "Epoch 98/100\n",
      "26/26 [==============================] - 0s 6ms/step - loss: 0.0049 - mae: 0.0548 - val_loss: 0.0317 - val_mae: 0.1649\n",
      "Epoch 99/100\n",
      "26/26 [==============================] - 0s 6ms/step - loss: 0.0052 - mae: 0.0560 - val_loss: 0.0302 - val_mae: 0.1603\n",
      "Epoch 100/100\n",
      "26/26 [==============================] - 0s 6ms/step - loss: 0.0051 - mae: 0.0562 - val_loss: 0.0286 - val_mae: 0.1554\n"
     ]
    }
   ],
   "source": [
    "# Train the RNN model\n",
    "history = model.fit(\n",
    "    X_train, y_train, \n",
    "    epochs=100,        # Number of iterations over the dataset\n",
    "    batch_size=32,    # Number of samples per batch\n",
    "    validation_data=(X_test, y_test),\n",
    "    verbose=1\n",
    ")"
   ]
  },
  {
   "cell_type": "code",
   "execution_count": 86,
   "metadata": {},
   "outputs": [
    {
     "data": {
      "image/png": "[encoded data removed]",
      "text/plain": [
       "<Figure size 640x480 with 1 Axes>"
      ]
     },
     "metadata": {},
     "output_type": "display_data"
    },
    {
     "name": "stdout",
     "output_type": "stream",
     "text": [
      "7/7 [==============================] - 0s 4ms/step - loss: 0.0286 - mae: 0.1554\n",
      "Test Loss: [0.02863628976047039, 0.15539436042308807]\n"
     ]
    }
   ],
   "source": [
    "import matplotlib.pyplot as plt\n",
    "\n",
    "# Plot training & validation loss\n",
    "plt.plot(history.history[\"loss\"], label=\"Train Loss\")\n",
    "plt.plot(history.history[\"val_loss\"], label=\"Validation Loss\")\n",
    "plt.legend()\n",
    "plt.show()\n",
    "\n",
    "# Evaluate on test set\n",
    "test_loss = model.evaluate(X_test, y_test)\n",
    "print(f\"Test Loss: {test_loss}\")\n"
   ]
  },
  {
   "cell_type": "markdown",
   "metadata": {},
   "source": [
    "Quite a noisey convergence. I may need to reduce the learning rate."
   ]
  },
  {
   "cell_type": "markdown",
   "metadata": {},
   "source": [
    "**Task 4: test**\n",
    "\n",
    "Evaluate the model on the test set and display any change in accuracy over time, if any. Test for common issues found in deep learning models.\n"
   ]
  },
  {
   "cell_type": "code",
   "execution_count": 87,
   "metadata": {},
   "outputs": [
    {
     "data": {
      "text/plain": [
       "9360"
      ]
     },
     "execution_count": 87,
     "metadata": {},
     "output_type": "execute_result"
    }
   ],
   "source": [
    "X_test.size  # Returns total number of elements"
   ]
  },
  {
   "cell_type": "code",
   "execution_count": 88,
   "metadata": {},
   "outputs": [
    {
     "name": "stdout",
     "output_type": "stream",
     "text": [
      "7/7 [==============================] - 0s 3ms/step\n"
     ]
    },
    {
     "data": {
      "image/png": "[encoded data removed]",
      "text/plain": [
       "<Figure size 640x480 with 1 Axes>"
      ]
     },
     "metadata": {},
     "output_type": "display_data"
    }
   ],
   "source": [
    "from sklearn.preprocessing import MinMaxScaler\n",
    "import matplotlib.pyplot as plt\n",
    "\n",
    "# Assuming you've already scaled the target variable (y)\n",
    "scaler_y = MinMaxScaler()\n",
    "\n",
    "# Fit the scaler only on the target variable during training\n",
    "y_train_scaled = scaler_y.fit_transform(y_train.reshape(-1, 1))\n",
    "\n",
    "# Use the same scaler to transform the test target values\n",
    "y_test_scaled = scaler_y.transform(y_test.reshape(-1, 1))\n",
    "\n",
    "# Now generate predictions (assumes the model has been trained)\n",
    "predictions = model.predict(X_test)\n",
    "\n",
    "# Inverse transform predictions using scaler_y (target variable scaler)\n",
    "predictions = scaler_y.inverse_transform(predictions.reshape(-1, 1))\n",
    "\n",
    "# Inverse transform y_test using the same scaler (target variable scaler)\n",
    "y_test_actual = scaler_y.inverse_transform(y_test.reshape(-1, 1))\n",
    "\n",
    "# Plot actual vs predicted values\n",
    "plt.plot(y_test_actual, label=\"Actual\")\n",
    "plt.plot(predictions, label=\"Predicted\")\n",
    "plt.legend()\n",
    "plt.show()\n"
   ]
  },
  {
   "cell_type": "markdown",
   "metadata": {},
   "source": [
    "This is not too bad."
   ]
  },
  {
   "cell_type": "code",
   "execution_count": 89,
   "metadata": {},
   "outputs": [
    {
     "name": "stderr",
     "output_type": "stream",
     "text": [
      "C:\\Users\\noona\\anaconda3\\lib\\site-packages\\keras\\src\\engine\\training.py:3103: UserWarning: You are saving your model as an HDF5 file via `model.save()`. This file format is considered legacy. We recommend using instead the native Keras format, e.g. `model.save('my_model.keras')`.\n",
      "  saving_api.save_model(\n"
     ]
    }
   ],
   "source": [
    "# Save the trained RNN model\n",
    "model.save(\"rnn_time_series.h5\")\n",
    "\n",
    "# Load the model later\n",
    "from tensorflow.keras.models import load_model\n",
    "model = load_model(\"rnn_time_series.h5\")\n"
   ]
  },
  {
   "cell_type": "markdown",
   "metadata": {},
   "source": [
    "### Post (complete by Sunday 16/02/25)\n",
    "\n",
    "Post your solution to Tasks 1-4 in notebook form. If you have not completed all the tasks then that is acceptable. The purpose is to get feedback from others in the group, so if you have only a basic outline then you may get ideas about how to proceed and also examples from others in your group.\n",
    "\n",
    "No posts should reference Task 5."
   ]
  },
  {
   "cell_type": "markdown",
   "metadata": {},
   "source": [
    "### Respond (complete by Wednesday 19/02/25)\n",
    "\n",
    "If you feel you can provide useful advise then respond to another member of the group through the appropriate forum. Responses should be respectful and offer some sort of advise. Try and avoid clogging the forums with support or thank you messages.\n",
    "\n",
    "In reviewing others code you will discover different ways to tackle the same problem. It is acceptable to copy parts of others code. However whole scale copying from another notebook is not acceptable."
   ]
  },
  {
   "cell_type": "markdown",
   "metadata": {},
   "source": [
    "Grading guidelines for the forum posts: the rubrics for the e-tivity are here https://learn.ul.ie/d2l/lp/rubrics/preview.d2l?ou=49284&rubricId=2621&originTool=quicklinks\n"
   ]
  },
  {
   "cell_type": "markdown",
   "metadata": {},
   "source": [
    "<a id='part2'></a>\n",
    "## Sentiment Analysis\n",
    "\n",
    "\n",
    "This task is a individual task and should **not** to be uploaded to the Group Locker. No posts should be given via the forums. Marks will be deducted if the instructions are not followed (see rubrics). This part should be uploaded directly to Brightpsace.\n",
    "\n",
    "### Context\n",
    "\n",
    "You have a model that predicts the sentiment of a film review (positive or negative) from the IMDB. There are two hyperparameters that format the data from IMDB: the maximum review length and the dictionary size. Below is a RNN model that predicts sentiment values. \n",
    "\n",
    "\n",
    "### Task 5:  (completed by Sunday 25/02/24)\n",
    "\n",
    "Keeping top_words, max_review_lenngth and the embedding_vector_length the same, change the model so that it uses attention only, i.e. there are no recurrent components. The only Keras layers (defined here https://www.tensorflow.org/api_docs/python/tf/keras/layers) that you allowed to use are:\n",
    "- Input,\n",
    "- Embedding, \n",
    "- Dense, \n",
    "- Any Attention (must be at leat one),\n",
    "- TimeDistributed,\n",
    "- Any Merging,\n",
    "- Any Reshaping,\n",
    "- Any Pooling,\n",
    "- Dropout. \n",
    "\n",
    "You need not use any of the layers (except attention) but you can use some more than once. Can you do at least as good as the RNN example?\n",
    "\n",
    "**NB** There are many examples of using attention for sentiment analysis but we looking to see if you can construct a sensible model. The model will be delibrately restricted, so do not waste too much time achieving spectacular accuracy. Remember the rules of thumb that we discussed in the Introduction to DL module.\n"
   ]
  },
  {
   "cell_type": "code",
   "execution_count": 90,
   "metadata": {},
   "outputs": [
    {
     "name": "stdout",
     "output_type": "stream",
     "text": [
      "(25000, 500)\n"
     ]
    }
   ],
   "source": [
    "from tensorflow.keras.datasets import imdb\n",
    "from tensorflow.keras import Sequential\n",
    "from tensorflow.keras.layers import Dense, LSTM, Embedding, Dropout\n",
    "from tensorflow.keras.preprocessing import sequence\n",
    "from tensorflow.keras.utils import plot_model\n",
    "\n",
    "import matplotlib.pyplot as plt\n",
    "import numpy as np\n",
    "\n",
    "top_words = 100\n",
    "(Rev_train, Sc_train), (Rev_test, Sc_test) = imdb.load_data(num_words=top_words)\n",
    "\n",
    "max_review_length = 500\n",
    "X_train = sequence.pad_sequences(Rev_train, maxlen=max_review_length)\n",
    "X_test = sequence.pad_sequences(Rev_test, maxlen=max_review_length)\n",
    "print(X_train.shape)"
   ]
  },
  {
   "cell_type": "code",
   "execution_count": 91,
   "metadata": {},
   "outputs": [
    {
     "name": "stdout",
     "output_type": "stream",
     "text": [
      "Graphviz is working!\n"
     ]
    }
   ],
   "source": [
    "import os\n",
    "import pydot\n",
    "import graphviz\n",
    "\n",
    "# Manually add Graphviz path if still not detected\n",
    "os.environ[\"PATH\"] += os.pathsep + \"C:/Program Files/Graphviz/bin/\"\n",
    "\n",
    "dot = pydot.Dot()\n",
    "print(\"Graphviz is working!\")\n"
   ]
  },
  {
   "cell_type": "code",
   "execution_count": 92,
   "metadata": {},
   "outputs": [],
   "source": [
    "import os\n",
    "os.environ[\"PATH\"] += os.pathsep + \"C:/Program Files/Graphviz/bin/\""
   ]
  },
  {
   "cell_type": "code",
   "execution_count": 93,
   "metadata": {},
   "outputs": [
    {
     "ename": "AttributeError",
     "evalue": "module 'pydot' has no attribute 'InvocationException'",
     "output_type": "error",
     "traceback": [
      "\u001b[1;31m---------------------------------------------------------------------------\u001b[0m",
      "\u001b[1;31mFileNotFoundError\u001b[0m                         Traceback (most recent call last)",
      "File \u001b[1;32m~\\anaconda3\\lib\\site-packages\\pydot\\core.py:1851\u001b[0m, in \u001b[0;36mDot.create\u001b[1;34m(self, prog, format, encoding)\u001b[0m\n\u001b[0;32m   1850\u001b[0m \u001b[38;5;28;01mtry\u001b[39;00m:\n\u001b[1;32m-> 1851\u001b[0m     stdout_data, stderr_data, process \u001b[38;5;241m=\u001b[39m \u001b[43mcall_graphviz\u001b[49m\u001b[43m(\u001b[49m\n\u001b[0;32m   1852\u001b[0m \u001b[43m        \u001b[49m\u001b[43mprogram\u001b[49m\u001b[38;5;241;43m=\u001b[39;49m\u001b[43mprog\u001b[49m\u001b[43m,\u001b[49m\n\u001b[0;32m   1853\u001b[0m \u001b[43m        \u001b[49m\u001b[43marguments\u001b[49m\u001b[38;5;241;43m=\u001b[39;49m\u001b[43marguments\u001b[49m\u001b[43m,\u001b[49m\n\u001b[0;32m   1854\u001b[0m \u001b[43m        \u001b[49m\u001b[43mworking_dir\u001b[49m\u001b[38;5;241;43m=\u001b[39;49m\u001b[43mtmp_dir\u001b[49m\u001b[43m,\u001b[49m\n\u001b[0;32m   1855\u001b[0m \u001b[43m    \u001b[49m\u001b[43m)\u001b[49m\n\u001b[0;32m   1856\u001b[0m \u001b[38;5;28;01mexcept\u001b[39;00m \u001b[38;5;167;01mOSError\u001b[39;00m \u001b[38;5;28;01mas\u001b[39;00m e:\n",
      "File \u001b[1;32m~\\anaconda3\\lib\\site-packages\\pydot\\core.py:211\u001b[0m, in \u001b[0;36mcall_graphviz\u001b[1;34m(program, arguments, working_dir, **kwargs)\u001b[0m\n\u001b[0;32m    209\u001b[0m program_with_args \u001b[38;5;241m=\u001b[39m [program] \u001b[38;5;241m+\u001b[39m arguments\n\u001b[1;32m--> 211\u001b[0m process \u001b[38;5;241m=\u001b[39m subprocess\u001b[38;5;241m.\u001b[39mPopen(\n\u001b[0;32m    212\u001b[0m     program_with_args,\n\u001b[0;32m    213\u001b[0m     env\u001b[38;5;241m=\u001b[39menv,\n\u001b[0;32m    214\u001b[0m     cwd\u001b[38;5;241m=\u001b[39mworking_dir,\n\u001b[0;32m    215\u001b[0m     shell\u001b[38;5;241m=\u001b[39m\u001b[38;5;28;01mFalse\u001b[39;00m,\n\u001b[0;32m    216\u001b[0m     stderr\u001b[38;5;241m=\u001b[39msubprocess\u001b[38;5;241m.\u001b[39mPIPE,\n\u001b[0;32m    217\u001b[0m     stdout\u001b[38;5;241m=\u001b[39msubprocess\u001b[38;5;241m.\u001b[39mPIPE,\n\u001b[0;32m    218\u001b[0m     \u001b[38;5;241m*\u001b[39m\u001b[38;5;241m*\u001b[39mkwargs,\n\u001b[0;32m    219\u001b[0m )\n\u001b[0;32m    220\u001b[0m stdout_data, stderr_data \u001b[38;5;241m=\u001b[39m process\u001b[38;5;241m.\u001b[39mcommunicate()\n",
      "File \u001b[1;32m~\\anaconda3\\lib\\subprocess.py:971\u001b[0m, in \u001b[0;36mPopen.__init__\u001b[1;34m(self, args, bufsize, executable, stdin, stdout, stderr, preexec_fn, close_fds, shell, cwd, env, universal_newlines, startupinfo, creationflags, restore_signals, start_new_session, pass_fds, user, group, extra_groups, encoding, errors, text, umask, pipesize)\u001b[0m\n\u001b[0;32m    968\u001b[0m             \u001b[38;5;28mself\u001b[39m\u001b[38;5;241m.\u001b[39mstderr \u001b[38;5;241m=\u001b[39m io\u001b[38;5;241m.\u001b[39mTextIOWrapper(\u001b[38;5;28mself\u001b[39m\u001b[38;5;241m.\u001b[39mstderr,\n\u001b[0;32m    969\u001b[0m                     encoding\u001b[38;5;241m=\u001b[39mencoding, errors\u001b[38;5;241m=\u001b[39merrors)\n\u001b[1;32m--> 971\u001b[0m     \u001b[38;5;28;43mself\u001b[39;49m\u001b[38;5;241;43m.\u001b[39;49m\u001b[43m_execute_child\u001b[49m\u001b[43m(\u001b[49m\u001b[43margs\u001b[49m\u001b[43m,\u001b[49m\u001b[43m \u001b[49m\u001b[43mexecutable\u001b[49m\u001b[43m,\u001b[49m\u001b[43m \u001b[49m\u001b[43mpreexec_fn\u001b[49m\u001b[43m,\u001b[49m\u001b[43m \u001b[49m\u001b[43mclose_fds\u001b[49m\u001b[43m,\u001b[49m\n\u001b[0;32m    972\u001b[0m \u001b[43m                        \u001b[49m\u001b[43mpass_fds\u001b[49m\u001b[43m,\u001b[49m\u001b[43m \u001b[49m\u001b[43mcwd\u001b[49m\u001b[43m,\u001b[49m\u001b[43m \u001b[49m\u001b[43menv\u001b[49m\u001b[43m,\u001b[49m\n\u001b[0;32m    973\u001b[0m \u001b[43m                        \u001b[49m\u001b[43mstartupinfo\u001b[49m\u001b[43m,\u001b[49m\u001b[43m \u001b[49m\u001b[43mcreationflags\u001b[49m\u001b[43m,\u001b[49m\u001b[43m \u001b[49m\u001b[43mshell\u001b[49m\u001b[43m,\u001b[49m\n\u001b[0;32m    974\u001b[0m \u001b[43m                        \u001b[49m\u001b[43mp2cread\u001b[49m\u001b[43m,\u001b[49m\u001b[43m \u001b[49m\u001b[43mp2cwrite\u001b[49m\u001b[43m,\u001b[49m\n\u001b[0;32m    975\u001b[0m \u001b[43m                        \u001b[49m\u001b[43mc2pread\u001b[49m\u001b[43m,\u001b[49m\u001b[43m \u001b[49m\u001b[43mc2pwrite\u001b[49m\u001b[43m,\u001b[49m\n\u001b[0;32m    976\u001b[0m \u001b[43m                        \u001b[49m\u001b[43merrread\u001b[49m\u001b[43m,\u001b[49m\u001b[43m \u001b[49m\u001b[43merrwrite\u001b[49m\u001b[43m,\u001b[49m\n\u001b[0;32m    977\u001b[0m \u001b[43m                        \u001b[49m\u001b[43mrestore_signals\u001b[49m\u001b[43m,\u001b[49m\n\u001b[0;32m    978\u001b[0m \u001b[43m                        \u001b[49m\u001b[43mgid\u001b[49m\u001b[43m,\u001b[49m\u001b[43m \u001b[49m\u001b[43mgids\u001b[49m\u001b[43m,\u001b[49m\u001b[43m \u001b[49m\u001b[43muid\u001b[49m\u001b[43m,\u001b[49m\u001b[43m \u001b[49m\u001b[43mumask\u001b[49m\u001b[43m,\u001b[49m\n\u001b[0;32m    979\u001b[0m \u001b[43m                        \u001b[49m\u001b[43mstart_new_session\u001b[49m\u001b[43m)\u001b[49m\n\u001b[0;32m    980\u001b[0m \u001b[38;5;28;01mexcept\u001b[39;00m:\n\u001b[0;32m    981\u001b[0m     \u001b[38;5;66;03m# Cleanup if the child failed starting.\u001b[39;00m\n",
      "File \u001b[1;32m~\\anaconda3\\lib\\subprocess.py:1440\u001b[0m, in \u001b[0;36mPopen._execute_child\u001b[1;34m(self, args, executable, preexec_fn, close_fds, pass_fds, cwd, env, startupinfo, creationflags, shell, p2cread, p2cwrite, c2pread, c2pwrite, errread, errwrite, unused_restore_signals, unused_gid, unused_gids, unused_uid, unused_umask, unused_start_new_session)\u001b[0m\n\u001b[0;32m   1439\u001b[0m \u001b[38;5;28;01mtry\u001b[39;00m:\n\u001b[1;32m-> 1440\u001b[0m     hp, ht, pid, tid \u001b[38;5;241m=\u001b[39m \u001b[43m_winapi\u001b[49m\u001b[38;5;241;43m.\u001b[39;49m\u001b[43mCreateProcess\u001b[49m\u001b[43m(\u001b[49m\u001b[43mexecutable\u001b[49m\u001b[43m,\u001b[49m\u001b[43m \u001b[49m\u001b[43margs\u001b[49m\u001b[43m,\u001b[49m\n\u001b[0;32m   1441\u001b[0m \u001b[43m                             \u001b[49m\u001b[38;5;66;43;03m# no special security\u001b[39;49;00m\n\u001b[0;32m   1442\u001b[0m \u001b[43m                             \u001b[49m\u001b[38;5;28;43;01mNone\u001b[39;49;00m\u001b[43m,\u001b[49m\u001b[43m \u001b[49m\u001b[38;5;28;43;01mNone\u001b[39;49;00m\u001b[43m,\u001b[49m\n\u001b[0;32m   1443\u001b[0m \u001b[43m                             \u001b[49m\u001b[38;5;28;43mint\u001b[39;49m\u001b[43m(\u001b[49m\u001b[38;5;129;43;01mnot\u001b[39;49;00m\u001b[43m \u001b[49m\u001b[43mclose_fds\u001b[49m\u001b[43m)\u001b[49m\u001b[43m,\u001b[49m\n\u001b[0;32m   1444\u001b[0m \u001b[43m                             \u001b[49m\u001b[43mcreationflags\u001b[49m\u001b[43m,\u001b[49m\n\u001b[0;32m   1445\u001b[0m \u001b[43m                             \u001b[49m\u001b[43menv\u001b[49m\u001b[43m,\u001b[49m\n\u001b[0;32m   1446\u001b[0m \u001b[43m                             \u001b[49m\u001b[43mcwd\u001b[49m\u001b[43m,\u001b[49m\n\u001b[0;32m   1447\u001b[0m \u001b[43m                             \u001b[49m\u001b[43mstartupinfo\u001b[49m\u001b[43m)\u001b[49m\n\u001b[0;32m   1448\u001b[0m \u001b[38;5;28;01mfinally\u001b[39;00m:\n\u001b[0;32m   1449\u001b[0m     \u001b[38;5;66;03m# Child is launched. Close the parent's copy of those pipe\u001b[39;00m\n\u001b[0;32m   1450\u001b[0m     \u001b[38;5;66;03m# handles that only the child should have open.  You need\u001b[39;00m\n\u001b[1;32m   (...)\u001b[0m\n\u001b[0;32m   1453\u001b[0m     \u001b[38;5;66;03m# pipe will not close when the child process exits and the\u001b[39;00m\n\u001b[0;32m   1454\u001b[0m     \u001b[38;5;66;03m# ReadFile will hang.\u001b[39;00m\n",
      "\u001b[1;31mFileNotFoundError\u001b[0m: [WinError 2] The system cannot find the file specified",
      "\nDuring handling of the above exception, another exception occurred:\n",
      "\u001b[1;31mFileNotFoundError\u001b[0m                         Traceback (most recent call last)",
      "File \u001b[1;32m~\\anaconda3\\lib\\site-packages\\keras\\src\\utils\\vis_utils.py:57\u001b[0m, in \u001b[0;36mcheck_graphviz\u001b[1;34m()\u001b[0m\n\u001b[0;32m     54\u001b[0m \u001b[38;5;28;01mtry\u001b[39;00m:\n\u001b[0;32m     55\u001b[0m     \u001b[38;5;66;03m# Attempt to create an image of a blank graph\u001b[39;00m\n\u001b[0;32m     56\u001b[0m     \u001b[38;5;66;03m# to check the pydot/graphviz installation.\u001b[39;00m\n\u001b[1;32m---> 57\u001b[0m     \u001b[43mpydot\u001b[49m\u001b[38;5;241;43m.\u001b[39;49m\u001b[43mDot\u001b[49m\u001b[38;5;241;43m.\u001b[39;49m\u001b[43mcreate\u001b[49m\u001b[43m(\u001b[49m\u001b[43mpydot\u001b[49m\u001b[38;5;241;43m.\u001b[39;49m\u001b[43mDot\u001b[49m\u001b[43m(\u001b[49m\u001b[43m)\u001b[49m\u001b[43m)\u001b[49m\n\u001b[0;32m     58\u001b[0m     \u001b[38;5;28;01mreturn\u001b[39;00m \u001b[38;5;28;01mTrue\u001b[39;00m\n",
      "File \u001b[1;32m~\\anaconda3\\lib\\site-packages\\pydot\\core.py:1860\u001b[0m, in \u001b[0;36mDot.create\u001b[1;34m(self, prog, format, encoding)\u001b[0m\n\u001b[0;32m   1859\u001b[0m     args[\u001b[38;5;241m1\u001b[39m] \u001b[38;5;241m=\u001b[39m \u001b[38;5;124mf\u001b[39m\u001b[38;5;124m'\u001b[39m\u001b[38;5;124m\"\u001b[39m\u001b[38;5;132;01m{\u001b[39;00mprog\u001b[38;5;132;01m}\u001b[39;00m\u001b[38;5;124m\"\u001b[39m\u001b[38;5;124m not found in path.\u001b[39m\u001b[38;5;124m'\u001b[39m\n\u001b[1;32m-> 1860\u001b[0m     \u001b[38;5;28;01mraise\u001b[39;00m \u001b[38;5;167;01mOSError\u001b[39;00m(\u001b[38;5;241m*\u001b[39margs)\n\u001b[0;32m   1861\u001b[0m \u001b[38;5;28;01melse\u001b[39;00m:\n",
      "\u001b[1;31mFileNotFoundError\u001b[0m: [WinError 2] \"dot\" not found in path.",
      "\nDuring handling of the above exception, another exception occurred:\n",
      "\u001b[1;31mAttributeError\u001b[0m                            Traceback (most recent call last)",
      "Cell \u001b[1;32mIn[93], line 2\u001b[0m\n\u001b[0;32m      1\u001b[0m \u001b[38;5;28;01mfrom\u001b[39;00m \u001b[38;5;21;01mkeras\u001b[39;00m\u001b[38;5;21;01m.\u001b[39;00m\u001b[38;5;21;01mutils\u001b[39;00m \u001b[38;5;28;01mimport\u001b[39;00m plot_model\n\u001b[1;32m----> 2\u001b[0m \u001b[43mplot_model\u001b[49m\u001b[43m(\u001b[49m\u001b[43mmodel_imdb\u001b[49m\u001b[43m,\u001b[49m\u001b[43m \u001b[49m\u001b[43mshow_shapes\u001b[49m\u001b[38;5;241;43m=\u001b[39;49m\u001b[38;5;28;43;01mTrue\u001b[39;49;00m\u001b[43m)\u001b[49m\n",
      "File \u001b[1;32m~\\anaconda3\\lib\\site-packages\\keras\\src\\utils\\vis_utils.py:451\u001b[0m, in \u001b[0;36mplot_model\u001b[1;34m(model, to_file, show_shapes, show_dtype, show_layer_names, rankdir, expand_nested, dpi, layer_range, show_layer_activations, show_trainable)\u001b[0m\n\u001b[0;32m    444\u001b[0m \u001b[38;5;28;01mif\u001b[39;00m \u001b[38;5;129;01mnot\u001b[39;00m model\u001b[38;5;241m.\u001b[39mbuilt:\n\u001b[0;32m    445\u001b[0m     \u001b[38;5;28;01mraise\u001b[39;00m \u001b[38;5;167;01mValueError\u001b[39;00m(\n\u001b[0;32m    446\u001b[0m         \u001b[38;5;124m\"\u001b[39m\u001b[38;5;124mThis model has not yet been built. \u001b[39m\u001b[38;5;124m\"\u001b[39m\n\u001b[0;32m    447\u001b[0m         \u001b[38;5;124m\"\u001b[39m\u001b[38;5;124mBuild the model first by calling `build()` or by calling \u001b[39m\u001b[38;5;124m\"\u001b[39m\n\u001b[0;32m    448\u001b[0m         \u001b[38;5;124m\"\u001b[39m\u001b[38;5;124mthe model on a batch of data.\u001b[39m\u001b[38;5;124m\"\u001b[39m\n\u001b[0;32m    449\u001b[0m     )\n\u001b[1;32m--> 451\u001b[0m \u001b[38;5;28;01mif\u001b[39;00m \u001b[38;5;129;01mnot\u001b[39;00m \u001b[43mcheck_graphviz\u001b[49m\u001b[43m(\u001b[49m\u001b[43m)\u001b[49m:\n\u001b[0;32m    452\u001b[0m     message \u001b[38;5;241m=\u001b[39m (\n\u001b[0;32m    453\u001b[0m         \u001b[38;5;124m\"\u001b[39m\u001b[38;5;124mYou must install pydot (`pip install pydot`) \u001b[39m\u001b[38;5;124m\"\u001b[39m\n\u001b[0;32m    454\u001b[0m         \u001b[38;5;124m\"\u001b[39m\u001b[38;5;124mand install graphviz \u001b[39m\u001b[38;5;124m\"\u001b[39m\n\u001b[0;32m    455\u001b[0m         \u001b[38;5;124m\"\u001b[39m\u001b[38;5;124m(see instructions at https://graphviz.gitlab.io/download/) \u001b[39m\u001b[38;5;124m\"\u001b[39m\n\u001b[0;32m    456\u001b[0m         \u001b[38;5;124m\"\u001b[39m\u001b[38;5;124mfor plot_model to work.\u001b[39m\u001b[38;5;124m\"\u001b[39m\n\u001b[0;32m    457\u001b[0m     )\n\u001b[0;32m    458\u001b[0m     \u001b[38;5;28;01mif\u001b[39;00m \u001b[38;5;124m\"\u001b[39m\u001b[38;5;124mIPython.core.magics.namespace\u001b[39m\u001b[38;5;124m\"\u001b[39m \u001b[38;5;129;01min\u001b[39;00m sys\u001b[38;5;241m.\u001b[39mmodules:\n\u001b[0;32m    459\u001b[0m         \u001b[38;5;66;03m# We don't raise an exception here in order to avoid crashing\u001b[39;00m\n\u001b[0;32m    460\u001b[0m         \u001b[38;5;66;03m# notebook tests where graphviz is not available.\u001b[39;00m\n",
      "File \u001b[1;32m~\\anaconda3\\lib\\site-packages\\keras\\src\\utils\\vis_utils.py:59\u001b[0m, in \u001b[0;36mcheck_graphviz\u001b[1;34m()\u001b[0m\n\u001b[0;32m     57\u001b[0m     pydot\u001b[38;5;241m.\u001b[39mDot\u001b[38;5;241m.\u001b[39mcreate(pydot\u001b[38;5;241m.\u001b[39mDot())\n\u001b[0;32m     58\u001b[0m     \u001b[38;5;28;01mreturn\u001b[39;00m \u001b[38;5;28;01mTrue\u001b[39;00m\n\u001b[1;32m---> 59\u001b[0m \u001b[38;5;28;01mexcept\u001b[39;00m (\u001b[38;5;167;01mOSError\u001b[39;00m, \u001b[43mpydot\u001b[49m\u001b[38;5;241;43m.\u001b[39;49m\u001b[43mInvocationException\u001b[49m):\n\u001b[0;32m     60\u001b[0m     \u001b[38;5;28;01mreturn\u001b[39;00m \u001b[38;5;28;01mFalse\u001b[39;00m\n",
      "\u001b[1;31mAttributeError\u001b[0m: module 'pydot' has no attribute 'InvocationException'"
     ]
    }
   ],
   "source": [
    "from keras.utils import plot_model\n",
    "plot_model(model_imdb, show_shapes=True)\n"
   ]
  },
  {
   "cell_type": "code",
   "execution_count": null,
   "metadata": {},
   "outputs": [],
   "source": [
    "embedding_vector_length = 16\n",
    "model_imdb = Sequential()\n",
    "model_imdb.add(Embedding(top_words, embedding_vector_length, input_length=max_review_length))\n",
    "model_imdb.add(Dropout(0.2))\n",
    "model_imdb.add(LSTM(10))\n",
    "model_imdb.add(Dropout(0.2))\n",
    "model_imdb.add(Dense(1, activation='sigmoid'))\n",
    "model_imdb.compile(loss='binary_crossentropy', optimizer='adam', metrics=['accuracy'])\n",
    "print(model_imdb.summary())\n",
    "plot_model(model_imdb,show_shapes=True)"
   ]
  },
  {
   "cell_type": "markdown",
   "metadata": {},
   "source": [
    "\n",
    "The history for the model above has been saved, as it takes a while to run. If you want to run it yourself then comment out the second line.\n"
   ]
  },
  {
   "cell_type": "code",
   "execution_count": null,
   "metadata": {},
   "outputs": [],
   "source": [
    "nepoch = 150\n",
    "# IMDB_history = model_imdb.fit(X_train,Sc_train,validation_data=(X_test,Sc_test),epochs=nepoch,batch_size=256)\n",
    "IMDB_history=np.load('IMDBTrainhist.npy',allow_pickle='TRUE').item()\n",
    "plt.plot(range(nepoch),IMDB_history['loss'],c='r')\n",
    "plt.plot(range(nepoch),IMDB_history['val_loss'],c='b')\n",
    "plt.plot()"
   ]
  },
  {
   "cell_type": "code",
   "execution_count": null,
   "metadata": {},
   "outputs": [],
   "source": [
    "plt.plot(range(nepoch),IMDB_history['accuracy'],c='r')\n",
    "plt.plot(range(nepoch),IMDB_history['val_accuracy'],c='b')\n",
    "plt.plot()"
   ]
  },
  {
   "cell_type": "markdown",
   "metadata": {},
   "source": [
    "### Final Submission (complete by Sunday 23/02/25)\n",
    "\n",
    "Submit Tasks 1-5 in a single notebook this before the deadline on Sunday.\n"
   ]
  },
  {
   "cell_type": "code",
   "execution_count": null,
   "metadata": {},
   "outputs": [],
   "source": [
    "## Add additional code cells to implememt the tasks stated above "
   ]
  },
  {
   "cell_type": "markdown",
   "metadata": {},
   "source": [
    "## Reflection\n",
    "\n",
    "There are no specific marks allocated for a reflection. However due consideration will be given if pertinent comments or valuable insights are made."
   ]
  },
  {
   "cell_type": "code",
   "execution_count": null,
   "metadata": {},
   "outputs": [],
   "source": []
  }
 ],
 "metadata": {
  "kernelspec": {
   "display_name": "Python 3 (ipykernel)",
   "language": "python",
   "name": "python3"
  },
  "language_info": {
   "codemirror_mode": {
    "name": "ipython",
    "version": 3
   },
   "file_extension": ".py",
   "mimetype": "text/x-python",
   "name": "python",
   "nbconvert_exporter": "python",
   "pygments_lexer": "ipython3",
   "version": "3.10.9"
  },
  "latex_envs": {
   "LaTeX_envs_menu_present": true,
   "autoclose": false,
   "autocomplete": true,
   "bibliofile": "biblio.bib",
   "cite_by": "apalike",
   "current_citInitial": 1,
   "eqLabelWithNumbers": true,
   "eqNumInitial": 1,
   "hotkeys": {
    "equation": "Ctrl-E",
    "itemize": "Ctrl-I"
   },
   "labels_anchors": false,
   "latex_user_defs": false,
   "report_style_numbering": false,
   "user_envs_cfg": false
  }
 },
 "nbformat": 4,
 "nbformat_minor": 4
}
