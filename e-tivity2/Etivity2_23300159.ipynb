{
 "cells": [
  {
   "cell_type": "markdown",
   "metadata": {},
   "source": [
    "# E-tivity 2 (10/02/25 - 23/02/25)\n",
    "\n",
    "* Sean Noonan\n",
    "\n",
    "* 23300159"
   ]
  },
  {
   "cell_type": "markdown",
   "metadata": {},
   "source": [
    "## Outline\n",
    "\n",
    "This e-tivity is split into two parts. The first part <a href=\"#part1\">**Stock Predicition**</a> is a group activity where you are tasked with predicting the stock market.\n",
    "\n",
    "The second <a href=\"#part2\">**Sentiment Analysis**</a> is an individual task, the problem is to predict if a film review is positive or negative."
   ]
  },
  {
   "cell_type": "markdown",
   "metadata": {},
   "source": [
    "### Guidelines\n",
    "\n",
    "The e-tivity is split into five tasks. The first four are \"group\" excersises, in that you post the solutions to Tasks 1-4 to the Group Locker. This will allow the members of your group to send you feedback (via the forums) so you can improve your submission. The final task is an individual task and together with the other tasks, should be uploaded to Brightspace.\n",
    "\n",
    "Marks will be deducted if task 5 is uploaded in contravention of instructions. Also if the the final submission is not a single notebook with tasks 1-5 and with correct identification or filename.\n",
    "\n",
    "\n",
    "Grading guidelines: the rubrics for the e-tivity are here https://learn.ul.ie/d2l/lp/rubrics/preview.d2l?ou=49284&rubricId=2621&originTool=quicklinks\n",
    "\n",
    "\n"
   ]
  },
  {
   "cell_type": "markdown",
   "metadata": {},
   "source": [
    "<a id='part1'></a>\n",
    "## Stock Prediction\n",
    "\n",
    "### Context\n",
    "\n",
    "There is a small dataset of real stock prices for each working day from the end of 2015 to the end of 2019. There are four variables (with a time stamp), stock price, oil price, gold price and Euro to Dollar exchange. You need to predict the Stock price a day ahead from only the past values of each of the 4 variables. \n",
    "\n",
    "\n",
    "### Tasks 1-4 (complete by Sunday 16/02/25)\n",
    "\n",
    "These tasks are to be completed and uploaded to GitLab on which the other group members can comment. The forum activity will form part of the overall mark for the e-tivity."
   ]
  },
  {
   "cell_type": "markdown",
   "metadata": {},
   "source": [
    "**Task 1: data preprocessing**\n",
    "\n",
    "Explain any preprocessing steps you take including but limited to reformatting and also how you have selected the training and test sets. The test set should be 20% of the whole.\n"
   ]
  },
  {
   "cell_type": "code",
   "execution_count": 1,
   "metadata": {},
   "outputs": [],
   "source": [
    "import pandas as pd\n",
    "import numpy as np\n",
    "import matplotlib.pyplot as plt\n",
    "import seaborn as sns"
   ]
  },
  {
   "cell_type": "code",
   "execution_count": 2,
   "metadata": {},
   "outputs": [],
   "source": [
    "df = pd.read_csv(\"./stock.csv\")"
   ]
  },
  {
   "cell_type": "markdown",
   "metadata": {},
   "source": [
    "Lets take a look at the data"
   ]
  },
  {
   "cell_type": "code",
   "execution_count": 3,
   "metadata": {},
   "outputs": [
    {
     "data": {
      "text/html": [
       "<div>\n",
       "<style scoped>\n",
       "    .dataframe tbody tr th:only-of-type {\n",
       "        vertical-align: middle;\n",
       "    }\n",
       "\n",
       "    .dataframe tbody tr th {\n",
       "        vertical-align: top;\n",
       "    }\n",
       "\n",
       "    .dataframe thead th {\n",
       "        text-align: right;\n",
       "    }\n",
       "</style>\n",
       "<table border=\"1\" class=\"dataframe\">\n",
       "  <thead>\n",
       "    <tr style=\"text-align: right;\">\n",
       "      <th></th>\n",
       "      <th>Date</th>\n",
       "      <th>Stock</th>\n",
       "      <th>Oil</th>\n",
       "      <th>EuroToDollar</th>\n",
       "      <th>Gold</th>\n",
       "    </tr>\n",
       "  </thead>\n",
       "  <tbody>\n",
       "    <tr>\n",
       "      <th>0</th>\n",
       "      <td>2015-11-23</td>\n",
       "      <td>2089.409912</td>\n",
       "      <td>41.490002</td>\n",
       "      <td>0.9432</td>\n",
       "      <td>1124.7</td>\n",
       "    </tr>\n",
       "    <tr>\n",
       "      <th>1</th>\n",
       "      <td>2015-11-24</td>\n",
       "      <td>2084.419922</td>\n",
       "      <td>42.040001</td>\n",
       "      <td>0.9388</td>\n",
       "      <td>1131.6</td>\n",
       "    </tr>\n",
       "    <tr>\n",
       "      <th>2</th>\n",
       "      <td>2015-11-25</td>\n",
       "      <td>2089.300049</td>\n",
       "      <td>42.689999</td>\n",
       "      <td>0.9420</td>\n",
       "      <td>1128.4</td>\n",
       "    </tr>\n",
       "    <tr>\n",
       "      <th>3</th>\n",
       "      <td>2015-11-27</td>\n",
       "      <td>2088.820068</td>\n",
       "      <td>43.250000</td>\n",
       "      <td>0.9438</td>\n",
       "      <td>1114.5</td>\n",
       "    </tr>\n",
       "    <tr>\n",
       "      <th>4</th>\n",
       "      <td>2015-11-30</td>\n",
       "      <td>2090.949951</td>\n",
       "      <td>41.770000</td>\n",
       "      <td>0.9468</td>\n",
       "      <td>1123.9</td>\n",
       "    </tr>\n",
       "  </tbody>\n",
       "</table>\n",
       "</div>"
      ],
      "text/plain": [
       "         Date        Stock        Oil  EuroToDollar    Gold\n",
       "0  2015-11-23  2089.409912  41.490002        0.9432  1124.7\n",
       "1  2015-11-24  2084.419922  42.040001        0.9388  1131.6\n",
       "2  2015-11-25  2089.300049  42.689999        0.9420  1128.4\n",
       "3  2015-11-27  2088.820068  43.250000        0.9438  1114.5\n",
       "4  2015-11-30  2090.949951  41.770000        0.9468  1123.9"
      ]
     },
     "execution_count": 3,
     "metadata": {},
     "output_type": "execute_result"
    }
   ],
   "source": [
    "# Lets have a look at the data\n",
    "df.head()"
   ]
  },
  {
   "cell_type": "code",
   "execution_count": 4,
   "metadata": {},
   "outputs": [
    {
     "data": {
      "text/html": [
       "<div>\n",
       "<style scoped>\n",
       "    .dataframe tbody tr th:only-of-type {\n",
       "        vertical-align: middle;\n",
       "    }\n",
       "\n",
       "    .dataframe tbody tr th {\n",
       "        vertical-align: top;\n",
       "    }\n",
       "\n",
       "    .dataframe thead th {\n",
       "        text-align: right;\n",
       "    }\n",
       "</style>\n",
       "<table border=\"1\" class=\"dataframe\">\n",
       "  <thead>\n",
       "    <tr style=\"text-align: right;\">\n",
       "      <th></th>\n",
       "      <th>Stock</th>\n",
       "      <th>Oil</th>\n",
       "      <th>EuroToDollar</th>\n",
       "      <th>Gold</th>\n",
       "    </tr>\n",
       "  </thead>\n",
       "  <tbody>\n",
       "    <tr>\n",
       "      <th>count</th>\n",
       "      <td>1033.000000</td>\n",
       "      <td>1023.000000</td>\n",
       "      <td>1021.000000</td>\n",
       "      <td>1033.000000</td>\n",
       "    </tr>\n",
       "    <tr>\n",
       "      <th>mean</th>\n",
       "      <td>2537.063011</td>\n",
       "      <td>53.655484</td>\n",
       "      <td>0.883818</td>\n",
       "      <td>1353.312488</td>\n",
       "    </tr>\n",
       "    <tr>\n",
       "      <th>std</th>\n",
       "      <td>338.853458</td>\n",
       "      <td>9.799842</td>\n",
       "      <td>0.034394</td>\n",
       "      <td>89.592361</td>\n",
       "    </tr>\n",
       "    <tr>\n",
       "      <th>min</th>\n",
       "      <td>1833.400024</td>\n",
       "      <td>27.299999</td>\n",
       "      <td>0.800800</td>\n",
       "      <td>1090.200000</td>\n",
       "    </tr>\n",
       "    <tr>\n",
       "      <th>25%</th>\n",
       "      <td>2204.969971</td>\n",
       "      <td>47.594999</td>\n",
       "      <td>0.859700</td>\n",
       "      <td>1303.800000</td>\n",
       "    </tr>\n",
       "    <tr>\n",
       "      <th>50%</th>\n",
       "      <td>2584.000000</td>\n",
       "      <td>53.049999</td>\n",
       "      <td>0.887900</td>\n",
       "      <td>1346.500000</td>\n",
       "    </tr>\n",
       "    <tr>\n",
       "      <th>75%</th>\n",
       "      <td>2811.350098</td>\n",
       "      <td>60.625000</td>\n",
       "      <td>0.904500</td>\n",
       "      <td>1403.900000</td>\n",
       "    </tr>\n",
       "    <tr>\n",
       "      <th>max</th>\n",
       "      <td>3247.229980</td>\n",
       "      <td>76.180000</td>\n",
       "      <td>0.963900</td>\n",
       "      <td>1584.500000</td>\n",
       "    </tr>\n",
       "  </tbody>\n",
       "</table>\n",
       "</div>"
      ],
      "text/plain": [
       "             Stock          Oil  EuroToDollar         Gold\n",
       "count  1033.000000  1023.000000   1021.000000  1033.000000\n",
       "mean   2537.063011    53.655484      0.883818  1353.312488\n",
       "std     338.853458     9.799842      0.034394    89.592361\n",
       "min    1833.400024    27.299999      0.800800  1090.200000\n",
       "25%    2204.969971    47.594999      0.859700  1303.800000\n",
       "50%    2584.000000    53.049999      0.887900  1346.500000\n",
       "75%    2811.350098    60.625000      0.904500  1403.900000\n",
       "max    3247.229980    76.180000      0.963900  1584.500000"
      ]
     },
     "execution_count": 4,
     "metadata": {},
     "output_type": "execute_result"
    }
   ],
   "source": [
    "# Print statistical summary for all numerical attributes\n",
    "df.describe()"
   ]
  },
  {
   "cell_type": "code",
   "execution_count": 5,
   "metadata": {},
   "outputs": [
    {
     "data": {
      "text/plain": [
       "Index(['Date', 'Stock', 'Oil', 'EuroToDollar', 'Gold'], dtype='object')"
      ]
     },
     "execution_count": 5,
     "metadata": {},
     "output_type": "execute_result"
    }
   ],
   "source": [
    "df.columns"
   ]
  },
  {
   "cell_type": "code",
   "execution_count": 14,
   "metadata": {},
   "outputs": [
    {
     "data": {
      "text/plain": [
       "Date             object\n",
       "Stock           float64\n",
       "Oil             float64\n",
       "EuroToDollar    float64\n",
       "Gold            float64\n",
       "dtype: object"
      ]
     },
     "execution_count": 14,
     "metadata": {},
     "output_type": "execute_result"
    }
   ],
   "source": [
    "df.dtypes"
   ]
  },
  {
   "cell_type": "code",
   "execution_count": 7,
   "metadata": {},
   "outputs": [
    {
     "name": "stdout",
     "output_type": "stream",
     "text": [
      "Missing values in numerical variables:\n",
      "Stock            0\n",
      "Oil             10\n",
      "EuroToDollar    12\n",
      "Gold             0\n",
      "dtype: int64\n"
     ]
    }
   ],
   "source": [
    "numerical_columns = df.select_dtypes(include=['number']).columns\n",
    "missing_numerical = df[numerical_columns].isnull().sum()\n",
    "\n",
    "print(\"Missing values in numerical variables:\")\n",
    "print(missing_numerical)"
   ]
  },
  {
   "cell_type": "code",
   "execution_count": 15,
   "metadata": {},
   "outputs": [
    {
     "data": {
      "image/png": "[encoded data removed]",
      "text/plain": [
       "<Figure size 1000x600 with 2 Axes>"
      ]
     },
     "metadata": {},
     "output_type": "display_data"
    }
   ],
   "source": [
    "# Compute the correlation matrix\n",
    "corr_matrix = df.drop(columns=[\"Date\"]).corr()\n",
    "\n",
    "# Display the matrix as a heatmap\n",
    "plt.figure(figsize=(10, 6))\n",
    "sns.heatmap(corr_matrix, annot=True, cmap='coolwarm', fmt=\".2f\", linewidths=0.5)\n",
    "\n",
    "# Add title\n",
    "plt.title(\"Correlation Matrix\")\n",
    "\n",
    "# Show the plot\n",
    "plt.show()"
   ]
  },
  {
   "cell_type": "code",
   "execution_count": 10,
   "metadata": {},
   "outputs": [
    {
     "data": {
      "text/plain": [
       "<Axes: ylabel='Density'>"
      ]
     },
     "execution_count": 10,
     "metadata": {},
     "output_type": "execute_result"
    },
    {
     "data": {
      "image/png": "[encoded data removed]",
      "text/plain": [
       "<Figure size 640x480 with 1 Axes>"
      ]
     },
     "metadata": {},
     "output_type": "display_data"
    }
   ],
   "source": [
    "df['Stock'].plot.density()"
   ]
  },
  {
   "cell_type": "code",
   "execution_count": 11,
   "metadata": {},
   "outputs": [
    {
     "name": "stdout",
     "output_type": "stream",
     "text": [
      "1033 Date\n",
      "1021 Stock\n",
      "878 Oil\n",
      "645 EuroToDollar\n",
      "854 Gold\n"
     ]
    }
   ],
   "source": [
    "for column in df.columns:\n",
    "    print(df[column].nunique(), column) "
   ]
  },
  {
   "cell_type": "markdown",
   "metadata": {},
   "source": [
    "1033 unique dates"
   ]
  },
  {
   "cell_type": "markdown",
   "metadata": {},
   "source": [
    "I need to ensure train test split is in sequence"
   ]
  },
  {
   "cell_type": "code",
   "execution_count": 63,
   "metadata": {},
   "outputs": [],
   "source": [
    "# Split data\n",
    "train_size = int(len(df) * 0.8)  # 80% train, 20% test\n",
    "df_train, df_test = df.iloc[:train_size], df.iloc[train_size:]"
   ]
  },
  {
   "cell_type": "markdown",
   "metadata": {},
   "source": [
    "**Task 2: data cleaning**\n",
    "\n",
    "There are a number of missing values in the data. Clean the data so that it is suitable for use with the NN. Bare in mind that you want to retain the time coherency of the data as much as possible. Explain the steps you have taken.\n"
   ]
  },
  {
   "cell_type": "code",
   "execution_count": 64,
   "metadata": {},
   "outputs": [],
   "source": [
    "# Remove rows with any NaN values for any feature\n",
    "\n",
    "df_train_c = df_train.dropna()\n",
    "df_test_c = df_test.dropna()"
   ]
  },
  {
   "cell_type": "code",
   "execution_count": 65,
   "metadata": {},
   "outputs": [
    {
     "name": "stdout",
     "output_type": "stream",
     "text": [
      "Missing values in numerical variables:\n",
      "Stock           0\n",
      "Oil             0\n",
      "EuroToDollar    0\n",
      "Gold            0\n",
      "dtype: int64\n"
     ]
    }
   ],
   "source": [
    "numerical_columns = df_train_c.select_dtypes(include=['number']).columns\n",
    "missing_numerical = df_train_c[numerical_columns].isnull().sum()\n",
    "\n",
    "print(\"Missing values in numerical variables:\")\n",
    "print(missing_numerical)"
   ]
  },
  {
   "cell_type": "code",
   "execution_count": 66,
   "metadata": {},
   "outputs": [
    {
     "name": "stdout",
     "output_type": "stream",
     "text": [
      "Date            812\n",
      "Stock           812\n",
      "Oil             812\n",
      "EuroToDollar    812\n",
      "Gold            812\n",
      "dtype: int64\n",
      "Date            202\n",
      "Stock           202\n",
      "Oil             202\n",
      "EuroToDollar    202\n",
      "Gold            202\n",
      "dtype: int64\n"
     ]
    }
   ],
   "source": [
    "print(df_train_c.count())\n",
    "print(df_test_c.count())"
   ]
  },
  {
   "cell_type": "code",
   "execution_count": 67,
   "metadata": {},
   "outputs": [
    {
     "name": "stdout",
     "output_type": "stream",
     "text": [
      "Non-numeric columns: Index(['Date'], dtype='object')\n"
     ]
    }
   ],
   "source": [
    "# List all non-numeric features in the DataFrame\n",
    "non_numeric_columns = df_train_c.select_dtypes(include=['object']).columns\n",
    "print(\"Non-numeric columns:\", non_numeric_columns)\n"
   ]
  },
  {
   "cell_type": "markdown",
   "metadata": {},
   "source": [
    "I need to convert the Date column"
   ]
  },
  {
   "cell_type": "code",
   "execution_count": 68,
   "metadata": {},
   "outputs": [
    {
     "name": "stderr",
     "output_type": "stream",
     "text": [
      "C:\\Users\\noona\\AppData\\Local\\Temp\\ipykernel_15900\\350792013.py:3: SettingWithCopyWarning: \n",
      "A value is trying to be set on a copy of a slice from a DataFrame.\n",
      "Try using .loc[row_indexer,col_indexer] = value instead\n",
      "\n",
      "See the caveats in the documentation: https://pandas.pydata.org/pandas-docs/stable/user_guide/indexing.html#returning-a-view-versus-a-copy\n",
      "  df_train_c1[\"Date\"] = pd.to_datetime(df_train_c[\"Date\"])\n"
     ]
    },
    {
     "data": {
      "text/html": [
       "<div>\n",
       "<style scoped>\n",
       "    .dataframe tbody tr th:only-of-type {\n",
       "        vertical-align: middle;\n",
       "    }\n",
       "\n",
       "    .dataframe tbody tr th {\n",
       "        vertical-align: top;\n",
       "    }\n",
       "\n",
       "    .dataframe thead th {\n",
       "        text-align: right;\n",
       "    }\n",
       "</style>\n",
       "<table border=\"1\" class=\"dataframe\">\n",
       "  <thead>\n",
       "    <tr style=\"text-align: right;\">\n",
       "      <th></th>\n",
       "      <th>Stock</th>\n",
       "      <th>Oil</th>\n",
       "      <th>EuroToDollar</th>\n",
       "      <th>Gold</th>\n",
       "    </tr>\n",
       "    <tr>\n",
       "      <th>Date</th>\n",
       "      <th></th>\n",
       "      <th></th>\n",
       "      <th></th>\n",
       "      <th></th>\n",
       "    </tr>\n",
       "  </thead>\n",
       "  <tbody>\n",
       "    <tr>\n",
       "      <th>2015-11-23</th>\n",
       "      <td>2089.409912</td>\n",
       "      <td>41.490002</td>\n",
       "      <td>0.9432</td>\n",
       "      <td>1124.7</td>\n",
       "    </tr>\n",
       "    <tr>\n",
       "      <th>2015-11-24</th>\n",
       "      <td>2084.419922</td>\n",
       "      <td>42.040001</td>\n",
       "      <td>0.9388</td>\n",
       "      <td>1131.6</td>\n",
       "    </tr>\n",
       "    <tr>\n",
       "      <th>2015-11-25</th>\n",
       "      <td>2089.300049</td>\n",
       "      <td>42.689999</td>\n",
       "      <td>0.9420</td>\n",
       "      <td>1128.4</td>\n",
       "    </tr>\n",
       "    <tr>\n",
       "      <th>2015-11-27</th>\n",
       "      <td>2088.820068</td>\n",
       "      <td>43.250000</td>\n",
       "      <td>0.9438</td>\n",
       "      <td>1114.5</td>\n",
       "    </tr>\n",
       "    <tr>\n",
       "      <th>2015-11-30</th>\n",
       "      <td>2090.949951</td>\n",
       "      <td>41.770000</td>\n",
       "      <td>0.9468</td>\n",
       "      <td>1123.9</td>\n",
       "    </tr>\n",
       "  </tbody>\n",
       "</table>\n",
       "</div>"
      ],
      "text/plain": [
       "                  Stock        Oil  EuroToDollar    Gold\n",
       "Date                                                    \n",
       "2015-11-23  2089.409912  41.490002        0.9432  1124.7\n",
       "2015-11-24  2084.419922  42.040001        0.9388  1131.6\n",
       "2015-11-25  2089.300049  42.689999        0.9420  1128.4\n",
       "2015-11-27  2088.820068  43.250000        0.9438  1114.5\n",
       "2015-11-30  2090.949951  41.770000        0.9468  1123.9"
      ]
     },
     "execution_count": 68,
     "metadata": {},
     "output_type": "execute_result"
    }
   ],
   "source": [
    "import pandas as pd\n",
    "df_train_c1 = df_train_c\n",
    "df_train_c1[\"Date\"] = pd.to_datetime(df_train_c[\"Date\"])\n",
    "df_train_c1.set_index(\"Date\", inplace=True)  # Set Date as the index\n",
    "df_train_c1.sort_index(inplace=True)  # Ensure chronological order\n",
    "df_train_c1.head()"
   ]
  },
  {
   "cell_type": "code",
   "execution_count": 69,
   "metadata": {},
   "outputs": [
    {
     "name": "stderr",
     "output_type": "stream",
     "text": [
      "C:\\Users\\noona\\AppData\\Local\\Temp\\ipykernel_15900\\4111465739.py:2: SettingWithCopyWarning: \n",
      "A value is trying to be set on a copy of a slice from a DataFrame.\n",
      "Try using .loc[row_indexer,col_indexer] = value instead\n",
      "\n",
      "See the caveats in the documentation: https://pandas.pydata.org/pandas-docs/stable/user_guide/indexing.html#returning-a-view-versus-a-copy\n",
      "  df_test_c1[\"Date\"] = pd.to_datetime(df_test_c[\"Date\"])\n"
     ]
    }
   ],
   "source": [
    "df_test_c1 = df_test_c\n",
    "df_test_c1[\"Date\"] = pd.to_datetime(df_test_c[\"Date\"])\n",
    "df_test_c1.set_index(\"Date\", inplace=True)  # Set Date as the index\n",
    "df_test_c1.sort_index(inplace=True)  # Ensure chronological order"
   ]
  },
  {
   "cell_type": "code",
   "execution_count": 78,
   "metadata": {},
   "outputs": [],
   "source": [
    "from sklearn.preprocessing import MinMaxScaler\n",
    "\n",
    "# Fit the scaler only on the training data\n",
    "scaler = MinMaxScaler()\n",
    "df_train_t = pd.DataFrame(scaler.fit_transform(df_train_c1), columns=df_train_c1.columns, index=df_train_c1.index)\n",
    "\n",
    "# Transform the test data using the same scaler fitted on the training data\n",
    "df_test_t = pd.DataFrame(scaler.transform(df_test_c1), columns=df_test_c1.columns, index=df_test_c1.index)\n"
   ]
  },
  {
   "cell_type": "markdown",
   "metadata": {},
   "source": [
    "**Task 3: model construction**\n",
    "\n",
    "Construct a RNN network that will predict the future value of Stock, one day/time inteval in advance."
   ]
  },
  {
   "cell_type": "code",
   "execution_count": 79,
   "metadata": {},
   "outputs": [],
   "source": [
    "# Create Sequences\n",
    "sequence_length = 10\n",
    "target_column = \"Stock\"\n",
    "\n",
    "X_train, y_train, X_test, y_test = [], [], [], []\n",
    "\n",
    "# Train sequences\n",
    "for i in range(len(df_train_t) - sequence_length):\n",
    "    X_train.append(df_train_t.iloc[i : i + sequence_length].values)\n",
    "    y_train.append(df_train_t.iloc[i + sequence_length][target_column])\n",
    "\n",
    "# Test sequences\n",
    "for i in range(len(df_test_t) - sequence_length):\n",
    "    X_test.append(df_test_t.iloc[i : i + sequence_length].values)\n",
    "    y_test.append(df_test_t.iloc[i + sequence_length][target_column])\n",
    "\n",
    "# Convert to NumPy arrays\n",
    "X_train, y_train = np.array(X_train), np.array(y_train)\n",
    "X_test, y_test = np.array(X_test), np.array(y_test)"
   ]
  },
  {
   "cell_type": "code",
   "execution_count": 80,
   "metadata": {},
   "outputs": [
    {
     "name": "stdout",
     "output_type": "stream",
     "text": [
      "Model: \"sequential_3\"\n",
      "_________________________________________________________________\n",
      " Layer (type)                Output Shape              Param #   \n",
      "=================================================================\n",
      " simple_rnn_6 (SimpleRNN)    (None, 10, 50)            2750      \n",
      "                                                                 \n",
      " dropout_4 (Dropout)         (None, 10, 50)            0         \n",
      "                                                                 \n",
      " simple_rnn_7 (SimpleRNN)    (None, 50)                5050      \n",
      "                                                                 \n",
      " dropout_5 (Dropout)         (None, 50)                0         \n",
      "                                                                 \n",
      " dense_4 (Dense)             (None, 25)                1275      \n",
      "                                                                 \n",
      " dense_5 (Dense)             (None, 1)                 26        \n",
      "                                                                 \n",
      "=================================================================\n",
      "Total params: 9101 (35.55 KB)\n",
      "Trainable params: 9101 (35.55 KB)\n",
      "Non-trainable params: 0 (0.00 Byte)\n",
      "_________________________________________________________________\n"
     ]
    }
   ],
   "source": [
    "import tensorflow as tf\n",
    "from tensorflow.keras.models import Sequential\n",
    "from tensorflow.keras.layers import SimpleRNN, Dense, Dropout\n",
    "\n",
    "# Define the RNN model\n",
    "model = Sequential([\n",
    "    SimpleRNN(units=50, return_sequences=True, input_shape=(X_train.shape[1], X_train.shape[2])),\n",
    "    Dropout(0.2),  # Dropout to prevent overfitting\n",
    "    SimpleRNN(units=50, return_sequences=False),\n",
    "    Dropout(0.2),\n",
    "    Dense(units=25, activation=\"relu\"),\n",
    "    Dense(units=1)  # Output layer for regression (predicting one value)\n",
    "])\n",
    "\n",
    "# Compile the model\n",
    "model.compile(optimizer=\"adam\", loss=\"mean_squared_error\")\n",
    "\n",
    "# Model Summary\n",
    "model.summary()\n"
   ]
  },
  {
   "cell_type": "code",
   "execution_count": 81,
   "metadata": {},
   "outputs": [
    {
     "name": "stdout",
     "output_type": "stream",
     "text": [
      "Epoch 1/50\n",
      "26/26 [==============================] - 2s 15ms/step - loss: 0.0782 - val_loss: 0.0578\n",
      "Epoch 2/50\n",
      "26/26 [==============================] - 0s 6ms/step - loss: 0.0385 - val_loss: 0.0934\n",
      "Epoch 3/50\n",
      "26/26 [==============================] - 0s 6ms/step - loss: 0.0251 - val_loss: 0.0815\n",
      "Epoch 4/50\n",
      "26/26 [==============================] - 0s 6ms/step - loss: 0.0211 - val_loss: 0.0384\n",
      "Epoch 5/50\n",
      "26/26 [==============================] - 0s 6ms/step - loss: 0.0167 - val_loss: 0.0702\n",
      "Epoch 6/50\n",
      "26/26 [==============================] - 0s 6ms/step - loss: 0.0145 - val_loss: 0.0550\n",
      "Epoch 7/50\n",
      "26/26 [==============================] - 0s 6ms/step - loss: 0.0135 - val_loss: 0.0335\n",
      "Epoch 8/50\n",
      "26/26 [==============================] - 0s 6ms/step - loss: 0.0115 - val_loss: 0.0299\n",
      "Epoch 9/50\n",
      "26/26 [==============================] - 0s 6ms/step - loss: 0.0115 - val_loss: 0.0215\n",
      "Epoch 10/50\n",
      "26/26 [==============================] - 0s 6ms/step - loss: 0.0106 - val_loss: 0.0458\n",
      "Epoch 11/50\n",
      "26/26 [==============================] - 0s 6ms/step - loss: 0.0094 - val_loss: 0.0428\n",
      "Epoch 12/50\n",
      "26/26 [==============================] - 0s 6ms/step - loss: 0.0082 - val_loss: 0.0618\n",
      "Epoch 13/50\n",
      "26/26 [==============================] - 0s 6ms/step - loss: 0.0073 - val_loss: 0.0642\n",
      "Epoch 14/50\n",
      "26/26 [==============================] - 0s 6ms/step - loss: 0.0091 - val_loss: 0.0515\n",
      "Epoch 15/50\n",
      "26/26 [==============================] - 0s 6ms/step - loss: 0.0075 - val_loss: 0.0611\n",
      "Epoch 16/50\n",
      "26/26 [==============================] - 0s 6ms/step - loss: 0.0071 - val_loss: 0.0462\n",
      "Epoch 17/50\n",
      "26/26 [==============================] - 0s 6ms/step - loss: 0.0064 - val_loss: 0.0371\n",
      "Epoch 18/50\n",
      "26/26 [==============================] - 0s 6ms/step - loss: 0.0061 - val_loss: 0.0341\n",
      "Epoch 19/50\n",
      "26/26 [==============================] - 0s 5ms/step - loss: 0.0059 - val_loss: 0.0246\n",
      "Epoch 20/50\n",
      "26/26 [==============================] - 0s 6ms/step - loss: 0.0058 - val_loss: 0.0319\n",
      "Epoch 21/50\n",
      "26/26 [==============================] - 0s 6ms/step - loss: 0.0054 - val_loss: 0.0264\n",
      "Epoch 22/50\n",
      "26/26 [==============================] - 0s 6ms/step - loss: 0.0063 - val_loss: 0.0387\n",
      "Epoch 23/50\n",
      "26/26 [==============================] - 0s 6ms/step - loss: 0.0051 - val_loss: 0.0277\n",
      "Epoch 24/50\n",
      "26/26 [==============================] - 0s 6ms/step - loss: 0.0043 - val_loss: 0.0326\n",
      "Epoch 25/50\n",
      "26/26 [==============================] - 0s 6ms/step - loss: 0.0042 - val_loss: 0.0478\n",
      "Epoch 26/50\n",
      "26/26 [==============================] - 0s 6ms/step - loss: 0.0054 - val_loss: 0.0419\n",
      "Epoch 27/50\n",
      "26/26 [==============================] - 0s 6ms/step - loss: 0.0048 - val_loss: 0.0238\n",
      "Epoch 28/50\n",
      "26/26 [==============================] - 0s 6ms/step - loss: 0.0043 - val_loss: 0.0201\n",
      "Epoch 29/50\n",
      "26/26 [==============================] - 0s 5ms/step - loss: 0.0043 - val_loss: 0.0420\n",
      "Epoch 30/50\n",
      "26/26 [==============================] - 0s 6ms/step - loss: 0.0043 - val_loss: 0.0341\n",
      "Epoch 31/50\n",
      "26/26 [==============================] - 0s 6ms/step - loss: 0.0035 - val_loss: 0.0229\n",
      "Epoch 32/50\n",
      "26/26 [==============================] - 0s 6ms/step - loss: 0.0042 - val_loss: 0.0221\n",
      "Epoch 33/50\n",
      "26/26 [==============================] - 0s 6ms/step - loss: 0.0042 - val_loss: 0.0272\n",
      "Epoch 34/50\n",
      "26/26 [==============================] - 0s 6ms/step - loss: 0.0035 - val_loss: 0.0422\n",
      "Epoch 35/50\n",
      "26/26 [==============================] - 0s 6ms/step - loss: 0.0041 - val_loss: 0.0285\n",
      "Epoch 36/50\n",
      "26/26 [==============================] - 0s 6ms/step - loss: 0.0036 - val_loss: 0.0379\n",
      "Epoch 37/50\n",
      "26/26 [==============================] - 0s 6ms/step - loss: 0.0041 - val_loss: 0.0332\n",
      "Epoch 38/50\n",
      "26/26 [==============================] - 0s 6ms/step - loss: 0.0038 - val_loss: 0.0366\n",
      "Epoch 39/50\n",
      "26/26 [==============================] - 0s 6ms/step - loss: 0.0036 - val_loss: 0.0306\n",
      "Epoch 40/50\n",
      "26/26 [==============================] - 0s 6ms/step - loss: 0.0032 - val_loss: 0.0280\n",
      "Epoch 41/50\n",
      "26/26 [==============================] - 0s 6ms/step - loss: 0.0032 - val_loss: 0.0373\n",
      "Epoch 42/50\n",
      "26/26 [==============================] - 0s 6ms/step - loss: 0.0035 - val_loss: 0.0420\n",
      "Epoch 43/50\n",
      "26/26 [==============================] - 0s 6ms/step - loss: 0.0034 - val_loss: 0.0232\n",
      "Epoch 44/50\n",
      "26/26 [==============================] - 0s 6ms/step - loss: 0.0031 - val_loss: 0.0276\n",
      "Epoch 45/50\n",
      "26/26 [==============================] - 0s 6ms/step - loss: 0.0029 - val_loss: 0.0354\n",
      "Epoch 46/50\n",
      "26/26 [==============================] - 0s 6ms/step - loss: 0.0030 - val_loss: 0.0262\n",
      "Epoch 47/50\n",
      "26/26 [==============================] - 0s 6ms/step - loss: 0.0033 - val_loss: 0.0344\n",
      "Epoch 48/50\n",
      "26/26 [==============================] - 0s 6ms/step - loss: 0.0031 - val_loss: 0.0338\n",
      "Epoch 49/50\n",
      "26/26 [==============================] - 0s 6ms/step - loss: 0.0031 - val_loss: 0.0325\n",
      "Epoch 50/50\n",
      "26/26 [==============================] - 0s 5ms/step - loss: 0.0028 - val_loss: 0.0262\n"
     ]
    }
   ],
   "source": [
    "# Train the RNN model\n",
    "history = model.fit(\n",
    "    X_train, y_train, \n",
    "    epochs=50,        # Number of iterations over the dataset\n",
    "    batch_size=32,    # Number of samples per batch\n",
    "    validation_data=(X_test, y_test),\n",
    "    verbose=1\n",
    ")"
   ]
  },
  {
   "cell_type": "code",
   "execution_count": 82,
   "metadata": {},
   "outputs": [
    {
     "data": {
      "image/png": "[encoded data removed]",
      "text/plain": [
       "<Figure size 640x480 with 1 Axes>"
      ]
     },
     "metadata": {},
     "output_type": "display_data"
    },
    {
     "name": "stdout",
     "output_type": "stream",
     "text": [
      "6/6 [==============================] - 0s 1ms/step - loss: 0.0262\n",
      "Test Loss: 0.02617938630282879\n"
     ]
    }
   ],
   "source": [
    "import matplotlib.pyplot as plt\n",
    "\n",
    "# Plot training & validation loss\n",
    "plt.plot(history.history[\"loss\"], label=\"Train Loss\")\n",
    "plt.plot(history.history[\"val_loss\"], label=\"Validation Loss\")\n",
    "plt.legend()\n",
    "plt.show()\n",
    "\n",
    "# Evaluate on test set\n",
    "test_loss = model.evaluate(X_test, y_test)\n",
    "print(f\"Test Loss: {test_loss}\")\n"
   ]
  },
  {
   "cell_type": "markdown",
   "metadata": {},
   "source": [
    "**Task 4: test**\n",
    "\n",
    "Evaluate the model on the test set and display any change in accuracy over time, if any. Test for common issues found in deep learning models.\n"
   ]
  },
  {
   "cell_type": "code",
   "execution_count": 83,
   "metadata": {},
   "outputs": [
    {
     "data": {
      "text/plain": [
       "7680"
      ]
     },
     "execution_count": 83,
     "metadata": {},
     "output_type": "execute_result"
    }
   ],
   "source": [
    "X_test.size  # Returns total number of elements"
   ]
  },
  {
   "cell_type": "code",
   "execution_count": 87,
   "metadata": {},
   "outputs": [
    {
     "name": "stdout",
     "output_type": "stream",
     "text": [
      "6/6 [==============================] - 0s 3ms/step\n"
     ]
    },
    {
     "data": {
      "image/png": "[encoded data removed]",
      "text/plain": [
       "<Figure size 640x480 with 1 Axes>"
      ]
     },
     "metadata": {},
     "output_type": "display_data"
    }
   ],
   "source": [
    "from sklearn.preprocessing import MinMaxScaler\n",
    "import matplotlib.pyplot as plt\n",
    "\n",
    "# Assuming you've already scaled the target variable (y)\n",
    "scaler_y = MinMaxScaler()\n",
    "\n",
    "# Fit the scaler only on the target variable during training\n",
    "y_train_scaled = scaler_y.fit_transform(y_train.reshape(-1, 1))\n",
    "\n",
    "# Use the same scaler to transform the test target values\n",
    "y_test_scaled = scaler_y.transform(y_test.reshape(-1, 1))\n",
    "\n",
    "# Now generate predictions (assumes the model has been trained)\n",
    "predictions = model.predict(X_test)\n",
    "\n",
    "# Inverse transform predictions using scaler_y (target variable scaler)\n",
    "predictions = scaler_y.inverse_transform(predictions.reshape(-1, 1))\n",
    "\n",
    "# Inverse transform y_test using the same scaler (target variable scaler)\n",
    "y_test_actual = scaler_y.inverse_transform(y_test.reshape(-1, 1))\n",
    "\n",
    "# Plot actual vs predicted values\n",
    "plt.plot(y_test_actual, label=\"Actual\")\n",
    "plt.plot(predictions, label=\"Predicted\")\n",
    "plt.legend()\n",
    "plt.show()\n"
   ]
  },
  {
   "cell_type": "code",
   "execution_count": 88,
   "metadata": {},
   "outputs": [
    {
     "name": "stderr",
     "output_type": "stream",
     "text": [
      "C:\\Users\\noona\\anaconda3\\lib\\site-packages\\keras\\src\\engine\\training.py:3103: UserWarning: You are saving your model as an HDF5 file via `model.save()`. This file format is considered legacy. We recommend using instead the native Keras format, e.g. `model.save('my_model.keras')`.\n",
      "  saving_api.save_model(\n"
     ]
    }
   ],
   "source": [
    "# Save the trained RNN model\n",
    "model.save(\"rnn_time_series.h5\")\n",
    "\n",
    "# Load the model later\n",
    "from tensorflow.keras.models import load_model\n",
    "model = load_model(\"rnn_time_series.h5\")\n"
   ]
  },
  {
   "cell_type": "markdown",
   "metadata": {},
   "source": [
    "### Post (complete by Sunday 16/02/25)\n",
    "\n",
    "Post your solution to Tasks 1-4 in notebook form. If you have not completed all the tasks then that is acceptable. The purpose is to get feedback from others in the group, so if you have only a basic outline then you may get ideas about how to proceed and also examples from others in your group.\n",
    "\n",
    "No posts should reference Task 5."
   ]
  },
  {
   "cell_type": "markdown",
   "metadata": {},
   "source": [
    "### Respond (complete by Wednesday 19/02/25)\n",
    "\n",
    "If you feel you can provide useful advise then respond to another member of the group through the appropriate forum. Responses should be respectful and offer some sort of advise. Try and avoid clogging the forums with support or thank you messages.\n",
    "\n",
    "In reviewing others code you will discover different ways to tackle the same problem. It is acceptable to copy parts of others code. However whole scale copying from another notebook is not acceptable."
   ]
  },
  {
   "cell_type": "markdown",
   "metadata": {},
   "source": [
    "Grading guidelines for the forum posts: the rubrics for the e-tivity are here https://learn.ul.ie/d2l/lp/rubrics/preview.d2l?ou=49284&rubricId=2621&originTool=quicklinks\n"
   ]
  },
  {
   "cell_type": "markdown",
   "metadata": {},
   "source": [
    "<a id='part2'></a>\n",
    "## Sentiment Analysis\n",
    "\n",
    "\n",
    "This task is a individual task and should **not** to be uploaded to the Group Locker. No posts should be given via the forums. Marks will be deducted if the instructions are not followed (see rubrics). This part should be uploaded directly to Brightpsace.\n",
    "\n",
    "### Context\n",
    "\n",
    "You have a model that predicts the sentiment of a film review (positive or negative) from the IMDB. There are two hyperparameters that format the data from IMDB: the maximum review length and the dictionary size. Below is a RNN model that predicts sentiment values. \n",
    "\n",
    "\n",
    "### Task 5:  (completed by Sunday 25/02/24)\n",
    "\n",
    "Keeping top_words, max_review_lenngth and the embedding_vector_length the same, change the model so that it uses attention only, i.e. there are no recurrent components. The only Keras layers (defined here https://www.tensorflow.org/api_docs/python/tf/keras/layers) that you allowed to use are:\n",
    "- Input,\n",
    "- Embedding, \n",
    "- Dense, \n",
    "- Any Attention (must be at leat one),\n",
    "- TimeDistributed,\n",
    "- Any Merging,\n",
    "- Any Reshaping,\n",
    "- Any Pooling,\n",
    "- Dropout. \n",
    "\n",
    "You need not use any of the layers (except attention) but you can use some more than once. Can you do at least as good as the RNN example?\n",
    "\n",
    "**NB** There are many examples of using attention for sentiment analysis but we looking to see if you can construct a sensible model. The model will be delibrately restricted, so do not waste too much time achieving spectacular accuracy. Remember the rules of thumb that we discussed in the Introduction to DL module.\n"
   ]
  },
  {
   "cell_type": "code",
   "execution_count": null,
   "metadata": {},
   "outputs": [],
   "source": [
    "from tensorflow.keras.datasets import imdb\n",
    "from tensorflow.keras import Sequential\n",
    "from tensorflow.keras.layers import Dense, LSTM, Embedding, Dropout\n",
    "from tensorflow.keras.preprocessing import sequence\n",
    "from tensorflow.keras.utils import plot_model\n",
    "\n",
    "import matplotlib.pyplot as plt\n",
    "import numpy as np\n",
    "\n",
    "top_words = 100\n",
    "(Rev_train, Sc_train), (Rev_test, Sc_test) = imdb.load_data(num_words=top_words)\n",
    "\n",
    "max_review_length = 500\n",
    "X_train = sequence.pad_sequences(Rev_train, maxlen=max_review_length)\n",
    "X_test = sequence.pad_sequences(Rev_test, maxlen=max_review_length)\n",
    "print(X_train.shape)"
   ]
  },
  {
   "cell_type": "code",
   "execution_count": null,
   "metadata": {},
   "outputs": [],
   "source": [
    "embedding_vector_length = 16\n",
    "model_imdb = Sequential()\n",
    "model_imdb.add(Embedding(top_words, embedding_vector_length, input_length=max_review_length))\n",
    "model_imdb.add(Dropout(0.2))\n",
    "model_imdb.add(LSTM(10))\n",
    "model_imdb.add(Dropout(0.2))\n",
    "model_imdb.add(Dense(1, activation='sigmoid'))\n",
    "model_imdb.compile(loss='binary_crossentropy', optimizer='adam', metrics=['accuracy'])\n",
    "print(model_imdb.summary())\n",
    "plot_model(model_imdb,show_shapes=True)"
   ]
  },
  {
   "cell_type": "markdown",
   "metadata": {},
   "source": [
    "\n",
    "The history for the model above has been saved, as it takes a while to run. If you want to run it yourself then comment out the second line.\n"
   ]
  },
  {
   "cell_type": "code",
   "execution_count": null,
   "metadata": {},
   "outputs": [],
   "source": [
    "nepoch = 150\n",
    "#IMDB_history = model_imdb.fit(X_train,Sc_train,validation_data=(X_test,Sc_test),epochs=nepoch,batch_size=256)\n",
    "IMDB_history=np.load('IMDBTrainhist.npy',allow_pickle='TRUE').item()\n",
    "plt.plot(range(nepoch),IMDB_history['loss'],c='r')\n",
    "plt.plot(range(nepoch),IMDB_history['val_loss'],c='b')\n",
    "plt.plot()"
   ]
  },
  {
   "cell_type": "code",
   "execution_count": null,
   "metadata": {},
   "outputs": [],
   "source": [
    "plt.plot(range(nepoch),IMDB_history['accuracy'],c='r')\n",
    "plt.plot(range(nepoch),IMDB_history['val_accuracy'],c='b')\n",
    "plt.plot()"
   ]
  },
  {
   "cell_type": "markdown",
   "metadata": {},
   "source": [
    "### Final Submission (complete by Sunday 23/02/25)\n",
    "\n",
    "Submit Tasks 1-5 in a single notebook this before the deadline on Sunday.\n"
   ]
  },
  {
   "cell_type": "code",
   "execution_count": null,
   "metadata": {},
   "outputs": [],
   "source": [
    "## Add additional code cells to implememt the tasks stated above "
   ]
  },
  {
   "cell_type": "markdown",
   "metadata": {},
   "source": [
    "## Reflection\n",
    "\n",
    "There are no specific marks allocated for a reflection. However due consideration will be given if pertinent comments or valuable insights are made."
   ]
  },
  {
   "cell_type": "code",
   "execution_count": null,
   "metadata": {},
   "outputs": [],
   "source": []
  }
 ],
 "metadata": {
  "kernelspec": {
   "display_name": "Python 3 (ipykernel)",
   "language": "python",
   "name": "python3"
  },
  "language_info": {
   "codemirror_mode": {
    "name": "ipython",
    "version": 3
   },
   "file_extension": ".py",
   "mimetype": "text/x-python",
   "name": "python",
   "nbconvert_exporter": "python",
   "pygments_lexer": "ipython3",
   "version": "3.10.9"
  },
  "latex_envs": {
   "LaTeX_envs_menu_present": true,
   "autoclose": false,
   "autocomplete": true,
   "bibliofile": "biblio.bib",
   "cite_by": "apalike",
   "current_citInitial": 1,
   "eqLabelWithNumbers": true,
   "eqNumInitial": 1,
   "hotkeys": {
    "equation": "Ctrl-E",
    "itemize": "Ctrl-I"
   },
   "labels_anchors": false,
   "latex_user_defs": false,
   "report_style_numbering": false,
   "user_envs_cfg": false
  }
 },
 "nbformat": 4,
 "nbformat_minor": 4
}
